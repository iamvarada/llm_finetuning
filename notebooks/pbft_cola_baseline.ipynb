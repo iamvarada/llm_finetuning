{
  "nbformat": 4,
  "nbformat_minor": 0,
  "metadata": {
    "colab": {
      "provenance": [],
      "machine_shape": "hm",
      "gpuType": "T4"
    },
    "kernelspec": {
      "name": "python3",
      "display_name": "Python 3"
    },
    "language_info": {
      "name": "python"
    },
    "accelerator": "GPU",
    "widgets": {
      "application/vnd.jupyter.widget-state+json": {
        "5450a0830fed4a3dbf413a05ddcaeb0b": {
          "model_module": "@jupyter-widgets/controls",
          "model_name": "HBoxModel",
          "model_module_version": "1.5.0",
          "state": {
            "_dom_classes": [],
            "_model_module": "@jupyter-widgets/controls",
            "_model_module_version": "1.5.0",
            "_model_name": "HBoxModel",
            "_view_count": null,
            "_view_module": "@jupyter-widgets/controls",
            "_view_module_version": "1.5.0",
            "_view_name": "HBoxView",
            "box_style": "",
            "children": [
              "IPY_MODEL_e0c57080474546688ed46ca6b80aa9c0",
              "IPY_MODEL_04678d8e5b514f51a7d9cb8f359a1344",
              "IPY_MODEL_b9fb48891a3b4e0195e3f4811bdf8a0b"
            ],
            "layout": "IPY_MODEL_e679e43036db44538a3087f75f86fa75"
          }
        },
        "e0c57080474546688ed46ca6b80aa9c0": {
          "model_module": "@jupyter-widgets/controls",
          "model_name": "HTMLModel",
          "model_module_version": "1.5.0",
          "state": {
            "_dom_classes": [],
            "_model_module": "@jupyter-widgets/controls",
            "_model_module_version": "1.5.0",
            "_model_name": "HTMLModel",
            "_view_count": null,
            "_view_module": "@jupyter-widgets/controls",
            "_view_module_version": "1.5.0",
            "_view_name": "HTMLView",
            "description": "",
            "description_tooltip": null,
            "layout": "IPY_MODEL_dd8c61a3e4d6490bbfc0d612ab0ed332",
            "placeholder": "​",
            "style": "IPY_MODEL_a51ba2a08ecf46268b3f46fc73418528",
            "value": "Downloading readme: 100%"
          }
        },
        "04678d8e5b514f51a7d9cb8f359a1344": {
          "model_module": "@jupyter-widgets/controls",
          "model_name": "FloatProgressModel",
          "model_module_version": "1.5.0",
          "state": {
            "_dom_classes": [],
            "_model_module": "@jupyter-widgets/controls",
            "_model_module_version": "1.5.0",
            "_model_name": "FloatProgressModel",
            "_view_count": null,
            "_view_module": "@jupyter-widgets/controls",
            "_view_module_version": "1.5.0",
            "_view_name": "ProgressView",
            "bar_style": "success",
            "description": "",
            "description_tooltip": null,
            "layout": "IPY_MODEL_e640cc62a88a4fa995a33995265a7276",
            "max": 35296,
            "min": 0,
            "orientation": "horizontal",
            "style": "IPY_MODEL_0a5addd4450f46c6bda841286400bf5b",
            "value": 35296
          }
        },
        "b9fb48891a3b4e0195e3f4811bdf8a0b": {
          "model_module": "@jupyter-widgets/controls",
          "model_name": "HTMLModel",
          "model_module_version": "1.5.0",
          "state": {
            "_dom_classes": [],
            "_model_module": "@jupyter-widgets/controls",
            "_model_module_version": "1.5.0",
            "_model_name": "HTMLModel",
            "_view_count": null,
            "_view_module": "@jupyter-widgets/controls",
            "_view_module_version": "1.5.0",
            "_view_name": "HTMLView",
            "description": "",
            "description_tooltip": null,
            "layout": "IPY_MODEL_a6ffcf3495f34316a00bd02b7dfe268a",
            "placeholder": "​",
            "style": "IPY_MODEL_57f8d51a92c6464a93eaf20b806cb354",
            "value": " 35.3k/35.3k [00:00&lt;00:00, 2.79MB/s]"
          }
        },
        "e679e43036db44538a3087f75f86fa75": {
          "model_module": "@jupyter-widgets/base",
          "model_name": "LayoutModel",
          "model_module_version": "1.2.0",
          "state": {
            "_model_module": "@jupyter-widgets/base",
            "_model_module_version": "1.2.0",
            "_model_name": "LayoutModel",
            "_view_count": null,
            "_view_module": "@jupyter-widgets/base",
            "_view_module_version": "1.2.0",
            "_view_name": "LayoutView",
            "align_content": null,
            "align_items": null,
            "align_self": null,
            "border": null,
            "bottom": null,
            "display": null,
            "flex": null,
            "flex_flow": null,
            "grid_area": null,
            "grid_auto_columns": null,
            "grid_auto_flow": null,
            "grid_auto_rows": null,
            "grid_column": null,
            "grid_gap": null,
            "grid_row": null,
            "grid_template_areas": null,
            "grid_template_columns": null,
            "grid_template_rows": null,
            "height": null,
            "justify_content": null,
            "justify_items": null,
            "left": null,
            "margin": null,
            "max_height": null,
            "max_width": null,
            "min_height": null,
            "min_width": null,
            "object_fit": null,
            "object_position": null,
            "order": null,
            "overflow": null,
            "overflow_x": null,
            "overflow_y": null,
            "padding": null,
            "right": null,
            "top": null,
            "visibility": null,
            "width": null
          }
        },
        "dd8c61a3e4d6490bbfc0d612ab0ed332": {
          "model_module": "@jupyter-widgets/base",
          "model_name": "LayoutModel",
          "model_module_version": "1.2.0",
          "state": {
            "_model_module": "@jupyter-widgets/base",
            "_model_module_version": "1.2.0",
            "_model_name": "LayoutModel",
            "_view_count": null,
            "_view_module": "@jupyter-widgets/base",
            "_view_module_version": "1.2.0",
            "_view_name": "LayoutView",
            "align_content": null,
            "align_items": null,
            "align_self": null,
            "border": null,
            "bottom": null,
            "display": null,
            "flex": null,
            "flex_flow": null,
            "grid_area": null,
            "grid_auto_columns": null,
            "grid_auto_flow": null,
            "grid_auto_rows": null,
            "grid_column": null,
            "grid_gap": null,
            "grid_row": null,
            "grid_template_areas": null,
            "grid_template_columns": null,
            "grid_template_rows": null,
            "height": null,
            "justify_content": null,
            "justify_items": null,
            "left": null,
            "margin": null,
            "max_height": null,
            "max_width": null,
            "min_height": null,
            "min_width": null,
            "object_fit": null,
            "object_position": null,
            "order": null,
            "overflow": null,
            "overflow_x": null,
            "overflow_y": null,
            "padding": null,
            "right": null,
            "top": null,
            "visibility": null,
            "width": null
          }
        },
        "a51ba2a08ecf46268b3f46fc73418528": {
          "model_module": "@jupyter-widgets/controls",
          "model_name": "DescriptionStyleModel",
          "model_module_version": "1.5.0",
          "state": {
            "_model_module": "@jupyter-widgets/controls",
            "_model_module_version": "1.5.0",
            "_model_name": "DescriptionStyleModel",
            "_view_count": null,
            "_view_module": "@jupyter-widgets/base",
            "_view_module_version": "1.2.0",
            "_view_name": "StyleView",
            "description_width": ""
          }
        },
        "e640cc62a88a4fa995a33995265a7276": {
          "model_module": "@jupyter-widgets/base",
          "model_name": "LayoutModel",
          "model_module_version": "1.2.0",
          "state": {
            "_model_module": "@jupyter-widgets/base",
            "_model_module_version": "1.2.0",
            "_model_name": "LayoutModel",
            "_view_count": null,
            "_view_module": "@jupyter-widgets/base",
            "_view_module_version": "1.2.0",
            "_view_name": "LayoutView",
            "align_content": null,
            "align_items": null,
            "align_self": null,
            "border": null,
            "bottom": null,
            "display": null,
            "flex": null,
            "flex_flow": null,
            "grid_area": null,
            "grid_auto_columns": null,
            "grid_auto_flow": null,
            "grid_auto_rows": null,
            "grid_column": null,
            "grid_gap": null,
            "grid_row": null,
            "grid_template_areas": null,
            "grid_template_columns": null,
            "grid_template_rows": null,
            "height": null,
            "justify_content": null,
            "justify_items": null,
            "left": null,
            "margin": null,
            "max_height": null,
            "max_width": null,
            "min_height": null,
            "min_width": null,
            "object_fit": null,
            "object_position": null,
            "order": null,
            "overflow": null,
            "overflow_x": null,
            "overflow_y": null,
            "padding": null,
            "right": null,
            "top": null,
            "visibility": null,
            "width": null
          }
        },
        "0a5addd4450f46c6bda841286400bf5b": {
          "model_module": "@jupyter-widgets/controls",
          "model_name": "ProgressStyleModel",
          "model_module_version": "1.5.0",
          "state": {
            "_model_module": "@jupyter-widgets/controls",
            "_model_module_version": "1.5.0",
            "_model_name": "ProgressStyleModel",
            "_view_count": null,
            "_view_module": "@jupyter-widgets/base",
            "_view_module_version": "1.2.0",
            "_view_name": "StyleView",
            "bar_color": null,
            "description_width": ""
          }
        },
        "a6ffcf3495f34316a00bd02b7dfe268a": {
          "model_module": "@jupyter-widgets/base",
          "model_name": "LayoutModel",
          "model_module_version": "1.2.0",
          "state": {
            "_model_module": "@jupyter-widgets/base",
            "_model_module_version": "1.2.0",
            "_model_name": "LayoutModel",
            "_view_count": null,
            "_view_module": "@jupyter-widgets/base",
            "_view_module_version": "1.2.0",
            "_view_name": "LayoutView",
            "align_content": null,
            "align_items": null,
            "align_self": null,
            "border": null,
            "bottom": null,
            "display": null,
            "flex": null,
            "flex_flow": null,
            "grid_area": null,
            "grid_auto_columns": null,
            "grid_auto_flow": null,
            "grid_auto_rows": null,
            "grid_column": null,
            "grid_gap": null,
            "grid_row": null,
            "grid_template_areas": null,
            "grid_template_columns": null,
            "grid_template_rows": null,
            "height": null,
            "justify_content": null,
            "justify_items": null,
            "left": null,
            "margin": null,
            "max_height": null,
            "max_width": null,
            "min_height": null,
            "min_width": null,
            "object_fit": null,
            "object_position": null,
            "order": null,
            "overflow": null,
            "overflow_x": null,
            "overflow_y": null,
            "padding": null,
            "right": null,
            "top": null,
            "visibility": null,
            "width": null
          }
        },
        "57f8d51a92c6464a93eaf20b806cb354": {
          "model_module": "@jupyter-widgets/controls",
          "model_name": "DescriptionStyleModel",
          "model_module_version": "1.5.0",
          "state": {
            "_model_module": "@jupyter-widgets/controls",
            "_model_module_version": "1.5.0",
            "_model_name": "DescriptionStyleModel",
            "_view_count": null,
            "_view_module": "@jupyter-widgets/base",
            "_view_module_version": "1.2.0",
            "_view_name": "StyleView",
            "description_width": ""
          }
        },
        "6682eaead14b4ef599b2f31280271959": {
          "model_module": "@jupyter-widgets/controls",
          "model_name": "HBoxModel",
          "model_module_version": "1.5.0",
          "state": {
            "_dom_classes": [],
            "_model_module": "@jupyter-widgets/controls",
            "_model_module_version": "1.5.0",
            "_model_name": "HBoxModel",
            "_view_count": null,
            "_view_module": "@jupyter-widgets/controls",
            "_view_module_version": "1.5.0",
            "_view_name": "HBoxView",
            "box_style": "",
            "children": [
              "IPY_MODEL_f6be18959e51472e930a6a167e435be1",
              "IPY_MODEL_10878215b4454571b00225f04c3cab32",
              "IPY_MODEL_ba66d7755bd54b34af806f5516eb027d"
            ],
            "layout": "IPY_MODEL_9cb50e94b0064e11a90cd6bcb0351b48"
          }
        },
        "f6be18959e51472e930a6a167e435be1": {
          "model_module": "@jupyter-widgets/controls",
          "model_name": "HTMLModel",
          "model_module_version": "1.5.0",
          "state": {
            "_dom_classes": [],
            "_model_module": "@jupyter-widgets/controls",
            "_model_module_version": "1.5.0",
            "_model_name": "HTMLModel",
            "_view_count": null,
            "_view_module": "@jupyter-widgets/controls",
            "_view_module_version": "1.5.0",
            "_view_name": "HTMLView",
            "description": "",
            "description_tooltip": null,
            "layout": "IPY_MODEL_c11d0780590446a2bac47190ea5d6aea",
            "placeholder": "​",
            "style": "IPY_MODEL_6f514ed61ffc4372a444a8431f8b1059",
            "value": "Downloading data: 100%"
          }
        },
        "10878215b4454571b00225f04c3cab32": {
          "model_module": "@jupyter-widgets/controls",
          "model_name": "FloatProgressModel",
          "model_module_version": "1.5.0",
          "state": {
            "_dom_classes": [],
            "_model_module": "@jupyter-widgets/controls",
            "_model_module_version": "1.5.0",
            "_model_name": "FloatProgressModel",
            "_view_count": null,
            "_view_module": "@jupyter-widgets/controls",
            "_view_module_version": "1.5.0",
            "_view_name": "ProgressView",
            "bar_style": "success",
            "description": "",
            "description_tooltip": null,
            "layout": "IPY_MODEL_deec962487a1450eb948fe71c5df98f3",
            "max": 251124,
            "min": 0,
            "orientation": "horizontal",
            "style": "IPY_MODEL_8b1a20d38c534da1b00955ecbf55c5ef",
            "value": 251124
          }
        },
        "ba66d7755bd54b34af806f5516eb027d": {
          "model_module": "@jupyter-widgets/controls",
          "model_name": "HTMLModel",
          "model_module_version": "1.5.0",
          "state": {
            "_dom_classes": [],
            "_model_module": "@jupyter-widgets/controls",
            "_model_module_version": "1.5.0",
            "_model_name": "HTMLModel",
            "_view_count": null,
            "_view_module": "@jupyter-widgets/controls",
            "_view_module_version": "1.5.0",
            "_view_name": "HTMLView",
            "description": "",
            "description_tooltip": null,
            "layout": "IPY_MODEL_56cdeef65fd54fe59f156cedc4fbb121",
            "placeholder": "​",
            "style": "IPY_MODEL_012a6ee7137d427387184972a551344a",
            "value": " 251k/251k [00:00&lt;00:00, 737kB/s]"
          }
        },
        "9cb50e94b0064e11a90cd6bcb0351b48": {
          "model_module": "@jupyter-widgets/base",
          "model_name": "LayoutModel",
          "model_module_version": "1.2.0",
          "state": {
            "_model_module": "@jupyter-widgets/base",
            "_model_module_version": "1.2.0",
            "_model_name": "LayoutModel",
            "_view_count": null,
            "_view_module": "@jupyter-widgets/base",
            "_view_module_version": "1.2.0",
            "_view_name": "LayoutView",
            "align_content": null,
            "align_items": null,
            "align_self": null,
            "border": null,
            "bottom": null,
            "display": null,
            "flex": null,
            "flex_flow": null,
            "grid_area": null,
            "grid_auto_columns": null,
            "grid_auto_flow": null,
            "grid_auto_rows": null,
            "grid_column": null,
            "grid_gap": null,
            "grid_row": null,
            "grid_template_areas": null,
            "grid_template_columns": null,
            "grid_template_rows": null,
            "height": null,
            "justify_content": null,
            "justify_items": null,
            "left": null,
            "margin": null,
            "max_height": null,
            "max_width": null,
            "min_height": null,
            "min_width": null,
            "object_fit": null,
            "object_position": null,
            "order": null,
            "overflow": null,
            "overflow_x": null,
            "overflow_y": null,
            "padding": null,
            "right": null,
            "top": null,
            "visibility": null,
            "width": null
          }
        },
        "c11d0780590446a2bac47190ea5d6aea": {
          "model_module": "@jupyter-widgets/base",
          "model_name": "LayoutModel",
          "model_module_version": "1.2.0",
          "state": {
            "_model_module": "@jupyter-widgets/base",
            "_model_module_version": "1.2.0",
            "_model_name": "LayoutModel",
            "_view_count": null,
            "_view_module": "@jupyter-widgets/base",
            "_view_module_version": "1.2.0",
            "_view_name": "LayoutView",
            "align_content": null,
            "align_items": null,
            "align_self": null,
            "border": null,
            "bottom": null,
            "display": null,
            "flex": null,
            "flex_flow": null,
            "grid_area": null,
            "grid_auto_columns": null,
            "grid_auto_flow": null,
            "grid_auto_rows": null,
            "grid_column": null,
            "grid_gap": null,
            "grid_row": null,
            "grid_template_areas": null,
            "grid_template_columns": null,
            "grid_template_rows": null,
            "height": null,
            "justify_content": null,
            "justify_items": null,
            "left": null,
            "margin": null,
            "max_height": null,
            "max_width": null,
            "min_height": null,
            "min_width": null,
            "object_fit": null,
            "object_position": null,
            "order": null,
            "overflow": null,
            "overflow_x": null,
            "overflow_y": null,
            "padding": null,
            "right": null,
            "top": null,
            "visibility": null,
            "width": null
          }
        },
        "6f514ed61ffc4372a444a8431f8b1059": {
          "model_module": "@jupyter-widgets/controls",
          "model_name": "DescriptionStyleModel",
          "model_module_version": "1.5.0",
          "state": {
            "_model_module": "@jupyter-widgets/controls",
            "_model_module_version": "1.5.0",
            "_model_name": "DescriptionStyleModel",
            "_view_count": null,
            "_view_module": "@jupyter-widgets/base",
            "_view_module_version": "1.2.0",
            "_view_name": "StyleView",
            "description_width": ""
          }
        },
        "deec962487a1450eb948fe71c5df98f3": {
          "model_module": "@jupyter-widgets/base",
          "model_name": "LayoutModel",
          "model_module_version": "1.2.0",
          "state": {
            "_model_module": "@jupyter-widgets/base",
            "_model_module_version": "1.2.0",
            "_model_name": "LayoutModel",
            "_view_count": null,
            "_view_module": "@jupyter-widgets/base",
            "_view_module_version": "1.2.0",
            "_view_name": "LayoutView",
            "align_content": null,
            "align_items": null,
            "align_self": null,
            "border": null,
            "bottom": null,
            "display": null,
            "flex": null,
            "flex_flow": null,
            "grid_area": null,
            "grid_auto_columns": null,
            "grid_auto_flow": null,
            "grid_auto_rows": null,
            "grid_column": null,
            "grid_gap": null,
            "grid_row": null,
            "grid_template_areas": null,
            "grid_template_columns": null,
            "grid_template_rows": null,
            "height": null,
            "justify_content": null,
            "justify_items": null,
            "left": null,
            "margin": null,
            "max_height": null,
            "max_width": null,
            "min_height": null,
            "min_width": null,
            "object_fit": null,
            "object_position": null,
            "order": null,
            "overflow": null,
            "overflow_x": null,
            "overflow_y": null,
            "padding": null,
            "right": null,
            "top": null,
            "visibility": null,
            "width": null
          }
        },
        "8b1a20d38c534da1b00955ecbf55c5ef": {
          "model_module": "@jupyter-widgets/controls",
          "model_name": "ProgressStyleModel",
          "model_module_version": "1.5.0",
          "state": {
            "_model_module": "@jupyter-widgets/controls",
            "_model_module_version": "1.5.0",
            "_model_name": "ProgressStyleModel",
            "_view_count": null,
            "_view_module": "@jupyter-widgets/base",
            "_view_module_version": "1.2.0",
            "_view_name": "StyleView",
            "bar_color": null,
            "description_width": ""
          }
        },
        "56cdeef65fd54fe59f156cedc4fbb121": {
          "model_module": "@jupyter-widgets/base",
          "model_name": "LayoutModel",
          "model_module_version": "1.2.0",
          "state": {
            "_model_module": "@jupyter-widgets/base",
            "_model_module_version": "1.2.0",
            "_model_name": "LayoutModel",
            "_view_count": null,
            "_view_module": "@jupyter-widgets/base",
            "_view_module_version": "1.2.0",
            "_view_name": "LayoutView",
            "align_content": null,
            "align_items": null,
            "align_self": null,
            "border": null,
            "bottom": null,
            "display": null,
            "flex": null,
            "flex_flow": null,
            "grid_area": null,
            "grid_auto_columns": null,
            "grid_auto_flow": null,
            "grid_auto_rows": null,
            "grid_column": null,
            "grid_gap": null,
            "grid_row": null,
            "grid_template_areas": null,
            "grid_template_columns": null,
            "grid_template_rows": null,
            "height": null,
            "justify_content": null,
            "justify_items": null,
            "left": null,
            "margin": null,
            "max_height": null,
            "max_width": null,
            "min_height": null,
            "min_width": null,
            "object_fit": null,
            "object_position": null,
            "order": null,
            "overflow": null,
            "overflow_x": null,
            "overflow_y": null,
            "padding": null,
            "right": null,
            "top": null,
            "visibility": null,
            "width": null
          }
        },
        "012a6ee7137d427387184972a551344a": {
          "model_module": "@jupyter-widgets/controls",
          "model_name": "DescriptionStyleModel",
          "model_module_version": "1.5.0",
          "state": {
            "_model_module": "@jupyter-widgets/controls",
            "_model_module_version": "1.5.0",
            "_model_name": "DescriptionStyleModel",
            "_view_count": null,
            "_view_module": "@jupyter-widgets/base",
            "_view_module_version": "1.2.0",
            "_view_name": "StyleView",
            "description_width": ""
          }
        },
        "20ae8fc1cffd45fa8ba659c78b6cdc91": {
          "model_module": "@jupyter-widgets/controls",
          "model_name": "HBoxModel",
          "model_module_version": "1.5.0",
          "state": {
            "_dom_classes": [],
            "_model_module": "@jupyter-widgets/controls",
            "_model_module_version": "1.5.0",
            "_model_name": "HBoxModel",
            "_view_count": null,
            "_view_module": "@jupyter-widgets/controls",
            "_view_module_version": "1.5.0",
            "_view_name": "HBoxView",
            "box_style": "",
            "children": [
              "IPY_MODEL_8a33da1f00934ae1959e6703c3d54a31",
              "IPY_MODEL_c9a89ad3a485454c9e12cb5595ff6735",
              "IPY_MODEL_5d6bfa42c7b1426197fc7ffcb56859ec"
            ],
            "layout": "IPY_MODEL_ffddc5b45a3744938cc83394929abc75"
          }
        },
        "8a33da1f00934ae1959e6703c3d54a31": {
          "model_module": "@jupyter-widgets/controls",
          "model_name": "HTMLModel",
          "model_module_version": "1.5.0",
          "state": {
            "_dom_classes": [],
            "_model_module": "@jupyter-widgets/controls",
            "_model_module_version": "1.5.0",
            "_model_name": "HTMLModel",
            "_view_count": null,
            "_view_module": "@jupyter-widgets/controls",
            "_view_module_version": "1.5.0",
            "_view_name": "HTMLView",
            "description": "",
            "description_tooltip": null,
            "layout": "IPY_MODEL_faa2c00e8af54293b7a86fd3ce408675",
            "placeholder": "​",
            "style": "IPY_MODEL_1bb8f8bdf72448c28cdc9706851d4618",
            "value": "Downloading data: 100%"
          }
        },
        "c9a89ad3a485454c9e12cb5595ff6735": {
          "model_module": "@jupyter-widgets/controls",
          "model_name": "FloatProgressModel",
          "model_module_version": "1.5.0",
          "state": {
            "_dom_classes": [],
            "_model_module": "@jupyter-widgets/controls",
            "_model_module_version": "1.5.0",
            "_model_name": "FloatProgressModel",
            "_view_count": null,
            "_view_module": "@jupyter-widgets/controls",
            "_view_module_version": "1.5.0",
            "_view_name": "ProgressView",
            "bar_style": "success",
            "description": "",
            "description_tooltip": null,
            "layout": "IPY_MODEL_2255d365f93c4b4185517576efba7f19",
            "max": 37551,
            "min": 0,
            "orientation": "horizontal",
            "style": "IPY_MODEL_3fb78a55880b449186d070b0d232e279",
            "value": 37551
          }
        },
        "5d6bfa42c7b1426197fc7ffcb56859ec": {
          "model_module": "@jupyter-widgets/controls",
          "model_name": "HTMLModel",
          "model_module_version": "1.5.0",
          "state": {
            "_dom_classes": [],
            "_model_module": "@jupyter-widgets/controls",
            "_model_module_version": "1.5.0",
            "_model_name": "HTMLModel",
            "_view_count": null,
            "_view_module": "@jupyter-widgets/controls",
            "_view_module_version": "1.5.0",
            "_view_name": "HTMLView",
            "description": "",
            "description_tooltip": null,
            "layout": "IPY_MODEL_d9d5ebb639ce4c77a53630fa9a5abeec",
            "placeholder": "​",
            "style": "IPY_MODEL_6dc960cc904f40838503bd2d8e49a26b",
            "value": " 37.6k/37.6k [00:00&lt;00:00, 241kB/s]"
          }
        },
        "ffddc5b45a3744938cc83394929abc75": {
          "model_module": "@jupyter-widgets/base",
          "model_name": "LayoutModel",
          "model_module_version": "1.2.0",
          "state": {
            "_model_module": "@jupyter-widgets/base",
            "_model_module_version": "1.2.0",
            "_model_name": "LayoutModel",
            "_view_count": null,
            "_view_module": "@jupyter-widgets/base",
            "_view_module_version": "1.2.0",
            "_view_name": "LayoutView",
            "align_content": null,
            "align_items": null,
            "align_self": null,
            "border": null,
            "bottom": null,
            "display": null,
            "flex": null,
            "flex_flow": null,
            "grid_area": null,
            "grid_auto_columns": null,
            "grid_auto_flow": null,
            "grid_auto_rows": null,
            "grid_column": null,
            "grid_gap": null,
            "grid_row": null,
            "grid_template_areas": null,
            "grid_template_columns": null,
            "grid_template_rows": null,
            "height": null,
            "justify_content": null,
            "justify_items": null,
            "left": null,
            "margin": null,
            "max_height": null,
            "max_width": null,
            "min_height": null,
            "min_width": null,
            "object_fit": null,
            "object_position": null,
            "order": null,
            "overflow": null,
            "overflow_x": null,
            "overflow_y": null,
            "padding": null,
            "right": null,
            "top": null,
            "visibility": null,
            "width": null
          }
        },
        "faa2c00e8af54293b7a86fd3ce408675": {
          "model_module": "@jupyter-widgets/base",
          "model_name": "LayoutModel",
          "model_module_version": "1.2.0",
          "state": {
            "_model_module": "@jupyter-widgets/base",
            "_model_module_version": "1.2.0",
            "_model_name": "LayoutModel",
            "_view_count": null,
            "_view_module": "@jupyter-widgets/base",
            "_view_module_version": "1.2.0",
            "_view_name": "LayoutView",
            "align_content": null,
            "align_items": null,
            "align_self": null,
            "border": null,
            "bottom": null,
            "display": null,
            "flex": null,
            "flex_flow": null,
            "grid_area": null,
            "grid_auto_columns": null,
            "grid_auto_flow": null,
            "grid_auto_rows": null,
            "grid_column": null,
            "grid_gap": null,
            "grid_row": null,
            "grid_template_areas": null,
            "grid_template_columns": null,
            "grid_template_rows": null,
            "height": null,
            "justify_content": null,
            "justify_items": null,
            "left": null,
            "margin": null,
            "max_height": null,
            "max_width": null,
            "min_height": null,
            "min_width": null,
            "object_fit": null,
            "object_position": null,
            "order": null,
            "overflow": null,
            "overflow_x": null,
            "overflow_y": null,
            "padding": null,
            "right": null,
            "top": null,
            "visibility": null,
            "width": null
          }
        },
        "1bb8f8bdf72448c28cdc9706851d4618": {
          "model_module": "@jupyter-widgets/controls",
          "model_name": "DescriptionStyleModel",
          "model_module_version": "1.5.0",
          "state": {
            "_model_module": "@jupyter-widgets/controls",
            "_model_module_version": "1.5.0",
            "_model_name": "DescriptionStyleModel",
            "_view_count": null,
            "_view_module": "@jupyter-widgets/base",
            "_view_module_version": "1.2.0",
            "_view_name": "StyleView",
            "description_width": ""
          }
        },
        "2255d365f93c4b4185517576efba7f19": {
          "model_module": "@jupyter-widgets/base",
          "model_name": "LayoutModel",
          "model_module_version": "1.2.0",
          "state": {
            "_model_module": "@jupyter-widgets/base",
            "_model_module_version": "1.2.0",
            "_model_name": "LayoutModel",
            "_view_count": null,
            "_view_module": "@jupyter-widgets/base",
            "_view_module_version": "1.2.0",
            "_view_name": "LayoutView",
            "align_content": null,
            "align_items": null,
            "align_self": null,
            "border": null,
            "bottom": null,
            "display": null,
            "flex": null,
            "flex_flow": null,
            "grid_area": null,
            "grid_auto_columns": null,
            "grid_auto_flow": null,
            "grid_auto_rows": null,
            "grid_column": null,
            "grid_gap": null,
            "grid_row": null,
            "grid_template_areas": null,
            "grid_template_columns": null,
            "grid_template_rows": null,
            "height": null,
            "justify_content": null,
            "justify_items": null,
            "left": null,
            "margin": null,
            "max_height": null,
            "max_width": null,
            "min_height": null,
            "min_width": null,
            "object_fit": null,
            "object_position": null,
            "order": null,
            "overflow": null,
            "overflow_x": null,
            "overflow_y": null,
            "padding": null,
            "right": null,
            "top": null,
            "visibility": null,
            "width": null
          }
        },
        "3fb78a55880b449186d070b0d232e279": {
          "model_module": "@jupyter-widgets/controls",
          "model_name": "ProgressStyleModel",
          "model_module_version": "1.5.0",
          "state": {
            "_model_module": "@jupyter-widgets/controls",
            "_model_module_version": "1.5.0",
            "_model_name": "ProgressStyleModel",
            "_view_count": null,
            "_view_module": "@jupyter-widgets/base",
            "_view_module_version": "1.2.0",
            "_view_name": "StyleView",
            "bar_color": null,
            "description_width": ""
          }
        },
        "d9d5ebb639ce4c77a53630fa9a5abeec": {
          "model_module": "@jupyter-widgets/base",
          "model_name": "LayoutModel",
          "model_module_version": "1.2.0",
          "state": {
            "_model_module": "@jupyter-widgets/base",
            "_model_module_version": "1.2.0",
            "_model_name": "LayoutModel",
            "_view_count": null,
            "_view_module": "@jupyter-widgets/base",
            "_view_module_version": "1.2.0",
            "_view_name": "LayoutView",
            "align_content": null,
            "align_items": null,
            "align_self": null,
            "border": null,
            "bottom": null,
            "display": null,
            "flex": null,
            "flex_flow": null,
            "grid_area": null,
            "grid_auto_columns": null,
            "grid_auto_flow": null,
            "grid_auto_rows": null,
            "grid_column": null,
            "grid_gap": null,
            "grid_row": null,
            "grid_template_areas": null,
            "grid_template_columns": null,
            "grid_template_rows": null,
            "height": null,
            "justify_content": null,
            "justify_items": null,
            "left": null,
            "margin": null,
            "max_height": null,
            "max_width": null,
            "min_height": null,
            "min_width": null,
            "object_fit": null,
            "object_position": null,
            "order": null,
            "overflow": null,
            "overflow_x": null,
            "overflow_y": null,
            "padding": null,
            "right": null,
            "top": null,
            "visibility": null,
            "width": null
          }
        },
        "6dc960cc904f40838503bd2d8e49a26b": {
          "model_module": "@jupyter-widgets/controls",
          "model_name": "DescriptionStyleModel",
          "model_module_version": "1.5.0",
          "state": {
            "_model_module": "@jupyter-widgets/controls",
            "_model_module_version": "1.5.0",
            "_model_name": "DescriptionStyleModel",
            "_view_count": null,
            "_view_module": "@jupyter-widgets/base",
            "_view_module_version": "1.2.0",
            "_view_name": "StyleView",
            "description_width": ""
          }
        },
        "1cf533d958b7403a9f7a1da78f269f97": {
          "model_module": "@jupyter-widgets/controls",
          "model_name": "HBoxModel",
          "model_module_version": "1.5.0",
          "state": {
            "_dom_classes": [],
            "_model_module": "@jupyter-widgets/controls",
            "_model_module_version": "1.5.0",
            "_model_name": "HBoxModel",
            "_view_count": null,
            "_view_module": "@jupyter-widgets/controls",
            "_view_module_version": "1.5.0",
            "_view_name": "HBoxView",
            "box_style": "",
            "children": [
              "IPY_MODEL_56fe9c8c7ffa438790bc4caf38b0bca9",
              "IPY_MODEL_bb19fbf5214549988f7a5d60dfad399d",
              "IPY_MODEL_1dab3b74419f42529e9d47675ce21017"
            ],
            "layout": "IPY_MODEL_0e9fd7520055454a8c42b9aab57e9038"
          }
        },
        "56fe9c8c7ffa438790bc4caf38b0bca9": {
          "model_module": "@jupyter-widgets/controls",
          "model_name": "HTMLModel",
          "model_module_version": "1.5.0",
          "state": {
            "_dom_classes": [],
            "_model_module": "@jupyter-widgets/controls",
            "_model_module_version": "1.5.0",
            "_model_name": "HTMLModel",
            "_view_count": null,
            "_view_module": "@jupyter-widgets/controls",
            "_view_module_version": "1.5.0",
            "_view_name": "HTMLView",
            "description": "",
            "description_tooltip": null,
            "layout": "IPY_MODEL_4ae725a52eb44834a64b33bc5234f80a",
            "placeholder": "​",
            "style": "IPY_MODEL_d98cec9d24b54aaab63598995397b899",
            "value": "Downloading data: 100%"
          }
        },
        "bb19fbf5214549988f7a5d60dfad399d": {
          "model_module": "@jupyter-widgets/controls",
          "model_name": "FloatProgressModel",
          "model_module_version": "1.5.0",
          "state": {
            "_dom_classes": [],
            "_model_module": "@jupyter-widgets/controls",
            "_model_module_version": "1.5.0",
            "_model_name": "FloatProgressModel",
            "_view_count": null,
            "_view_module": "@jupyter-widgets/controls",
            "_view_module_version": "1.5.0",
            "_view_name": "ProgressView",
            "bar_style": "success",
            "description": "",
            "description_tooltip": null,
            "layout": "IPY_MODEL_fd9afd8df91840fc80594306fa36ee4f",
            "max": 37719,
            "min": 0,
            "orientation": "horizontal",
            "style": "IPY_MODEL_68ffbb017e8445abb30c2cadb53ded39",
            "value": 37719
          }
        },
        "1dab3b74419f42529e9d47675ce21017": {
          "model_module": "@jupyter-widgets/controls",
          "model_name": "HTMLModel",
          "model_module_version": "1.5.0",
          "state": {
            "_dom_classes": [],
            "_model_module": "@jupyter-widgets/controls",
            "_model_module_version": "1.5.0",
            "_model_name": "HTMLModel",
            "_view_count": null,
            "_view_module": "@jupyter-widgets/controls",
            "_view_module_version": "1.5.0",
            "_view_name": "HTMLView",
            "description": "",
            "description_tooltip": null,
            "layout": "IPY_MODEL_7e792098a4ac4d39bd245b5981373dfe",
            "placeholder": "​",
            "style": "IPY_MODEL_e4aab01730d54f62af3e758c509b02f9",
            "value": " 37.7k/37.7k [00:00&lt;00:00, 229kB/s]"
          }
        },
        "0e9fd7520055454a8c42b9aab57e9038": {
          "model_module": "@jupyter-widgets/base",
          "model_name": "LayoutModel",
          "model_module_version": "1.2.0",
          "state": {
            "_model_module": "@jupyter-widgets/base",
            "_model_module_version": "1.2.0",
            "_model_name": "LayoutModel",
            "_view_count": null,
            "_view_module": "@jupyter-widgets/base",
            "_view_module_version": "1.2.0",
            "_view_name": "LayoutView",
            "align_content": null,
            "align_items": null,
            "align_self": null,
            "border": null,
            "bottom": null,
            "display": null,
            "flex": null,
            "flex_flow": null,
            "grid_area": null,
            "grid_auto_columns": null,
            "grid_auto_flow": null,
            "grid_auto_rows": null,
            "grid_column": null,
            "grid_gap": null,
            "grid_row": null,
            "grid_template_areas": null,
            "grid_template_columns": null,
            "grid_template_rows": null,
            "height": null,
            "justify_content": null,
            "justify_items": null,
            "left": null,
            "margin": null,
            "max_height": null,
            "max_width": null,
            "min_height": null,
            "min_width": null,
            "object_fit": null,
            "object_position": null,
            "order": null,
            "overflow": null,
            "overflow_x": null,
            "overflow_y": null,
            "padding": null,
            "right": null,
            "top": null,
            "visibility": null,
            "width": null
          }
        },
        "4ae725a52eb44834a64b33bc5234f80a": {
          "model_module": "@jupyter-widgets/base",
          "model_name": "LayoutModel",
          "model_module_version": "1.2.0",
          "state": {
            "_model_module": "@jupyter-widgets/base",
            "_model_module_version": "1.2.0",
            "_model_name": "LayoutModel",
            "_view_count": null,
            "_view_module": "@jupyter-widgets/base",
            "_view_module_version": "1.2.0",
            "_view_name": "LayoutView",
            "align_content": null,
            "align_items": null,
            "align_self": null,
            "border": null,
            "bottom": null,
            "display": null,
            "flex": null,
            "flex_flow": null,
            "grid_area": null,
            "grid_auto_columns": null,
            "grid_auto_flow": null,
            "grid_auto_rows": null,
            "grid_column": null,
            "grid_gap": null,
            "grid_row": null,
            "grid_template_areas": null,
            "grid_template_columns": null,
            "grid_template_rows": null,
            "height": null,
            "justify_content": null,
            "justify_items": null,
            "left": null,
            "margin": null,
            "max_height": null,
            "max_width": null,
            "min_height": null,
            "min_width": null,
            "object_fit": null,
            "object_position": null,
            "order": null,
            "overflow": null,
            "overflow_x": null,
            "overflow_y": null,
            "padding": null,
            "right": null,
            "top": null,
            "visibility": null,
            "width": null
          }
        },
        "d98cec9d24b54aaab63598995397b899": {
          "model_module": "@jupyter-widgets/controls",
          "model_name": "DescriptionStyleModel",
          "model_module_version": "1.5.0",
          "state": {
            "_model_module": "@jupyter-widgets/controls",
            "_model_module_version": "1.5.0",
            "_model_name": "DescriptionStyleModel",
            "_view_count": null,
            "_view_module": "@jupyter-widgets/base",
            "_view_module_version": "1.2.0",
            "_view_name": "StyleView",
            "description_width": ""
          }
        },
        "fd9afd8df91840fc80594306fa36ee4f": {
          "model_module": "@jupyter-widgets/base",
          "model_name": "LayoutModel",
          "model_module_version": "1.2.0",
          "state": {
            "_model_module": "@jupyter-widgets/base",
            "_model_module_version": "1.2.0",
            "_model_name": "LayoutModel",
            "_view_count": null,
            "_view_module": "@jupyter-widgets/base",
            "_view_module_version": "1.2.0",
            "_view_name": "LayoutView",
            "align_content": null,
            "align_items": null,
            "align_self": null,
            "border": null,
            "bottom": null,
            "display": null,
            "flex": null,
            "flex_flow": null,
            "grid_area": null,
            "grid_auto_columns": null,
            "grid_auto_flow": null,
            "grid_auto_rows": null,
            "grid_column": null,
            "grid_gap": null,
            "grid_row": null,
            "grid_template_areas": null,
            "grid_template_columns": null,
            "grid_template_rows": null,
            "height": null,
            "justify_content": null,
            "justify_items": null,
            "left": null,
            "margin": null,
            "max_height": null,
            "max_width": null,
            "min_height": null,
            "min_width": null,
            "object_fit": null,
            "object_position": null,
            "order": null,
            "overflow": null,
            "overflow_x": null,
            "overflow_y": null,
            "padding": null,
            "right": null,
            "top": null,
            "visibility": null,
            "width": null
          }
        },
        "68ffbb017e8445abb30c2cadb53ded39": {
          "model_module": "@jupyter-widgets/controls",
          "model_name": "ProgressStyleModel",
          "model_module_version": "1.5.0",
          "state": {
            "_model_module": "@jupyter-widgets/controls",
            "_model_module_version": "1.5.0",
            "_model_name": "ProgressStyleModel",
            "_view_count": null,
            "_view_module": "@jupyter-widgets/base",
            "_view_module_version": "1.2.0",
            "_view_name": "StyleView",
            "bar_color": null,
            "description_width": ""
          }
        },
        "7e792098a4ac4d39bd245b5981373dfe": {
          "model_module": "@jupyter-widgets/base",
          "model_name": "LayoutModel",
          "model_module_version": "1.2.0",
          "state": {
            "_model_module": "@jupyter-widgets/base",
            "_model_module_version": "1.2.0",
            "_model_name": "LayoutModel",
            "_view_count": null,
            "_view_module": "@jupyter-widgets/base",
            "_view_module_version": "1.2.0",
            "_view_name": "LayoutView",
            "align_content": null,
            "align_items": null,
            "align_self": null,
            "border": null,
            "bottom": null,
            "display": null,
            "flex": null,
            "flex_flow": null,
            "grid_area": null,
            "grid_auto_columns": null,
            "grid_auto_flow": null,
            "grid_auto_rows": null,
            "grid_column": null,
            "grid_gap": null,
            "grid_row": null,
            "grid_template_areas": null,
            "grid_template_columns": null,
            "grid_template_rows": null,
            "height": null,
            "justify_content": null,
            "justify_items": null,
            "left": null,
            "margin": null,
            "max_height": null,
            "max_width": null,
            "min_height": null,
            "min_width": null,
            "object_fit": null,
            "object_position": null,
            "order": null,
            "overflow": null,
            "overflow_x": null,
            "overflow_y": null,
            "padding": null,
            "right": null,
            "top": null,
            "visibility": null,
            "width": null
          }
        },
        "e4aab01730d54f62af3e758c509b02f9": {
          "model_module": "@jupyter-widgets/controls",
          "model_name": "DescriptionStyleModel",
          "model_module_version": "1.5.0",
          "state": {
            "_model_module": "@jupyter-widgets/controls",
            "_model_module_version": "1.5.0",
            "_model_name": "DescriptionStyleModel",
            "_view_count": null,
            "_view_module": "@jupyter-widgets/base",
            "_view_module_version": "1.2.0",
            "_view_name": "StyleView",
            "description_width": ""
          }
        },
        "82409d9684ec467bb61c81af09b0a0db": {
          "model_module": "@jupyter-widgets/controls",
          "model_name": "HBoxModel",
          "model_module_version": "1.5.0",
          "state": {
            "_dom_classes": [],
            "_model_module": "@jupyter-widgets/controls",
            "_model_module_version": "1.5.0",
            "_model_name": "HBoxModel",
            "_view_count": null,
            "_view_module": "@jupyter-widgets/controls",
            "_view_module_version": "1.5.0",
            "_view_name": "HBoxView",
            "box_style": "",
            "children": [
              "IPY_MODEL_a1d6aa4a0fd54404aae89fa86565cd77",
              "IPY_MODEL_61d7a97917684affab8b35b66b76cf32",
              "IPY_MODEL_0950d3a88f8a45538de90fc668d23f4b"
            ],
            "layout": "IPY_MODEL_c028542c2c874989a91b4aed5f42d66a"
          }
        },
        "a1d6aa4a0fd54404aae89fa86565cd77": {
          "model_module": "@jupyter-widgets/controls",
          "model_name": "HTMLModel",
          "model_module_version": "1.5.0",
          "state": {
            "_dom_classes": [],
            "_model_module": "@jupyter-widgets/controls",
            "_model_module_version": "1.5.0",
            "_model_name": "HTMLModel",
            "_view_count": null,
            "_view_module": "@jupyter-widgets/controls",
            "_view_module_version": "1.5.0",
            "_view_name": "HTMLView",
            "description": "",
            "description_tooltip": null,
            "layout": "IPY_MODEL_72cb3d642a034a88bbd4510308704ca1",
            "placeholder": "​",
            "style": "IPY_MODEL_e1b88d0137584f9784f0306157e3ec19",
            "value": "Generating train split: 100%"
          }
        },
        "61d7a97917684affab8b35b66b76cf32": {
          "model_module": "@jupyter-widgets/controls",
          "model_name": "FloatProgressModel",
          "model_module_version": "1.5.0",
          "state": {
            "_dom_classes": [],
            "_model_module": "@jupyter-widgets/controls",
            "_model_module_version": "1.5.0",
            "_model_name": "FloatProgressModel",
            "_view_count": null,
            "_view_module": "@jupyter-widgets/controls",
            "_view_module_version": "1.5.0",
            "_view_name": "ProgressView",
            "bar_style": "success",
            "description": "",
            "description_tooltip": null,
            "layout": "IPY_MODEL_1c8c2bf438724a9dad2505650b5e809a",
            "max": 8551,
            "min": 0,
            "orientation": "horizontal",
            "style": "IPY_MODEL_385515612f454e99b8a04a731b7064ad",
            "value": 8551
          }
        },
        "0950d3a88f8a45538de90fc668d23f4b": {
          "model_module": "@jupyter-widgets/controls",
          "model_name": "HTMLModel",
          "model_module_version": "1.5.0",
          "state": {
            "_dom_classes": [],
            "_model_module": "@jupyter-widgets/controls",
            "_model_module_version": "1.5.0",
            "_model_name": "HTMLModel",
            "_view_count": null,
            "_view_module": "@jupyter-widgets/controls",
            "_view_module_version": "1.5.0",
            "_view_name": "HTMLView",
            "description": "",
            "description_tooltip": null,
            "layout": "IPY_MODEL_b1b11613199f4f4c87d3ee54dfe154a9",
            "placeholder": "​",
            "style": "IPY_MODEL_57a0a0b8fa5348838413423b99eabfe4",
            "value": " 8551/8551 [00:00&lt;00:00, 189059.29 examples/s]"
          }
        },
        "c028542c2c874989a91b4aed5f42d66a": {
          "model_module": "@jupyter-widgets/base",
          "model_name": "LayoutModel",
          "model_module_version": "1.2.0",
          "state": {
            "_model_module": "@jupyter-widgets/base",
            "_model_module_version": "1.2.0",
            "_model_name": "LayoutModel",
            "_view_count": null,
            "_view_module": "@jupyter-widgets/base",
            "_view_module_version": "1.2.0",
            "_view_name": "LayoutView",
            "align_content": null,
            "align_items": null,
            "align_self": null,
            "border": null,
            "bottom": null,
            "display": null,
            "flex": null,
            "flex_flow": null,
            "grid_area": null,
            "grid_auto_columns": null,
            "grid_auto_flow": null,
            "grid_auto_rows": null,
            "grid_column": null,
            "grid_gap": null,
            "grid_row": null,
            "grid_template_areas": null,
            "grid_template_columns": null,
            "grid_template_rows": null,
            "height": null,
            "justify_content": null,
            "justify_items": null,
            "left": null,
            "margin": null,
            "max_height": null,
            "max_width": null,
            "min_height": null,
            "min_width": null,
            "object_fit": null,
            "object_position": null,
            "order": null,
            "overflow": null,
            "overflow_x": null,
            "overflow_y": null,
            "padding": null,
            "right": null,
            "top": null,
            "visibility": null,
            "width": null
          }
        },
        "72cb3d642a034a88bbd4510308704ca1": {
          "model_module": "@jupyter-widgets/base",
          "model_name": "LayoutModel",
          "model_module_version": "1.2.0",
          "state": {
            "_model_module": "@jupyter-widgets/base",
            "_model_module_version": "1.2.0",
            "_model_name": "LayoutModel",
            "_view_count": null,
            "_view_module": "@jupyter-widgets/base",
            "_view_module_version": "1.2.0",
            "_view_name": "LayoutView",
            "align_content": null,
            "align_items": null,
            "align_self": null,
            "border": null,
            "bottom": null,
            "display": null,
            "flex": null,
            "flex_flow": null,
            "grid_area": null,
            "grid_auto_columns": null,
            "grid_auto_flow": null,
            "grid_auto_rows": null,
            "grid_column": null,
            "grid_gap": null,
            "grid_row": null,
            "grid_template_areas": null,
            "grid_template_columns": null,
            "grid_template_rows": null,
            "height": null,
            "justify_content": null,
            "justify_items": null,
            "left": null,
            "margin": null,
            "max_height": null,
            "max_width": null,
            "min_height": null,
            "min_width": null,
            "object_fit": null,
            "object_position": null,
            "order": null,
            "overflow": null,
            "overflow_x": null,
            "overflow_y": null,
            "padding": null,
            "right": null,
            "top": null,
            "visibility": null,
            "width": null
          }
        },
        "e1b88d0137584f9784f0306157e3ec19": {
          "model_module": "@jupyter-widgets/controls",
          "model_name": "DescriptionStyleModel",
          "model_module_version": "1.5.0",
          "state": {
            "_model_module": "@jupyter-widgets/controls",
            "_model_module_version": "1.5.0",
            "_model_name": "DescriptionStyleModel",
            "_view_count": null,
            "_view_module": "@jupyter-widgets/base",
            "_view_module_version": "1.2.0",
            "_view_name": "StyleView",
            "description_width": ""
          }
        },
        "1c8c2bf438724a9dad2505650b5e809a": {
          "model_module": "@jupyter-widgets/base",
          "model_name": "LayoutModel",
          "model_module_version": "1.2.0",
          "state": {
            "_model_module": "@jupyter-widgets/base",
            "_model_module_version": "1.2.0",
            "_model_name": "LayoutModel",
            "_view_count": null,
            "_view_module": "@jupyter-widgets/base",
            "_view_module_version": "1.2.0",
            "_view_name": "LayoutView",
            "align_content": null,
            "align_items": null,
            "align_self": null,
            "border": null,
            "bottom": null,
            "display": null,
            "flex": null,
            "flex_flow": null,
            "grid_area": null,
            "grid_auto_columns": null,
            "grid_auto_flow": null,
            "grid_auto_rows": null,
            "grid_column": null,
            "grid_gap": null,
            "grid_row": null,
            "grid_template_areas": null,
            "grid_template_columns": null,
            "grid_template_rows": null,
            "height": null,
            "justify_content": null,
            "justify_items": null,
            "left": null,
            "margin": null,
            "max_height": null,
            "max_width": null,
            "min_height": null,
            "min_width": null,
            "object_fit": null,
            "object_position": null,
            "order": null,
            "overflow": null,
            "overflow_x": null,
            "overflow_y": null,
            "padding": null,
            "right": null,
            "top": null,
            "visibility": null,
            "width": null
          }
        },
        "385515612f454e99b8a04a731b7064ad": {
          "model_module": "@jupyter-widgets/controls",
          "model_name": "ProgressStyleModel",
          "model_module_version": "1.5.0",
          "state": {
            "_model_module": "@jupyter-widgets/controls",
            "_model_module_version": "1.5.0",
            "_model_name": "ProgressStyleModel",
            "_view_count": null,
            "_view_module": "@jupyter-widgets/base",
            "_view_module_version": "1.2.0",
            "_view_name": "StyleView",
            "bar_color": null,
            "description_width": ""
          }
        },
        "b1b11613199f4f4c87d3ee54dfe154a9": {
          "model_module": "@jupyter-widgets/base",
          "model_name": "LayoutModel",
          "model_module_version": "1.2.0",
          "state": {
            "_model_module": "@jupyter-widgets/base",
            "_model_module_version": "1.2.0",
            "_model_name": "LayoutModel",
            "_view_count": null,
            "_view_module": "@jupyter-widgets/base",
            "_view_module_version": "1.2.0",
            "_view_name": "LayoutView",
            "align_content": null,
            "align_items": null,
            "align_self": null,
            "border": null,
            "bottom": null,
            "display": null,
            "flex": null,
            "flex_flow": null,
            "grid_area": null,
            "grid_auto_columns": null,
            "grid_auto_flow": null,
            "grid_auto_rows": null,
            "grid_column": null,
            "grid_gap": null,
            "grid_row": null,
            "grid_template_areas": null,
            "grid_template_columns": null,
            "grid_template_rows": null,
            "height": null,
            "justify_content": null,
            "justify_items": null,
            "left": null,
            "margin": null,
            "max_height": null,
            "max_width": null,
            "min_height": null,
            "min_width": null,
            "object_fit": null,
            "object_position": null,
            "order": null,
            "overflow": null,
            "overflow_x": null,
            "overflow_y": null,
            "padding": null,
            "right": null,
            "top": null,
            "visibility": null,
            "width": null
          }
        },
        "57a0a0b8fa5348838413423b99eabfe4": {
          "model_module": "@jupyter-widgets/controls",
          "model_name": "DescriptionStyleModel",
          "model_module_version": "1.5.0",
          "state": {
            "_model_module": "@jupyter-widgets/controls",
            "_model_module_version": "1.5.0",
            "_model_name": "DescriptionStyleModel",
            "_view_count": null,
            "_view_module": "@jupyter-widgets/base",
            "_view_module_version": "1.2.0",
            "_view_name": "StyleView",
            "description_width": ""
          }
        },
        "92849e0edb1a414ea63c2e0d49b59440": {
          "model_module": "@jupyter-widgets/controls",
          "model_name": "HBoxModel",
          "model_module_version": "1.5.0",
          "state": {
            "_dom_classes": [],
            "_model_module": "@jupyter-widgets/controls",
            "_model_module_version": "1.5.0",
            "_model_name": "HBoxModel",
            "_view_count": null,
            "_view_module": "@jupyter-widgets/controls",
            "_view_module_version": "1.5.0",
            "_view_name": "HBoxView",
            "box_style": "",
            "children": [
              "IPY_MODEL_29f35b96df0346cb8650e39854b071d2",
              "IPY_MODEL_4ac60ba08c8c434e95822dd83455d43e",
              "IPY_MODEL_790993d50e6945eea271bd272e085dc0"
            ],
            "layout": "IPY_MODEL_a5cfc50f27194392b92e3dc9690c3f25"
          }
        },
        "29f35b96df0346cb8650e39854b071d2": {
          "model_module": "@jupyter-widgets/controls",
          "model_name": "HTMLModel",
          "model_module_version": "1.5.0",
          "state": {
            "_dom_classes": [],
            "_model_module": "@jupyter-widgets/controls",
            "_model_module_version": "1.5.0",
            "_model_name": "HTMLModel",
            "_view_count": null,
            "_view_module": "@jupyter-widgets/controls",
            "_view_module_version": "1.5.0",
            "_view_name": "HTMLView",
            "description": "",
            "description_tooltip": null,
            "layout": "IPY_MODEL_855c2f6671a240a29b4d05f4dc38f55d",
            "placeholder": "​",
            "style": "IPY_MODEL_f6ae9780f8e846fead58c6a141545f48",
            "value": "Generating validation split: 100%"
          }
        },
        "4ac60ba08c8c434e95822dd83455d43e": {
          "model_module": "@jupyter-widgets/controls",
          "model_name": "FloatProgressModel",
          "model_module_version": "1.5.0",
          "state": {
            "_dom_classes": [],
            "_model_module": "@jupyter-widgets/controls",
            "_model_module_version": "1.5.0",
            "_model_name": "FloatProgressModel",
            "_view_count": null,
            "_view_module": "@jupyter-widgets/controls",
            "_view_module_version": "1.5.0",
            "_view_name": "ProgressView",
            "bar_style": "success",
            "description": "",
            "description_tooltip": null,
            "layout": "IPY_MODEL_035e2a434e4c4aeaa9954f2bee33f981",
            "max": 1043,
            "min": 0,
            "orientation": "horizontal",
            "style": "IPY_MODEL_7db2767c750148ea8a696f59512caeef",
            "value": 1043
          }
        },
        "790993d50e6945eea271bd272e085dc0": {
          "model_module": "@jupyter-widgets/controls",
          "model_name": "HTMLModel",
          "model_module_version": "1.5.0",
          "state": {
            "_dom_classes": [],
            "_model_module": "@jupyter-widgets/controls",
            "_model_module_version": "1.5.0",
            "_model_name": "HTMLModel",
            "_view_count": null,
            "_view_module": "@jupyter-widgets/controls",
            "_view_module_version": "1.5.0",
            "_view_name": "HTMLView",
            "description": "",
            "description_tooltip": null,
            "layout": "IPY_MODEL_a418219945394538a8e2e7501a853a08",
            "placeholder": "​",
            "style": "IPY_MODEL_f469c0fc079f4c47afaea3a65ab0aca2",
            "value": " 1043/1043 [00:00&lt;00:00, 61154.11 examples/s]"
          }
        },
        "a5cfc50f27194392b92e3dc9690c3f25": {
          "model_module": "@jupyter-widgets/base",
          "model_name": "LayoutModel",
          "model_module_version": "1.2.0",
          "state": {
            "_model_module": "@jupyter-widgets/base",
            "_model_module_version": "1.2.0",
            "_model_name": "LayoutModel",
            "_view_count": null,
            "_view_module": "@jupyter-widgets/base",
            "_view_module_version": "1.2.0",
            "_view_name": "LayoutView",
            "align_content": null,
            "align_items": null,
            "align_self": null,
            "border": null,
            "bottom": null,
            "display": null,
            "flex": null,
            "flex_flow": null,
            "grid_area": null,
            "grid_auto_columns": null,
            "grid_auto_flow": null,
            "grid_auto_rows": null,
            "grid_column": null,
            "grid_gap": null,
            "grid_row": null,
            "grid_template_areas": null,
            "grid_template_columns": null,
            "grid_template_rows": null,
            "height": null,
            "justify_content": null,
            "justify_items": null,
            "left": null,
            "margin": null,
            "max_height": null,
            "max_width": null,
            "min_height": null,
            "min_width": null,
            "object_fit": null,
            "object_position": null,
            "order": null,
            "overflow": null,
            "overflow_x": null,
            "overflow_y": null,
            "padding": null,
            "right": null,
            "top": null,
            "visibility": null,
            "width": null
          }
        },
        "855c2f6671a240a29b4d05f4dc38f55d": {
          "model_module": "@jupyter-widgets/base",
          "model_name": "LayoutModel",
          "model_module_version": "1.2.0",
          "state": {
            "_model_module": "@jupyter-widgets/base",
            "_model_module_version": "1.2.0",
            "_model_name": "LayoutModel",
            "_view_count": null,
            "_view_module": "@jupyter-widgets/base",
            "_view_module_version": "1.2.0",
            "_view_name": "LayoutView",
            "align_content": null,
            "align_items": null,
            "align_self": null,
            "border": null,
            "bottom": null,
            "display": null,
            "flex": null,
            "flex_flow": null,
            "grid_area": null,
            "grid_auto_columns": null,
            "grid_auto_flow": null,
            "grid_auto_rows": null,
            "grid_column": null,
            "grid_gap": null,
            "grid_row": null,
            "grid_template_areas": null,
            "grid_template_columns": null,
            "grid_template_rows": null,
            "height": null,
            "justify_content": null,
            "justify_items": null,
            "left": null,
            "margin": null,
            "max_height": null,
            "max_width": null,
            "min_height": null,
            "min_width": null,
            "object_fit": null,
            "object_position": null,
            "order": null,
            "overflow": null,
            "overflow_x": null,
            "overflow_y": null,
            "padding": null,
            "right": null,
            "top": null,
            "visibility": null,
            "width": null
          }
        },
        "f6ae9780f8e846fead58c6a141545f48": {
          "model_module": "@jupyter-widgets/controls",
          "model_name": "DescriptionStyleModel",
          "model_module_version": "1.5.0",
          "state": {
            "_model_module": "@jupyter-widgets/controls",
            "_model_module_version": "1.5.0",
            "_model_name": "DescriptionStyleModel",
            "_view_count": null,
            "_view_module": "@jupyter-widgets/base",
            "_view_module_version": "1.2.0",
            "_view_name": "StyleView",
            "description_width": ""
          }
        },
        "035e2a434e4c4aeaa9954f2bee33f981": {
          "model_module": "@jupyter-widgets/base",
          "model_name": "LayoutModel",
          "model_module_version": "1.2.0",
          "state": {
            "_model_module": "@jupyter-widgets/base",
            "_model_module_version": "1.2.0",
            "_model_name": "LayoutModel",
            "_view_count": null,
            "_view_module": "@jupyter-widgets/base",
            "_view_module_version": "1.2.0",
            "_view_name": "LayoutView",
            "align_content": null,
            "align_items": null,
            "align_self": null,
            "border": null,
            "bottom": null,
            "display": null,
            "flex": null,
            "flex_flow": null,
            "grid_area": null,
            "grid_auto_columns": null,
            "grid_auto_flow": null,
            "grid_auto_rows": null,
            "grid_column": null,
            "grid_gap": null,
            "grid_row": null,
            "grid_template_areas": null,
            "grid_template_columns": null,
            "grid_template_rows": null,
            "height": null,
            "justify_content": null,
            "justify_items": null,
            "left": null,
            "margin": null,
            "max_height": null,
            "max_width": null,
            "min_height": null,
            "min_width": null,
            "object_fit": null,
            "object_position": null,
            "order": null,
            "overflow": null,
            "overflow_x": null,
            "overflow_y": null,
            "padding": null,
            "right": null,
            "top": null,
            "visibility": null,
            "width": null
          }
        },
        "7db2767c750148ea8a696f59512caeef": {
          "model_module": "@jupyter-widgets/controls",
          "model_name": "ProgressStyleModel",
          "model_module_version": "1.5.0",
          "state": {
            "_model_module": "@jupyter-widgets/controls",
            "_model_module_version": "1.5.0",
            "_model_name": "ProgressStyleModel",
            "_view_count": null,
            "_view_module": "@jupyter-widgets/base",
            "_view_module_version": "1.2.0",
            "_view_name": "StyleView",
            "bar_color": null,
            "description_width": ""
          }
        },
        "a418219945394538a8e2e7501a853a08": {
          "model_module": "@jupyter-widgets/base",
          "model_name": "LayoutModel",
          "model_module_version": "1.2.0",
          "state": {
            "_model_module": "@jupyter-widgets/base",
            "_model_module_version": "1.2.0",
            "_model_name": "LayoutModel",
            "_view_count": null,
            "_view_module": "@jupyter-widgets/base",
            "_view_module_version": "1.2.0",
            "_view_name": "LayoutView",
            "align_content": null,
            "align_items": null,
            "align_self": null,
            "border": null,
            "bottom": null,
            "display": null,
            "flex": null,
            "flex_flow": null,
            "grid_area": null,
            "grid_auto_columns": null,
            "grid_auto_flow": null,
            "grid_auto_rows": null,
            "grid_column": null,
            "grid_gap": null,
            "grid_row": null,
            "grid_template_areas": null,
            "grid_template_columns": null,
            "grid_template_rows": null,
            "height": null,
            "justify_content": null,
            "justify_items": null,
            "left": null,
            "margin": null,
            "max_height": null,
            "max_width": null,
            "min_height": null,
            "min_width": null,
            "object_fit": null,
            "object_position": null,
            "order": null,
            "overflow": null,
            "overflow_x": null,
            "overflow_y": null,
            "padding": null,
            "right": null,
            "top": null,
            "visibility": null,
            "width": null
          }
        },
        "f469c0fc079f4c47afaea3a65ab0aca2": {
          "model_module": "@jupyter-widgets/controls",
          "model_name": "DescriptionStyleModel",
          "model_module_version": "1.5.0",
          "state": {
            "_model_module": "@jupyter-widgets/controls",
            "_model_module_version": "1.5.0",
            "_model_name": "DescriptionStyleModel",
            "_view_count": null,
            "_view_module": "@jupyter-widgets/base",
            "_view_module_version": "1.2.0",
            "_view_name": "StyleView",
            "description_width": ""
          }
        },
        "7db2baa8f4b345189f16d5621a2f9579": {
          "model_module": "@jupyter-widgets/controls",
          "model_name": "HBoxModel",
          "model_module_version": "1.5.0",
          "state": {
            "_dom_classes": [],
            "_model_module": "@jupyter-widgets/controls",
            "_model_module_version": "1.5.0",
            "_model_name": "HBoxModel",
            "_view_count": null,
            "_view_module": "@jupyter-widgets/controls",
            "_view_module_version": "1.5.0",
            "_view_name": "HBoxView",
            "box_style": "",
            "children": [
              "IPY_MODEL_b4b67f1acc04430b88171be539b6d8c9",
              "IPY_MODEL_4052a9fe80764368915540799beceba8",
              "IPY_MODEL_3401f3ac79ae42c496038dca4baa9ff0"
            ],
            "layout": "IPY_MODEL_d02cda88a96d4ed9976c9f2eae88707e"
          }
        },
        "b4b67f1acc04430b88171be539b6d8c9": {
          "model_module": "@jupyter-widgets/controls",
          "model_name": "HTMLModel",
          "model_module_version": "1.5.0",
          "state": {
            "_dom_classes": [],
            "_model_module": "@jupyter-widgets/controls",
            "_model_module_version": "1.5.0",
            "_model_name": "HTMLModel",
            "_view_count": null,
            "_view_module": "@jupyter-widgets/controls",
            "_view_module_version": "1.5.0",
            "_view_name": "HTMLView",
            "description": "",
            "description_tooltip": null,
            "layout": "IPY_MODEL_349aec82a59e4352ba4e8562f6f3dedc",
            "placeholder": "​",
            "style": "IPY_MODEL_c9f8ef612f9542888da8e2ac2c267d97",
            "value": "Generating test split: 100%"
          }
        },
        "4052a9fe80764368915540799beceba8": {
          "model_module": "@jupyter-widgets/controls",
          "model_name": "FloatProgressModel",
          "model_module_version": "1.5.0",
          "state": {
            "_dom_classes": [],
            "_model_module": "@jupyter-widgets/controls",
            "_model_module_version": "1.5.0",
            "_model_name": "FloatProgressModel",
            "_view_count": null,
            "_view_module": "@jupyter-widgets/controls",
            "_view_module_version": "1.5.0",
            "_view_name": "ProgressView",
            "bar_style": "success",
            "description": "",
            "description_tooltip": null,
            "layout": "IPY_MODEL_2cca57ed3a6b4f8fb337f5a94ea19612",
            "max": 1063,
            "min": 0,
            "orientation": "horizontal",
            "style": "IPY_MODEL_9cbfd672a84749a0bcda27ee81f656ee",
            "value": 1063
          }
        },
        "3401f3ac79ae42c496038dca4baa9ff0": {
          "model_module": "@jupyter-widgets/controls",
          "model_name": "HTMLModel",
          "model_module_version": "1.5.0",
          "state": {
            "_dom_classes": [],
            "_model_module": "@jupyter-widgets/controls",
            "_model_module_version": "1.5.0",
            "_model_name": "HTMLModel",
            "_view_count": null,
            "_view_module": "@jupyter-widgets/controls",
            "_view_module_version": "1.5.0",
            "_view_name": "HTMLView",
            "description": "",
            "description_tooltip": null,
            "layout": "IPY_MODEL_0ec683db3db74d62a44a1b8afd258d05",
            "placeholder": "​",
            "style": "IPY_MODEL_5507009b85054382a92e2c313cce4b4a",
            "value": " 1063/1063 [00:00&lt;00:00, 61472.59 examples/s]"
          }
        },
        "d02cda88a96d4ed9976c9f2eae88707e": {
          "model_module": "@jupyter-widgets/base",
          "model_name": "LayoutModel",
          "model_module_version": "1.2.0",
          "state": {
            "_model_module": "@jupyter-widgets/base",
            "_model_module_version": "1.2.0",
            "_model_name": "LayoutModel",
            "_view_count": null,
            "_view_module": "@jupyter-widgets/base",
            "_view_module_version": "1.2.0",
            "_view_name": "LayoutView",
            "align_content": null,
            "align_items": null,
            "align_self": null,
            "border": null,
            "bottom": null,
            "display": null,
            "flex": null,
            "flex_flow": null,
            "grid_area": null,
            "grid_auto_columns": null,
            "grid_auto_flow": null,
            "grid_auto_rows": null,
            "grid_column": null,
            "grid_gap": null,
            "grid_row": null,
            "grid_template_areas": null,
            "grid_template_columns": null,
            "grid_template_rows": null,
            "height": null,
            "justify_content": null,
            "justify_items": null,
            "left": null,
            "margin": null,
            "max_height": null,
            "max_width": null,
            "min_height": null,
            "min_width": null,
            "object_fit": null,
            "object_position": null,
            "order": null,
            "overflow": null,
            "overflow_x": null,
            "overflow_y": null,
            "padding": null,
            "right": null,
            "top": null,
            "visibility": null,
            "width": null
          }
        },
        "349aec82a59e4352ba4e8562f6f3dedc": {
          "model_module": "@jupyter-widgets/base",
          "model_name": "LayoutModel",
          "model_module_version": "1.2.0",
          "state": {
            "_model_module": "@jupyter-widgets/base",
            "_model_module_version": "1.2.0",
            "_model_name": "LayoutModel",
            "_view_count": null,
            "_view_module": "@jupyter-widgets/base",
            "_view_module_version": "1.2.0",
            "_view_name": "LayoutView",
            "align_content": null,
            "align_items": null,
            "align_self": null,
            "border": null,
            "bottom": null,
            "display": null,
            "flex": null,
            "flex_flow": null,
            "grid_area": null,
            "grid_auto_columns": null,
            "grid_auto_flow": null,
            "grid_auto_rows": null,
            "grid_column": null,
            "grid_gap": null,
            "grid_row": null,
            "grid_template_areas": null,
            "grid_template_columns": null,
            "grid_template_rows": null,
            "height": null,
            "justify_content": null,
            "justify_items": null,
            "left": null,
            "margin": null,
            "max_height": null,
            "max_width": null,
            "min_height": null,
            "min_width": null,
            "object_fit": null,
            "object_position": null,
            "order": null,
            "overflow": null,
            "overflow_x": null,
            "overflow_y": null,
            "padding": null,
            "right": null,
            "top": null,
            "visibility": null,
            "width": null
          }
        },
        "c9f8ef612f9542888da8e2ac2c267d97": {
          "model_module": "@jupyter-widgets/controls",
          "model_name": "DescriptionStyleModel",
          "model_module_version": "1.5.0",
          "state": {
            "_model_module": "@jupyter-widgets/controls",
            "_model_module_version": "1.5.0",
            "_model_name": "DescriptionStyleModel",
            "_view_count": null,
            "_view_module": "@jupyter-widgets/base",
            "_view_module_version": "1.2.0",
            "_view_name": "StyleView",
            "description_width": ""
          }
        },
        "2cca57ed3a6b4f8fb337f5a94ea19612": {
          "model_module": "@jupyter-widgets/base",
          "model_name": "LayoutModel",
          "model_module_version": "1.2.0",
          "state": {
            "_model_module": "@jupyter-widgets/base",
            "_model_module_version": "1.2.0",
            "_model_name": "LayoutModel",
            "_view_count": null,
            "_view_module": "@jupyter-widgets/base",
            "_view_module_version": "1.2.0",
            "_view_name": "LayoutView",
            "align_content": null,
            "align_items": null,
            "align_self": null,
            "border": null,
            "bottom": null,
            "display": null,
            "flex": null,
            "flex_flow": null,
            "grid_area": null,
            "grid_auto_columns": null,
            "grid_auto_flow": null,
            "grid_auto_rows": null,
            "grid_column": null,
            "grid_gap": null,
            "grid_row": null,
            "grid_template_areas": null,
            "grid_template_columns": null,
            "grid_template_rows": null,
            "height": null,
            "justify_content": null,
            "justify_items": null,
            "left": null,
            "margin": null,
            "max_height": null,
            "max_width": null,
            "min_height": null,
            "min_width": null,
            "object_fit": null,
            "object_position": null,
            "order": null,
            "overflow": null,
            "overflow_x": null,
            "overflow_y": null,
            "padding": null,
            "right": null,
            "top": null,
            "visibility": null,
            "width": null
          }
        },
        "9cbfd672a84749a0bcda27ee81f656ee": {
          "model_module": "@jupyter-widgets/controls",
          "model_name": "ProgressStyleModel",
          "model_module_version": "1.5.0",
          "state": {
            "_model_module": "@jupyter-widgets/controls",
            "_model_module_version": "1.5.0",
            "_model_name": "ProgressStyleModel",
            "_view_count": null,
            "_view_module": "@jupyter-widgets/base",
            "_view_module_version": "1.2.0",
            "_view_name": "StyleView",
            "bar_color": null,
            "description_width": ""
          }
        },
        "0ec683db3db74d62a44a1b8afd258d05": {
          "model_module": "@jupyter-widgets/base",
          "model_name": "LayoutModel",
          "model_module_version": "1.2.0",
          "state": {
            "_model_module": "@jupyter-widgets/base",
            "_model_module_version": "1.2.0",
            "_model_name": "LayoutModel",
            "_view_count": null,
            "_view_module": "@jupyter-widgets/base",
            "_view_module_version": "1.2.0",
            "_view_name": "LayoutView",
            "align_content": null,
            "align_items": null,
            "align_self": null,
            "border": null,
            "bottom": null,
            "display": null,
            "flex": null,
            "flex_flow": null,
            "grid_area": null,
            "grid_auto_columns": null,
            "grid_auto_flow": null,
            "grid_auto_rows": null,
            "grid_column": null,
            "grid_gap": null,
            "grid_row": null,
            "grid_template_areas": null,
            "grid_template_columns": null,
            "grid_template_rows": null,
            "height": null,
            "justify_content": null,
            "justify_items": null,
            "left": null,
            "margin": null,
            "max_height": null,
            "max_width": null,
            "min_height": null,
            "min_width": null,
            "object_fit": null,
            "object_position": null,
            "order": null,
            "overflow": null,
            "overflow_x": null,
            "overflow_y": null,
            "padding": null,
            "right": null,
            "top": null,
            "visibility": null,
            "width": null
          }
        },
        "5507009b85054382a92e2c313cce4b4a": {
          "model_module": "@jupyter-widgets/controls",
          "model_name": "DescriptionStyleModel",
          "model_module_version": "1.5.0",
          "state": {
            "_model_module": "@jupyter-widgets/controls",
            "_model_module_version": "1.5.0",
            "_model_name": "DescriptionStyleModel",
            "_view_count": null,
            "_view_module": "@jupyter-widgets/base",
            "_view_module_version": "1.2.0",
            "_view_name": "StyleView",
            "description_width": ""
          }
        },
        "ee239e90abbf4d77bb64ab657b380779": {
          "model_module": "@jupyter-widgets/controls",
          "model_name": "HBoxModel",
          "model_module_version": "1.5.0",
          "state": {
            "_dom_classes": [],
            "_model_module": "@jupyter-widgets/controls",
            "_model_module_version": "1.5.0",
            "_model_name": "HBoxModel",
            "_view_count": null,
            "_view_module": "@jupyter-widgets/controls",
            "_view_module_version": "1.5.0",
            "_view_name": "HBoxView",
            "box_style": "",
            "children": [
              "IPY_MODEL_0ed4e890833a45c587b00a7e63671b6c",
              "IPY_MODEL_9f9051f5fd464059b5cbc22c79a6b70a",
              "IPY_MODEL_72fe6f03986349059f53faaf377291d7"
            ],
            "layout": "IPY_MODEL_ab8b453a14374dbb82a4fb55583e51d2"
          }
        },
        "0ed4e890833a45c587b00a7e63671b6c": {
          "model_module": "@jupyter-widgets/controls",
          "model_name": "HTMLModel",
          "model_module_version": "1.5.0",
          "state": {
            "_dom_classes": [],
            "_model_module": "@jupyter-widgets/controls",
            "_model_module_version": "1.5.0",
            "_model_name": "HTMLModel",
            "_view_count": null,
            "_view_module": "@jupyter-widgets/controls",
            "_view_module_version": "1.5.0",
            "_view_name": "HTMLView",
            "description": "",
            "description_tooltip": null,
            "layout": "IPY_MODEL_652a0dd04c6147cf881b2f718c88ec1c",
            "placeholder": "​",
            "style": "IPY_MODEL_4c76b245bb7b4b44a11da830f4635a5e",
            "value": "tokenizer_config.json: 100%"
          }
        },
        "9f9051f5fd464059b5cbc22c79a6b70a": {
          "model_module": "@jupyter-widgets/controls",
          "model_name": "FloatProgressModel",
          "model_module_version": "1.5.0",
          "state": {
            "_dom_classes": [],
            "_model_module": "@jupyter-widgets/controls",
            "_model_module_version": "1.5.0",
            "_model_name": "FloatProgressModel",
            "_view_count": null,
            "_view_module": "@jupyter-widgets/controls",
            "_view_module_version": "1.5.0",
            "_view_name": "ProgressView",
            "bar_style": "success",
            "description": "",
            "description_tooltip": null,
            "layout": "IPY_MODEL_c461946c77114316bd0033e6de829a2c",
            "max": 685,
            "min": 0,
            "orientation": "horizontal",
            "style": "IPY_MODEL_9a1fe094fceb4cf7917719ecca7d9dae",
            "value": 685
          }
        },
        "72fe6f03986349059f53faaf377291d7": {
          "model_module": "@jupyter-widgets/controls",
          "model_name": "HTMLModel",
          "model_module_version": "1.5.0",
          "state": {
            "_dom_classes": [],
            "_model_module": "@jupyter-widgets/controls",
            "_model_module_version": "1.5.0",
            "_model_name": "HTMLModel",
            "_view_count": null,
            "_view_module": "@jupyter-widgets/controls",
            "_view_module_version": "1.5.0",
            "_view_name": "HTMLView",
            "description": "",
            "description_tooltip": null,
            "layout": "IPY_MODEL_c032b9c58ceb4d51a290553770966b61",
            "placeholder": "​",
            "style": "IPY_MODEL_ec0f376a194b4212b3ed7d0bc1700190",
            "value": " 685/685 [00:00&lt;00:00, 56.9kB/s]"
          }
        },
        "ab8b453a14374dbb82a4fb55583e51d2": {
          "model_module": "@jupyter-widgets/base",
          "model_name": "LayoutModel",
          "model_module_version": "1.2.0",
          "state": {
            "_model_module": "@jupyter-widgets/base",
            "_model_module_version": "1.2.0",
            "_model_name": "LayoutModel",
            "_view_count": null,
            "_view_module": "@jupyter-widgets/base",
            "_view_module_version": "1.2.0",
            "_view_name": "LayoutView",
            "align_content": null,
            "align_items": null,
            "align_self": null,
            "border": null,
            "bottom": null,
            "display": null,
            "flex": null,
            "flex_flow": null,
            "grid_area": null,
            "grid_auto_columns": null,
            "grid_auto_flow": null,
            "grid_auto_rows": null,
            "grid_column": null,
            "grid_gap": null,
            "grid_row": null,
            "grid_template_areas": null,
            "grid_template_columns": null,
            "grid_template_rows": null,
            "height": null,
            "justify_content": null,
            "justify_items": null,
            "left": null,
            "margin": null,
            "max_height": null,
            "max_width": null,
            "min_height": null,
            "min_width": null,
            "object_fit": null,
            "object_position": null,
            "order": null,
            "overflow": null,
            "overflow_x": null,
            "overflow_y": null,
            "padding": null,
            "right": null,
            "top": null,
            "visibility": null,
            "width": null
          }
        },
        "652a0dd04c6147cf881b2f718c88ec1c": {
          "model_module": "@jupyter-widgets/base",
          "model_name": "LayoutModel",
          "model_module_version": "1.2.0",
          "state": {
            "_model_module": "@jupyter-widgets/base",
            "_model_module_version": "1.2.0",
            "_model_name": "LayoutModel",
            "_view_count": null,
            "_view_module": "@jupyter-widgets/base",
            "_view_module_version": "1.2.0",
            "_view_name": "LayoutView",
            "align_content": null,
            "align_items": null,
            "align_self": null,
            "border": null,
            "bottom": null,
            "display": null,
            "flex": null,
            "flex_flow": null,
            "grid_area": null,
            "grid_auto_columns": null,
            "grid_auto_flow": null,
            "grid_auto_rows": null,
            "grid_column": null,
            "grid_gap": null,
            "grid_row": null,
            "grid_template_areas": null,
            "grid_template_columns": null,
            "grid_template_rows": null,
            "height": null,
            "justify_content": null,
            "justify_items": null,
            "left": null,
            "margin": null,
            "max_height": null,
            "max_width": null,
            "min_height": null,
            "min_width": null,
            "object_fit": null,
            "object_position": null,
            "order": null,
            "overflow": null,
            "overflow_x": null,
            "overflow_y": null,
            "padding": null,
            "right": null,
            "top": null,
            "visibility": null,
            "width": null
          }
        },
        "4c76b245bb7b4b44a11da830f4635a5e": {
          "model_module": "@jupyter-widgets/controls",
          "model_name": "DescriptionStyleModel",
          "model_module_version": "1.5.0",
          "state": {
            "_model_module": "@jupyter-widgets/controls",
            "_model_module_version": "1.5.0",
            "_model_name": "DescriptionStyleModel",
            "_view_count": null,
            "_view_module": "@jupyter-widgets/base",
            "_view_module_version": "1.2.0",
            "_view_name": "StyleView",
            "description_width": ""
          }
        },
        "c461946c77114316bd0033e6de829a2c": {
          "model_module": "@jupyter-widgets/base",
          "model_name": "LayoutModel",
          "model_module_version": "1.2.0",
          "state": {
            "_model_module": "@jupyter-widgets/base",
            "_model_module_version": "1.2.0",
            "_model_name": "LayoutModel",
            "_view_count": null,
            "_view_module": "@jupyter-widgets/base",
            "_view_module_version": "1.2.0",
            "_view_name": "LayoutView",
            "align_content": null,
            "align_items": null,
            "align_self": null,
            "border": null,
            "bottom": null,
            "display": null,
            "flex": null,
            "flex_flow": null,
            "grid_area": null,
            "grid_auto_columns": null,
            "grid_auto_flow": null,
            "grid_auto_rows": null,
            "grid_column": null,
            "grid_gap": null,
            "grid_row": null,
            "grid_template_areas": null,
            "grid_template_columns": null,
            "grid_template_rows": null,
            "height": null,
            "justify_content": null,
            "justify_items": null,
            "left": null,
            "margin": null,
            "max_height": null,
            "max_width": null,
            "min_height": null,
            "min_width": null,
            "object_fit": null,
            "object_position": null,
            "order": null,
            "overflow": null,
            "overflow_x": null,
            "overflow_y": null,
            "padding": null,
            "right": null,
            "top": null,
            "visibility": null,
            "width": null
          }
        },
        "9a1fe094fceb4cf7917719ecca7d9dae": {
          "model_module": "@jupyter-widgets/controls",
          "model_name": "ProgressStyleModel",
          "model_module_version": "1.5.0",
          "state": {
            "_model_module": "@jupyter-widgets/controls",
            "_model_module_version": "1.5.0",
            "_model_name": "ProgressStyleModel",
            "_view_count": null,
            "_view_module": "@jupyter-widgets/base",
            "_view_module_version": "1.2.0",
            "_view_name": "StyleView",
            "bar_color": null,
            "description_width": ""
          }
        },
        "c032b9c58ceb4d51a290553770966b61": {
          "model_module": "@jupyter-widgets/base",
          "model_name": "LayoutModel",
          "model_module_version": "1.2.0",
          "state": {
            "_model_module": "@jupyter-widgets/base",
            "_model_module_version": "1.2.0",
            "_model_name": "LayoutModel",
            "_view_count": null,
            "_view_module": "@jupyter-widgets/base",
            "_view_module_version": "1.2.0",
            "_view_name": "LayoutView",
            "align_content": null,
            "align_items": null,
            "align_self": null,
            "border": null,
            "bottom": null,
            "display": null,
            "flex": null,
            "flex_flow": null,
            "grid_area": null,
            "grid_auto_columns": null,
            "grid_auto_flow": null,
            "grid_auto_rows": null,
            "grid_column": null,
            "grid_gap": null,
            "grid_row": null,
            "grid_template_areas": null,
            "grid_template_columns": null,
            "grid_template_rows": null,
            "height": null,
            "justify_content": null,
            "justify_items": null,
            "left": null,
            "margin": null,
            "max_height": null,
            "max_width": null,
            "min_height": null,
            "min_width": null,
            "object_fit": null,
            "object_position": null,
            "order": null,
            "overflow": null,
            "overflow_x": null,
            "overflow_y": null,
            "padding": null,
            "right": null,
            "top": null,
            "visibility": null,
            "width": null
          }
        },
        "ec0f376a194b4212b3ed7d0bc1700190": {
          "model_module": "@jupyter-widgets/controls",
          "model_name": "DescriptionStyleModel",
          "model_module_version": "1.5.0",
          "state": {
            "_model_module": "@jupyter-widgets/controls",
            "_model_module_version": "1.5.0",
            "_model_name": "DescriptionStyleModel",
            "_view_count": null,
            "_view_module": "@jupyter-widgets/base",
            "_view_module_version": "1.2.0",
            "_view_name": "StyleView",
            "description_width": ""
          }
        },
        "48c418359a394d5db285e41c2b047659": {
          "model_module": "@jupyter-widgets/controls",
          "model_name": "HBoxModel",
          "model_module_version": "1.5.0",
          "state": {
            "_dom_classes": [],
            "_model_module": "@jupyter-widgets/controls",
            "_model_module_version": "1.5.0",
            "_model_name": "HBoxModel",
            "_view_count": null,
            "_view_module": "@jupyter-widgets/controls",
            "_view_module_version": "1.5.0",
            "_view_name": "HBoxView",
            "box_style": "",
            "children": [
              "IPY_MODEL_4d879a41e1a44291bd2794bf9fce941e",
              "IPY_MODEL_0b49419292224ec1aafaeb66af07701a",
              "IPY_MODEL_612083b60e7245fe81352ae5bfa0a845"
            ],
            "layout": "IPY_MODEL_dec2c760542842aa88d824ea5be0f3fa"
          }
        },
        "4d879a41e1a44291bd2794bf9fce941e": {
          "model_module": "@jupyter-widgets/controls",
          "model_name": "HTMLModel",
          "model_module_version": "1.5.0",
          "state": {
            "_dom_classes": [],
            "_model_module": "@jupyter-widgets/controls",
            "_model_module_version": "1.5.0",
            "_model_name": "HTMLModel",
            "_view_count": null,
            "_view_module": "@jupyter-widgets/controls",
            "_view_module_version": "1.5.0",
            "_view_name": "HTMLView",
            "description": "",
            "description_tooltip": null,
            "layout": "IPY_MODEL_babf23eb64e74675b0fceddcca49107f",
            "placeholder": "​",
            "style": "IPY_MODEL_839e38202ecb46c9aa8b55d47cd85fee",
            "value": "config.json: 100%"
          }
        },
        "0b49419292224ec1aafaeb66af07701a": {
          "model_module": "@jupyter-widgets/controls",
          "model_name": "FloatProgressModel",
          "model_module_version": "1.5.0",
          "state": {
            "_dom_classes": [],
            "_model_module": "@jupyter-widgets/controls",
            "_model_module_version": "1.5.0",
            "_model_name": "FloatProgressModel",
            "_view_count": null,
            "_view_module": "@jupyter-widgets/controls",
            "_view_module_version": "1.5.0",
            "_view_name": "ProgressView",
            "bar_style": "success",
            "description": "",
            "description_tooltip": null,
            "layout": "IPY_MODEL_93d78c6ad3c84c718a3eee0d4582703d",
            "max": 651,
            "min": 0,
            "orientation": "horizontal",
            "style": "IPY_MODEL_609a255910324619b03fca08b41ea0b1",
            "value": 651
          }
        },
        "612083b60e7245fe81352ae5bfa0a845": {
          "model_module": "@jupyter-widgets/controls",
          "model_name": "HTMLModel",
          "model_module_version": "1.5.0",
          "state": {
            "_dom_classes": [],
            "_model_module": "@jupyter-widgets/controls",
            "_model_module_version": "1.5.0",
            "_model_name": "HTMLModel",
            "_view_count": null,
            "_view_module": "@jupyter-widgets/controls",
            "_view_module_version": "1.5.0",
            "_view_name": "HTMLView",
            "description": "",
            "description_tooltip": null,
            "layout": "IPY_MODEL_987e7434efaa4c3cae5c237318da2c2b",
            "placeholder": "​",
            "style": "IPY_MODEL_e6c55e5ba4534afb91698fa6fe512f2e",
            "value": " 651/651 [00:00&lt;00:00, 44.3kB/s]"
          }
        },
        "dec2c760542842aa88d824ea5be0f3fa": {
          "model_module": "@jupyter-widgets/base",
          "model_name": "LayoutModel",
          "model_module_version": "1.2.0",
          "state": {
            "_model_module": "@jupyter-widgets/base",
            "_model_module_version": "1.2.0",
            "_model_name": "LayoutModel",
            "_view_count": null,
            "_view_module": "@jupyter-widgets/base",
            "_view_module_version": "1.2.0",
            "_view_name": "LayoutView",
            "align_content": null,
            "align_items": null,
            "align_self": null,
            "border": null,
            "bottom": null,
            "display": null,
            "flex": null,
            "flex_flow": null,
            "grid_area": null,
            "grid_auto_columns": null,
            "grid_auto_flow": null,
            "grid_auto_rows": null,
            "grid_column": null,
            "grid_gap": null,
            "grid_row": null,
            "grid_template_areas": null,
            "grid_template_columns": null,
            "grid_template_rows": null,
            "height": null,
            "justify_content": null,
            "justify_items": null,
            "left": null,
            "margin": null,
            "max_height": null,
            "max_width": null,
            "min_height": null,
            "min_width": null,
            "object_fit": null,
            "object_position": null,
            "order": null,
            "overflow": null,
            "overflow_x": null,
            "overflow_y": null,
            "padding": null,
            "right": null,
            "top": null,
            "visibility": null,
            "width": null
          }
        },
        "babf23eb64e74675b0fceddcca49107f": {
          "model_module": "@jupyter-widgets/base",
          "model_name": "LayoutModel",
          "model_module_version": "1.2.0",
          "state": {
            "_model_module": "@jupyter-widgets/base",
            "_model_module_version": "1.2.0",
            "_model_name": "LayoutModel",
            "_view_count": null,
            "_view_module": "@jupyter-widgets/base",
            "_view_module_version": "1.2.0",
            "_view_name": "LayoutView",
            "align_content": null,
            "align_items": null,
            "align_self": null,
            "border": null,
            "bottom": null,
            "display": null,
            "flex": null,
            "flex_flow": null,
            "grid_area": null,
            "grid_auto_columns": null,
            "grid_auto_flow": null,
            "grid_auto_rows": null,
            "grid_column": null,
            "grid_gap": null,
            "grid_row": null,
            "grid_template_areas": null,
            "grid_template_columns": null,
            "grid_template_rows": null,
            "height": null,
            "justify_content": null,
            "justify_items": null,
            "left": null,
            "margin": null,
            "max_height": null,
            "max_width": null,
            "min_height": null,
            "min_width": null,
            "object_fit": null,
            "object_position": null,
            "order": null,
            "overflow": null,
            "overflow_x": null,
            "overflow_y": null,
            "padding": null,
            "right": null,
            "top": null,
            "visibility": null,
            "width": null
          }
        },
        "839e38202ecb46c9aa8b55d47cd85fee": {
          "model_module": "@jupyter-widgets/controls",
          "model_name": "DescriptionStyleModel",
          "model_module_version": "1.5.0",
          "state": {
            "_model_module": "@jupyter-widgets/controls",
            "_model_module_version": "1.5.0",
            "_model_name": "DescriptionStyleModel",
            "_view_count": null,
            "_view_module": "@jupyter-widgets/base",
            "_view_module_version": "1.2.0",
            "_view_name": "StyleView",
            "description_width": ""
          }
        },
        "93d78c6ad3c84c718a3eee0d4582703d": {
          "model_module": "@jupyter-widgets/base",
          "model_name": "LayoutModel",
          "model_module_version": "1.2.0",
          "state": {
            "_model_module": "@jupyter-widgets/base",
            "_model_module_version": "1.2.0",
            "_model_name": "LayoutModel",
            "_view_count": null,
            "_view_module": "@jupyter-widgets/base",
            "_view_module_version": "1.2.0",
            "_view_name": "LayoutView",
            "align_content": null,
            "align_items": null,
            "align_self": null,
            "border": null,
            "bottom": null,
            "display": null,
            "flex": null,
            "flex_flow": null,
            "grid_area": null,
            "grid_auto_columns": null,
            "grid_auto_flow": null,
            "grid_auto_rows": null,
            "grid_column": null,
            "grid_gap": null,
            "grid_row": null,
            "grid_template_areas": null,
            "grid_template_columns": null,
            "grid_template_rows": null,
            "height": null,
            "justify_content": null,
            "justify_items": null,
            "left": null,
            "margin": null,
            "max_height": null,
            "max_width": null,
            "min_height": null,
            "min_width": null,
            "object_fit": null,
            "object_position": null,
            "order": null,
            "overflow": null,
            "overflow_x": null,
            "overflow_y": null,
            "padding": null,
            "right": null,
            "top": null,
            "visibility": null,
            "width": null
          }
        },
        "609a255910324619b03fca08b41ea0b1": {
          "model_module": "@jupyter-widgets/controls",
          "model_name": "ProgressStyleModel",
          "model_module_version": "1.5.0",
          "state": {
            "_model_module": "@jupyter-widgets/controls",
            "_model_module_version": "1.5.0",
            "_model_name": "ProgressStyleModel",
            "_view_count": null,
            "_view_module": "@jupyter-widgets/base",
            "_view_module_version": "1.2.0",
            "_view_name": "StyleView",
            "bar_color": null,
            "description_width": ""
          }
        },
        "987e7434efaa4c3cae5c237318da2c2b": {
          "model_module": "@jupyter-widgets/base",
          "model_name": "LayoutModel",
          "model_module_version": "1.2.0",
          "state": {
            "_model_module": "@jupyter-widgets/base",
            "_model_module_version": "1.2.0",
            "_model_name": "LayoutModel",
            "_view_count": null,
            "_view_module": "@jupyter-widgets/base",
            "_view_module_version": "1.2.0",
            "_view_name": "LayoutView",
            "align_content": null,
            "align_items": null,
            "align_self": null,
            "border": null,
            "bottom": null,
            "display": null,
            "flex": null,
            "flex_flow": null,
            "grid_area": null,
            "grid_auto_columns": null,
            "grid_auto_flow": null,
            "grid_auto_rows": null,
            "grid_column": null,
            "grid_gap": null,
            "grid_row": null,
            "grid_template_areas": null,
            "grid_template_columns": null,
            "grid_template_rows": null,
            "height": null,
            "justify_content": null,
            "justify_items": null,
            "left": null,
            "margin": null,
            "max_height": null,
            "max_width": null,
            "min_height": null,
            "min_width": null,
            "object_fit": null,
            "object_position": null,
            "order": null,
            "overflow": null,
            "overflow_x": null,
            "overflow_y": null,
            "padding": null,
            "right": null,
            "top": null,
            "visibility": null,
            "width": null
          }
        },
        "e6c55e5ba4534afb91698fa6fe512f2e": {
          "model_module": "@jupyter-widgets/controls",
          "model_name": "DescriptionStyleModel",
          "model_module_version": "1.5.0",
          "state": {
            "_model_module": "@jupyter-widgets/controls",
            "_model_module_version": "1.5.0",
            "_model_name": "DescriptionStyleModel",
            "_view_count": null,
            "_view_module": "@jupyter-widgets/base",
            "_view_module_version": "1.2.0",
            "_view_name": "StyleView",
            "description_width": ""
          }
        },
        "5da3188612794a2a96081146295eb7e0": {
          "model_module": "@jupyter-widgets/controls",
          "model_name": "HBoxModel",
          "model_module_version": "1.5.0",
          "state": {
            "_dom_classes": [],
            "_model_module": "@jupyter-widgets/controls",
            "_model_module_version": "1.5.0",
            "_model_name": "HBoxModel",
            "_view_count": null,
            "_view_module": "@jupyter-widgets/controls",
            "_view_module_version": "1.5.0",
            "_view_name": "HBoxView",
            "box_style": "",
            "children": [
              "IPY_MODEL_e4b656e7cca443ff9148f916f263533f",
              "IPY_MODEL_526f35ae5aff42a091884982b06df1be",
              "IPY_MODEL_dc1bdf37b47c41baa577e6d7d90e59bd"
            ],
            "layout": "IPY_MODEL_2a63195914df4ce9ba91afd62bf413c5"
          }
        },
        "e4b656e7cca443ff9148f916f263533f": {
          "model_module": "@jupyter-widgets/controls",
          "model_name": "HTMLModel",
          "model_module_version": "1.5.0",
          "state": {
            "_dom_classes": [],
            "_model_module": "@jupyter-widgets/controls",
            "_model_module_version": "1.5.0",
            "_model_name": "HTMLModel",
            "_view_count": null,
            "_view_module": "@jupyter-widgets/controls",
            "_view_module_version": "1.5.0",
            "_view_name": "HTMLView",
            "description": "",
            "description_tooltip": null,
            "layout": "IPY_MODEL_2540babce2ce4a81a6003e9585395cff",
            "placeholder": "​",
            "style": "IPY_MODEL_5856dce8836c4ad8a7428e7384259dcb",
            "value": "vocab.json: 100%"
          }
        },
        "526f35ae5aff42a091884982b06df1be": {
          "model_module": "@jupyter-widgets/controls",
          "model_name": "FloatProgressModel",
          "model_module_version": "1.5.0",
          "state": {
            "_dom_classes": [],
            "_model_module": "@jupyter-widgets/controls",
            "_model_module_version": "1.5.0",
            "_model_name": "FloatProgressModel",
            "_view_count": null,
            "_view_module": "@jupyter-widgets/controls",
            "_view_module_version": "1.5.0",
            "_view_name": "ProgressView",
            "bar_style": "success",
            "description": "",
            "description_tooltip": null,
            "layout": "IPY_MODEL_44f0643f4f7148529798465d4c812661",
            "max": 898822,
            "min": 0,
            "orientation": "horizontal",
            "style": "IPY_MODEL_ba83fa48b5d5403ea717c16873843326",
            "value": 898822
          }
        },
        "dc1bdf37b47c41baa577e6d7d90e59bd": {
          "model_module": "@jupyter-widgets/controls",
          "model_name": "HTMLModel",
          "model_module_version": "1.5.0",
          "state": {
            "_dom_classes": [],
            "_model_module": "@jupyter-widgets/controls",
            "_model_module_version": "1.5.0",
            "_model_name": "HTMLModel",
            "_view_count": null,
            "_view_module": "@jupyter-widgets/controls",
            "_view_module_version": "1.5.0",
            "_view_name": "HTMLView",
            "description": "",
            "description_tooltip": null,
            "layout": "IPY_MODEL_5ff7436da647462fa8ec58a26cdf5a20",
            "placeholder": "​",
            "style": "IPY_MODEL_75a5f36beec348b49d419105c424f728",
            "value": " 899k/899k [00:00&lt;00:00, 11.0MB/s]"
          }
        },
        "2a63195914df4ce9ba91afd62bf413c5": {
          "model_module": "@jupyter-widgets/base",
          "model_name": "LayoutModel",
          "model_module_version": "1.2.0",
          "state": {
            "_model_module": "@jupyter-widgets/base",
            "_model_module_version": "1.2.0",
            "_model_name": "LayoutModel",
            "_view_count": null,
            "_view_module": "@jupyter-widgets/base",
            "_view_module_version": "1.2.0",
            "_view_name": "LayoutView",
            "align_content": null,
            "align_items": null,
            "align_self": null,
            "border": null,
            "bottom": null,
            "display": null,
            "flex": null,
            "flex_flow": null,
            "grid_area": null,
            "grid_auto_columns": null,
            "grid_auto_flow": null,
            "grid_auto_rows": null,
            "grid_column": null,
            "grid_gap": null,
            "grid_row": null,
            "grid_template_areas": null,
            "grid_template_columns": null,
            "grid_template_rows": null,
            "height": null,
            "justify_content": null,
            "justify_items": null,
            "left": null,
            "margin": null,
            "max_height": null,
            "max_width": null,
            "min_height": null,
            "min_width": null,
            "object_fit": null,
            "object_position": null,
            "order": null,
            "overflow": null,
            "overflow_x": null,
            "overflow_y": null,
            "padding": null,
            "right": null,
            "top": null,
            "visibility": null,
            "width": null
          }
        },
        "2540babce2ce4a81a6003e9585395cff": {
          "model_module": "@jupyter-widgets/base",
          "model_name": "LayoutModel",
          "model_module_version": "1.2.0",
          "state": {
            "_model_module": "@jupyter-widgets/base",
            "_model_module_version": "1.2.0",
            "_model_name": "LayoutModel",
            "_view_count": null,
            "_view_module": "@jupyter-widgets/base",
            "_view_module_version": "1.2.0",
            "_view_name": "LayoutView",
            "align_content": null,
            "align_items": null,
            "align_self": null,
            "border": null,
            "bottom": null,
            "display": null,
            "flex": null,
            "flex_flow": null,
            "grid_area": null,
            "grid_auto_columns": null,
            "grid_auto_flow": null,
            "grid_auto_rows": null,
            "grid_column": null,
            "grid_gap": null,
            "grid_row": null,
            "grid_template_areas": null,
            "grid_template_columns": null,
            "grid_template_rows": null,
            "height": null,
            "justify_content": null,
            "justify_items": null,
            "left": null,
            "margin": null,
            "max_height": null,
            "max_width": null,
            "min_height": null,
            "min_width": null,
            "object_fit": null,
            "object_position": null,
            "order": null,
            "overflow": null,
            "overflow_x": null,
            "overflow_y": null,
            "padding": null,
            "right": null,
            "top": null,
            "visibility": null,
            "width": null
          }
        },
        "5856dce8836c4ad8a7428e7384259dcb": {
          "model_module": "@jupyter-widgets/controls",
          "model_name": "DescriptionStyleModel",
          "model_module_version": "1.5.0",
          "state": {
            "_model_module": "@jupyter-widgets/controls",
            "_model_module_version": "1.5.0",
            "_model_name": "DescriptionStyleModel",
            "_view_count": null,
            "_view_module": "@jupyter-widgets/base",
            "_view_module_version": "1.2.0",
            "_view_name": "StyleView",
            "description_width": ""
          }
        },
        "44f0643f4f7148529798465d4c812661": {
          "model_module": "@jupyter-widgets/base",
          "model_name": "LayoutModel",
          "model_module_version": "1.2.0",
          "state": {
            "_model_module": "@jupyter-widgets/base",
            "_model_module_version": "1.2.0",
            "_model_name": "LayoutModel",
            "_view_count": null,
            "_view_module": "@jupyter-widgets/base",
            "_view_module_version": "1.2.0",
            "_view_name": "LayoutView",
            "align_content": null,
            "align_items": null,
            "align_self": null,
            "border": null,
            "bottom": null,
            "display": null,
            "flex": null,
            "flex_flow": null,
            "grid_area": null,
            "grid_auto_columns": null,
            "grid_auto_flow": null,
            "grid_auto_rows": null,
            "grid_column": null,
            "grid_gap": null,
            "grid_row": null,
            "grid_template_areas": null,
            "grid_template_columns": null,
            "grid_template_rows": null,
            "height": null,
            "justify_content": null,
            "justify_items": null,
            "left": null,
            "margin": null,
            "max_height": null,
            "max_width": null,
            "min_height": null,
            "min_width": null,
            "object_fit": null,
            "object_position": null,
            "order": null,
            "overflow": null,
            "overflow_x": null,
            "overflow_y": null,
            "padding": null,
            "right": null,
            "top": null,
            "visibility": null,
            "width": null
          }
        },
        "ba83fa48b5d5403ea717c16873843326": {
          "model_module": "@jupyter-widgets/controls",
          "model_name": "ProgressStyleModel",
          "model_module_version": "1.5.0",
          "state": {
            "_model_module": "@jupyter-widgets/controls",
            "_model_module_version": "1.5.0",
            "_model_name": "ProgressStyleModel",
            "_view_count": null,
            "_view_module": "@jupyter-widgets/base",
            "_view_module_version": "1.2.0",
            "_view_name": "StyleView",
            "bar_color": null,
            "description_width": ""
          }
        },
        "5ff7436da647462fa8ec58a26cdf5a20": {
          "model_module": "@jupyter-widgets/base",
          "model_name": "LayoutModel",
          "model_module_version": "1.2.0",
          "state": {
            "_model_module": "@jupyter-widgets/base",
            "_model_module_version": "1.2.0",
            "_model_name": "LayoutModel",
            "_view_count": null,
            "_view_module": "@jupyter-widgets/base",
            "_view_module_version": "1.2.0",
            "_view_name": "LayoutView",
            "align_content": null,
            "align_items": null,
            "align_self": null,
            "border": null,
            "bottom": null,
            "display": null,
            "flex": null,
            "flex_flow": null,
            "grid_area": null,
            "grid_auto_columns": null,
            "grid_auto_flow": null,
            "grid_auto_rows": null,
            "grid_column": null,
            "grid_gap": null,
            "grid_row": null,
            "grid_template_areas": null,
            "grid_template_columns": null,
            "grid_template_rows": null,
            "height": null,
            "justify_content": null,
            "justify_items": null,
            "left": null,
            "margin": null,
            "max_height": null,
            "max_width": null,
            "min_height": null,
            "min_width": null,
            "object_fit": null,
            "object_position": null,
            "order": null,
            "overflow": null,
            "overflow_x": null,
            "overflow_y": null,
            "padding": null,
            "right": null,
            "top": null,
            "visibility": null,
            "width": null
          }
        },
        "75a5f36beec348b49d419105c424f728": {
          "model_module": "@jupyter-widgets/controls",
          "model_name": "DescriptionStyleModel",
          "model_module_version": "1.5.0",
          "state": {
            "_model_module": "@jupyter-widgets/controls",
            "_model_module_version": "1.5.0",
            "_model_name": "DescriptionStyleModel",
            "_view_count": null,
            "_view_module": "@jupyter-widgets/base",
            "_view_module_version": "1.2.0",
            "_view_name": "StyleView",
            "description_width": ""
          }
        },
        "c9fff3a431184f8e96ff1b0372fd5f82": {
          "model_module": "@jupyter-widgets/controls",
          "model_name": "HBoxModel",
          "model_module_version": "1.5.0",
          "state": {
            "_dom_classes": [],
            "_model_module": "@jupyter-widgets/controls",
            "_model_module_version": "1.5.0",
            "_model_name": "HBoxModel",
            "_view_count": null,
            "_view_module": "@jupyter-widgets/controls",
            "_view_module_version": "1.5.0",
            "_view_name": "HBoxView",
            "box_style": "",
            "children": [
              "IPY_MODEL_a0fd947a9aab44569e1dedef93226182",
              "IPY_MODEL_fda0c16f04dc43a2b7b985ef5da3d492",
              "IPY_MODEL_7888979a61814292871eaa534078fc9d"
            ],
            "layout": "IPY_MODEL_b15db0465c404105b5256c6fe3232523"
          }
        },
        "a0fd947a9aab44569e1dedef93226182": {
          "model_module": "@jupyter-widgets/controls",
          "model_name": "HTMLModel",
          "model_module_version": "1.5.0",
          "state": {
            "_dom_classes": [],
            "_model_module": "@jupyter-widgets/controls",
            "_model_module_version": "1.5.0",
            "_model_name": "HTMLModel",
            "_view_count": null,
            "_view_module": "@jupyter-widgets/controls",
            "_view_module_version": "1.5.0",
            "_view_name": "HTMLView",
            "description": "",
            "description_tooltip": null,
            "layout": "IPY_MODEL_48fae3bb08d741af84f3ecf061970a90",
            "placeholder": "​",
            "style": "IPY_MODEL_7386e8dfe80e4b36801262968e60ffce",
            "value": "merges.txt: 100%"
          }
        },
        "fda0c16f04dc43a2b7b985ef5da3d492": {
          "model_module": "@jupyter-widgets/controls",
          "model_name": "FloatProgressModel",
          "model_module_version": "1.5.0",
          "state": {
            "_dom_classes": [],
            "_model_module": "@jupyter-widgets/controls",
            "_model_module_version": "1.5.0",
            "_model_name": "FloatProgressModel",
            "_view_count": null,
            "_view_module": "@jupyter-widgets/controls",
            "_view_module_version": "1.5.0",
            "_view_name": "ProgressView",
            "bar_style": "success",
            "description": "",
            "description_tooltip": null,
            "layout": "IPY_MODEL_90c1d18370834822bb53ccc175a847df",
            "max": 456318,
            "min": 0,
            "orientation": "horizontal",
            "style": "IPY_MODEL_10f5c7d2270e496da876e6f03bff1970",
            "value": 456318
          }
        },
        "7888979a61814292871eaa534078fc9d": {
          "model_module": "@jupyter-widgets/controls",
          "model_name": "HTMLModel",
          "model_module_version": "1.5.0",
          "state": {
            "_dom_classes": [],
            "_model_module": "@jupyter-widgets/controls",
            "_model_module_version": "1.5.0",
            "_model_name": "HTMLModel",
            "_view_count": null,
            "_view_module": "@jupyter-widgets/controls",
            "_view_module_version": "1.5.0",
            "_view_name": "HTMLView",
            "description": "",
            "description_tooltip": null,
            "layout": "IPY_MODEL_befad3e832c84d75a36ef91e2a51c46d",
            "placeholder": "​",
            "style": "IPY_MODEL_9832fc36923f49a29abb9e5c23227c7f",
            "value": " 456k/456k [00:00&lt;00:00, 5.86MB/s]"
          }
        },
        "b15db0465c404105b5256c6fe3232523": {
          "model_module": "@jupyter-widgets/base",
          "model_name": "LayoutModel",
          "model_module_version": "1.2.0",
          "state": {
            "_model_module": "@jupyter-widgets/base",
            "_model_module_version": "1.2.0",
            "_model_name": "LayoutModel",
            "_view_count": null,
            "_view_module": "@jupyter-widgets/base",
            "_view_module_version": "1.2.0",
            "_view_name": "LayoutView",
            "align_content": null,
            "align_items": null,
            "align_self": null,
            "border": null,
            "bottom": null,
            "display": null,
            "flex": null,
            "flex_flow": null,
            "grid_area": null,
            "grid_auto_columns": null,
            "grid_auto_flow": null,
            "grid_auto_rows": null,
            "grid_column": null,
            "grid_gap": null,
            "grid_row": null,
            "grid_template_areas": null,
            "grid_template_columns": null,
            "grid_template_rows": null,
            "height": null,
            "justify_content": null,
            "justify_items": null,
            "left": null,
            "margin": null,
            "max_height": null,
            "max_width": null,
            "min_height": null,
            "min_width": null,
            "object_fit": null,
            "object_position": null,
            "order": null,
            "overflow": null,
            "overflow_x": null,
            "overflow_y": null,
            "padding": null,
            "right": null,
            "top": null,
            "visibility": null,
            "width": null
          }
        },
        "48fae3bb08d741af84f3ecf061970a90": {
          "model_module": "@jupyter-widgets/base",
          "model_name": "LayoutModel",
          "model_module_version": "1.2.0",
          "state": {
            "_model_module": "@jupyter-widgets/base",
            "_model_module_version": "1.2.0",
            "_model_name": "LayoutModel",
            "_view_count": null,
            "_view_module": "@jupyter-widgets/base",
            "_view_module_version": "1.2.0",
            "_view_name": "LayoutView",
            "align_content": null,
            "align_items": null,
            "align_self": null,
            "border": null,
            "bottom": null,
            "display": null,
            "flex": null,
            "flex_flow": null,
            "grid_area": null,
            "grid_auto_columns": null,
            "grid_auto_flow": null,
            "grid_auto_rows": null,
            "grid_column": null,
            "grid_gap": null,
            "grid_row": null,
            "grid_template_areas": null,
            "grid_template_columns": null,
            "grid_template_rows": null,
            "height": null,
            "justify_content": null,
            "justify_items": null,
            "left": null,
            "margin": null,
            "max_height": null,
            "max_width": null,
            "min_height": null,
            "min_width": null,
            "object_fit": null,
            "object_position": null,
            "order": null,
            "overflow": null,
            "overflow_x": null,
            "overflow_y": null,
            "padding": null,
            "right": null,
            "top": null,
            "visibility": null,
            "width": null
          }
        },
        "7386e8dfe80e4b36801262968e60ffce": {
          "model_module": "@jupyter-widgets/controls",
          "model_name": "DescriptionStyleModel",
          "model_module_version": "1.5.0",
          "state": {
            "_model_module": "@jupyter-widgets/controls",
            "_model_module_version": "1.5.0",
            "_model_name": "DescriptionStyleModel",
            "_view_count": null,
            "_view_module": "@jupyter-widgets/base",
            "_view_module_version": "1.2.0",
            "_view_name": "StyleView",
            "description_width": ""
          }
        },
        "90c1d18370834822bb53ccc175a847df": {
          "model_module": "@jupyter-widgets/base",
          "model_name": "LayoutModel",
          "model_module_version": "1.2.0",
          "state": {
            "_model_module": "@jupyter-widgets/base",
            "_model_module_version": "1.2.0",
            "_model_name": "LayoutModel",
            "_view_count": null,
            "_view_module": "@jupyter-widgets/base",
            "_view_module_version": "1.2.0",
            "_view_name": "LayoutView",
            "align_content": null,
            "align_items": null,
            "align_self": null,
            "border": null,
            "bottom": null,
            "display": null,
            "flex": null,
            "flex_flow": null,
            "grid_area": null,
            "grid_auto_columns": null,
            "grid_auto_flow": null,
            "grid_auto_rows": null,
            "grid_column": null,
            "grid_gap": null,
            "grid_row": null,
            "grid_template_areas": null,
            "grid_template_columns": null,
            "grid_template_rows": null,
            "height": null,
            "justify_content": null,
            "justify_items": null,
            "left": null,
            "margin": null,
            "max_height": null,
            "max_width": null,
            "min_height": null,
            "min_width": null,
            "object_fit": null,
            "object_position": null,
            "order": null,
            "overflow": null,
            "overflow_x": null,
            "overflow_y": null,
            "padding": null,
            "right": null,
            "top": null,
            "visibility": null,
            "width": null
          }
        },
        "10f5c7d2270e496da876e6f03bff1970": {
          "model_module": "@jupyter-widgets/controls",
          "model_name": "ProgressStyleModel",
          "model_module_version": "1.5.0",
          "state": {
            "_model_module": "@jupyter-widgets/controls",
            "_model_module_version": "1.5.0",
            "_model_name": "ProgressStyleModel",
            "_view_count": null,
            "_view_module": "@jupyter-widgets/base",
            "_view_module_version": "1.2.0",
            "_view_name": "StyleView",
            "bar_color": null,
            "description_width": ""
          }
        },
        "befad3e832c84d75a36ef91e2a51c46d": {
          "model_module": "@jupyter-widgets/base",
          "model_name": "LayoutModel",
          "model_module_version": "1.2.0",
          "state": {
            "_model_module": "@jupyter-widgets/base",
            "_model_module_version": "1.2.0",
            "_model_name": "LayoutModel",
            "_view_count": null,
            "_view_module": "@jupyter-widgets/base",
            "_view_module_version": "1.2.0",
            "_view_name": "LayoutView",
            "align_content": null,
            "align_items": null,
            "align_self": null,
            "border": null,
            "bottom": null,
            "display": null,
            "flex": null,
            "flex_flow": null,
            "grid_area": null,
            "grid_auto_columns": null,
            "grid_auto_flow": null,
            "grid_auto_rows": null,
            "grid_column": null,
            "grid_gap": null,
            "grid_row": null,
            "grid_template_areas": null,
            "grid_template_columns": null,
            "grid_template_rows": null,
            "height": null,
            "justify_content": null,
            "justify_items": null,
            "left": null,
            "margin": null,
            "max_height": null,
            "max_width": null,
            "min_height": null,
            "min_width": null,
            "object_fit": null,
            "object_position": null,
            "order": null,
            "overflow": null,
            "overflow_x": null,
            "overflow_y": null,
            "padding": null,
            "right": null,
            "top": null,
            "visibility": null,
            "width": null
          }
        },
        "9832fc36923f49a29abb9e5c23227c7f": {
          "model_module": "@jupyter-widgets/controls",
          "model_name": "DescriptionStyleModel",
          "model_module_version": "1.5.0",
          "state": {
            "_model_module": "@jupyter-widgets/controls",
            "_model_module_version": "1.5.0",
            "_model_name": "DescriptionStyleModel",
            "_view_count": null,
            "_view_module": "@jupyter-widgets/base",
            "_view_module_version": "1.2.0",
            "_view_name": "StyleView",
            "description_width": ""
          }
        },
        "14df4f41a6ae4df599a457053c97fe4c": {
          "model_module": "@jupyter-widgets/controls",
          "model_name": "HBoxModel",
          "model_module_version": "1.5.0",
          "state": {
            "_dom_classes": [],
            "_model_module": "@jupyter-widgets/controls",
            "_model_module_version": "1.5.0",
            "_model_name": "HBoxModel",
            "_view_count": null,
            "_view_module": "@jupyter-widgets/controls",
            "_view_module_version": "1.5.0",
            "_view_name": "HBoxView",
            "box_style": "",
            "children": [
              "IPY_MODEL_45616326099d4f2aa07092aad1f6cd10",
              "IPY_MODEL_9ec7fdf7324441009315ad66520b5d6a",
              "IPY_MODEL_0d5c8229ef134f18af4de6c432c4b4d3"
            ],
            "layout": "IPY_MODEL_66864483e4684e5bbc777da297a2c60c"
          }
        },
        "45616326099d4f2aa07092aad1f6cd10": {
          "model_module": "@jupyter-widgets/controls",
          "model_name": "HTMLModel",
          "model_module_version": "1.5.0",
          "state": {
            "_dom_classes": [],
            "_model_module": "@jupyter-widgets/controls",
            "_model_module_version": "1.5.0",
            "_model_name": "HTMLModel",
            "_view_count": null,
            "_view_module": "@jupyter-widgets/controls",
            "_view_module_version": "1.5.0",
            "_view_name": "HTMLView",
            "description": "",
            "description_tooltip": null,
            "layout": "IPY_MODEL_2448e3acad4b469da5d66fa39ef4133b",
            "placeholder": "​",
            "style": "IPY_MODEL_bbfaf45c629a4daebe4a19556cb8ca35",
            "value": "special_tokens_map.json: 100%"
          }
        },
        "9ec7fdf7324441009315ad66520b5d6a": {
          "model_module": "@jupyter-widgets/controls",
          "model_name": "FloatProgressModel",
          "model_module_version": "1.5.0",
          "state": {
            "_dom_classes": [],
            "_model_module": "@jupyter-widgets/controls",
            "_model_module_version": "1.5.0",
            "_model_name": "FloatProgressModel",
            "_view_count": null,
            "_view_module": "@jupyter-widgets/controls",
            "_view_module_version": "1.5.0",
            "_view_name": "ProgressView",
            "bar_style": "success",
            "description": "",
            "description_tooltip": null,
            "layout": "IPY_MODEL_a262d9e239054291964c8ab372a5247d",
            "max": 441,
            "min": 0,
            "orientation": "horizontal",
            "style": "IPY_MODEL_ec66a4f3a3684d18a7338fcd6068a8f0",
            "value": 441
          }
        },
        "0d5c8229ef134f18af4de6c432c4b4d3": {
          "model_module": "@jupyter-widgets/controls",
          "model_name": "HTMLModel",
          "model_module_version": "1.5.0",
          "state": {
            "_dom_classes": [],
            "_model_module": "@jupyter-widgets/controls",
            "_model_module_version": "1.5.0",
            "_model_name": "HTMLModel",
            "_view_count": null,
            "_view_module": "@jupyter-widgets/controls",
            "_view_module_version": "1.5.0",
            "_view_name": "HTMLView",
            "description": "",
            "description_tooltip": null,
            "layout": "IPY_MODEL_e2c844fba104452ba809c30da67061b9",
            "placeholder": "​",
            "style": "IPY_MODEL_27139f6592fa4f7490e6de19c8232b98",
            "value": " 441/441 [00:00&lt;00:00, 37.3kB/s]"
          }
        },
        "66864483e4684e5bbc777da297a2c60c": {
          "model_module": "@jupyter-widgets/base",
          "model_name": "LayoutModel",
          "model_module_version": "1.2.0",
          "state": {
            "_model_module": "@jupyter-widgets/base",
            "_model_module_version": "1.2.0",
            "_model_name": "LayoutModel",
            "_view_count": null,
            "_view_module": "@jupyter-widgets/base",
            "_view_module_version": "1.2.0",
            "_view_name": "LayoutView",
            "align_content": null,
            "align_items": null,
            "align_self": null,
            "border": null,
            "bottom": null,
            "display": null,
            "flex": null,
            "flex_flow": null,
            "grid_area": null,
            "grid_auto_columns": null,
            "grid_auto_flow": null,
            "grid_auto_rows": null,
            "grid_column": null,
            "grid_gap": null,
            "grid_row": null,
            "grid_template_areas": null,
            "grid_template_columns": null,
            "grid_template_rows": null,
            "height": null,
            "justify_content": null,
            "justify_items": null,
            "left": null,
            "margin": null,
            "max_height": null,
            "max_width": null,
            "min_height": null,
            "min_width": null,
            "object_fit": null,
            "object_position": null,
            "order": null,
            "overflow": null,
            "overflow_x": null,
            "overflow_y": null,
            "padding": null,
            "right": null,
            "top": null,
            "visibility": null,
            "width": null
          }
        },
        "2448e3acad4b469da5d66fa39ef4133b": {
          "model_module": "@jupyter-widgets/base",
          "model_name": "LayoutModel",
          "model_module_version": "1.2.0",
          "state": {
            "_model_module": "@jupyter-widgets/base",
            "_model_module_version": "1.2.0",
            "_model_name": "LayoutModel",
            "_view_count": null,
            "_view_module": "@jupyter-widgets/base",
            "_view_module_version": "1.2.0",
            "_view_name": "LayoutView",
            "align_content": null,
            "align_items": null,
            "align_self": null,
            "border": null,
            "bottom": null,
            "display": null,
            "flex": null,
            "flex_flow": null,
            "grid_area": null,
            "grid_auto_columns": null,
            "grid_auto_flow": null,
            "grid_auto_rows": null,
            "grid_column": null,
            "grid_gap": null,
            "grid_row": null,
            "grid_template_areas": null,
            "grid_template_columns": null,
            "grid_template_rows": null,
            "height": null,
            "justify_content": null,
            "justify_items": null,
            "left": null,
            "margin": null,
            "max_height": null,
            "max_width": null,
            "min_height": null,
            "min_width": null,
            "object_fit": null,
            "object_position": null,
            "order": null,
            "overflow": null,
            "overflow_x": null,
            "overflow_y": null,
            "padding": null,
            "right": null,
            "top": null,
            "visibility": null,
            "width": null
          }
        },
        "bbfaf45c629a4daebe4a19556cb8ca35": {
          "model_module": "@jupyter-widgets/controls",
          "model_name": "DescriptionStyleModel",
          "model_module_version": "1.5.0",
          "state": {
            "_model_module": "@jupyter-widgets/controls",
            "_model_module_version": "1.5.0",
            "_model_name": "DescriptionStyleModel",
            "_view_count": null,
            "_view_module": "@jupyter-widgets/base",
            "_view_module_version": "1.2.0",
            "_view_name": "StyleView",
            "description_width": ""
          }
        },
        "a262d9e239054291964c8ab372a5247d": {
          "model_module": "@jupyter-widgets/base",
          "model_name": "LayoutModel",
          "model_module_version": "1.2.0",
          "state": {
            "_model_module": "@jupyter-widgets/base",
            "_model_module_version": "1.2.0",
            "_model_name": "LayoutModel",
            "_view_count": null,
            "_view_module": "@jupyter-widgets/base",
            "_view_module_version": "1.2.0",
            "_view_name": "LayoutView",
            "align_content": null,
            "align_items": null,
            "align_self": null,
            "border": null,
            "bottom": null,
            "display": null,
            "flex": null,
            "flex_flow": null,
            "grid_area": null,
            "grid_auto_columns": null,
            "grid_auto_flow": null,
            "grid_auto_rows": null,
            "grid_column": null,
            "grid_gap": null,
            "grid_row": null,
            "grid_template_areas": null,
            "grid_template_columns": null,
            "grid_template_rows": null,
            "height": null,
            "justify_content": null,
            "justify_items": null,
            "left": null,
            "margin": null,
            "max_height": null,
            "max_width": null,
            "min_height": null,
            "min_width": null,
            "object_fit": null,
            "object_position": null,
            "order": null,
            "overflow": null,
            "overflow_x": null,
            "overflow_y": null,
            "padding": null,
            "right": null,
            "top": null,
            "visibility": null,
            "width": null
          }
        },
        "ec66a4f3a3684d18a7338fcd6068a8f0": {
          "model_module": "@jupyter-widgets/controls",
          "model_name": "ProgressStyleModel",
          "model_module_version": "1.5.0",
          "state": {
            "_model_module": "@jupyter-widgets/controls",
            "_model_module_version": "1.5.0",
            "_model_name": "ProgressStyleModel",
            "_view_count": null,
            "_view_module": "@jupyter-widgets/base",
            "_view_module_version": "1.2.0",
            "_view_name": "StyleView",
            "bar_color": null,
            "description_width": ""
          }
        },
        "e2c844fba104452ba809c30da67061b9": {
          "model_module": "@jupyter-widgets/base",
          "model_name": "LayoutModel",
          "model_module_version": "1.2.0",
          "state": {
            "_model_module": "@jupyter-widgets/base",
            "_model_module_version": "1.2.0",
            "_model_name": "LayoutModel",
            "_view_count": null,
            "_view_module": "@jupyter-widgets/base",
            "_view_module_version": "1.2.0",
            "_view_name": "LayoutView",
            "align_content": null,
            "align_items": null,
            "align_self": null,
            "border": null,
            "bottom": null,
            "display": null,
            "flex": null,
            "flex_flow": null,
            "grid_area": null,
            "grid_auto_columns": null,
            "grid_auto_flow": null,
            "grid_auto_rows": null,
            "grid_column": null,
            "grid_gap": null,
            "grid_row": null,
            "grid_template_areas": null,
            "grid_template_columns": null,
            "grid_template_rows": null,
            "height": null,
            "justify_content": null,
            "justify_items": null,
            "left": null,
            "margin": null,
            "max_height": null,
            "max_width": null,
            "min_height": null,
            "min_width": null,
            "object_fit": null,
            "object_position": null,
            "order": null,
            "overflow": null,
            "overflow_x": null,
            "overflow_y": null,
            "padding": null,
            "right": null,
            "top": null,
            "visibility": null,
            "width": null
          }
        },
        "27139f6592fa4f7490e6de19c8232b98": {
          "model_module": "@jupyter-widgets/controls",
          "model_name": "DescriptionStyleModel",
          "model_module_version": "1.5.0",
          "state": {
            "_model_module": "@jupyter-widgets/controls",
            "_model_module_version": "1.5.0",
            "_model_name": "DescriptionStyleModel",
            "_view_count": null,
            "_view_module": "@jupyter-widgets/base",
            "_view_module_version": "1.2.0",
            "_view_name": "StyleView",
            "description_width": ""
          }
        },
        "dff8cd92a4ac45328ea1c58f594fc819": {
          "model_module": "@jupyter-widgets/controls",
          "model_name": "HBoxModel",
          "model_module_version": "1.5.0",
          "state": {
            "_dom_classes": [],
            "_model_module": "@jupyter-widgets/controls",
            "_model_module_version": "1.5.0",
            "_model_name": "HBoxModel",
            "_view_count": null,
            "_view_module": "@jupyter-widgets/controls",
            "_view_module_version": "1.5.0",
            "_view_name": "HBoxView",
            "box_style": "",
            "children": [
              "IPY_MODEL_cb28fd3a050c4b1987c3e7465e9328a0",
              "IPY_MODEL_7ccbc95b264942708fae05977edcc7bd",
              "IPY_MODEL_fc64e4ca19d3404abb0d24ef8f59eee7"
            ],
            "layout": "IPY_MODEL_e4991ba5321943a580b92747b871965e"
          }
        },
        "cb28fd3a050c4b1987c3e7465e9328a0": {
          "model_module": "@jupyter-widgets/controls",
          "model_name": "HTMLModel",
          "model_module_version": "1.5.0",
          "state": {
            "_dom_classes": [],
            "_model_module": "@jupyter-widgets/controls",
            "_model_module_version": "1.5.0",
            "_model_name": "HTMLModel",
            "_view_count": null,
            "_view_module": "@jupyter-widgets/controls",
            "_view_module_version": "1.5.0",
            "_view_name": "HTMLView",
            "description": "",
            "description_tooltip": null,
            "layout": "IPY_MODEL_ed92a85c5fab4c86aa2bc056a68c8c8b",
            "placeholder": "​",
            "style": "IPY_MODEL_389de81ae6c740848753fed7adedd26d",
            "value": "pytorch_model.bin: 100%"
          }
        },
        "7ccbc95b264942708fae05977edcc7bd": {
          "model_module": "@jupyter-widgets/controls",
          "model_name": "FloatProgressModel",
          "model_module_version": "1.5.0",
          "state": {
            "_dom_classes": [],
            "_model_module": "@jupyter-widgets/controls",
            "_model_module_version": "1.5.0",
            "_model_name": "FloatProgressModel",
            "_view_count": null,
            "_view_module": "@jupyter-widgets/controls",
            "_view_module_version": "1.5.0",
            "_view_name": "ProgressView",
            "bar_style": "success",
            "description": "",
            "description_tooltip": null,
            "layout": "IPY_MODEL_40f01a98aa874d43a1838eb2cc22625c",
            "max": 250540281,
            "min": 0,
            "orientation": "horizontal",
            "style": "IPY_MODEL_b68445e7fd884fcc811aad70abb01aa4",
            "value": 250540281
          }
        },
        "fc64e4ca19d3404abb0d24ef8f59eee7": {
          "model_module": "@jupyter-widgets/controls",
          "model_name": "HTMLModel",
          "model_module_version": "1.5.0",
          "state": {
            "_dom_classes": [],
            "_model_module": "@jupyter-widgets/controls",
            "_model_module_version": "1.5.0",
            "_model_name": "HTMLModel",
            "_view_count": null,
            "_view_module": "@jupyter-widgets/controls",
            "_view_module_version": "1.5.0",
            "_view_name": "HTMLView",
            "description": "",
            "description_tooltip": null,
            "layout": "IPY_MODEL_d25cbe0fcd3f4d28990acfe044ad33a1",
            "placeholder": "​",
            "style": "IPY_MODEL_ab5fced3e257446c9145638b34b1d5e9",
            "value": " 251M/251M [00:01&lt;00:00, 140MB/s]"
          }
        },
        "e4991ba5321943a580b92747b871965e": {
          "model_module": "@jupyter-widgets/base",
          "model_name": "LayoutModel",
          "model_module_version": "1.2.0",
          "state": {
            "_model_module": "@jupyter-widgets/base",
            "_model_module_version": "1.2.0",
            "_model_name": "LayoutModel",
            "_view_count": null,
            "_view_module": "@jupyter-widgets/base",
            "_view_module_version": "1.2.0",
            "_view_name": "LayoutView",
            "align_content": null,
            "align_items": null,
            "align_self": null,
            "border": null,
            "bottom": null,
            "display": null,
            "flex": null,
            "flex_flow": null,
            "grid_area": null,
            "grid_auto_columns": null,
            "grid_auto_flow": null,
            "grid_auto_rows": null,
            "grid_column": null,
            "grid_gap": null,
            "grid_row": null,
            "grid_template_areas": null,
            "grid_template_columns": null,
            "grid_template_rows": null,
            "height": null,
            "justify_content": null,
            "justify_items": null,
            "left": null,
            "margin": null,
            "max_height": null,
            "max_width": null,
            "min_height": null,
            "min_width": null,
            "object_fit": null,
            "object_position": null,
            "order": null,
            "overflow": null,
            "overflow_x": null,
            "overflow_y": null,
            "padding": null,
            "right": null,
            "top": null,
            "visibility": null,
            "width": null
          }
        },
        "ed92a85c5fab4c86aa2bc056a68c8c8b": {
          "model_module": "@jupyter-widgets/base",
          "model_name": "LayoutModel",
          "model_module_version": "1.2.0",
          "state": {
            "_model_module": "@jupyter-widgets/base",
            "_model_module_version": "1.2.0",
            "_model_name": "LayoutModel",
            "_view_count": null,
            "_view_module": "@jupyter-widgets/base",
            "_view_module_version": "1.2.0",
            "_view_name": "LayoutView",
            "align_content": null,
            "align_items": null,
            "align_self": null,
            "border": null,
            "bottom": null,
            "display": null,
            "flex": null,
            "flex_flow": null,
            "grid_area": null,
            "grid_auto_columns": null,
            "grid_auto_flow": null,
            "grid_auto_rows": null,
            "grid_column": null,
            "grid_gap": null,
            "grid_row": null,
            "grid_template_areas": null,
            "grid_template_columns": null,
            "grid_template_rows": null,
            "height": null,
            "justify_content": null,
            "justify_items": null,
            "left": null,
            "margin": null,
            "max_height": null,
            "max_width": null,
            "min_height": null,
            "min_width": null,
            "object_fit": null,
            "object_position": null,
            "order": null,
            "overflow": null,
            "overflow_x": null,
            "overflow_y": null,
            "padding": null,
            "right": null,
            "top": null,
            "visibility": null,
            "width": null
          }
        },
        "389de81ae6c740848753fed7adedd26d": {
          "model_module": "@jupyter-widgets/controls",
          "model_name": "DescriptionStyleModel",
          "model_module_version": "1.5.0",
          "state": {
            "_model_module": "@jupyter-widgets/controls",
            "_model_module_version": "1.5.0",
            "_model_name": "DescriptionStyleModel",
            "_view_count": null,
            "_view_module": "@jupyter-widgets/base",
            "_view_module_version": "1.2.0",
            "_view_name": "StyleView",
            "description_width": ""
          }
        },
        "40f01a98aa874d43a1838eb2cc22625c": {
          "model_module": "@jupyter-widgets/base",
          "model_name": "LayoutModel",
          "model_module_version": "1.2.0",
          "state": {
            "_model_module": "@jupyter-widgets/base",
            "_model_module_version": "1.2.0",
            "_model_name": "LayoutModel",
            "_view_count": null,
            "_view_module": "@jupyter-widgets/base",
            "_view_module_version": "1.2.0",
            "_view_name": "LayoutView",
            "align_content": null,
            "align_items": null,
            "align_self": null,
            "border": null,
            "bottom": null,
            "display": null,
            "flex": null,
            "flex_flow": null,
            "grid_area": null,
            "grid_auto_columns": null,
            "grid_auto_flow": null,
            "grid_auto_rows": null,
            "grid_column": null,
            "grid_gap": null,
            "grid_row": null,
            "grid_template_areas": null,
            "grid_template_columns": null,
            "grid_template_rows": null,
            "height": null,
            "justify_content": null,
            "justify_items": null,
            "left": null,
            "margin": null,
            "max_height": null,
            "max_width": null,
            "min_height": null,
            "min_width": null,
            "object_fit": null,
            "object_position": null,
            "order": null,
            "overflow": null,
            "overflow_x": null,
            "overflow_y": null,
            "padding": null,
            "right": null,
            "top": null,
            "visibility": null,
            "width": null
          }
        },
        "b68445e7fd884fcc811aad70abb01aa4": {
          "model_module": "@jupyter-widgets/controls",
          "model_name": "ProgressStyleModel",
          "model_module_version": "1.5.0",
          "state": {
            "_model_module": "@jupyter-widgets/controls",
            "_model_module_version": "1.5.0",
            "_model_name": "ProgressStyleModel",
            "_view_count": null,
            "_view_module": "@jupyter-widgets/base",
            "_view_module_version": "1.2.0",
            "_view_name": "StyleView",
            "bar_color": null,
            "description_width": ""
          }
        },
        "d25cbe0fcd3f4d28990acfe044ad33a1": {
          "model_module": "@jupyter-widgets/base",
          "model_name": "LayoutModel",
          "model_module_version": "1.2.0",
          "state": {
            "_model_module": "@jupyter-widgets/base",
            "_model_module_version": "1.2.0",
            "_model_name": "LayoutModel",
            "_view_count": null,
            "_view_module": "@jupyter-widgets/base",
            "_view_module_version": "1.2.0",
            "_view_name": "LayoutView",
            "align_content": null,
            "align_items": null,
            "align_self": null,
            "border": null,
            "bottom": null,
            "display": null,
            "flex": null,
            "flex_flow": null,
            "grid_area": null,
            "grid_auto_columns": null,
            "grid_auto_flow": null,
            "grid_auto_rows": null,
            "grid_column": null,
            "grid_gap": null,
            "grid_row": null,
            "grid_template_areas": null,
            "grid_template_columns": null,
            "grid_template_rows": null,
            "height": null,
            "justify_content": null,
            "justify_items": null,
            "left": null,
            "margin": null,
            "max_height": null,
            "max_width": null,
            "min_height": null,
            "min_width": null,
            "object_fit": null,
            "object_position": null,
            "order": null,
            "overflow": null,
            "overflow_x": null,
            "overflow_y": null,
            "padding": null,
            "right": null,
            "top": null,
            "visibility": null,
            "width": null
          }
        },
        "ab5fced3e257446c9145638b34b1d5e9": {
          "model_module": "@jupyter-widgets/controls",
          "model_name": "DescriptionStyleModel",
          "model_module_version": "1.5.0",
          "state": {
            "_model_module": "@jupyter-widgets/controls",
            "_model_module_version": "1.5.0",
            "_model_name": "DescriptionStyleModel",
            "_view_count": null,
            "_view_module": "@jupyter-widgets/base",
            "_view_module_version": "1.2.0",
            "_view_name": "StyleView",
            "description_width": ""
          }
        },
        "8955450ef2674e78bfd689afb4985297": {
          "model_module": "@jupyter-widgets/controls",
          "model_name": "HBoxModel",
          "model_module_version": "1.5.0",
          "state": {
            "_dom_classes": [],
            "_model_module": "@jupyter-widgets/controls",
            "_model_module_version": "1.5.0",
            "_model_name": "HBoxModel",
            "_view_count": null,
            "_view_module": "@jupyter-widgets/controls",
            "_view_module_version": "1.5.0",
            "_view_name": "HBoxView",
            "box_style": "",
            "children": [
              "IPY_MODEL_d9309d7dc8e0466a87ea0154922af49b",
              "IPY_MODEL_1dbcdc9422b74d13b2f3412d42cf8a5e",
              "IPY_MODEL_b3344ff31a73421c932770a8840202b7"
            ],
            "layout": "IPY_MODEL_f6c1e260edb2479e98ae11e44fdf5645"
          }
        },
        "d9309d7dc8e0466a87ea0154922af49b": {
          "model_module": "@jupyter-widgets/controls",
          "model_name": "HTMLModel",
          "model_module_version": "1.5.0",
          "state": {
            "_dom_classes": [],
            "_model_module": "@jupyter-widgets/controls",
            "_model_module_version": "1.5.0",
            "_model_name": "HTMLModel",
            "_view_count": null,
            "_view_module": "@jupyter-widgets/controls",
            "_view_module_version": "1.5.0",
            "_view_name": "HTMLView",
            "description": "",
            "description_tooltip": null,
            "layout": "IPY_MODEL_fe3f200b3ecc4ec5862f6bcf4766acd6",
            "placeholder": "​",
            "style": "IPY_MODEL_d78a6a26abc4490fbafa25fa4556413d",
            "value": "Map: 100%"
          }
        },
        "1dbcdc9422b74d13b2f3412d42cf8a5e": {
          "model_module": "@jupyter-widgets/controls",
          "model_name": "FloatProgressModel",
          "model_module_version": "1.5.0",
          "state": {
            "_dom_classes": [],
            "_model_module": "@jupyter-widgets/controls",
            "_model_module_version": "1.5.0",
            "_model_name": "FloatProgressModel",
            "_view_count": null,
            "_view_module": "@jupyter-widgets/controls",
            "_view_module_version": "1.5.0",
            "_view_name": "ProgressView",
            "bar_style": "success",
            "description": "",
            "description_tooltip": null,
            "layout": "IPY_MODEL_6bc2fa6d3b9d41319dbc4ba35c51ac8a",
            "max": 8551,
            "min": 0,
            "orientation": "horizontal",
            "style": "IPY_MODEL_9590b1c8bfe74b0cb947900b91ef8704",
            "value": 8551
          }
        },
        "b3344ff31a73421c932770a8840202b7": {
          "model_module": "@jupyter-widgets/controls",
          "model_name": "HTMLModel",
          "model_module_version": "1.5.0",
          "state": {
            "_dom_classes": [],
            "_model_module": "@jupyter-widgets/controls",
            "_model_module_version": "1.5.0",
            "_model_name": "HTMLModel",
            "_view_count": null,
            "_view_module": "@jupyter-widgets/controls",
            "_view_module_version": "1.5.0",
            "_view_name": "HTMLView",
            "description": "",
            "description_tooltip": null,
            "layout": "IPY_MODEL_bd8c2d1741454a35900bbda4cab83a87",
            "placeholder": "​",
            "style": "IPY_MODEL_db6e412c2ca642b088627cc882dc7151",
            "value": " 8551/8551 [00:01&lt;00:00, 10616.74 examples/s]"
          }
        },
        "f6c1e260edb2479e98ae11e44fdf5645": {
          "model_module": "@jupyter-widgets/base",
          "model_name": "LayoutModel",
          "model_module_version": "1.2.0",
          "state": {
            "_model_module": "@jupyter-widgets/base",
            "_model_module_version": "1.2.0",
            "_model_name": "LayoutModel",
            "_view_count": null,
            "_view_module": "@jupyter-widgets/base",
            "_view_module_version": "1.2.0",
            "_view_name": "LayoutView",
            "align_content": null,
            "align_items": null,
            "align_self": null,
            "border": null,
            "bottom": null,
            "display": null,
            "flex": null,
            "flex_flow": null,
            "grid_area": null,
            "grid_auto_columns": null,
            "grid_auto_flow": null,
            "grid_auto_rows": null,
            "grid_column": null,
            "grid_gap": null,
            "grid_row": null,
            "grid_template_areas": null,
            "grid_template_columns": null,
            "grid_template_rows": null,
            "height": null,
            "justify_content": null,
            "justify_items": null,
            "left": null,
            "margin": null,
            "max_height": null,
            "max_width": null,
            "min_height": null,
            "min_width": null,
            "object_fit": null,
            "object_position": null,
            "order": null,
            "overflow": null,
            "overflow_x": null,
            "overflow_y": null,
            "padding": null,
            "right": null,
            "top": null,
            "visibility": null,
            "width": null
          }
        },
        "fe3f200b3ecc4ec5862f6bcf4766acd6": {
          "model_module": "@jupyter-widgets/base",
          "model_name": "LayoutModel",
          "model_module_version": "1.2.0",
          "state": {
            "_model_module": "@jupyter-widgets/base",
            "_model_module_version": "1.2.0",
            "_model_name": "LayoutModel",
            "_view_count": null,
            "_view_module": "@jupyter-widgets/base",
            "_view_module_version": "1.2.0",
            "_view_name": "LayoutView",
            "align_content": null,
            "align_items": null,
            "align_self": null,
            "border": null,
            "bottom": null,
            "display": null,
            "flex": null,
            "flex_flow": null,
            "grid_area": null,
            "grid_auto_columns": null,
            "grid_auto_flow": null,
            "grid_auto_rows": null,
            "grid_column": null,
            "grid_gap": null,
            "grid_row": null,
            "grid_template_areas": null,
            "grid_template_columns": null,
            "grid_template_rows": null,
            "height": null,
            "justify_content": null,
            "justify_items": null,
            "left": null,
            "margin": null,
            "max_height": null,
            "max_width": null,
            "min_height": null,
            "min_width": null,
            "object_fit": null,
            "object_position": null,
            "order": null,
            "overflow": null,
            "overflow_x": null,
            "overflow_y": null,
            "padding": null,
            "right": null,
            "top": null,
            "visibility": null,
            "width": null
          }
        },
        "d78a6a26abc4490fbafa25fa4556413d": {
          "model_module": "@jupyter-widgets/controls",
          "model_name": "DescriptionStyleModel",
          "model_module_version": "1.5.0",
          "state": {
            "_model_module": "@jupyter-widgets/controls",
            "_model_module_version": "1.5.0",
            "_model_name": "DescriptionStyleModel",
            "_view_count": null,
            "_view_module": "@jupyter-widgets/base",
            "_view_module_version": "1.2.0",
            "_view_name": "StyleView",
            "description_width": ""
          }
        },
        "6bc2fa6d3b9d41319dbc4ba35c51ac8a": {
          "model_module": "@jupyter-widgets/base",
          "model_name": "LayoutModel",
          "model_module_version": "1.2.0",
          "state": {
            "_model_module": "@jupyter-widgets/base",
            "_model_module_version": "1.2.0",
            "_model_name": "LayoutModel",
            "_view_count": null,
            "_view_module": "@jupyter-widgets/base",
            "_view_module_version": "1.2.0",
            "_view_name": "LayoutView",
            "align_content": null,
            "align_items": null,
            "align_self": null,
            "border": null,
            "bottom": null,
            "display": null,
            "flex": null,
            "flex_flow": null,
            "grid_area": null,
            "grid_auto_columns": null,
            "grid_auto_flow": null,
            "grid_auto_rows": null,
            "grid_column": null,
            "grid_gap": null,
            "grid_row": null,
            "grid_template_areas": null,
            "grid_template_columns": null,
            "grid_template_rows": null,
            "height": null,
            "justify_content": null,
            "justify_items": null,
            "left": null,
            "margin": null,
            "max_height": null,
            "max_width": null,
            "min_height": null,
            "min_width": null,
            "object_fit": null,
            "object_position": null,
            "order": null,
            "overflow": null,
            "overflow_x": null,
            "overflow_y": null,
            "padding": null,
            "right": null,
            "top": null,
            "visibility": null,
            "width": null
          }
        },
        "9590b1c8bfe74b0cb947900b91ef8704": {
          "model_module": "@jupyter-widgets/controls",
          "model_name": "ProgressStyleModel",
          "model_module_version": "1.5.0",
          "state": {
            "_model_module": "@jupyter-widgets/controls",
            "_model_module_version": "1.5.0",
            "_model_name": "ProgressStyleModel",
            "_view_count": null,
            "_view_module": "@jupyter-widgets/base",
            "_view_module_version": "1.2.0",
            "_view_name": "StyleView",
            "bar_color": null,
            "description_width": ""
          }
        },
        "bd8c2d1741454a35900bbda4cab83a87": {
          "model_module": "@jupyter-widgets/base",
          "model_name": "LayoutModel",
          "model_module_version": "1.2.0",
          "state": {
            "_model_module": "@jupyter-widgets/base",
            "_model_module_version": "1.2.0",
            "_model_name": "LayoutModel",
            "_view_count": null,
            "_view_module": "@jupyter-widgets/base",
            "_view_module_version": "1.2.0",
            "_view_name": "LayoutView",
            "align_content": null,
            "align_items": null,
            "align_self": null,
            "border": null,
            "bottom": null,
            "display": null,
            "flex": null,
            "flex_flow": null,
            "grid_area": null,
            "grid_auto_columns": null,
            "grid_auto_flow": null,
            "grid_auto_rows": null,
            "grid_column": null,
            "grid_gap": null,
            "grid_row": null,
            "grid_template_areas": null,
            "grid_template_columns": null,
            "grid_template_rows": null,
            "height": null,
            "justify_content": null,
            "justify_items": null,
            "left": null,
            "margin": null,
            "max_height": null,
            "max_width": null,
            "min_height": null,
            "min_width": null,
            "object_fit": null,
            "object_position": null,
            "order": null,
            "overflow": null,
            "overflow_x": null,
            "overflow_y": null,
            "padding": null,
            "right": null,
            "top": null,
            "visibility": null,
            "width": null
          }
        },
        "db6e412c2ca642b088627cc882dc7151": {
          "model_module": "@jupyter-widgets/controls",
          "model_name": "DescriptionStyleModel",
          "model_module_version": "1.5.0",
          "state": {
            "_model_module": "@jupyter-widgets/controls",
            "_model_module_version": "1.5.0",
            "_model_name": "DescriptionStyleModel",
            "_view_count": null,
            "_view_module": "@jupyter-widgets/base",
            "_view_module_version": "1.2.0",
            "_view_name": "StyleView",
            "description_width": ""
          }
        },
        "607bc087b62a4c9885bf67dc23b41782": {
          "model_module": "@jupyter-widgets/controls",
          "model_name": "HBoxModel",
          "model_module_version": "1.5.0",
          "state": {
            "_dom_classes": [],
            "_model_module": "@jupyter-widgets/controls",
            "_model_module_version": "1.5.0",
            "_model_name": "HBoxModel",
            "_view_count": null,
            "_view_module": "@jupyter-widgets/controls",
            "_view_module_version": "1.5.0",
            "_view_name": "HBoxView",
            "box_style": "",
            "children": [
              "IPY_MODEL_ad3272c08c5843248490150934fc40ff",
              "IPY_MODEL_44444963de4e42b4830b4aeb856a8bb7",
              "IPY_MODEL_f136d5fa48b34a39bfc7cfccc170228f"
            ],
            "layout": "IPY_MODEL_01e2f650afb846dfb98479c527a8717e"
          }
        },
        "ad3272c08c5843248490150934fc40ff": {
          "model_module": "@jupyter-widgets/controls",
          "model_name": "HTMLModel",
          "model_module_version": "1.5.0",
          "state": {
            "_dom_classes": [],
            "_model_module": "@jupyter-widgets/controls",
            "_model_module_version": "1.5.0",
            "_model_name": "HTMLModel",
            "_view_count": null,
            "_view_module": "@jupyter-widgets/controls",
            "_view_module_version": "1.5.0",
            "_view_name": "HTMLView",
            "description": "",
            "description_tooltip": null,
            "layout": "IPY_MODEL_a6ef829a9790423a83709812e12c87bf",
            "placeholder": "​",
            "style": "IPY_MODEL_2a0dca2976204427bd39554132a964c6",
            "value": "Map: 100%"
          }
        },
        "44444963de4e42b4830b4aeb856a8bb7": {
          "model_module": "@jupyter-widgets/controls",
          "model_name": "FloatProgressModel",
          "model_module_version": "1.5.0",
          "state": {
            "_dom_classes": [],
            "_model_module": "@jupyter-widgets/controls",
            "_model_module_version": "1.5.0",
            "_model_name": "FloatProgressModel",
            "_view_count": null,
            "_view_module": "@jupyter-widgets/controls",
            "_view_module_version": "1.5.0",
            "_view_name": "ProgressView",
            "bar_style": "success",
            "description": "",
            "description_tooltip": null,
            "layout": "IPY_MODEL_1921276150604ca69701dac9ecdc9082",
            "max": 1043,
            "min": 0,
            "orientation": "horizontal",
            "style": "IPY_MODEL_701a5a267cc04f8fa403ff171455dcca",
            "value": 1043
          }
        },
        "f136d5fa48b34a39bfc7cfccc170228f": {
          "model_module": "@jupyter-widgets/controls",
          "model_name": "HTMLModel",
          "model_module_version": "1.5.0",
          "state": {
            "_dom_classes": [],
            "_model_module": "@jupyter-widgets/controls",
            "_model_module_version": "1.5.0",
            "_model_name": "HTMLModel",
            "_view_count": null,
            "_view_module": "@jupyter-widgets/controls",
            "_view_module_version": "1.5.0",
            "_view_name": "HTMLView",
            "description": "",
            "description_tooltip": null,
            "layout": "IPY_MODEL_3cebabf9de7344c4b382345f15dbbe36",
            "placeholder": "​",
            "style": "IPY_MODEL_6517608fa6d143da8460db91a7d96f88",
            "value": " 1043/1043 [00:00&lt;00:00, 9682.92 examples/s]"
          }
        },
        "01e2f650afb846dfb98479c527a8717e": {
          "model_module": "@jupyter-widgets/base",
          "model_name": "LayoutModel",
          "model_module_version": "1.2.0",
          "state": {
            "_model_module": "@jupyter-widgets/base",
            "_model_module_version": "1.2.0",
            "_model_name": "LayoutModel",
            "_view_count": null,
            "_view_module": "@jupyter-widgets/base",
            "_view_module_version": "1.2.0",
            "_view_name": "LayoutView",
            "align_content": null,
            "align_items": null,
            "align_self": null,
            "border": null,
            "bottom": null,
            "display": null,
            "flex": null,
            "flex_flow": null,
            "grid_area": null,
            "grid_auto_columns": null,
            "grid_auto_flow": null,
            "grid_auto_rows": null,
            "grid_column": null,
            "grid_gap": null,
            "grid_row": null,
            "grid_template_areas": null,
            "grid_template_columns": null,
            "grid_template_rows": null,
            "height": null,
            "justify_content": null,
            "justify_items": null,
            "left": null,
            "margin": null,
            "max_height": null,
            "max_width": null,
            "min_height": null,
            "min_width": null,
            "object_fit": null,
            "object_position": null,
            "order": null,
            "overflow": null,
            "overflow_x": null,
            "overflow_y": null,
            "padding": null,
            "right": null,
            "top": null,
            "visibility": null,
            "width": null
          }
        },
        "a6ef829a9790423a83709812e12c87bf": {
          "model_module": "@jupyter-widgets/base",
          "model_name": "LayoutModel",
          "model_module_version": "1.2.0",
          "state": {
            "_model_module": "@jupyter-widgets/base",
            "_model_module_version": "1.2.0",
            "_model_name": "LayoutModel",
            "_view_count": null,
            "_view_module": "@jupyter-widgets/base",
            "_view_module_version": "1.2.0",
            "_view_name": "LayoutView",
            "align_content": null,
            "align_items": null,
            "align_self": null,
            "border": null,
            "bottom": null,
            "display": null,
            "flex": null,
            "flex_flow": null,
            "grid_area": null,
            "grid_auto_columns": null,
            "grid_auto_flow": null,
            "grid_auto_rows": null,
            "grid_column": null,
            "grid_gap": null,
            "grid_row": null,
            "grid_template_areas": null,
            "grid_template_columns": null,
            "grid_template_rows": null,
            "height": null,
            "justify_content": null,
            "justify_items": null,
            "left": null,
            "margin": null,
            "max_height": null,
            "max_width": null,
            "min_height": null,
            "min_width": null,
            "object_fit": null,
            "object_position": null,
            "order": null,
            "overflow": null,
            "overflow_x": null,
            "overflow_y": null,
            "padding": null,
            "right": null,
            "top": null,
            "visibility": null,
            "width": null
          }
        },
        "2a0dca2976204427bd39554132a964c6": {
          "model_module": "@jupyter-widgets/controls",
          "model_name": "DescriptionStyleModel",
          "model_module_version": "1.5.0",
          "state": {
            "_model_module": "@jupyter-widgets/controls",
            "_model_module_version": "1.5.0",
            "_model_name": "DescriptionStyleModel",
            "_view_count": null,
            "_view_module": "@jupyter-widgets/base",
            "_view_module_version": "1.2.0",
            "_view_name": "StyleView",
            "description_width": ""
          }
        },
        "1921276150604ca69701dac9ecdc9082": {
          "model_module": "@jupyter-widgets/base",
          "model_name": "LayoutModel",
          "model_module_version": "1.2.0",
          "state": {
            "_model_module": "@jupyter-widgets/base",
            "_model_module_version": "1.2.0",
            "_model_name": "LayoutModel",
            "_view_count": null,
            "_view_module": "@jupyter-widgets/base",
            "_view_module_version": "1.2.0",
            "_view_name": "LayoutView",
            "align_content": null,
            "align_items": null,
            "align_self": null,
            "border": null,
            "bottom": null,
            "display": null,
            "flex": null,
            "flex_flow": null,
            "grid_area": null,
            "grid_auto_columns": null,
            "grid_auto_flow": null,
            "grid_auto_rows": null,
            "grid_column": null,
            "grid_gap": null,
            "grid_row": null,
            "grid_template_areas": null,
            "grid_template_columns": null,
            "grid_template_rows": null,
            "height": null,
            "justify_content": null,
            "justify_items": null,
            "left": null,
            "margin": null,
            "max_height": null,
            "max_width": null,
            "min_height": null,
            "min_width": null,
            "object_fit": null,
            "object_position": null,
            "order": null,
            "overflow": null,
            "overflow_x": null,
            "overflow_y": null,
            "padding": null,
            "right": null,
            "top": null,
            "visibility": null,
            "width": null
          }
        },
        "701a5a267cc04f8fa403ff171455dcca": {
          "model_module": "@jupyter-widgets/controls",
          "model_name": "ProgressStyleModel",
          "model_module_version": "1.5.0",
          "state": {
            "_model_module": "@jupyter-widgets/controls",
            "_model_module_version": "1.5.0",
            "_model_name": "ProgressStyleModel",
            "_view_count": null,
            "_view_module": "@jupyter-widgets/base",
            "_view_module_version": "1.2.0",
            "_view_name": "StyleView",
            "bar_color": null,
            "description_width": ""
          }
        },
        "3cebabf9de7344c4b382345f15dbbe36": {
          "model_module": "@jupyter-widgets/base",
          "model_name": "LayoutModel",
          "model_module_version": "1.2.0",
          "state": {
            "_model_module": "@jupyter-widgets/base",
            "_model_module_version": "1.2.0",
            "_model_name": "LayoutModel",
            "_view_count": null,
            "_view_module": "@jupyter-widgets/base",
            "_view_module_version": "1.2.0",
            "_view_name": "LayoutView",
            "align_content": null,
            "align_items": null,
            "align_self": null,
            "border": null,
            "bottom": null,
            "display": null,
            "flex": null,
            "flex_flow": null,
            "grid_area": null,
            "grid_auto_columns": null,
            "grid_auto_flow": null,
            "grid_auto_rows": null,
            "grid_column": null,
            "grid_gap": null,
            "grid_row": null,
            "grid_template_areas": null,
            "grid_template_columns": null,
            "grid_template_rows": null,
            "height": null,
            "justify_content": null,
            "justify_items": null,
            "left": null,
            "margin": null,
            "max_height": null,
            "max_width": null,
            "min_height": null,
            "min_width": null,
            "object_fit": null,
            "object_position": null,
            "order": null,
            "overflow": null,
            "overflow_x": null,
            "overflow_y": null,
            "padding": null,
            "right": null,
            "top": null,
            "visibility": null,
            "width": null
          }
        },
        "6517608fa6d143da8460db91a7d96f88": {
          "model_module": "@jupyter-widgets/controls",
          "model_name": "DescriptionStyleModel",
          "model_module_version": "1.5.0",
          "state": {
            "_model_module": "@jupyter-widgets/controls",
            "_model_module_version": "1.5.0",
            "_model_name": "DescriptionStyleModel",
            "_view_count": null,
            "_view_module": "@jupyter-widgets/base",
            "_view_module_version": "1.2.0",
            "_view_name": "StyleView",
            "description_width": ""
          }
        },
        "79bc73ca109e4aea9c64209231df59e5": {
          "model_module": "@jupyter-widgets/controls",
          "model_name": "HBoxModel",
          "model_module_version": "1.5.0",
          "state": {
            "_dom_classes": [],
            "_model_module": "@jupyter-widgets/controls",
            "_model_module_version": "1.5.0",
            "_model_name": "HBoxModel",
            "_view_count": null,
            "_view_module": "@jupyter-widgets/controls",
            "_view_module_version": "1.5.0",
            "_view_name": "HBoxView",
            "box_style": "",
            "children": [
              "IPY_MODEL_46fabeee56c84a8d82270d5c80839c85",
              "IPY_MODEL_f82c746081f74409aabd176063a62139",
              "IPY_MODEL_44ff8461dc3d4e7a8987bf391ef0ba64"
            ],
            "layout": "IPY_MODEL_6385b75ceb53488e8b526f056f4ca245"
          }
        },
        "46fabeee56c84a8d82270d5c80839c85": {
          "model_module": "@jupyter-widgets/controls",
          "model_name": "HTMLModel",
          "model_module_version": "1.5.0",
          "state": {
            "_dom_classes": [],
            "_model_module": "@jupyter-widgets/controls",
            "_model_module_version": "1.5.0",
            "_model_name": "HTMLModel",
            "_view_count": null,
            "_view_module": "@jupyter-widgets/controls",
            "_view_module_version": "1.5.0",
            "_view_name": "HTMLView",
            "description": "",
            "description_tooltip": null,
            "layout": "IPY_MODEL_36ab9bfdff3d44d5941977a398bf2875",
            "placeholder": "​",
            "style": "IPY_MODEL_397e9bfe3f6644aea4f5ced5a0dd14d9",
            "value": "Map: 100%"
          }
        },
        "f82c746081f74409aabd176063a62139": {
          "model_module": "@jupyter-widgets/controls",
          "model_name": "FloatProgressModel",
          "model_module_version": "1.5.0",
          "state": {
            "_dom_classes": [],
            "_model_module": "@jupyter-widgets/controls",
            "_model_module_version": "1.5.0",
            "_model_name": "FloatProgressModel",
            "_view_count": null,
            "_view_module": "@jupyter-widgets/controls",
            "_view_module_version": "1.5.0",
            "_view_name": "ProgressView",
            "bar_style": "success",
            "description": "",
            "description_tooltip": null,
            "layout": "IPY_MODEL_075a6f8465234ffc88195ce5954b8b72",
            "max": 1063,
            "min": 0,
            "orientation": "horizontal",
            "style": "IPY_MODEL_be8098febd58491c957c2b1209a5876f",
            "value": 1063
          }
        },
        "44ff8461dc3d4e7a8987bf391ef0ba64": {
          "model_module": "@jupyter-widgets/controls",
          "model_name": "HTMLModel",
          "model_module_version": "1.5.0",
          "state": {
            "_dom_classes": [],
            "_model_module": "@jupyter-widgets/controls",
            "_model_module_version": "1.5.0",
            "_model_name": "HTMLModel",
            "_view_count": null,
            "_view_module": "@jupyter-widgets/controls",
            "_view_module_version": "1.5.0",
            "_view_name": "HTMLView",
            "description": "",
            "description_tooltip": null,
            "layout": "IPY_MODEL_ce705203531c46aeac762dbf157ff770",
            "placeholder": "​",
            "style": "IPY_MODEL_db11852d787e47569331bb2e1c3f81ba",
            "value": " 1063/1063 [00:00&lt;00:00, 11246.74 examples/s]"
          }
        },
        "6385b75ceb53488e8b526f056f4ca245": {
          "model_module": "@jupyter-widgets/base",
          "model_name": "LayoutModel",
          "model_module_version": "1.2.0",
          "state": {
            "_model_module": "@jupyter-widgets/base",
            "_model_module_version": "1.2.0",
            "_model_name": "LayoutModel",
            "_view_count": null,
            "_view_module": "@jupyter-widgets/base",
            "_view_module_version": "1.2.0",
            "_view_name": "LayoutView",
            "align_content": null,
            "align_items": null,
            "align_self": null,
            "border": null,
            "bottom": null,
            "display": null,
            "flex": null,
            "flex_flow": null,
            "grid_area": null,
            "grid_auto_columns": null,
            "grid_auto_flow": null,
            "grid_auto_rows": null,
            "grid_column": null,
            "grid_gap": null,
            "grid_row": null,
            "grid_template_areas": null,
            "grid_template_columns": null,
            "grid_template_rows": null,
            "height": null,
            "justify_content": null,
            "justify_items": null,
            "left": null,
            "margin": null,
            "max_height": null,
            "max_width": null,
            "min_height": null,
            "min_width": null,
            "object_fit": null,
            "object_position": null,
            "order": null,
            "overflow": null,
            "overflow_x": null,
            "overflow_y": null,
            "padding": null,
            "right": null,
            "top": null,
            "visibility": null,
            "width": null
          }
        },
        "36ab9bfdff3d44d5941977a398bf2875": {
          "model_module": "@jupyter-widgets/base",
          "model_name": "LayoutModel",
          "model_module_version": "1.2.0",
          "state": {
            "_model_module": "@jupyter-widgets/base",
            "_model_module_version": "1.2.0",
            "_model_name": "LayoutModel",
            "_view_count": null,
            "_view_module": "@jupyter-widgets/base",
            "_view_module_version": "1.2.0",
            "_view_name": "LayoutView",
            "align_content": null,
            "align_items": null,
            "align_self": null,
            "border": null,
            "bottom": null,
            "display": null,
            "flex": null,
            "flex_flow": null,
            "grid_area": null,
            "grid_auto_columns": null,
            "grid_auto_flow": null,
            "grid_auto_rows": null,
            "grid_column": null,
            "grid_gap": null,
            "grid_row": null,
            "grid_template_areas": null,
            "grid_template_columns": null,
            "grid_template_rows": null,
            "height": null,
            "justify_content": null,
            "justify_items": null,
            "left": null,
            "margin": null,
            "max_height": null,
            "max_width": null,
            "min_height": null,
            "min_width": null,
            "object_fit": null,
            "object_position": null,
            "order": null,
            "overflow": null,
            "overflow_x": null,
            "overflow_y": null,
            "padding": null,
            "right": null,
            "top": null,
            "visibility": null,
            "width": null
          }
        },
        "397e9bfe3f6644aea4f5ced5a0dd14d9": {
          "model_module": "@jupyter-widgets/controls",
          "model_name": "DescriptionStyleModel",
          "model_module_version": "1.5.0",
          "state": {
            "_model_module": "@jupyter-widgets/controls",
            "_model_module_version": "1.5.0",
            "_model_name": "DescriptionStyleModel",
            "_view_count": null,
            "_view_module": "@jupyter-widgets/base",
            "_view_module_version": "1.2.0",
            "_view_name": "StyleView",
            "description_width": ""
          }
        },
        "075a6f8465234ffc88195ce5954b8b72": {
          "model_module": "@jupyter-widgets/base",
          "model_name": "LayoutModel",
          "model_module_version": "1.2.0",
          "state": {
            "_model_module": "@jupyter-widgets/base",
            "_model_module_version": "1.2.0",
            "_model_name": "LayoutModel",
            "_view_count": null,
            "_view_module": "@jupyter-widgets/base",
            "_view_module_version": "1.2.0",
            "_view_name": "LayoutView",
            "align_content": null,
            "align_items": null,
            "align_self": null,
            "border": null,
            "bottom": null,
            "display": null,
            "flex": null,
            "flex_flow": null,
            "grid_area": null,
            "grid_auto_columns": null,
            "grid_auto_flow": null,
            "grid_auto_rows": null,
            "grid_column": null,
            "grid_gap": null,
            "grid_row": null,
            "grid_template_areas": null,
            "grid_template_columns": null,
            "grid_template_rows": null,
            "height": null,
            "justify_content": null,
            "justify_items": null,
            "left": null,
            "margin": null,
            "max_height": null,
            "max_width": null,
            "min_height": null,
            "min_width": null,
            "object_fit": null,
            "object_position": null,
            "order": null,
            "overflow": null,
            "overflow_x": null,
            "overflow_y": null,
            "padding": null,
            "right": null,
            "top": null,
            "visibility": null,
            "width": null
          }
        },
        "be8098febd58491c957c2b1209a5876f": {
          "model_module": "@jupyter-widgets/controls",
          "model_name": "ProgressStyleModel",
          "model_module_version": "1.5.0",
          "state": {
            "_model_module": "@jupyter-widgets/controls",
            "_model_module_version": "1.5.0",
            "_model_name": "ProgressStyleModel",
            "_view_count": null,
            "_view_module": "@jupyter-widgets/base",
            "_view_module_version": "1.2.0",
            "_view_name": "StyleView",
            "bar_color": null,
            "description_width": ""
          }
        },
        "ce705203531c46aeac762dbf157ff770": {
          "model_module": "@jupyter-widgets/base",
          "model_name": "LayoutModel",
          "model_module_version": "1.2.0",
          "state": {
            "_model_module": "@jupyter-widgets/base",
            "_model_module_version": "1.2.0",
            "_model_name": "LayoutModel",
            "_view_count": null,
            "_view_module": "@jupyter-widgets/base",
            "_view_module_version": "1.2.0",
            "_view_name": "LayoutView",
            "align_content": null,
            "align_items": null,
            "align_self": null,
            "border": null,
            "bottom": null,
            "display": null,
            "flex": null,
            "flex_flow": null,
            "grid_area": null,
            "grid_auto_columns": null,
            "grid_auto_flow": null,
            "grid_auto_rows": null,
            "grid_column": null,
            "grid_gap": null,
            "grid_row": null,
            "grid_template_areas": null,
            "grid_template_columns": null,
            "grid_template_rows": null,
            "height": null,
            "justify_content": null,
            "justify_items": null,
            "left": null,
            "margin": null,
            "max_height": null,
            "max_width": null,
            "min_height": null,
            "min_width": null,
            "object_fit": null,
            "object_position": null,
            "order": null,
            "overflow": null,
            "overflow_x": null,
            "overflow_y": null,
            "padding": null,
            "right": null,
            "top": null,
            "visibility": null,
            "width": null
          }
        },
        "db11852d787e47569331bb2e1c3f81ba": {
          "model_module": "@jupyter-widgets/controls",
          "model_name": "DescriptionStyleModel",
          "model_module_version": "1.5.0",
          "state": {
            "_model_module": "@jupyter-widgets/controls",
            "_model_module_version": "1.5.0",
            "_model_name": "DescriptionStyleModel",
            "_view_count": null,
            "_view_module": "@jupyter-widgets/base",
            "_view_module_version": "1.2.0",
            "_view_name": "StyleView",
            "description_width": ""
          }
        },
        "85a6ffa77e3045c69ea31e7ed4454d7f": {
          "model_module": "@jupyter-widgets/controls",
          "model_name": "HBoxModel",
          "model_module_version": "1.5.0",
          "state": {
            "_dom_classes": [],
            "_model_module": "@jupyter-widgets/controls",
            "_model_module_version": "1.5.0",
            "_model_name": "HBoxModel",
            "_view_count": null,
            "_view_module": "@jupyter-widgets/controls",
            "_view_module_version": "1.5.0",
            "_view_name": "HBoxView",
            "box_style": "",
            "children": [
              "IPY_MODEL_d1fff6802dcb45a0ac83cf849cb07dc4",
              "IPY_MODEL_963178e0aec24436a28a1eaeb1a5eef1",
              "IPY_MODEL_01613b29453c4150a13d6c377a90e760"
            ],
            "layout": "IPY_MODEL_52dbb6981e1345d29b58820c5f99beaf"
          }
        },
        "d1fff6802dcb45a0ac83cf849cb07dc4": {
          "model_module": "@jupyter-widgets/controls",
          "model_name": "HTMLModel",
          "model_module_version": "1.5.0",
          "state": {
            "_dom_classes": [],
            "_model_module": "@jupyter-widgets/controls",
            "_model_module_version": "1.5.0",
            "_model_name": "HTMLModel",
            "_view_count": null,
            "_view_module": "@jupyter-widgets/controls",
            "_view_module_version": "1.5.0",
            "_view_name": "HTMLView",
            "description": "",
            "description_tooltip": null,
            "layout": "IPY_MODEL_9947b24dd5da4734ba68d0abd9bf6358",
            "placeholder": "​",
            "style": "IPY_MODEL_2b9168dd8f824331bdc27d42dfad6ade",
            "value": "Generating validation split: "
          }
        },
        "963178e0aec24436a28a1eaeb1a5eef1": {
          "model_module": "@jupyter-widgets/controls",
          "model_name": "FloatProgressModel",
          "model_module_version": "1.5.0",
          "state": {
            "_dom_classes": [],
            "_model_module": "@jupyter-widgets/controls",
            "_model_module_version": "1.5.0",
            "_model_name": "FloatProgressModel",
            "_view_count": null,
            "_view_module": "@jupyter-widgets/controls",
            "_view_module_version": "1.5.0",
            "_view_name": "ProgressView",
            "bar_style": "success",
            "description": "",
            "description_tooltip": null,
            "layout": "IPY_MODEL_bea1f79827934839a77cf502bfb520f8",
            "max": 1,
            "min": 0,
            "orientation": "horizontal",
            "style": "IPY_MODEL_0fc05bdabf304e219cba725cf5b5ed85",
            "value": 1
          }
        },
        "01613b29453c4150a13d6c377a90e760": {
          "model_module": "@jupyter-widgets/controls",
          "model_name": "HTMLModel",
          "model_module_version": "1.5.0",
          "state": {
            "_dom_classes": [],
            "_model_module": "@jupyter-widgets/controls",
            "_model_module_version": "1.5.0",
            "_model_name": "HTMLModel",
            "_view_count": null,
            "_view_module": "@jupyter-widgets/controls",
            "_view_module_version": "1.5.0",
            "_view_name": "HTMLView",
            "description": "",
            "description_tooltip": null,
            "layout": "IPY_MODEL_1eb12b9a4585443f821ba34211a610e0",
            "placeholder": "​",
            "style": "IPY_MODEL_814f7d4120a44672afdacf43f8331a3c",
            "value": " 516/0 [00:00&lt;00:00, 11307.06 examples/s]"
          }
        },
        "52dbb6981e1345d29b58820c5f99beaf": {
          "model_module": "@jupyter-widgets/base",
          "model_name": "LayoutModel",
          "model_module_version": "1.2.0",
          "state": {
            "_model_module": "@jupyter-widgets/base",
            "_model_module_version": "1.2.0",
            "_model_name": "LayoutModel",
            "_view_count": null,
            "_view_module": "@jupyter-widgets/base",
            "_view_module_version": "1.2.0",
            "_view_name": "LayoutView",
            "align_content": null,
            "align_items": null,
            "align_self": null,
            "border": null,
            "bottom": null,
            "display": null,
            "flex": null,
            "flex_flow": null,
            "grid_area": null,
            "grid_auto_columns": null,
            "grid_auto_flow": null,
            "grid_auto_rows": null,
            "grid_column": null,
            "grid_gap": null,
            "grid_row": null,
            "grid_template_areas": null,
            "grid_template_columns": null,
            "grid_template_rows": null,
            "height": null,
            "justify_content": null,
            "justify_items": null,
            "left": null,
            "margin": null,
            "max_height": null,
            "max_width": null,
            "min_height": null,
            "min_width": null,
            "object_fit": null,
            "object_position": null,
            "order": null,
            "overflow": null,
            "overflow_x": null,
            "overflow_y": null,
            "padding": null,
            "right": null,
            "top": null,
            "visibility": null,
            "width": null
          }
        },
        "9947b24dd5da4734ba68d0abd9bf6358": {
          "model_module": "@jupyter-widgets/base",
          "model_name": "LayoutModel",
          "model_module_version": "1.2.0",
          "state": {
            "_model_module": "@jupyter-widgets/base",
            "_model_module_version": "1.2.0",
            "_model_name": "LayoutModel",
            "_view_count": null,
            "_view_module": "@jupyter-widgets/base",
            "_view_module_version": "1.2.0",
            "_view_name": "LayoutView",
            "align_content": null,
            "align_items": null,
            "align_self": null,
            "border": null,
            "bottom": null,
            "display": null,
            "flex": null,
            "flex_flow": null,
            "grid_area": null,
            "grid_auto_columns": null,
            "grid_auto_flow": null,
            "grid_auto_rows": null,
            "grid_column": null,
            "grid_gap": null,
            "grid_row": null,
            "grid_template_areas": null,
            "grid_template_columns": null,
            "grid_template_rows": null,
            "height": null,
            "justify_content": null,
            "justify_items": null,
            "left": null,
            "margin": null,
            "max_height": null,
            "max_width": null,
            "min_height": null,
            "min_width": null,
            "object_fit": null,
            "object_position": null,
            "order": null,
            "overflow": null,
            "overflow_x": null,
            "overflow_y": null,
            "padding": null,
            "right": null,
            "top": null,
            "visibility": null,
            "width": null
          }
        },
        "2b9168dd8f824331bdc27d42dfad6ade": {
          "model_module": "@jupyter-widgets/controls",
          "model_name": "DescriptionStyleModel",
          "model_module_version": "1.5.0",
          "state": {
            "_model_module": "@jupyter-widgets/controls",
            "_model_module_version": "1.5.0",
            "_model_name": "DescriptionStyleModel",
            "_view_count": null,
            "_view_module": "@jupyter-widgets/base",
            "_view_module_version": "1.2.0",
            "_view_name": "StyleView",
            "description_width": ""
          }
        },
        "bea1f79827934839a77cf502bfb520f8": {
          "model_module": "@jupyter-widgets/base",
          "model_name": "LayoutModel",
          "model_module_version": "1.2.0",
          "state": {
            "_model_module": "@jupyter-widgets/base",
            "_model_module_version": "1.2.0",
            "_model_name": "LayoutModel",
            "_view_count": null,
            "_view_module": "@jupyter-widgets/base",
            "_view_module_version": "1.2.0",
            "_view_name": "LayoutView",
            "align_content": null,
            "align_items": null,
            "align_self": null,
            "border": null,
            "bottom": null,
            "display": null,
            "flex": null,
            "flex_flow": null,
            "grid_area": null,
            "grid_auto_columns": null,
            "grid_auto_flow": null,
            "grid_auto_rows": null,
            "grid_column": null,
            "grid_gap": null,
            "grid_row": null,
            "grid_template_areas": null,
            "grid_template_columns": null,
            "grid_template_rows": null,
            "height": null,
            "justify_content": null,
            "justify_items": null,
            "left": null,
            "margin": null,
            "max_height": null,
            "max_width": null,
            "min_height": null,
            "min_width": null,
            "object_fit": null,
            "object_position": null,
            "order": null,
            "overflow": null,
            "overflow_x": null,
            "overflow_y": null,
            "padding": null,
            "right": null,
            "top": null,
            "visibility": null,
            "width": "20px"
          }
        },
        "0fc05bdabf304e219cba725cf5b5ed85": {
          "model_module": "@jupyter-widgets/controls",
          "model_name": "ProgressStyleModel",
          "model_module_version": "1.5.0",
          "state": {
            "_model_module": "@jupyter-widgets/controls",
            "_model_module_version": "1.5.0",
            "_model_name": "ProgressStyleModel",
            "_view_count": null,
            "_view_module": "@jupyter-widgets/base",
            "_view_module_version": "1.2.0",
            "_view_name": "StyleView",
            "bar_color": null,
            "description_width": ""
          }
        },
        "1eb12b9a4585443f821ba34211a610e0": {
          "model_module": "@jupyter-widgets/base",
          "model_name": "LayoutModel",
          "model_module_version": "1.2.0",
          "state": {
            "_model_module": "@jupyter-widgets/base",
            "_model_module_version": "1.2.0",
            "_model_name": "LayoutModel",
            "_view_count": null,
            "_view_module": "@jupyter-widgets/base",
            "_view_module_version": "1.2.0",
            "_view_name": "LayoutView",
            "align_content": null,
            "align_items": null,
            "align_self": null,
            "border": null,
            "bottom": null,
            "display": null,
            "flex": null,
            "flex_flow": null,
            "grid_area": null,
            "grid_auto_columns": null,
            "grid_auto_flow": null,
            "grid_auto_rows": null,
            "grid_column": null,
            "grid_gap": null,
            "grid_row": null,
            "grid_template_areas": null,
            "grid_template_columns": null,
            "grid_template_rows": null,
            "height": null,
            "justify_content": null,
            "justify_items": null,
            "left": null,
            "margin": null,
            "max_height": null,
            "max_width": null,
            "min_height": null,
            "min_width": null,
            "object_fit": null,
            "object_position": null,
            "order": null,
            "overflow": null,
            "overflow_x": null,
            "overflow_y": null,
            "padding": null,
            "right": null,
            "top": null,
            "visibility": null,
            "width": null
          }
        },
        "814f7d4120a44672afdacf43f8331a3c": {
          "model_module": "@jupyter-widgets/controls",
          "model_name": "DescriptionStyleModel",
          "model_module_version": "1.5.0",
          "state": {
            "_model_module": "@jupyter-widgets/controls",
            "_model_module_version": "1.5.0",
            "_model_name": "DescriptionStyleModel",
            "_view_count": null,
            "_view_module": "@jupyter-widgets/base",
            "_view_module_version": "1.2.0",
            "_view_name": "StyleView",
            "description_width": ""
          }
        },
        "d05c3c6358fc40a2a585f81edf1f2cc3": {
          "model_module": "@jupyter-widgets/controls",
          "model_name": "HBoxModel",
          "model_module_version": "1.5.0",
          "state": {
            "_dom_classes": [],
            "_model_module": "@jupyter-widgets/controls",
            "_model_module_version": "1.5.0",
            "_model_name": "HBoxModel",
            "_view_count": null,
            "_view_module": "@jupyter-widgets/controls",
            "_view_module_version": "1.5.0",
            "_view_name": "HBoxView",
            "box_style": "",
            "children": [
              "IPY_MODEL_df1cd4697647482cb9ceb1b4c17bdb07",
              "IPY_MODEL_fb7f479ec3c3408abb181af5c04e5ac0",
              "IPY_MODEL_caef4920d85b44668b30dd8f3677cd12"
            ],
            "layout": "IPY_MODEL_a94a653de574479ebd0e4736a328c4f8"
          }
        },
        "df1cd4697647482cb9ceb1b4c17bdb07": {
          "model_module": "@jupyter-widgets/controls",
          "model_name": "HTMLModel",
          "model_module_version": "1.5.0",
          "state": {
            "_dom_classes": [],
            "_model_module": "@jupyter-widgets/controls",
            "_model_module_version": "1.5.0",
            "_model_name": "HTMLModel",
            "_view_count": null,
            "_view_module": "@jupyter-widgets/controls",
            "_view_module_version": "1.5.0",
            "_view_name": "HTMLView",
            "description": "",
            "description_tooltip": null,
            "layout": "IPY_MODEL_4c75d6fcb8c141baa4b23d90ede79db2",
            "placeholder": "​",
            "style": "IPY_MODEL_fcfeccdad97a45349801519cfcfcd9c3",
            "value": "Map: 100%"
          }
        },
        "fb7f479ec3c3408abb181af5c04e5ac0": {
          "model_module": "@jupyter-widgets/controls",
          "model_name": "FloatProgressModel",
          "model_module_version": "1.5.0",
          "state": {
            "_dom_classes": [],
            "_model_module": "@jupyter-widgets/controls",
            "_model_module_version": "1.5.0",
            "_model_name": "FloatProgressModel",
            "_view_count": null,
            "_view_module": "@jupyter-widgets/controls",
            "_view_module_version": "1.5.0",
            "_view_name": "ProgressView",
            "bar_style": "success",
            "description": "",
            "description_tooltip": null,
            "layout": "IPY_MODEL_cf11c64de5f140898c122ddab867c824",
            "max": 516,
            "min": 0,
            "orientation": "horizontal",
            "style": "IPY_MODEL_e1faa8743564464db7e399b8c9390034",
            "value": 516
          }
        },
        "caef4920d85b44668b30dd8f3677cd12": {
          "model_module": "@jupyter-widgets/controls",
          "model_name": "HTMLModel",
          "model_module_version": "1.5.0",
          "state": {
            "_dom_classes": [],
            "_model_module": "@jupyter-widgets/controls",
            "_model_module_version": "1.5.0",
            "_model_name": "HTMLModel",
            "_view_count": null,
            "_view_module": "@jupyter-widgets/controls",
            "_view_module_version": "1.5.0",
            "_view_name": "HTMLView",
            "description": "",
            "description_tooltip": null,
            "layout": "IPY_MODEL_c54828e6dbfe4c8c88670a49054a39e1",
            "placeholder": "​",
            "style": "IPY_MODEL_3c96c490dc6a40399f86fb0e387be30b",
            "value": " 516/516 [00:00&lt;00:00, 9113.02 examples/s]"
          }
        },
        "a94a653de574479ebd0e4736a328c4f8": {
          "model_module": "@jupyter-widgets/base",
          "model_name": "LayoutModel",
          "model_module_version": "1.2.0",
          "state": {
            "_model_module": "@jupyter-widgets/base",
            "_model_module_version": "1.2.0",
            "_model_name": "LayoutModel",
            "_view_count": null,
            "_view_module": "@jupyter-widgets/base",
            "_view_module_version": "1.2.0",
            "_view_name": "LayoutView",
            "align_content": null,
            "align_items": null,
            "align_self": null,
            "border": null,
            "bottom": null,
            "display": null,
            "flex": null,
            "flex_flow": null,
            "grid_area": null,
            "grid_auto_columns": null,
            "grid_auto_flow": null,
            "grid_auto_rows": null,
            "grid_column": null,
            "grid_gap": null,
            "grid_row": null,
            "grid_template_areas": null,
            "grid_template_columns": null,
            "grid_template_rows": null,
            "height": null,
            "justify_content": null,
            "justify_items": null,
            "left": null,
            "margin": null,
            "max_height": null,
            "max_width": null,
            "min_height": null,
            "min_width": null,
            "object_fit": null,
            "object_position": null,
            "order": null,
            "overflow": null,
            "overflow_x": null,
            "overflow_y": null,
            "padding": null,
            "right": null,
            "top": null,
            "visibility": null,
            "width": null
          }
        },
        "4c75d6fcb8c141baa4b23d90ede79db2": {
          "model_module": "@jupyter-widgets/base",
          "model_name": "LayoutModel",
          "model_module_version": "1.2.0",
          "state": {
            "_model_module": "@jupyter-widgets/base",
            "_model_module_version": "1.2.0",
            "_model_name": "LayoutModel",
            "_view_count": null,
            "_view_module": "@jupyter-widgets/base",
            "_view_module_version": "1.2.0",
            "_view_name": "LayoutView",
            "align_content": null,
            "align_items": null,
            "align_self": null,
            "border": null,
            "bottom": null,
            "display": null,
            "flex": null,
            "flex_flow": null,
            "grid_area": null,
            "grid_auto_columns": null,
            "grid_auto_flow": null,
            "grid_auto_rows": null,
            "grid_column": null,
            "grid_gap": null,
            "grid_row": null,
            "grid_template_areas": null,
            "grid_template_columns": null,
            "grid_template_rows": null,
            "height": null,
            "justify_content": null,
            "justify_items": null,
            "left": null,
            "margin": null,
            "max_height": null,
            "max_width": null,
            "min_height": null,
            "min_width": null,
            "object_fit": null,
            "object_position": null,
            "order": null,
            "overflow": null,
            "overflow_x": null,
            "overflow_y": null,
            "padding": null,
            "right": null,
            "top": null,
            "visibility": null,
            "width": null
          }
        },
        "fcfeccdad97a45349801519cfcfcd9c3": {
          "model_module": "@jupyter-widgets/controls",
          "model_name": "DescriptionStyleModel",
          "model_module_version": "1.5.0",
          "state": {
            "_model_module": "@jupyter-widgets/controls",
            "_model_module_version": "1.5.0",
            "_model_name": "DescriptionStyleModel",
            "_view_count": null,
            "_view_module": "@jupyter-widgets/base",
            "_view_module_version": "1.2.0",
            "_view_name": "StyleView",
            "description_width": ""
          }
        },
        "cf11c64de5f140898c122ddab867c824": {
          "model_module": "@jupyter-widgets/base",
          "model_name": "LayoutModel",
          "model_module_version": "1.2.0",
          "state": {
            "_model_module": "@jupyter-widgets/base",
            "_model_module_version": "1.2.0",
            "_model_name": "LayoutModel",
            "_view_count": null,
            "_view_module": "@jupyter-widgets/base",
            "_view_module_version": "1.2.0",
            "_view_name": "LayoutView",
            "align_content": null,
            "align_items": null,
            "align_self": null,
            "border": null,
            "bottom": null,
            "display": null,
            "flex": null,
            "flex_flow": null,
            "grid_area": null,
            "grid_auto_columns": null,
            "grid_auto_flow": null,
            "grid_auto_rows": null,
            "grid_column": null,
            "grid_gap": null,
            "grid_row": null,
            "grid_template_areas": null,
            "grid_template_columns": null,
            "grid_template_rows": null,
            "height": null,
            "justify_content": null,
            "justify_items": null,
            "left": null,
            "margin": null,
            "max_height": null,
            "max_width": null,
            "min_height": null,
            "min_width": null,
            "object_fit": null,
            "object_position": null,
            "order": null,
            "overflow": null,
            "overflow_x": null,
            "overflow_y": null,
            "padding": null,
            "right": null,
            "top": null,
            "visibility": null,
            "width": null
          }
        },
        "e1faa8743564464db7e399b8c9390034": {
          "model_module": "@jupyter-widgets/controls",
          "model_name": "ProgressStyleModel",
          "model_module_version": "1.5.0",
          "state": {
            "_model_module": "@jupyter-widgets/controls",
            "_model_module_version": "1.5.0",
            "_model_name": "ProgressStyleModel",
            "_view_count": null,
            "_view_module": "@jupyter-widgets/base",
            "_view_module_version": "1.2.0",
            "_view_name": "StyleView",
            "bar_color": null,
            "description_width": ""
          }
        },
        "c54828e6dbfe4c8c88670a49054a39e1": {
          "model_module": "@jupyter-widgets/base",
          "model_name": "LayoutModel",
          "model_module_version": "1.2.0",
          "state": {
            "_model_module": "@jupyter-widgets/base",
            "_model_module_version": "1.2.0",
            "_model_name": "LayoutModel",
            "_view_count": null,
            "_view_module": "@jupyter-widgets/base",
            "_view_module_version": "1.2.0",
            "_view_name": "LayoutView",
            "align_content": null,
            "align_items": null,
            "align_self": null,
            "border": null,
            "bottom": null,
            "display": null,
            "flex": null,
            "flex_flow": null,
            "grid_area": null,
            "grid_auto_columns": null,
            "grid_auto_flow": null,
            "grid_auto_rows": null,
            "grid_column": null,
            "grid_gap": null,
            "grid_row": null,
            "grid_template_areas": null,
            "grid_template_columns": null,
            "grid_template_rows": null,
            "height": null,
            "justify_content": null,
            "justify_items": null,
            "left": null,
            "margin": null,
            "max_height": null,
            "max_width": null,
            "min_height": null,
            "min_width": null,
            "object_fit": null,
            "object_position": null,
            "order": null,
            "overflow": null,
            "overflow_x": null,
            "overflow_y": null,
            "padding": null,
            "right": null,
            "top": null,
            "visibility": null,
            "width": null
          }
        },
        "3c96c490dc6a40399f86fb0e387be30b": {
          "model_module": "@jupyter-widgets/controls",
          "model_name": "DescriptionStyleModel",
          "model_module_version": "1.5.0",
          "state": {
            "_model_module": "@jupyter-widgets/controls",
            "_model_module_version": "1.5.0",
            "_model_name": "DescriptionStyleModel",
            "_view_count": null,
            "_view_module": "@jupyter-widgets/base",
            "_view_module_version": "1.2.0",
            "_view_name": "StyleView",
            "description_width": ""
          }
        }
      }
    }
  },
  "cells": [
    {
      "cell_type": "markdown",
      "source": [
        "# **Few-shot Pattern-Based Parameter Efficient Fine Tuning on RTE**\n",
        "\n",
        "Paper being referred: \"*Few-shot Fine-tuning vs. In-context Learning: A Fair Comparison and Evaluation*\" (https://aclanthology.org/2023.findings-acl.779.pdf)"
      ],
      "metadata": {
        "id": "NJUg2sjcV3Xg"
      }
    },
    {
      "cell_type": "code",
      "source": [
        "# Mount into drive\n",
        "\n",
        "from google.colab import drive\n",
        "\n",
        "drive.mount(\"/content/drive\")\n",
        "\n",
        "# Change directory to the package folder\n",
        "#!! This should be the base directory of the project, this directory should look like the screenshot below.\n",
        "\n",
        "%cd '/content/drive/MyDrive/DL/project/'\n",
        "\n",
        "# Verify the contents of the current folder\n",
        "!ls"
      ],
      "metadata": {
        "colab": {
          "base_uri": "https://localhost:8080/"
        },
        "id": "-z5f9Kxauzmt",
        "outputId": "19b4c2f4-0b51-48d7-f8f8-5be7378f3d4f"
      },
      "execution_count": 28,
      "outputs": [
        {
          "output_type": "stream",
          "name": "stdout",
          "text": [
            "Drive already mounted at /content/drive; to attempt to forcibly remount, call drive.mount(\"/content/drive\", force_remount=True).\n",
            "/content/drive/MyDrive/DL/project\n",
            "datafiles  notebooks  Results\n"
          ]
        }
      ]
    },
    {
      "cell_type": "markdown",
      "source": [
        "# Set-up directories properly![Screenshot 2024-04-16 at 10.13.01 AM.png](data:image/png;base64,iVBORw0KGgoAAAANSUhEUgAABUQAAAG4CAYAAACNY+0mAAAKqmlDQ1BJQ0MgUHJvZmlsZQAASImVlwdUU9kWhs+96SGhJYQiJfQmvQWQEkILXTrYCEmAUEIMBBU7Io7AWFARAUXRUREFxwLIWBBRLAwCCtgHZFBQxsGCqKi8CyzCzLz13ltvZ+11vruzzz77nHXPWv8FgCzPEYlSYXkA0oSZ4lAfD3p0TCwdNwQgoIz89AGOw80QMUNCAgBis+Pf7WMPko3YPbOpWv/+/381BR4/gwsAFIJwPC+Dm4bwOcRfcUXiTABQB5G47opM0RS3IEwVIw0i/GCKE2d4ZIrjpxkNpnPCQ1kIUwHAkzgccSIAJDoSp2dxE5E6JHeELYU8gRBhEcKuaWnpPIRPI2yE5CAx0lR9Rvxf6iT+rWa8tCaHkyjlmb1MG95TkCFK5az6P4/jf1taqmR2DQPESUli31BkVETO7EFKur+UhfFBwbMs4E3nT3OSxDdilrkZrNhZ5nE8/aVzU4MCZjlB4M2W1slkh88yP8MrbJbF6aHStRLELOYsc8Rz60pSIqTxJD5bWj87KTxqlrMEkUGznJES5j+Xw5LGxZJQaf98oY/H3Lre0r2nZfxlvwK2dG5mUrivdO+cuf75QuZczYxoaW88vqfXXE6ENF+U6SFdS5QaIs3np/pI4xlZYdK5mcgLOTc3RHqGyRy/kFkGLJAOUhEXAzoIQJ48Acjkr8yc2ggrXbRKLEhMyqQzkRvGp7OFXPP5dGtLa1sApu7rzOvwnjZ9DyHa7blYzlMAXGImJycvzsUCkPM4NwQAcWQuZlgNAPkyADc3cyXirJnY9F3CACKQA1SgCjSBLjACZsAa2ANn4A68gB8IBuEgBiwFXJAE0pDOV4A1YCPIAwVgB9gDSkEFOAyOg1PgDKgHF8FVcAPcAR2gGzwGfWAQvAaj4COYgCAIB5EhCqQKaUH6kClkDTEgV8gLCoBCoRgoDkqEhJAEWgNtggqgIqgUOgRVQT9DF6Cr0C2oE3oI9UPD0DvoC4yCSTAV1oANYAuYATNhfzgcXgInwsvhbDgX3gaXwJXwSbgOvgrfgbvhPvg1PIYCKBkUDaWNMkMxUCxUMCoWlYASo9ah8lHFqEpUDaoR1Yq6h+pDjaA+o7FoCpqONkM7o33REWguejl6HboQXYo+jq5Dt6DvofvRo+jvGDJGHWOKccKwMdGYRMwKTB6mGHMUcx5zHdONGcR8xGKxNKwh1gHri43BJmNXYwux+7G12CZsJ3YAO4bD4VRxpjgXXDCOg8vE5eH24U7iruC6cIO4T3gZvBbeGu+Nj8UL8Tn4YvwJ/GV8F/4lfoIgT9AnOBGCCTzCKsJ2whFCI+EuYZAwQVQgGhJdiOHEZOJGYgmxhnid+IT4XkZGRkfGUWahjEBmg0yJzGmZmzL9Mp9JiiQTEou0mCQhbSMdIzWRHpLek8lkA7I7OZacSd5GriJfIz8jf5KlyJrLsmV5sutly2TrZLtk38gR5PTlmHJL5bLliuXOyt2VG5EnyBvIs+Q58uvky+QvyPfKjylQFKwUghXSFAoVTijcUhhSxCkaKHop8hRzFQ8rXlMcoKAouhQWhUvZRDlCuU4ZpGKphlQ2NZlaQD1FbaeOKikq2SpFKq1UKlO6pNRHQ9EMaGxaKm077Qyth/ZFWUOZqcxX3qpco9ylPK4yT8Vdha+Sr1Kr0q3yRZWu6qWaorpTtV71qRpazURtodoKtQNq19VG5lHnOc/jzsufd2beI3VY3UQ9VH21+mH1NvUxDU0NHw2Rxj6NaxojmjRNd81kzd2alzWHtSharloCrd1aV7Re0ZXoTHoqvYTeQh/VVtf21ZZoH9Ju157QMdSJ0MnRqdV5qkvUZegm6O7WbdYd1dPSC9Rbo1et90ifoM/QT9Lfq9+qP25gaBBlsMWg3mDIUMWQbZhtWG34xIhs5Ga03KjS6L4x1phhnGK837jDBDaxM0kyKTO5awqb2psKTPebds7HzHecL5xfOb/XjGTGNMsyqzbrN6eZB5jnmNebv7HQs4i12GnRavHd0s4y1fKI5WMrRSs/qxyrRqt31ibWXOsy6/s2ZBtvm/U2DTZvbU1t+bYHbB/YUewC7bbYNdt9s3ewF9vX2A876DnEOZQ79DKojBBGIeOmI8bRw3G940XHz072TplOZ5z+dDZzTnE+4Ty0wHABf8GRBQMuOi4cl0Mufa501zjXg659btpuHLdKt+fuuu4896PuL5nGzGTmSeYbD0sPscd5j3GWE2stq8kT5enjme/Z7qXoFeFV6vXMW8c70bvae9THzme1T5Mvxtffd6dvL1uDzWVXsUf9HPzW+rX4k/zD/Ev9nweYBIgDGgPhQL/AXYFPgvSDhEH1wSCYHbwr+GmIYcjykF8WYheGLCxb+CLUKnRNaGsYJWxZ2Imwj+Ee4dvDH0cYRUgimiPlIhdHVkWOR3lGFUX1RVtEr42+E6MWI4hpiMXFRsYejR1b5LVoz6LBxXaL8xb3LDFcsnLJraVqS1OXXlomt4yz7GwcJi4q7kTcV04wp5IzFs+OL48f5bK4e7mvee683bxhvgu/iP8ywSWhKGEo0SVxV+JwkltScdKIgCUoFbxN9k2uSB5PCU45ljKZGpVam4ZPi0u7IFQUpghb0jXTV6Z3ikxFeaK+5U7L9ywfFfuLj2ZAGUsyGjKpiDBqkxhJNkv6s1yzyrI+rYhccXalwkrhyrZVJqu2rnqZ7Z3902r0au7q5jXaazau6V/LXHtoHbQufl3zet31uesHN/hsOL6RuDFl4685ljlFOR82RW1qzNXI3ZA7sNlnc3WebJ44r3eL85aKH9A/CH5o32qzdd/W7/m8/NsFlgXFBV8LuYW3f7T6seTHyW0J29q3228/sAO7Q7ijZ6fbzuNFCkXZRQO7AnfV7abvzt/9Yc+yPbeKbYsr9hL3Svb2lQSUNOzT27dj39fSpNLuMo+y2nL18q3l4/t5+7sOuB+oqdCoKKj4clBw8MEhn0N1lQaVxYexh7MOvzgSeaT1J8ZPVUfVjhYc/XZMeKzveOjxliqHqqoT6ie2V8PVkurhk4tPdpzyPNVQY1ZzqJZWW3AanJacfvVz3M89Z/zPNJ9lnK05p3+u/DzlfH4dVLeqbrQ+qb6vIaah84LfheZG58bzv5j/cuyi9sWyS0qXtl8mXs69PHkl+8pYk6hp5Gri1YHmZc2Pr0Vfu9+ysKX9uv/1mze8b1xrZbZeuely8+Itp1sXbjNu19+xv1PXZtd2/le7X8+327fX3XW429Dh2NHYuaDzcpdb19V7nvdu3Gffv9Md1N3ZE9HzoHdxb98D3oOhh6kP3z7KejTxeMMTzJP8p/JPi5+pP6v8zfi32j77vkv9nv1tz8OePx7gDrz+PeP3r4O5L8gvil9qvawash66OOw93PFq0avB16LXEyN5fyj8Uf7G6M25P93/bBuNHh18K347+a7wver7Yx9sPzSPhYw9+5j2cWI8/5Pqp+OfGZ9bv0R9eTmx4ivua8k342+N3/2/P5lMm5wUccScaSmAQhxOSADg3TFEJ8QAQOlA9MOiGT09bdDMN8A0gf/EM5p72uwBqEGGKVnEagLgNOIGG5DayPOUJAp3B7CNjdRnte+0Tp8yLPLFctByirq0zoJ/2oyG/0vf/xzBVFVb8M/xX5M8BuW0KChZAAAAimVYSWZNTQAqAAAACAAEARoABQAAAAEAAAA+ARsABQAAAAEAAABGASgAAwAAAAEAAgAAh2kABAAAAAEAAABOAAAAAAAAAJAAAAABAAAAkAAAAAEAA5KGAAcAAAASAAAAeKACAAQAAAABAAAFRKADAAQAAAABAAABuAAAAABBU0NJSQAAAFNjcmVlbnNob3SV047KAAAACXBIWXMAABYlAAAWJQFJUiTwAAAB12lUWHRYTUw6Y29tLmFkb2JlLnhtcAAAAAAAPHg6eG1wbWV0YSB4bWxuczp4PSJhZG9iZTpuczptZXRhLyIgeDp4bXB0az0iWE1QIENvcmUgNi4wLjAiPgogICA8cmRmOlJERiB4bWxuczpyZGY9Imh0dHA6Ly93d3cudzMub3JnLzE5OTkvMDIvMjItcmRmLXN5bnRheC1ucyMiPgogICAgICA8cmRmOkRlc2NyaXB0aW9uIHJkZjphYm91dD0iIgogICAgICAgICAgICB4bWxuczpleGlmPSJodHRwOi8vbnMuYWRvYmUuY29tL2V4aWYvMS4wLyI+CiAgICAgICAgIDxleGlmOlBpeGVsWURpbWVuc2lvbj40NDA8L2V4aWY6UGl4ZWxZRGltZW5zaW9uPgogICAgICAgICA8ZXhpZjpQaXhlbFhEaW1lbnNpb24+MTM0ODwvZXhpZjpQaXhlbFhEaW1lbnNpb24+CiAgICAgICAgIDxleGlmOlVzZXJDb21tZW50PlNjcmVlbnNob3Q8L2V4aWY6VXNlckNvbW1lbnQ+CiAgICAgIDwvcmRmOkRlc2NyaXB0aW9uPgogICA8L3JkZjpSREY+CjwveDp4bXBtZXRhPgr56ZznAAAAHGlET1QAAAACAAAAAAAAANwAAAAoAAAA3AAAANwAAI6RwrDeRwAAQABJREFUeAHsnQdgFNUahf+E0Hvv0os0UaSJSmgKCEF6URBFqoB0VBAQRJGOINhReApSRIqKIEoURUEURFB6770TSvLOfyez2U02ZdIIyRmfO+3OLd+9s76c/YtP2bJlQ4QbCZAACZAACZAACZAACZAACZAACZAACZAACZAACaQAAj4URFPALHOIJEACJEACJEACJEACJEACJEACJEACJEACJEAChgAFUS4EEiABEiABEiABEiABEiABEiABEiABEiABEiCBFEOAgmiKmWoOlARIgARIgARIgARIgARIgARIgARIgARIgARIgIIo1wAJkAAJkAAJkAAJkAAJkAAJkAAJkAAJkAAJkECKIUBBNMVMNQdKAiRAAiRAAiRAAiRAAiRAAiRAAiRAAiRAAiTgWBBdu3yy+OCf2k37kx4JkAAJkAAJkAAJkAAJkAAJkAAJkAAJkAAJkAAJ3FUEnAuiy6YI9FDxpyB6V000O0sCJEACJEACJEACJEACJEACJEACJEACJEACJABps2zZsiFOQASumCwSQgtRJ8xYlgRIgARIgARIgARIgARIgARIgARIgARIgARIIGkQcC6ILoeFqITAZX5A0hgBe0ECJEACJEACJEACJEACJEACJEACJEACJEACJEACMSTgWBBdC0EUHvOMIRpDwCxGAiRAAiRAAiRAAiRAAiRAAiRAAiRAAiRAAiSQdAg4F0SXhSZVCmBSpaQzjewJCZAACZAACZAACZAACZAACZAACZAACZAACZBATAg4F0SNhShd5mMCl2WSL4GsWTLKmFee1egRMuXdxbLvwLHkO1iOjARIgARIgARIgARIgARIgARIgARIgASSEYFYCKJIqgSn+eScZb540fwyc8KLJjRAiH76QPVCIqmrV6/LsZNn5Ojxs7JyzQbZtHlnpEvhqdb15ek29c19X9ThylwVWpee+4Tg08dH/t62R4aMej/SuvTGp++8JPnyZJdg1LTgq7Uy+7OVkZavXKGEjBvZ1dVmyO0Q9PusHDp8Ug4eOSF//r1bNm/d7fX5jm0ayJONa+HZELl967Y822eCXL0WFKHs0L5tpeoD94JLiJy9cEm69dN1EbbF9/jDak4aR7lyZpVFs0ehMyHSe+jb8s+/+5NGx9gLEiABEiABEiABEiABEiABEiABEiABEiCBKAnEShD10SzzydhlvkSxAvLR9MFGsFRBVGOmhhjx0mKp41eRdNOWXTJ87MdeBcPO7R+XZzs8Dh0Vz+PZEDzjo2Iozi2l0kiiRnhUcbLfKzMjnahiRfLLbPTHdASl9h84IZ17vxVp+QcqlZIpY3vhPtqNpP1v1/wuMz5YKpevXPOop0fnptKuZV3Tlvb79Umfyeq1mzzKZEifVpZ+NkZSp05tunT63AVp2WmUR5n4HL9HxUnkxAiin4wy439hyDQKoklkXtgNEiABEiABEiABEiABEiABEiABEiABEoiOgGNBNFCzzEMoqx2QfLPMl1RB9O3BRrf8+H/fyNp1W8xxxgzp5J5CeaR1QG0pXbIgOPjIqrV/yNjJn0XgrIJg5/YNjQjab9jMMNFUdVDdVGUN3a5dDYLl5kn7NMK+IyxNn+/4BCxTT0uBfLkM//bdxuL8TISyesEIoq/3Mn2e9t5i+QuCq1qXFiqQG1adZaWGWnZCnD199qJ06z9ZzmBvbz2ftQTRCxeuSJbMGeTXjdvklTEf2bfN/jH/KjJs4FNyHmWyZc0kZ85dlBadRnqUic/xe1ScRE5UEF2sFqKYxxeGqIXoviTSM3aDBEiABEiABEiABEiABEiABEiABEiABEggKgKOBVHNMq+Wh/5Nk68gaixE3x5kNMsJ0xfIilW/eTD09fWVGeP7SLmyRY04+Rzcyvfu94whaQRBWIiqfekT7V6JYInpUWE0J7Mm9ZNypYrIh599I4/5PyiFC+WWGR8ulUVLA70+aVuIqtv78LGzZd1vWz3KPV63qgzq3QYWnn7y1dfrZCpiYNpbDxVEm9eVPfuPSlBQkJQucY882fFVj/6/OeJ5qVm1vCxf+as0bVjTCKLeLEQ7x9P47b4lpb2xEP10lJn/3kYQ3Z+Uuse+kAAJkAAJkAAJkAAJkAAJkAAJkAAJkAAJREIgFoIosszDyjE5W4iqIPoxLER1Gz/9C/k6nCCq12vXuk9GD30GRz7yxpTP5Lsf/9DLrs12GdcLT7Qb5iEougrF4CBnjiyyGMKbCqvdB0yRBnWqSKsmj8hf/+yBm/07XmuwBNGe5t4wL4Ko3hj6YjtpXL+63Lx5U57uMU6OI8aobsZCtEUd2bPvmHzz/e/Su+uT8ta0+fLt9xvM/cyZ0stXc8fIzj2HjdDarVMTy0L0mYgWohoyQLe4jN9U4PCjQL6cxnL11JkL5slHalSU4OBgWb9xu5w4dU4yZkwn1avcK4UL5JGt2/cipuquSFvw80sFUbiQ3Fu6CATkVIj3uld27D4k2bNlhoWojtlHXjAxRPdFWgdvkAAJkAAJkAAJkAAJkAAJkAAJkAAJkAAJJB0CjgVR4zKP/tdu2j/pjCKee2K7zKvP+fgZ3gVRFck+mDbAxAb9dN53MvtzzyRHRhCFy3yIr0iTtrG3EFULzIG9WsuFS1flyadflWpweR8/qpvcvh0szZ4eLpcue8YAVRQqiE5GDFEVroe98XEEC1EtU6p4QfR/kB7K54u+l/c//docGwtRCKJq8Tpk5Puy8JOR8sef/8ng0KRPTzSoLkP6tpN3PvxKUqfxk64qiJ5FDNFnRpnn7Y/4Gr9dn5P9UPSvEfq5GiL1g/eXlRzZMkG3DJGLF69Kz0HTZMSgjlK6VCFUacUtmP7BElm87KcITajoOXb4c1IOYqiJ/YoFocL0f7sOQgT/XObMGmrmvzdjiEZgxwskQAIkQAIkQAIkQAIkQAIkQAIkQAIkkFQJOBZE1WVeZaTkLIjaLvM6aRO9uMzr9VrVK0As62KEtkkzFsJ9fL1edm1hFqJxc5kfp+7p1crJmrV/yeiJcyVd2jSyYv5Y8fPzk7GT/hch4ZF2wIohCgtRTFRkFqJa7uv5b0jGDOnlp183y4hxn+olYyHatgVc5vcdkS59J8q0N1+QiuWKQYwdKRcvXZFJY3pKlcqlpPWzo6UBYol26/yEnEUM0haRJFXSTsQ1ZIDpmIOPoX3bGutXHf/2HQdlN8bSuEEN8UvlK9ev3xAfXx9Z9u2vsBItK4UL5pVz5y9K83AxUDMgXqwmstLYq0E3bspPv2yV/YePQ0guJI/WrCgHDp2UokXymfnvPZhZ5h1MD4uSAAmQAAmQAAmQAAmQAAmQAAmQAAmQwB0l4FgQDVw+2djJ+Sd3C9FpVlb3CXCZDx9DVGfsjVe7SK1q5WGpGSKdeo2Tw0dPeUykJYjCQhQJqDb8+a/cuhVs7sNo0wjKarFoMs+D5kJYJ/71926P5/UkXbo0svzz102sz3FT5snKHzaaMrYoufbnzTJq/JwIz1kWoj3Rjg8EUe8WovrQ3HdflnsK5jYWj90HTDX1qIVo+1CX+ef6TpAnG9eSfj1bioq+637fKouRWX3bjgPSZ+h0eapVPen2jFqIQhD16jIft/FHGFgML1gWotVkL9z+u7w40cyB6WvnJuZYLV83wOpVY6h+88Ubkgb7zr0nyL4DYXFg7bGpGDp45HuyBSEK7E3DJYwa0kl8IazqbDKpkk2GexIgARIgARIgARIgARIgARIgARIgARJI+gScC6LLkFQJOlBytxD9GEmVVLx875MV8sNPf5mZTJs2tRTMn0uaQSSs+WA5c23OgtXy0dxvIsy0CqKaZV5Z6b8+wagN7vOWCIq9+rMjS73eVvfr70LFTveKHoEl4phXnkO5YAiOo+TsuUvmdjsIlj2fDZArV69LwFPDIbbedn/MshCFyzy0WBkeicu8PjDtzT5SuUJxZIu/DPf7V00dLpf5fUflOViIZkcW+cVzRkEQ3CuBv2yR/j1aydsffCmLl/9sBNGuEBnPIFanN5f5uI7fY1AOTlQQbQyX+a9X/y7j355vntRQAxNGdzP8m7glufoYVqAlihYwoqeKpLqlRtzQhR+PkGzZM8vK7zfKuGnzzHX3j4mju0tVuONjCqX34GnIMr/f/TaPSYAESIAESIAESIAESIAESIAESIAESIAEkigBx4KoyTIPoc0/IPnGEHVPqqQWnj4+PkYcNUE5oYBBn5Qdew7KkhXrvAqZOte2hSjUTJk9b5XcCLqJqwDnvqkaiu3XDdtl/8Hj1onb50v92ktDZITfi4zvKk7aW7Ei+WX2DFiwojq1Xtz41w77ltmHJVXyQZb5j+XncFnm7cJjhz0ntWpUMKJsnWaDTOIhYyHaUl3m0WafCaboZLjJV65YSg4cPiZF78kP8XOkEWc7wEK0u1qInlOX+ZF2tWYfH+P3qNDBiXGZhyC6YOlPJtapPlrx3mIyfXwfU0udgIHGUlRPZozvi3tFZdRbc+THdZvN/XsK5ZG5s142x8rXFkrNhdCPhvWqyksvtjdrgxai7mR4TAIkQAIkQAIkQAIkQAIkQAIkQAIkQAJJm4BjQTRwBSxEIRJa6WVCB2fcv/VYFT4V/WD5iJ1aQVqaH0RE67JVIrSYJTOGfpo6rBtqNxkmRKogGVotduYkmvb9mw7QkrHeNKnSh0g4pEJosI7HdB4GntoR/HsNlplzFnwvC5cGIkv7La/tGAtRZFnXrscmy7q2/dXc0ZI1a0aZv/gHeReWqu7bIriu586ZVZZ8vU6mvrvY/VZoDFFYiILp8EiyzOsDGh+0coWSSNh0RQI6DDd1WC7zVgxRW4Rt8lgNGdynjblvstu/bGW3t93Kz5y74DWGaOc4jN80FssPTfr0RP3qMmfhKljvfmtq0SRY708dKDfgAv9YyyGumie/3lMeuK+0TETyrBXf/WauV72/jEx4rbuZ/6d7vCGHjniGQ9BCFcsVlxlvWQLrC0yq5OLJAxIgARIgARIgARIgARIgARIgARIgARJI6gScC6LLJrtcv83gVOjEplqhJYbqiR6GiqC+oQWwsxzEw8oZUVXFRvOwiqw4NB8qkuqB9YxVJFSE1ZNQ13NTwCrm0X7tOAqikSVVKl40P1zly0vnDg0QfzINLDu3yStjPjTdCP/hcpnH+Ju0HSaXr0TMBh/+GffzCrBonAGLRmXWf9hM+fPvXe63ZeiLyKQO0e/UqXPS+rnRHvcsC9HoXebnwAqyCGKI7tx7RLr2m2Tq6NEZMURhIbp7P5Iq9bGsUrNkziBL5rwmqZDIacrMhbIUCYl0U0HUZJmHIBqpy3wsx28aiOWHsmkMNp/M+05mf77S1KJu8eoef+16kDRs/ZKr5okQPqvCnX6y27iecBOANSHUlSvXXeXtg0IFcsv/3nvFLHmTZf6//fYt7kmABEiABEiABEiABEiABEiABEiABEiABJIwAeeC6AokVYLYmeyTKr1tuaSPh+Xg16ssy0F7HuvXfkCGD+wIETZEXp/0mddM75aFaEPziHvMSruO6PbGUrN5XWPlaYxU8YDRnPFhBGKVSo16LPL8i5Nl197Driptl3kVnNVlfl0kLvOarT5zRmSZX79VXn1jtnneshCtA5f5Y3DTt1zm9Ua5MkVMhvt/dx40oqJesyxEn0BSpUtekyp17hD78Wv9sd2GIMv8E3CZ11AFn7gJoh9NHyTXr0EQbWO5w2v9Ggv0QcQCdRd6H6tTRYYNeNqInQFPD5cLF69E6EqRwnllzsyh5voLQ6Yjhui+CGV4gQRIgARIgARIgARIgARIgARIgARIgARIIOkRcCyIrkVSJRXi4mqFmfRQhPXIshAdbKxVJ6grdThBVEu+jYRE91UoJsdOnpWO3d+Um+ESG7nH0IyNy7zJAF8gj1FBjW2sm9WtJYSaC+b+7M++M9aQ9ghikmVe45B+gjikKpp+seRHmfXxMvO4CqLtmteRvci4bscQtesNvzeCaOcn5PSZSyauqPv9uI7frktDB+TLkz301BqzCpRXIWxGttlZ5j+FIBreQlSfa9TGzUJ0dA8kRyrjYSF6X/kSMm1cbzP/nXu/Jfu8xHe9HzFVp77R0/B/YTAF0cjmgtdJgARIgARIgARIgARIgARIgARIgARIIKkRcCyIBi6HhShGEdc4nUkNhHt/wlzmfWTidO+CqMulHTCmvLdYvvr6F/cqrKRKJst8iOMYooULIqnPuyra+cjkdxbImp+R7McyCw1rA+2OHd5F7q9QQnbtOwIrUcvlXQs8cF8pmTymF54WGRZJlvlBvdtIk8drIpHSbXmm11uuOJl2DNHdSOTUJTSpUlijnkdGEO0EC9HzsBD1llQpluN3byVjxnTy9fw3zVis6yEyaeYiWRbqtu9e1j424QTqVZdP53u6zBsLUeMy72khqtni3V3m8+XJIfM/0piqPki29ImsXbfFrtq1b9HkEenbvbkRTV8YSkHUBYYHJEACJEACJEACJEACJEACJEACJEACJJDECcRCEEVSJWy1mybfLPOaVEnFM1V+x09fEMFl3p5TtSKsDGvCk4jj2b7bWLnlZiVqWUg+biwwnbrMt29RR3o819S036LTKJPF3W7Tfd8O5Xo+G2AutX72NTl5+rw5tl3m9WSYl6RKtR+6T4YN7CBp06SRFat/kwlvf2Ge048eqK99C3/Zsz96C1FXlvmzyDKPzPPuW1zG715Pxgzp5Jv5b0CbDE2+hZvu4qV7WfvYJFVqUC00huh35rIrhui16x4u8xPgMq+CqLvLvFqlzob1bLF78skvJk7sR3bVrv37UwZI6ZKFIJn6CJMqubDwgARIgARIgARIgARIgARIgARIgARIgASSPAHHguhaWIhqwiT/gOQtiH6IGKIaotNbDFF7VqtVKSsTRnUzFrNTYLVoJxvS+yoIapZ1tTLsOXCKXEFm+qi2g4dPum7PGNdHKpQvLnv3HfWI4+kqEHqgSZ5mI1EQuilTZ8FK9RvLStVyme+FqyFG7Ny0ZSfcznNIQSQCql7lXnn0oYpGyLuI7PJd+k50CalabU91mW+hSZWitxC1BFFYiJ6DIArh1n2Ly/jd61EL0W9gIWrCBmCgWHoQRKOxEEWW+UaIIfrJvJWIIRomiH6EOb0WdEMatbZif2o73pIq6fXH6jwow/o/JcFYBFPeQXsrrURSeu/5pxtLx7YNDHeVaV8Y8jZiiO7XW9xIgARIgARIgARIgARIgARIgARIgARIgASSOAHHgmjgCliIQphKzhai6jL/sSZVwkCjshDVuf1w2kApWawQRMVz0sHNStS2kHSffxUu1Y1dNz3WMx+4wgfjqE7AAHMlW9ZM8qVmdPf1lXlf/iDvzl5urkf2sfiTUZIzR1b5Y/MOGTTiXVPMWIi+DkE0NOmS/ax7+2t/+VumvrtIzp2/bN82exNDFILoXgii0cUQtS1ET8NCtGUkFqLulbu3H9n43cvrsRFE50EQ9Q1jN/mdsEz34cvrubEQ1Szz81cihqibIKpJla7fiJBl/sHQLPPubvipUvmahEv3VyptMO47dFwOHDohpUoUlIL5csmvG/6RmtUqmPl8YfA0+ee//d66wmskQAIkQAIkQAIkQAIkQAIkQAIkQAIkQAJJjIBzQdTEEE3eWeZdgijEyvEzIneZ17ms80hlGTWkEwROxPucuQCxLdebKbYE0YaW8AkVNEybhK0jXLI1JqheU4vHYOzrhgqijepXk6H92pt7A4bPlE1bdkW5ZOyM6jfgrt+sw3CTbMi2EFXxVYXH4OBgOX7iHOKEnsC/J2XT37tlPVzBvW1qIdq2ZV3ZB+vUZ2MQQ7TrM03k7LkLXi1En0WWeW1fVcOYjj98n4zL/BcQRLUiVKJjijaGaKiF6KfzPGOIfgxr2mvX4TLf2jOGqAqiU7yIrH6pUkm/ni2lMdzvfX1SmfZv3w6Wb7/fIHPmr5KFs0eYee89BIIoLUTDTx3PSYAESIAESIAESIAESIAESIAESIAESCBJEnAuiCLLvKpSydlCNEnOFDt1xwikTZNaypQqLKlT+8m2//YbK9M71hk2TAIkQAIkQAIkQAIkQAIkQAIkQAIkQAIkECcCzgXRFJBlPk5E+TAJkAAJkAAJkAAJkAAJkAAJkAAJkAAJkAAJkECSJRArQVRNRGkhmmTnlB0jARIgARIgARIgARIgARIgARIgARIgARIgARKIhIBjQXTtck2qFIIs81YSoEjq5WUSIAESIAESIAESIAESIAESIAESIAESIAESIAESSHIEHAuigSqIYqOFaJKbS3aIBEiABEiABEiABEiABEiABEiABEiABEiABEggGgKOBVG1ENVM3xREoyHL2yRAAiRAAiRAAiRAAiRAAiRAAiRAAiRAAiRAAkmOQCwE0ckQRBlDNMnNJDtEAiRAAiRAAiRAAiRAAiRAAiRAAiRAAiRAAiQQLQHngugyuMzDRNS/af9oK2cBEiABEiABEiABEiABEiABEiABEiABEiABEiABEkhKBBwLooErJiOpEi1Ek9Iksi8kQAIkQAIkQAIkQAIkQAIkQAIkQAIkQAIkQAIxI+BcEDVJlUIQQ5RZ5mOGmKVIgARIgARIgARIgARIgARIgARIgARIgARIgASSCgHHgiiTKiWVqWM/SIAESIAESIAESIAESIAESIAESIAESIAESIAEnBJwLoguC02qFMAYok5hszwJkAAJkAAJkAAJkAAJkAAJkAAJkAAJkAAJkMCdJeBcEIXLvI/QZf7OThtbJwESIAESIAESIAESIAESIAESIAESIAESIAESiA2BWAiiSKoESZRZ5mODm8+QAAmQAAmQAAmQAAmQAAmQAAmQAAmQAAmQAAncSQKxEkR9NMs8Xebv5LwlaNuNnq0lmbJnEJ8QgS2wvVlHB/49LhtW/mNf5J4ESIAESIAESIAESIAESIAESIAESIAESIAE7ioCjgXRQM0yHwKX+YDkm2W+eMWC0vi5h81EqgyoIQLEx0duBt2SKxeuyeVzV+X4wTOyJXCnXLscdFdNeEw6++xrAZItV2YduBFEzfj1BNu/v+2TlXN+jUk1rjIFS+YRX1/r+aBrN+TkoXOuezwgARIgARIgARIgARIgARIgARIgARIgARIggcQk4FgQ1SzzKpP5N02+gmiJSoWkaffa0EAhhIb4Sgj25hCanu71A1fk1s3b8tOiTfL3z7sSc84SvK1nRwVI1tyZvY5fBdHvHAqivae0k9RpU5l+H951UhZOWZ3gY2ADJEACJEACJEACJEACJEACJEACJEACJEACJOCNQCwEUWSZhyiYnC1EVRAN6F471EJSpU/LulGFYEsPtc9Fbt8KlnkTVsqpw8nH6jFD5nTGolPHmj5TWuk47InQtRMi240gut7bWor0Wp8pbSVVGj81spUju0/KgskURCOFxRskQAIkQAIkQAIkQAIkQAIkQAIkQAIkQAIJSsCxIGpc5tGl2k37J2jH7mTlJe4rJM26+yMyAARQiHibVm+XHX8ckFSpU0mOfFmkesMKkjVXJnTRshTd9stuWf3Z73eyywnWtoqj3ca1MKKwsvj3d1iIfurMZb73VFiIpvEFLh85soeCaIJNFismARIgARIgARIgARIgARIgARIgARIgARKIloBjQVRd5tU+MlkLouoy3+NRjFJtQ0Nk7cJN8tePO1wwy1YrJg2fecicq9Xj0b2n5IuJq1z3wx9kzpFRchfMLrkKZpPg4GA5e+yCnD5yXi6evRK+qNfzgqXySI68WSVzjgwSEhxi4pZeOH1ZjkJcDLp20+sz+YrmhEWmzpTIjes35QzatLc06VJLzvxZ7VO5hH5cRmxUb5sKot3fagmrYB8J9gk2MUS/mxO1hWiWnJkkY5Z0rupa9asvqfxSGQtRjR/6w/wNrnt6cPXSddHxRLbFZvyR1cXrJEACJEACJEACJEACJEACJEACJEACJEACKZuAY0E0cPlkSIQ+iCGajC1E3VzmdXn8uPAP2ewmiKqg2HNiK/H1gdUjNEdNtPT+y19GWEmp0/qJf6sHpUKt4rhniZOWy70WDZEtP++Wn5f8aZI1RXgYFwqWyC112laVXIWyh8Yu1cfUahV1YS/BIr99u1V++2ZrhMd7T2snaWDRCv0UbuonELfze1eZQhBYW/evb+ZRBd91X22Wjau2u+67HxgLUSOI4iqa3f7bXsQQjVoQrde+mlR8uCT4QERF+yYWa/jxh8Zh1fa3rd8rq+b+5t6sOY7L+CNUxgskQAIkQAIkQAIkQAIkQAIkQAIkQAIkQAIkAALOBdFlSKoEYSy5W4gGdIeFKAQ9FX8DF270sBDNVSCbdByOuJoQ+9SN/NShs/LZm996LKgMsJBsO+AxyZoHyYn0TqgwGCIQUXGCU2w+cuHkRfnfm99EEEWzIalR+6ENJW2GtCgXjJKoRUVQ3ZsKcYjTzT/tlB+/2IgTz63PtPawyrQE2yPhEhmpINqqfwM8gFpR57qlKohu86wg9MwSRC2XeW1/++/7o02qpIJopUdKeXY3kvFr+9sgsq6a6ymyxnX8XgfDiyRAAiRAAiRAAiRAAiRAAiRAAiRAAiRAAimegGNB1GSZh7jlH5CMLUQRQ9QkVcLyUA0yEBaif60Nc5l/tGUVeaBeGSNIqlC55eedcAP3FCUbPFUdlqEltQb8D8InXMK3/bbHuI6XebCIZMulWdxV6gyRP2CdqVaa7ltt00ZZ075KqJt++E/2/3tUrsG9PFvuLJKnSA6pULOE7Nx0QH7wKoi2Ez9YiGr7h3cis/vUcBai/Rq42v/lqy1RCqI9xrVELRCHjct89IJo+RrFpXDZfGY4qt2WrlLUlaTp2uXrcmD7MXPPFnZVsN2KOKzuW1zH714Xj0mABEiABEiABEiABEiABEiABEiABEiABEjAJuBYEA1cAQtRqIS1mw6w60h2eyvLvG0hKnLywBk5e+KiERhzIPZmzrxZYFxpmWlevxIkc8d+I5fPX3VxyA0X96deaiRqDArPcDm044Qsmr7GaKN2obaDHpcCxXPi1EduIVP9x69+ZVzv7futEXezUOm8KqfKhVOXZPbIZfYt1z41MrdnR19OwkI1/NYXiYx8kchI2z+8+xRc5sMyuxcqlVc0rqftym65zEduIaoxRM2GurZvcJ5Uqc9UZJlP7adDlaMxzDIf1/GH58FzEiABEiABEiABEiABEiABEiABEiABEiABElACzgXRZZON0Fe7SfIWRE1SJVh2+qoVJ4RAdZ7X2J0qMOrHjaDbcuDfY/LT4k1y8YxncqRqj5eXWs0qGwFUXepXvP+T7N58yGPF3V+njNRGfFFLVhVZMvNH2b/tqKtMs17+Uqx8QVf7f8ClXd3jL58LE15dhb0c9EUMUU1kpO0f2eUthmgDY32q7UfrMg8LUXv8/8Yghmj47vSe1lZSq7UqOhPTLPNxHX/4PvCcBEiABEiABEiABEiABEiABEiABEiABEiABJSAc0F0BZIqqcqmIqFRB001+DBKofnUYxXarE+jH5oPqwSumwOIi6aQxtNUx3NrC6vFaiMEbejdEDxksqbjPLr245rwqYTtMo/OhLWPIWgXrW4hbug5+Xb2L3L2eFj29tAhyGMda0h5uLPrWPRj/9YjEFWRAUkHbC6KpM2YRgqVzGPOFWfgAk+3/AfqlhV1G3dvX8FpRvuDsDjd+ecBk63ebjP8XgVRXyNCwioTLukLprpbiFoxRM140J91yxBD9LuoLUR1zrT89g1IqvSpZ7zP8G2HP+8zpa34IcGUbkdiaCEa1/GH7wPPSYAESIAESIAESIAESIAESIAESIAESIAESEAJOBZE1yKpku1qbdQ81fhU0TOypvVpndkypyV4msZMKT1Scc1SBt1LWZIbrustlzWmnqoYimtoxwhzRoi1WjECZbj24yyIIst80x61Q61BIWhuPyqnj5yXUvcXkaw5M6Jv2kdfOX7glMyfsAp9ssai49KtzcDHpECJXOiaTQK+8ygT2mMzTD3WhELBOk4c/4kYoYGLNunjZvNN5Sst+9SD23weU78Rg7WkAWC1f3DHUfn2k1/l6sXr9mOufR9YZfqpmzrYHd4V0WVes8zb7f9issxHLoh2G4ekSmYCfJBlfk+0WeZdnQg96A33fY1nquM8vAfxTCeHibPhy9rncR2/XQ/3JEACJEACJEACJEACJEACJEACJEACJEACJOBOwLEgGrgcFqKowT+ZxxA1gqghFSI/Ltwkm3/cIT7wn28LsTNfsZwQE32N9ebqub/JtvV73JlKa2RwLwjrTxUAVZBUV3vd+6hwa8RcPbXumnMce0vMpCKkZmu/F0mK8hfVeKO6qTys1Vjtn4FQq1nqQ9Sv323rPbU93NQ1HRMEUVhlLpzillQJsUlbv1jfKo3+rIsmqVI3xBAN7S0EUViIznFmIdobMUT90kAQxThj6jKvnYvL+K3B8ZMESIAESIAESIAESIAESIAESIAESIAESIAEPAnEQhBFUiVstZsm4yzzsBANgIWoJT76eLizaxKjjsOeQHxOCJL4R+OHfjJquQTfhkt86Fa/Q3Wp9LC6zFsWrbNHLJVbN2/btz32xvoV5W7euCU3rt/0uOd+kjFLeikAkbVY+QKiWerV4tJ+dtm7gbLn78PuxaXv20hk5Odn+nB09wlZ4GaVqVngH+tU05TXOqLKMq9CZp8p7aBOggYEzV2bD8jXH/zs0VZ0J5pUyQ8JoHSLqct8+Dqdjj/88zwnARIgARIgARIgARIgARIgARIgARIgARIgASXgWBBdCwtRtW70D0jegqjtMo+hSuBCxPeEhai91e9QQyqGCp4+EiyrP/td/vklzEq0Sv175ZEWD1jFYbi5aOr3cFs/YT8eYa+Wp+EtPCMUcrtQuEw+afViPSN2avu/LNsiG1Z6urx3f6uVpM+cVjVdOXfionw6ermrhvodqknFWqWMyKku+OuWbpGNSNoU2dZrYmtJkyG1MWY9gdipn4/7NrKiXq/3GI++ZEpjBNUzxy7I3NdXeC0X04sxGX9M62I5EiABEiABEiABEiABEiABEiABEiABEiCBlEXAsSAauAIWohDZUqqFqC6PbLkzS+eRTSAo+prYphdOw0r0tWUuK1G1Iu0EK1JfP3U09zGJl5bOWivnT132WF1p0qWWCg+VkMp1ysrHr37lcU+TMl2/EiR7kZApfIzSnAWyyTPDGyNRE+KPqmC7+E/5c82/Hs8/9VJjyXNPNtO+ip5fwEL06J5Tki5jWnn65UaSKQdioaJvPkj2tA6CamRJlbRStYjNWSibEUT1XGOdapiAoGuRW7RqOXt76qVG6Et2I4hqfxdN+14O7YRAjHUU2RbX8UdWL6+TAAmQAAmQAAmQAAmQAAmQAAmQAAmQAAmkbALOBVETQxQWosncZb4ZXOaNEAkFb204C1FdMo2eqyVl4bqubvGaIGr1ZxtgJbrbtZpqNass1R4vb0RAVRJDbiNDPBIKXTxzWfwghKqomiNPZuNKHgzBctoLn7ue1YN67aohfmhJuXD2qhzeeRxWnpfk6qXrkjN/VikOl/5seFbb1fYXwwLVCIxuNTRApvsKmuleTVzRvoYuPb7/tGTNlUnSZU5nSuo1PA4L0cizzGvBqo+Vk1rN7rfq0Vbx3K1bt+XK+atoX+TqhWseLvn6jPum7vnlqxe3LikL1KFib9CVG6b9XX8dQhzTv9wfifP4PSrjCQmQAAmQAAmQAAmQAAmQAAmQAAmQAAmQAAmEEnAuiCLLvIpoyd5CtHttV96jwAVwmV8b5jKv7HIVzGYsJ1URVM3xEmKJzh4VZiWaGjEzA3o8KoXL5rcsK30hBKpFpz4cKkTahxIcLFN7z9NT11a3XVWp9Ghpc24Ll+Y5vaJmlrDs1L1akC59d20Ea8tcBbOjf42M+Gied2v/zzX/yQP1ypq6tSu/QIzcuGq7Off2oZasT7/SWLLmzGTddmtf+3QJwuiHw5Z4e9RcUxH2mRFNYDFrZZoPP/7tsDZdheRU7ltcx+9eF49JgARIgARIgARIgARIgARIgARIgARIgARIwCbgXBA1FqLJP8t8gLsg6sVCVAE26+EPa82ChqVak66Zt1G2rttlszX7slWLysPN7pNM2TMZHdOYVxpBUQVSkcNwY9/79yG4vP/n8VypyoXlPv8ykq9oLkmNxEa6WbaVll3oTSRg+vvnPYgdujVS1/V7qxeTeu2r43kkgIIYewuJmzbBtf7QjuPSuh+yzKMfliAKC9EoYohq26nT+kmNJypJoVJ5JDusU9OmT40OQZhVMfhc1IKoPq8WsRpbNV/RnJIxa3rJANd9n1SamEpk+/q9EEQ9M9fHx/i1XW4kQAIkQAIkQAIkQAIkQAIkQAIkQAIkQAIk4E4gVoKoqmDJ2ULUHVB8HadNn0ay580sWWBlGXT1hly5eN24z0eVWV7bTgXRMBtikmaAm3uGTGklCELolfPX5NypS0bgjK5/KlzmLpRDw53K0d2n5PZtWJbeRVtcx38XDZVdJQESIAESIAESIAESIAESIAESIAESIAESSAQCjgXRtcs1qVIIsswPSITusQkSIAESIAESIAESIAESIAESIAESIAESIAESIAESiD8CjgXRQBVEsdFCNP4mgTWRAAmQAAmQAAmQAAmQAAmQAAmQAAmQAAmQAAkkDgHHgqhaiGpiIAqiiTNBbIUESIAESIAESIAESIAESIAESIAESIAESIAESCD+CMRCEJ0MQZQxRONvClgTCZAACZAACZAACZAACZAACZAACZAACZAACZBAYhFwLogug8s8TET9m/ZPrD6yHRIgARIgARIgARIgARIgARIgARIgARIgARIgARKIFwKOBdHAFZORVIkWovFCn5WQAAmQAAmQAAmQAAmQAAmQAAmQAAmQAAmQAAkkKgHngqhJqhSCGKLMMp+oM8XGSIAESIAESIAESIAESIAESIAESIAESIAESIAE4kzAsSCa0pMqpfTxx3nFsQISIAESIAESIAESIAESIAESIAESIAESIAESuIMEnAuiy0KTKgWkzBiia1P4+O/gWmXTJEACJEACJEACJEACJEACJEACJEACJEACJBBnAs4FUbjM+0jKdZm3LERT7vjjvOJYAQmQAAmQAAmQAAmQAAmQAAmQAAmQAAmQAAncQQKxEESRVAmSaErNMr92ecoe/x1cq2yaBEiABEiABEiABEiABEiABEiABEiABEiABOJMIFaCqI9mmU+pLvMQRFPy+OO84lgBCZAACZAACZAACZAACZAACZAACZAACZAACdxBAo4F0UDNMh8Cl/GAlJllPqWP/w6uVTZNAiRAAiRAAiRAAiRAAiRAAiRAAiRAAiRAAnEm4FgQ1RiaUEThMp8yBdGUPv6YrrgnG9eSOo/eLwcOHpfJMxfF9LFoy9WudZ88UKmUFMiXU9KmTW3Kf7P6d1m5ZmO0z6a0Au9O7i/p0igjn9D/hehvGTJo5Hty+swFxzgqlism7ZrXxdsfLMPHznb8vJMHdP3UxfrZf/AE1s9CJ48mm7LvYf7Spk2D8YRgBjVys7UNGvFuHOavjqln+NiPkw0nDsQ7gfh+/723wqskQAIkQAIkQAIkQAIkQAIkcHcSiIUgqi7jkmItRDWGaEoef0yXea/nAqRtc3/5d+dB6TFwakwfi7Lc6Jc7y6MPVTL8wwr6yMefr5RP538XdincUYF8uSRvnmxy9WqQ7Nh9KNzd5Hu6cuGbkj5dWtXTBFEujKimJ227vC7HT551PPB6EChfHdxRQoJDpE6zgY6fd/JAr+eamfWzfecB6RlP68dJ+0mh7MqF4yRdujQqZ2PTTwja+GwXy/lTgXkk5i8YqnidgISdP+0xtztLIL7e/wL58f2ZG9+f1/D9uSvlfH/e2dlj6yRAAiRAAiRAAiRAAiRAAglNwLEgalzG0avaTfsndN+SZP0pffwxnRQjiD5ZR7bvPig9B6hVcdy2mlXLy5sjuhhRb/nK9fLLhn/kVKiV45mzF+Xc+UuRNtDj2abSvmUd+W/nIekeD32JtKEkfKNsqXtELQ51a9tlTKwEUUtQ6xQqqCWshbgRRJ/0l+27sH4Gxn39JOGpiVHXdP7endzPrP+2z2P+TjgXtF3zZwTthJ2/GA2KhRKNQFze/x6dm0q7lnXxY9JB6d6f72KiTRobIgESIAESIAESIAESIAESSFACjgVRdRlXW6WUKoim9PHHdDXGt4Vo7y5PSqsnH5WTp85Lm+dGx7QbppwKourqrdah3QdMdvRscilsCyIhsA5s1xUWorEQ1LJnzSRFi+QzFqd/bd2doGh6hloY/xePFsYJ2uEErtwWRNVStF0sBVEzf/fkM1ammxN4/hIYB6t3SCAu77/5QQnfn//toSDqEDuLkwAJkAAJkAAJkAAJkAAJJGECjgXRQLiMa0Q7/xRrIZqyxx/TtayCVrvmsBCNJ5fn1195Th55qKKs/vEPeX3SZzHthiln/qBvAQtRFURTqIWTEUSm9EcMUQiisXS5dgQ9joVtl3kr5AKt0uz50yCwsQ15EMcp4eN3MQF7/cTm/Xf9oLRHvz9T5g9Kd/HUs+skQAIkQAIkQAIkQAIkQAKREHAuiC6DOAET0ZRqIRqYQsafL08OyZE9s4m7uf/QccmUMb1UKl9cypQsLIePnpJt/+2Xo8fPRLKsRFTQagOX539DXZ4zZkgnmpRH/zA/BuvE7Tv2y6EjpyJ9Pk+ubJIrZ1bX/b7dWsi9pQvLL79vk/8t/N51XQ9Onj7vkWQmS+YMUqhA7tAyPtKiycPSoPYDcuDICRk3db7Hs3qyc89huXXrdoTrsb2gCZ+ywZry1GkkLsK78kjNihJ8O1jWb9wuJ06dk4wZ00n1KvdK4QJ5ZOv2vfLn37siNGWP//r1G7L3wDHx8fGR4kXyS+WKJSUdkknt3ndENv61U4KDgyM86+2CJYj0g54GC0MHLvNFC8MiVE3CsYXujIXhfiTLSshNLYzbIAathjnoAZf5DFg/lRysH7tvuXJkNes2N9ZS1iwZzZpVnvsOHJdr14PsYlHudT4rlisu+fJklzSp/eQswjPo2lUr2Zs3b0X5rN7UOK4lixeQksUKmnWxd/9RI86fOHku2mftAmb+4DKvwWDbdo25y3xRWITq5j53OoH6Tke1xef6i4/xR9XXqO5lz5ZJ8ufNKbfx/tnxg/Pmzi41q5WT3DmzyfkLl/EO7pP/8D0V2Rax/8eM+/jxGM6ftX6KYf3kkNRIcnYWIT70OzSq9ZMzRxbJkS2zBN24KQcPn/TatVLFC5rr+n16+co1r2Xsi07ef8/vTzHfn/X9H5SDWDPjpnn5/tyN78/bkX9/xmb8dr/ja69zWLxofimG9yFf3hzmHd6P7wCdAxWJo9qcvv+FC+aWzJkyyJWr1+XAoRORVp0qla/576kWOHz0tFy8dCXSsrxBAiRAAiRAAiRAAiRAAiQQ/wQcC6Imyzr+fvAPSJkxRFPK+Pv3bCWa6XvLtj3y3icrZOLonpI+AzKWa3Ye/fsRmaXmzF8lsz//zusflJbLfB0kVTog0977UiaN6QlRCwl+dMPzmjV74bK18s5Hy7w+37XTE/J06/rmnoqB5k9WzWbl1r6pB/c+/swzqVKdhyvLqKGd0JDKQJqIRluzjrBzta8X9W7LTqPkzLmL5lZ8fAzt21YaN6guq9ZukqqVS0u2bFlM+/oHb89B0+TVQU9L2ZL3mO5p+9PfXyKLl//s0bQ9/l17j0j/YTPl7Td7S7Fi6q4exn/T5p0y6q05cunyVY9nvZ2oIKIxKHVzYiH6w1eTRP9wd+cfjBiUdZslbAxKe/2ohfHbZv30kgwZkXHdbfwLvwqUmR97Xz9FC+eVYQOfltIQjUKwRsLP/+XL1+SNKZ/Lrxu3ecNlrqWG+DmwV2t5vM6D4gMGJpuXW/vXkGRmxJufQJjeEWkdmgRscO+2oiKTlRIJRXUZQ4SZ88Vq+WSe9/cnfIVm/qZYgqgTQfvHpZPEx9fXY/wxSYoVX+svvsYfnkdMzwMaPiQDXmiNH3auS+O2L0vLpo+YH2v8UqVyvX+6Nr5YstaspfD1av+HYP4yYf7c5z9EguXTeauQzG2V1+8vrUfXzyC03QBiovUOmbfIzL+uyGtBQfLqG7O9rh93/s+/ODF8t8wPJGZusbZfGz9Hfvj5rwhl3C84ef/rPILvzyHPmMd1nUb3/dvimZGicZzDb3EZf/i64nLewL+KvNi9hWTKlN6qBtNgvhEw8UdPnJaJMxaKfpeG32L7/j/dup7o/F24dFWadxwJMd67WFzjwXtl3Miu5t1s9/xY/FAY+Q+M4fvGcxIgARIgARIgARIgARIggbgTcCyIBq6AhSj+SKrdNGEFkbgPLWFqSCnjtwXRE6fPSSZY512DpeLP67cai6r7YaV4H/5VIWHRsp9k+gdLIsC2LfzOnLkoaWHReAOWdOt+24o/nC/ByrGE3F+pFJ4PkZVr/pA3p34e4fmHa1SU6g+UNfqXtlPzQVh05cpqrKU2b91jxAz7oV83bDPWl/Z5aVixNn2shvUs/vgtX7YIrIMKyvlLl+XnX/82xVSa0Hp1e/eT5XLlynXrJB4+h/RtJ0/Ur472Q+TfHQeNNWfj+jUklZ+vBAXdMALDsm9/lWpVykqRQnkhxl6SFp1GeLRsCyIHYdV6EX9YF4CVm1qYnr94RR4Av7Jlipr+L/hKReWlHs96O7EEkf7mGSdJeYYNfEp8IbroppZ1FWElHAJrO/8EzzIfgCzzdeT02Qtm/dy8cUt+1vUDVpXRh/vvK23GsnLNBqyfeRGG/GDlMjJxTHdRC9stWC+Hjp2Gxe45yZ41s1SBSF2qRCF8jwXLjA+XmjUcoQJcGAAxNKBRTRQLMW2r+75ahOpclClVWCrcW0zGTJwr3wf+6e1x6d65iXRAMhpdaWqFvGnLTrPOSuPZh6tXAFeR73/6S8ZMmOv1efeLOn/vqaCNuWj7XMyTYg0bgPlDQ2oEp5ZxFdFnK8t81N/f8bH+4nP87iycHAc0rCkDX2gDC8rrMuz1D2XK2F5yHVaXu/FDg8bRVSb6fbEeSdr0xwX3rTuSCWkyNl3+u/YckT8gmqnVXxmsnYdh9a2i2hrM/WisAW9b/174UanRQ7DiDpGf8N2pVqi6fvLD4lgt7SveWxTr539e14/Nf9e+w/J830kRqleRcu0yy3095oJozN5/7VsTfH/qpvp/+TJFYN1cAN/9VzAOfH+6f3miTGTfn3EZv2k8Hj5eGdABP2hUNev/0NGT5rvgyPHTxmpYPQ5Klygs7326Qj5ftCZCa7F9//PCkvyLD14VwW8oQ0d9IL9v+jdC3XpB383H8GPL1n/3S+8h07yW4UUSIAESIAESIAESIAESIIGEI+BcENU/wvB/9Gs3ifoP6oTr8p2tOTCFjF8F0WaNHzJ/9B+BmNT35Rkebum9n0eSo2a15TZczdsjSY+6rbtvRhBFlnnxDTHCw4svvyPuLsLdn2ki7VvVM+L6My+8FaVrodY7aXQPqXJ/Gfn6u99kwowv3JuK9tjEwEMM0R27DidKUqWhL7aTxhBEd+87KmrdpVZWT2Gs3TBm3QaPfE82/PmfsSD7dv4bxo22c++3jBu3PRgVRJ6CpZGKLlrPoFdnyTm49+qmYsiooc9I7Vr3Gcu35h1HGNda+1lve0tQs6y6nQii7nXVffQBGQnr1mAoInUCBrrfivdjO6mSjl9dgl98ZYbH+lGWHaJYPyVhGXp/hZLyzZrfvYrd/Xu0lGZPPCxXYF3b8tnXjHDqPog0afzk2wXjRC0Jl3+3HlZkC9xvm2N1Wb6J9e8tfMC9pe+RWRPBG+t/zvzVMhtWzO6uuQ9VKy9vvPo8jA5DZOCI9yC2RW5lqo25BG2Ub/s8kmKdPBuhP9FdsLPMhyDMQnSCdlzXX3yPP7qxRXbfWIj2biUqqF++fB3i016ZMH2Bh1W1hua4DyL7GojT9mb1v59519QK9JPPVxoh2b5vz5+Kg4NGzDJiqX1P92ngGq/rJ5Wfj6zAd9ZEtBl+0/WjoTr2eQk/YfPfg3e/S99ILET1v0Vo/7UJc+THGFiIvjc5du+/ZplXYfg/uMbHNIZoXMcfnlVszs0cjehiHl289Cd5d/Zy876616XWoxoG4+vVv7tfxvzF7f2f8VYf/GBSHF4CG+WNyRF/8EuL9bFk7hjJmD6NTHl3sXz1zS8e7fOEBEiABEiABEiABEiABEgg4Qk4F0RXIKkQzEZSbFKlFDJ+YyHaqJaxchwHC7yVazZ6rEbrD7rRkhFu8F8sUdflpR73LQtRCKLYJkFMUlHJffPzSyVfznlNssIV9evVG2T82xFj07mXnwhBtCoE0RWr1htBw/1edMc98Qd9O/MHfeIkVRoCl/kn4DLvPi61Bh0/qhvkPZEn2g1zxfz7+O3BUhzWV0NCRVJ7LMZCrBVCBsDK1JuVUfmyRWXmhL6meKde0QvKlqAGgQdPxDYpT71H75cRQzoiHqpIncRwmYegruNXl9YVUayfb7B+3opm/dhc7b1mXP/qszFGkB86+kP5Dda37psKqh9NHWTa7z3kbfkHVlxOtlkTXpR7MUe///GvDH3tfa+PTodoonFR/0bdfdBGVJtL0AYPM38QiZ1uliCK+YPFYp1oLHzjuv7ie/xOx2qXV0FUwx6ou/ue/ceMuOguTNvlwu+1/+Vghf3bn9vN+xf+vp7b87d1Oyz8hnrOn66fD6cNMo9Z62eftyoivWbzNxaiL0ZmIWpdf2383Bi7zMfm/beSKtWRnUhK120APERisMV1/DFoIsoi+t+XubNeNta4//63X3oOnhZl+fA34/r+N4NlcH+sOw3V8CR+sLoBq2T3TX/MGv1yZ/ODYvNOI+UCLP+5kQAJkAAJkAAJkAAJkAAJJC4Bx4LoWiQV8sEflynVZT6ljN+4OzasJbegfj3R7pUIFnS6TI3LX90qSLB0UHoNmuqxcu0YkMFwS24CAVBdTcNvg3u3kScer4lkHSekU69x4W97nE8a00PUDXrFKliITndqIYqM97AQ3blL/6CHVVUCb0PhMt+oQTVZuDRQ3oFLtm7qXv3O+L7G27ROwACXteCM8S8a19lR4z+FlddmV89sQUSTldRvMdhV3i6QJXNGWf45BD0oHAOGv+s1Bp5dVve2oAaDMmn3fMyT8rjXoYLaiEGdMIbgBLcQ7dUFLvPNIIjiH11/ka2fJg1rwELzpDwTzfpxH4d9/PW8sZIRyU/U+jO84KrhARZ8hDAG4Dv/yx9kFqzLYrpp8qalEFvVunXkW5/I2nVbvD6qAvOrgzvBevGmNGzzkkn847UgLrrmDxPYrmvs5s9uTwVBXYNRbXFZfwkx/qj6GtU9dZkfAJd53UaNw1z84n0u3Ouw+v+6CRk6Eu/l2nVh76V7OfsHgqCg29KozVCP+TPr52MNgxEi85eslVmIdetks/lr8rQukcQQXbsMgijW52tvxUwQVQvR2Lz/KogaC9GdMbewj+v4nbDyVrboPXnl03dewq0QeXnMR6JhVZxscXn/tR39fl4y9zVYmPsizvCnEvir57ob88qz8ijCLqzf+K+8NPoDJ11jWRIgARIgARIgARIgARIggXgi4FgQDVwOC1E07p9SY4iGjl/FDhVroA3DikztbjR1Dz5x7qMx+4LN36r4cKVSMVOmZcwGK1uNz6bisjmwLuLTKmE95Wol9KoWCnfHS/v+0YgdpqloPiyX+VpyGq7wreBS7G177qlG8kzbBnIaCYlaPjPKo0hPZJlv96Q/Yl5ekmZPe8bHtAs+haRJ3Z5pLNeuQRBqPdS+7HUfFwvRMJd5WIjG0MLJaydieFFd5hvVqy7/W7BaPvzfN+ap0og7+At3Q2kAAEAASURBVP7UAcZS6LGWYWOd/HpPqYJ4mCryqthrbyqIKJ9jiHfXvutY+7Jrr27zP0IQ0eXzGmJQRp9UpTCSKoXGEOwSF5frjnIbi7xuArvM2xbGFy5Es346Yv0EeV8/yqgWYnU2rFcVsSKzS56c2d0Se/mIX+pU5v17+72vkNTqJxdb+2DWpH5SDq7v+mZvRjbq9UjApBnJNYRBeIsv+xndq/g9462+5p29fuOGcbV2vff6zmshvPz6PZE2rZ85VkF3fxQZqW1BVN9/4zIfGwvRR+6XkWrhawTRqEMexGX9JcT4FVlsNksQhYUotrZdxniEXYisvgqI7TkDP17oTGnMX+Wl38TKXjddV3rPB6Fj0vr5me//zl7mb9ZErJ8yun7EWj8btsNlX9fPEayfW1pVpJvNf/dexBCNxEI0sd5/I4i2qAuX+YNwmY+ZhagOLC7jjxRMDG9oDOqxrzyHaQqR1s+OjhDSJSbVxPb9t+t+EyExHqpWzojwI8d9al+GV0U64y6vbvkag1jj0HIjARIgARIgARIgARIgARJIfAKxEEStP4hqN+2f+L1NAi0GLrf/IAwTJu1u6R++lkyqe2uz/pS27thX7FK23KnnofKqKaLHpgLszJPmw1x11at3zGWPK1bN8WG9OwAJQdTtbwfixnXr792qsjliMPZDLMZgxCRs0GKIqDWjvRkLPwiie/Yfl+f6jLcve+w1E7u6l2uvAzoMM8mDPAq4naiFaBVYiH4dKwtRWDiZP+jVZd77WNyaivOhSaoEC1HNID778+9MfSWKFpCPpw+G+Hsd1oAvu9qYMLo7QgGUlSkzF8pSJFqyN2MhhhiimmU+SkEE7GKaVMWKIRgHQQ0WjSNh0agWhvEhuttj9bYPWz/HsH4meCsiun7UGle3puHWT8aM6WTaGy9IyeKFQAjvCl4WdUu9fOUqSltvpya30YRD73y4DNa8a7Uajy0/Eu6MwHhVFIUKFvq+iUmMo5nl50Dw/nfHAY9n9KRhvWrycj+rX8dPnsf7oe9F2DeCdWy9vfoW69v/6puzTaKfCJWFXlBB1CVox8HCd+RgFUQR8iCaH03isv4SYvyRcYnuunGZf6EVrDdDjKW1fldFtzXC/L3UH/MHTsdPnjPfb2HzZz/t+f3rbf5c6weiaNjzIVg/t2UjYsbO/WK1bPeyfrSFuPC3e+i+j4ug3hMWou30+xMW9t0dWNjHZfzufY/NsSYz06ReN5EA7rHmg42o7bQeV/8dvv92O3XxA8SIIZ3kBkR1dZu/ei3I3NIfaF7q116u44ecZk8Nh+ju6U5vP889CZAACZAACZAACZAACZBAwhJwLIiuhYWkWjf5B6RMQTRhpyPp1G7HEN19AC6bfSIm9dCetgp4VPp0fVJuQ2So33xIqHBgjcGy8PM3WeE79fTuDt9UM0AjzppaXD3eaij+QLwRKYCJKhyqy/xqdZmPmKAk0gdxw7JwQlKQxEqqZFzmq0MQXYlkLGGC6EeIF3oNY2zkZg078TWM64GyMtmbIIoYorv2QxCNIqmKynQxiyEIC9FJcJOGLtcOlnKxScpjuVx3NNbPCR1DVJMqtUMM0QNHEE4hivUz6IXWRqhs2Oolj/UzBtZhj9SsgBh+QSZswfc/bYogPKyAy3ymjOll5kdLZQHCG3jbdG2qxWPNqvci3mdxc6wQ1UhQfwB4Ge6uG/7c4fFoPSSfehXCoypqHXu8KYeOnPK4H5uTsshM/94kuDyb+Yu9ha8KvCoK1o1hDNHYrL+EGH9smOkzliDaGiEXrknjtq/EqBq7/2p9/XTPN+I0f75YKOVd66eElEfMWH1nVQS31s+HJsFa+I4ZQTSJvP+2hb0VcsT+QTB8j72fx3b83muL+VX9b1Nv/LcpBOp/g5b4sQ7Jq2Kzxeb9t9vRONtf/W+MZEifVsZO/p+s+nGTuaWxpKtXuVdWr90kr0/6n12cexIgARIgARIgARIgARIggUQm4FgQDVyBP4jwh2JKtRBN5Pm5Y80ZQRRZ5s+evyyaxdzbZlkx1TduqG26jPYo0gsu822b10Y252vSpP0wj3v2Sad2j0mXDg3lAsqohWhU20RYiJqkSppl3nEMUbUQVUE0cVzmjYUossx/Mn+lh4XoR9MHmVisDVtrbDtrU0H0wVBBdJlXC1ErU71d3t7rH+o/Iss09LEYWYiWUUEt1GW+HbKUa+Z2p5tJygOLp2BYXUWXlMdp3eHLWzFo/eUi1kbTqNYPwjao5WcALK3sTV1Sv57/hhEtTTgBt+zhHmW+eBMetSEy4yPvFqJ2Wfd93jzZ5fG6VaVzuwbim8pP9u4/GsGCtXTJQvLBZLikQ1Hr89IM+XvbXvcqYnWs8/f+FAja2FTQjtX8hbrMq0gUkyzzTxsLZefrLyHGHytoeEhd5gdCNNcYtDEVRE3/p2hIgfibP7v/un4aYv3od1+qVKlkL9znn/Pyg8fzCAXRsU192a2JoLxYSLvinKLimFiIx+X916R0bVvVlR36/RlHC/uYjt/mpYKqPmNZ2OL/eGDT9922tjQXvHyo4Dh+VFdzp0O3N+TIsdNeSjm/FJP3373WV/p3wPfFg/KbSa72gei8LUEyQV/EFvWWLM/9WR6TAAmQAAmQAAmQAAmQAAkkLAHngqiJoZlys8wn7HQkndoH9LRc5tXBtAUE0XMXLkfo3NjhzyFGY0X5Z/seZFme4XHfWPg1r6PaOeKLjpQzZy963NeTEbCiU5FN3cK7eomT5/7AJGSZr3J/abjM/+5YEO3ydCPp1PYxI14960VccG8nPo6tpErV5VPjMr/SVOlymb8Ol/nWYS7zavmqguiUdzxd5rtpDNFWcJlHvMrno0iqorZmo5H45Qe3hEzexpAPosIXmiQIMzJ41PuyYdN/3opFec3OUg49FBaGljgX5QNxuGkE0Sf9TXzGVohPe/rshQi1WevnAbiae8ZZrFS+uLw9ro8Ri9VV9dz5SxGeva98CXn7zReMxaUmvtIEWE62fj1bSvPGtWAdHSKPwwLtppsFmlqEfbNgnGlfEzYt/269k6q9llUh5ouPXjV1xnb+TBKgGLrMx2X9JcT4vUKJwUW1EB3QG9m+r6ggGvbeRfWo9v9bzJ/GWZgIy+3lK+M+f+Hb01AjZv2gjce8WDC2ampZ35/B2m2BLOThtzIlVSDXJEkJ//7r92fHNvj+PBBR/A/fr5ieRzd+ux79ceMb/HChIS/0Bwb9AWjSzEXi/uORXdZ9XyBfLpn3wTDz35/xb8+Xb1b/7n47zsdRvf/uleuPeBPwY95thEnQbPJ1H6ks/RCO5ty5S9Kq8yiPRFzuz/GYBEiABEiABEiABEiABEgg4Qk4F0SRZV7/KqGFaMJPzp1swUqq9JDpwkxY0C34aq1HdzSL7pewdPGDldNHSBw0F/EU3Tc7BqT+CfvBnK/ls4Xfu9+2EkvMGS1pkFRmzvxV8vFnlnDoUcjtRAXRB/HH5Qq1EJ3hLMt8k8dryOA+beTSpevGkjAmcQTdmnZ8OBRxURs3qGFc5l0xRIsVEOMyfz0ILvNhFqImhihCAUyZtShCDNGnYKG3e29UgigSnEEoGD1hTrRJlXx9fWXV4vHi55fKzIXOidPNCKImy3wixBCFy3yb5v6mix/M+cb7+pmL9ZM6tcz5QtfPt67hlIGF5vuhFn4jkMwk0Etm8QmwzK0GIVojQcZGELXjl15Vy8N2r2AeVLEJ214fBpf9GhXk6PGz0rHnm7F22bVr1PlbrfOH9+2zRWvk/Tkr7Fsx3uv8qcu8WohGF/JArb/jsv7ie/wxHmS4gkYQRViOa9evIRN8zFzmtYrXEXLhYYRcOBZP8xeuW674t1cRU1gtV8Ovn9oPVZLXXu5srrfq/FqEH5T6dm0uLeEWnhjvv/n+7N1GLl++Lk1hiR0f35+u9yeS8du8NBawsfY2F/B/PPCaTTbflb/YRbzu1YL+nfF9pFzZYnL8+BmEPoj8HUwFa83b+iuPg83V/0jef7sqfW8XfzJKcuTIJBOnL5QGdR40oTeWfP2zTHvvS7sY9yRAAiRAAiRAAiRAAiRAAneAgHNBNIVnmb8Dc3RHmlQL0QBYwOmmos/gke/Jtv/2m3PNjquCR7UH7jVJgjSL7+Ur18w9+8N2eVZB9Nq1azL0tQ9drsOpIcq99lJnWJeWl+vIttwGWezVDTKqLcxC1HkM0XJlishMZHxW6yIVXz+Z/53jP4Cj6lv4e2EWop4u896TKvWQarB8DW/1pBZ6HZBlfrdJqhQxhmuYy3zMYohqH8e88qw8iuzLanWmAuJ3P/xhEgSF739k57aFaLAR1NSlOOE2KwZtHdPANSQjGfra+671o6LuaKyfh5BB/gayuOv6c18/Grtv+fyxkja1n2z5Z69JWGTfV0Gxx3NNpTUs8IyEqcLJh19FsBB9oFIpqV+7iixb+StCLRz0GGi+PDnkLbjjFimcT/7aslP6D5/lcV9PtMzcWS9JavRl/cZ/ZNKMRRGsXEsWLyhP4h27iLX/fgwE6tGvdJbaNSvJGViXxWb+jIXoICRVwsjrBEQ9f3Fdfwkx/giQY3DBTqp0BbFkY2ohas/fnFkvi37X/bZxm0ycsdDr/KmV54VLmL9PPX9gsNbPA1g/6yOuHyTremtEVyl6T17ZtGWXDPCyfnLnyibzP3wVbvUQwn/8Q8ZNm+f6zlKx9JUBHSRt2rT4Tkv491+/P2dNfNG8L5oISpPFRScgxnX89tSqIPrN/DdxaiexipmFqD5fukQhhAkZgMRpIn9t3WMyurt7KqTG94OGLrh8+ap8sWStPuLa4vr+uyrCQd9uzaUFvm/2HzwuRQvlEUEit16DpkWaUMv9WR6TAAmQAAmQAAmQAAmQAAkkHIFYCaJqIkoL0YSblKRQsx1D9MDhU7BK0zhuOWQnkhKdPX9RKsDqJmu2TMalVK1clny9LkKXLZfnOnLo+EkJQT6Lgvlzmoz1Z85dlPJli0qObJmN9dMMJLRZFAN3Zc0y/6AmVYpFlnnt3Fsju0r1B8sZt8vbt4KNxdVtJMXRQJO9Bk2FW3XEkAARBhXDC2FZ5lchhmiYy/xHmmU+nIWoSRaFLPOT4Jrr7gYalmU6GgtRCAWjx8+N1kJUu34P/hifNakfrHPTG3FYE43cDgnGsY8888JbcjRcnD2NWalxDo1ZFtTkzBkyYB1kw7mP7EbsQ/ftl9+3eVhput+LzbEtqB8+ehriy20pVDA3Yhgehhio66+oZMP6UfM4I2Yu+ylCE21hXdrr2WZwiYeQAuOvv7buAvsbUrZ0YcmZPauxam7xxMOSPUcWmfnBVxGSKtWsWk7GjXge9frIiVPnkFjnpJyFEFm+bBGs5dxGHLoOobbHwCmy/9CJCO3rBY012r9XS0kP4SoIybT2QRA5cvy0WfuFC+aVXNnxDkAcWbI8ZtZiOn/vQtjPiERQKube1vnTrOmYm869xsMa1TNOojV/vritslmIZM6UQfLo/CEz0x6EYjDmhRCL9PyX3//xmL/4WH/xPX5l6nQLaKSJ29o4Sqpkt6GxHwfg2bQQRW/cvCn7D5yQw8dOYf6ymPWYO2dWw/XLFevk7XDWfmb9vNrVrL9Tpy/IQayRs/gholzo+tEfZ1To7zEI6+eg9/WjISE0wZNaj548c1727z8u+fPllHsK5pGp7y+Wft1bmvYT6v23Oej+LSQCqoG4nFgssHYOltN4DzWWsJ73GjwtwvdnfIxf27XjAQvWqY9mFEN7k+Eyv9Qt3rKWi2zT74FuzzTBf8N8JQg/vu07eAzfc2ckH0TpYvhBI12GtPLBJyuM1bV7HfHx/tv13Yss9e/ie9c4/OP7SNvv0HWsfZt7EiABEiABEiABEiABEiCBO0TAsSC6drkmVUp4l9k7xIPNhhLojzhnzRo9JFuREOb1yZ8hQUU3KVIonxFfdP41Scn46fPhjvy3V2Z2lvB/dx2Q4WNny7iRz0spWMSZCqDmXILV6GTEzfzBS8IbbxWqIFrlvjLytcky/4W3IlFeU6vBFk0fkTq1Kkue3Nkka9ZMMNSx/sBu+cxrEay/oqwsmptDX2wrjerXkE+RYX42Ms3rZsUQHQQR5KY0bDPUVYMRRCH0Wm6gv7qu2y7Le+Ay3yWSGKI/wlobf2VDEI3eZd6uWC33NGt0WfyRnh/HpgLU0aF7xMQj3y+ZKKn9oESo+gZWmHbX/KuFaqg+YRITfbtmo7Fis9uJ696yEPWX/3YeDF0/XaVkMawfM2UhJnv8xJkLIl0/2r+2iEHauf3jRvTQzuujFy5elc8Xr5H5X/5okpvkgCipLvPhs8wXhujUo3MTUUsxjSkZfvwbkVn+A4SK2Ln7UJRDLQABaxDcjStXLCGp1FRNewGOyu4i4vL+AuvDpd9EtEKNrFJ7/sph/vJA1NG6NDGUt/lbg/lTa1prnqzxu7evPKzOiHz7A+Zv6jxXs/G1/uJ7/K4OxvAgLIZozLPMu1ddMH8uCKqtpXKlkvi+UFUOd3UtYX2dv3RZfsUPAd7mz1o/TeV+PJcBVo72+rP5//7Xv/LhXF0/h92b8zhWMXD4wKfkoarl8Zj1/l28AmvGL3+Qzxf9IAn9/rt3xv7+9H+4suSF9Wo2fH+qpaOuP28xfuNj/Nq+sRCd94Zr/Mp/crgfj9z76e1YLbEHIbGWxl1VF3b7/VNB91e8f2ptvRfJq9y3+Hr/7To/e+9lKVQgN0595FMTIiYsxIddhnsSIAESIAESIAESIAESIIHEJeBYEA1UQRQbLUQTd6ISuzUrhmgt2bp9r/QZOt00r26cZeCGePjoKTl4+KQEG4Us5j3LlSOraLZjzfirFlNOn495SyyZHAnY60ctWQ/EcP2omFn0nnySE5age/bBOiycFWV0nFRAKVIY1px4PhMsMzW501HEJHR3vY2uDr2v7rlq2VeoQC65jB8TTsLq9AgsxeIjHmNM2r/TZe728ce2/+HXzymsn2MO14+K4MWL5peTp88by97w8Ubv9NxG1X58jD+q+p3cS5s2Dd7lPJI/b045iyR/B2H1bYfSiKye8P2P7fsfWf28TgIkQAIkQAIkQAIkQAIkcOcIOBZE1UJUjWQoiN65SUuMli2X+VqyZdse6fuSZwb5xGifbZAACZAACZAACZAACZAACZAACZAACZAACZBAQhCIhSA6GYIoY4gmxGQkpTrtLPN/w2U+JQmiGipAXSqdbMaLFg/9sXmn/Lx+q5NHk11ZXTc+GrcTftrKRTcLp35a18y5Bc3ct8tt3LwjxfMzQFLwB9+/FDz5HDoJkAAJkAAJkAAJkAAJkAAJJCIB54LoMrjMQ8Hwb9o/EbvJphKbQP+eLZEB+2H5e/seuMynHAvRwGWIy6kLHKKea6+Hoacq9JnbZkKMtIcYjRD6cDgPsf3enb3c3EmpH4Hm+0FT+ISKn4abFXNRGWmGcwVo4dVy5tTgmoe4iO8hwQm3lEuA71/KnXuOnARIgARIgARIgARIgARIgAQSk4BjQTRwhSZyoYVoYk7SnWhLLbWeRFKlLdv2wULUiiF6J/qR2G327drcSkKDhtVy0QigKtuZE+yg5BnrR5ybEKr2dZTd9Pcuk607sfuclNrr2w383DoUisftioXSvqAMoSebZ/7cQn42l5S65/uXUmee4yYBEiABEiABEiABEiABEiCBxCXgXBA1SZVCEEN0QOL2lK0lKoFK5YubZDSaPOaX3/9J1LbZGAmQAAmQAAmQAAmQAAmQAAmQAAmQAAmQAAkkFAHHgiiTKiXUVLBeEiABEiABEiABEiABEiABEiABEiABEiABEiCBhCbgXBBFjEWNDlg7gDFEE3pyWD8JkAAJkAAJkAAJkAAJkAAJkAAJkAAJkAAJkED8EnAuiMJl3gcR/+gyH78TwdpIgARIgARIgARIgARIgARIgARIgARIgARIgAQSnkAsBFErCzezzCf85LAFEiABEiABEiABEiABEiABEiABEiABEiABEiCB+CUQK0HUR7PM02U+fmeCtZEACZAACZAACZAACZAACZAACZAACZAACZAACSQ4AceCaKBmmQ+By3wAs8wn+OywARIgARIgARIgARIgARIgARIgARIgARIgARIggXgl4FgQ1SzzUETFvykF0XidCVZGAiRAAiRAAiRAAiRAAiRAAiRAAiRAAiRAAiSQ4ARiIYgiy3yI0EI0waeGDZAACZAACZAACZAACZAACZAACZAACZAACZAACcQ3AceCqHGZRy9qN+0f3325q+pr0buu+KXxRfQAHzl56KwELtp0V/WfnSUBEiABEiABEiABEiABEiABEiABEiABEiCBlEjAsSCqLvM+IJXSBdHeU9pBEE0lPoBxaNcJWTTl+wRbPwVL5RFfbQhb0LUbEGDPJVhbrJgESIAESIAESIAESIAESIAESIAESIAESIAEkjMBx4Jo4PLJiCDqgxiiKdtCtPeUNpI6TWpRdfjwzhOycGrCCaK9p7aV1Kn9TFtHdp+UBZNXJ+c1ybGRAAmQAAmQAAmQAAmQAAmQAAmQAAmQAAmQQIIRcC6ILkNSJYiAKd1CtA9ESj+IlPCYhyB6XBZNXZNgk2QE0TQQRENC5MieUxREE4w0KyYBEiABEiABEiABEiABEiABEiABEiABEkjuBBwLoibLPJIq+QekcAtRI4jCZR7/HIbLfEJaiPaZAvEV1qghPsFydDcF0eT+UnJ8JEACJEACJEACJEACJEACJEACJEACJEACCUfAsSAauAIWorBUrN10QML1KgnVnC1PZilQLJdkzpERwudJObb3lAQHh4jLahN9NYJoJDFEs+bKJPnxfIYs6SVDprRyI+iWXDx7RS6cuiTH9p8Gy4iDzZozE8qnc91o3a++pEqdypQ9deScrJm3wXVPD65eui4XTl/2uGafxKZ9+1nuSYAESIAESIAESIAESIAESIAESIAESIAESCC5EXAuiC6bLOILl/kmyV8QrdG4ojzUpJJA/4QdaAgsNH3kNBIaLZiyWrqNa4kYoqlUGzaC6KJwMUQLlc4r9dpVk+z5spgQAz5aUP3r9X841rqO7z9jstMfhcjqvtVrX00qPlLSlPdFeff2fVRAxYfGccUt0/723/bKqrnr3auQuLTvURFPSIAESIAESIAESIAESIAESIAESIAESIAESCAZEXAuiK5AUiUIe8k9qVLNJyqJCqIhEB9VelQ9UwVI/Ti044Sx+tQs87odQlKl8IJoxVolpd5T1Y1VJ/Rjo4WawvoRpo1K0NUb8vHIpXL9yg3XbRVEKz1SKrRcxPZVE9U6QhPPy7b1EQXRuLTv6ggPSIAESIAESIAESIAESIAESIAESIAESIAESCCZEXAsiK5FUiUfiITJ2WU+dVo/6fpGC0mbzsoiHwI19MyxC3CXPy2Fy+SVbLkzQZCEzImYnrod2nkKgqhn5vcKEEQbQBA9DRf3XZsPy3m4yF+Cq3wWuN4Xr1hISle5x1iKBkPV3LR6u/y85C/X0ipXo7jcUzafET1VgC3zYBHx9VVZ1UeuXrwmB/47hnu4YcxF1UL1pPzzy27X83oQl/Y9KuIJCZAACZAACZAACZAACZAACZAACZAACZAACSQjAo4F0cDlsBAFAP9kHENUrTPrwkrTWIRitAdhEbpkxo8SfDtY0kAkbTOwgeQukMOyHgWMQ0iqFN5CNO89ORH301eOIit8+M0HfvDPjgwQje+pouaJA2fl87dWhi/mOnePV3pk9wlkmf/edS+yg/hsP7I2eJ0ESIAESIAESIAESIAESIAESIAESIAESIAE7jYCsRBEkVQJW+2myTfLfP0OiOH5MFzWIYaqw/oiJEzSxEn2VrZaUWnUuVboXR+vLvN2WRU/M2fLIBmzpZeMSKzkp8mRYBVa6eGSUrBkHlPH1YtB8v5Li+1HIuxNlnlYrWqogqN7VBD1tEaN8IDbhfho3606HpIACZAACZAACZAACZAACZAACZAACZAACZDAXU3AsSC6Fhai6q6t8SvVUtQkG9I9rqkXt26603t2CdvSUgU9y+zSTgmEEnBH9zHBMO1EQXatWifuq2e67vGP2ZvKo24/rvFNn+xVR4pWKGDaC0a7b/eeZ/pphoQPFTa7jWuhPcI/wRBET0awEFVL0vseLS331S5tBFGtzBq/DiAYp6EsNDgpann7xXly+5blgm+3Y+/7TG0nqdL4mv4chsXpwhgIovHZvt0P7kmABEiABEiABEiABEiABEiABEiABEiABEjgbifgWBANXAELUdXw8GHLmqGaHi5Z4qaR+FwfYYgs6c86N1WooIhnNOO6VWnYXo9cbaCwEUbNNXM57J4e2RWHth9X69WnXmkseQplN21c8WK9qQLui9PbQceESImOhk+qpPebv1BHipRDHFCM0Rqb9tMScpWfJR7r+CG5ovysQQtNgiUUjrCphWiqdH5GED2y+2S0FqLx3X6EDvECCZAACZAACZAACZAACZAACZAACZAACZAACdylBJwLoiaGaPLOMt9+aCPJXwQxQiGwXkX29/eGLPKYXk1w1AeCKLzhjSh8ZOdxWTh1jauMneHdSKFQPkMgeu7Zcti43V+/EiS3bt6W++uWlUIl8hi9VPXcdyGIXkfGeW9bn6kQRFP7oWyIHN19KlpBNL7b99YnXiMBEiABEiABEiABEiABEiABEiABEiABEiCBu5GAc0EUWebV6DGuVphJGVbT7rWlZKVClhUnRNHpL873cGfPnD2jPP96M3AwimiEpEqPdawh5WuWwBAtK9r1y7bI7yv/8Rhyy771TCZ5Y9yKNmYNXhSpIOpKqoTCR1QQnbLKo67wJ/Hdfvj6eU4CJEACJEACJEACJEACJEACJEACJEACJEACdysB54JoCsgyX6dtVamM+J+WW7vI8ncDZc/fh11zXOnRUlKvXVXL7x2a6OGdJ2AhGpb5vc2Ax6RAydyWszxEzPkTVsrx/Wdcz/vCtLTr2OaSIWt69Z43rvAzB0fuMt9jfCtJnymtkVfPHL0gc1//2lWXt4P4bt9bG7xGAiRAAiRAAiRAAiRAAiRAAiRAAiRAAiRAAncjgVgJomoimpwtREs9cI806fKIpVQieOmpI2dl4ZTVEnTtpmRCxvh2gx6XTNkzGMFTPw4hA71more3hshAfy8y0avaGQI393VLNssfq7fbt6VCrZLS4KkauAkL0tCkUTOjiCHa4aWGkveenKY+bW/RtDWIW3rcOnfVGnYQ3+2H1cwjEiABEiABEiABEiABEiABEiABEiABEiABEri7CTgWRNcu16RKIeIfMODuHnkUvVcLzudef9KIn9AfjfB47WqQnD5yXvLck0PSpEWCI7jLGwtSiJ5qIbrIzUK0sn9p8W9T1Vh+6uNXETd0y9odsBI9LYVK5ZUH65cTSaUJlXBTGwDPmXCZD4okhujjHWtKuZrFtZirfNDVm6J9UtF19+aDsu6rzbhpbfHdvl0v9yRAAiRAAiRAAiRAAiRAAiRAAiRAAiRAAiRwtxNwLIgGqiCKLTlbiOr47q1WTB7v9JAILDjtDRIoDn3kj1Xb5T6Inqk10RE2YyHqJoj6pvIVterMVTA7SuMZ/R8EVB9NsOQTLLeCbsuls1ckR/6soTWKRGUhmjVXJuk0oon4+WlnjERr2jUP42jbb3tl1dz11jV8xnf7rop5QAIkQAIkQAIkQAIkQAIkQAIkQAIkQAIkQAJ3OQHHgqhaiKokl9wFUZ3X0lWKwLW9uqROl9pYcwbfvi3//XEA4uNv8sLkNuKnlqJQJQ/tPOlhIarPZkJ80EdaPCBl4DpvLEFxTeXUCycvyooP18kDyDJ/b41ieN6SWWcNRAzRa96zzGt92XJnlir1y0q+orklY9Z0kj5jWvGB8KpPb1u/z0MQ1fLx3b7WyY0ESIAESIAESIAESIAESIAESIAESIAESIAE7nYCsRBEJxsRLyUIojq5PnCfz10wm2TIkh4Z3k/KzaBbjuY8Q5Z0kj1PFkmXIY2cOHhWLp+/6uj5uBa+0+3Htf98ngRIgARIgARIgARIgARIgARIgARIgARIgATik4BzQXQZXOZhIurftH989oN1kQAJkAAJkAAJkAAJkAAJkAAJkAAJkAAJkAAJkECCE3AsiAaumKwBMVOEy3yC02cDJEACJEACJEACJEACJEACJEACJEACJEACJEACiUrAuSBqkiqFQBBNvlnmE3UG2BgJkAAJkAAJkAAJkAAJkAAJkAAJkAAJkAAJkECiEXAsiKakpEqJNgtsiARIgARIgARIgARIgARIgARIgARIgARIgARIIFEIOBdEl4UmVQpgDNFEmSE2QgIkQAIkQAIkQAIkQAIkQAIkQAIkQAIkQAIkEG8EnAuicJn3EbrMx9sMsCISIAESIAESIAESIAESIAESIAESIAESIAESIIFEIxALQRRJlSCJMst8os0RGyIBEiABEiABEiABEiABEiABEiABEiABEiABEognArESRH00yzxd5uNpClgNCZAACZAACZAACZAACZAACZAACZAACZAACZBAYhFwLIgGapb5ELjMBzDLfGJNEtshARIgARIgARIgARIgARIgARIgARIgARIgARKIHwKOBVHNMg9FFC7zFET/z959B1ZZ3X8c/yYhBAgrjBAJG2QKKghODENQQbCCAxEcVXGAVlERtYirKK0FrK2o9VcVtFrBBagFrJLaKqKgFhBkC4S9VxJIcn/f77m5l4wbyJMETHLfT9vc8YzznNdz+efT7zmnZB4BV0EAAQQQQAABBBBAAAEEEEAAAQQQQACBkyVQhEBUV5n3CRWiJ+sJ0Q4CCCCAAAIIIIAAAggggAACCCCAAAIIlJiA50DUDZnX5pP63VtiN8GFyr9ApdgYiakcLREREa6z+3YdlKzMrPLfcXqIAAIIIIAAAggggAACCCCAAAIIIFCqBDwHojZk3iItAtFS9RxL/c1cOKCjdLqojU0/q6GoyJQnZ8nOzXtL/X1zgwgggAACCCCAAAIIIIAAAggggAAC5UvAcyCaPHOCziAaoXOIhneF6BUjukt0dAX3a9i2YZfMm76wfP0yQvQmrl51adOlqVSrFSux1StJhQpRhe5/MBDVM2zKhSlPFRyIXnrT+VK1ZhUXnFoDFqK6TYPUn5dukgWzl2Z/wQsCCCCAAAIIIIAAAggggAACCCCAAALeBLwHojN0USUNpsK9QvSuSddIBQ1EfWqxccUWmT7pX97kPRyd2CJeIiO1Id3SU4+IBbAnezvt/BZy0bVd/EPe/bdia2sVuv8WiJ51UWs9JVJv3XfMCtEbH+8vcXWqulJSC99FsvSvvmoy+uPX62T2lC9PdvdpDwEEEEAAAQQQQAABBBBAAAEEEECgnAh4DkTdKvMahHXrH94VoiNcIBrlgrqNK7fKtEmfnrCfxF0TNXytGK3hY5ZsWrVd3pkw94S1FerCFSpWkFt/d4XExOocoPofn6XAei8WiNrnwvTfAtGOPdvoCRpx6vnHqhC9SQPRmnWruVux6lB/hKrtapvL5hOIhnpGfIcAAggggAACCCCAAAIIIIAAAgggUDgBz4Fo8iytENWUKqnfyMK1UE6PskA0WoNC21wgOPEEBqIWvlpbGg6mrN520gPROvVrytDf9nXta/6poew2+XzaQjm4L9U+SmZGlqQeTHcWBf2xIfCxNSoHd+/ctEcyjmQGP+d8U6VaJVcRq92VylVjZOgj2rZt+sWPC9bK7NepEPWD8BcBBBBAAAEEEEAAAQQQQAABBBBAwKuA90B0xgRXspd0WbgHooM0EI1y81taIDr9BFaIjphobUVqhWSEbFqpgejEk1sh2vS0RPnVHUmufZv/8/Np38j381Z4/a0V6XgLR4c9M1CDV59rf9n8NTpk/qsiXYuTEEAAAQQQQAABBBBAAAEEEEAAAQQQ8B6IztJFlXTIc7gsqlQzvpqc0rSuVNeFhFI0+Ny0ZrtkZfnEhZQx/kWFNqwoOBCtoXNhntK0jlSpXlmqaLXj4bQjsm/XQdm744BsXrfDX3WZ53do51gQGNiuvOciidIFjKwac1vKbvnsrQWBXe710P40d71cX2Z/KEr7dmptrQqtGOOvgG3YKkHO63e6a9/+fP3JElm7JCXYnM1rumtL7hXjraK1bmLN4DF532zfuLvACtGcx5rDbeMHuuDZ+v/jAg1EX/cWiNoiUHYvdRLjxJeV5Va335Gyxz2HnG0V9N7mcK2VUF2qx8VKllZHpx5Id96btFrX+s6GAAIIIIAAAggggAACCCCAAAIIIFB2BDwHovN0UaUILRMMhyHz5/RpL+de1kHDOJ33UqszbcbM7Rt3uSHrw54eKNExNrulyIYV27VCNHfVZoOW9dwiRHH1qmltox5n19BjbRi4vbH3W9bukOR3F7mQ1b4ObD0HdZH2F57qVmO3A3O2708G9So+vabN46nb0q/WypypuUPC4rRv17z2wUskoVFtd6PHaz9U/+Mbxsl1D/XRK2llZ4j+T32y4FXmrf3A5q8QHRD0/3H+6kJXiEZroNvtqk7S7rxTDTGXv31e/MVK+ff738mR9IxAc7leE5vXle7XdNEgtUaw/Zz+Pl+mzP94if5vca7z+IAAAggggAACCCCAAAIIIIAAAgggUHoFPAeiyTO1QlT7062czyF6Tt8Ocm7f9tpTC/TcGufZT9GnAehWrfqMl6joSBdabggxZN5WZe81+Gz/+S5M1au4xYhcJKqXtUhUV41POyx/G/OhpB067D7bn566mnv7rhqIum/yt29XiNBA1OcWKNJA9Os1MifPMPLitG/NukC0sQaiIfqft/1Q/a/bsJYMGX2p//wQ/Z/y5EeuUtPaOtbmAlGtEPVbaIVoIYfM23mD7r9YatSJdUPtrR+h/Pfs2CdvjPskXyhqizqZQaUquphVnuefs/8/6NQBn7/zzbG6wD4EEEAAAQQQQAABBBBAAAEEEEAAgVIkUIRAVBdV0i2pX/ldZd4qC4eNu0IqVs4OwzQB26GLAG3Wik4bPl6zblVnEIgqQw2Zb39BC7lIA9HtOjR71Xfr3RBrGypvQ++btW8gLTs1Cl5j4dzl8sX7i9xn+9PunGbSsHWCZXiuQrN1pyYSEeVf3T31QKr8vGxz8Fh7k6Lzii7+76pc3xWnfbuQVcbWqK391CTShoonnhqvxZEaDGsIaw57tu8Ptrdr8z5ZMHtJ8LO9sX6e1/90fWdRpk/qabWpDTv3V1jqKvMeKkRv0zlE7TLW/rIFWiFaiCHzvYecrZWhLbLDTJ/zX/rVajf1QOvOTTQoPfoMv52zTP7zwXd228Et6cpO0rFHK//5+hwWfbZc1ql76v5UqRlfXeI18D3t/Oay4tuf5bN/EIgG4XiDAAIIIIAAAggggAACCCCAAAIIlHIBz4HoPK0QterGbv3LbyDaQasze2iVpi0gZIWcG3/aKu/9+TPJysySipWi5eqRvaVug5rZYVuWVoxuy7eokgWAVkG6afX2fD+BiMgIuWlsf6lhwaoO3d66frf8ffwn+Y4LfHHXpEESpYsq2f1s1OtNm5B7eH7guJyvJdl+y46Npc8t5wc95k79Wofpr87Z3HHfXzigo3Ts2UaDTQtIs2SqhwpRN4eoaWv/f/xaV5nPUw2bt/G6DeJk8Og+EmEzGug5G37aIu8+/y/3PnCsVY+e0qyO88/M8Mn/PfqBHNybGtgtV97bSxrq3KH2/PduPyCvjv0wuC/wJlrnSY2rV122bdgV+IpXBBBAAAEEEEAAAQQQQAABBBBAAIFSLuA5EE2epRWiGjKV5wrRnoO7SIcLdN5J7agNl54+8VOxleQDm1UY9rnpPF1gxyombQ7RghdVsvCzWs0qEluzssTqwkoVdGV687PQtX6LehryZcnB/eny8uh3A5fP93rXxGskqlIFFwimrNJV5gsRiAYuUhLtu0D01gtc+3bdOVPnFzkQzR49L1OeKvwcolYh6qZMdYHo8RdV6nxxO7mg/xkavuoJ+vxmvvxvWfX9hgCJez2zeytJuqqz8/fpTX3wl89l3dJNwWN+dWc3aXpafff87TIL5i4VGx5/YM+h4DG8QQABBBBAAAEEEEAAAQQQQAABBBAoewLeA1E3h6hV+VnUFBg0nvPVvrc99uqyP/fGZVN2kp1jqZgtcqMHWQWepYpufkcNB+29feeO12PsWHcdd0GLJ+0K9tcum7Ndf6t2WHHnN/3V8O7SrJ2GYdq+Ligvf7rrLffeNap/LNi89Rld6Ce7/ZQVW2TaJK1AzLFZJenpF7aU05NaSdW4yv7+2H7tWPD+XZ+sPyLPaxuZWoEaartrkgai0briu567adX2QgWiJdl+y05aIfrrC1z7plzUQLSTqxD199/LokqBVeat/8u1QvSfxxky33voOdL23ObuV2LD7Ncu2ShZ+iD9vxrV1t9UTJWK0qB5vL73+ydPWyjffb48yN+xR2tJGtjRHWtf6k/B/QY2r9ku67VieMWin2XX5r3B43mDAAIIIIAAAggggAACCCCAAAIIIFA2BLwHorrKvD9Z8qd5FhTZ52DYFEwz7Zvs8M8yqEh979JP97VlUm6zI+y//lXc3Se9lu60r10q6j/Of7j/e39jeoC+CdV+UjGH8w95uI/UTYxzweyhfalavfme/yay/9q93v2nQRIZZavHa4VonkWVbL+Fqk3aJuhu7Y3danb/XT/8t+6u5t5qJyY/MD3Xwko5GxyhgagNz7a2UiwQnTgn5+5870u6fasQ7XuLBqJ2s7rNeaMIFaIaLtqQ+UD/vVaIuhO1ff+Q+S/9N1LA36vv6yWJFnbqDRfWf9HnP0ny9IXBK9qzHXB3D2lwqlXx6td249n9dz9eDe8tGP3na1/KQf2NsCGAAAIIIIAAAggggAACCCCAAAIIlA0B74FoGKwyP1hXF7c5OC2/TdXh7C89OD3X04zUYfB3//laDcr0AP3vRh0yP23Sp8Fj2usK8z2vO9ufoVmIpuHZqh9S3LD7tAPpkpGRKR27t/YvVKS7LXB74YFpkp5jpfngxfSNzSFqQ+0t3itMhWhJtx8IRLPjRa0Q/UqHzK/JeYvHfW9ziHa6SOcQtQRbA2NPiyrpKvO2WfvLbA7R41SIXnWPBqIt44P+thCUf0Eou4i//cCrPR7z/+GLFfLZ27kXR7Jg2aY2aKuLXCU00d+D/idQh2z5qP1AbLGtN57+WB+xXYkNAQQQQAABBBBAAAEEEEAAAQQQQKC0CxQpELUUsDzPIdrvtgulRYeGLimzIO353+hw9oyjw9mrxVWRm5+6wgVu9sdViOo8o4HNhmy30yHbmp+5KtevZi6Wrz9ZHNjtXgfe3VMa6Yr1gbkxX7i/4EB0xMSrJTom2l0vZfXx5xAt6fZbdmykFaJdXfvW3yIPmddA1GXI6lLYQNSC4BE6h6qFk+a58rv1MuuVL3JZ5v1w0eCzpf0FLdzxVmX86pgZknEkw07X23dRZt5T5MjhDDmcdiTf94EvbJqExBZ1pWm7RLEpBKKio/xX0svNeClZVv+wMXAorwgggAACCCCAAAIIIIAAAggggAACpVjAcyA6b6YtquTTVeZHluJuFe/WelzTWef+bJkdoGng9aIGXv87GnhZ1WBPXYXewj07yCpEp+eoELUh2/V1yLZVHtr21h9my5Z1O/wf9K9VmN487gqpWq2yJXTO8wUdMl9Qhejt46+UytViXFHjzs17ZOpTHwWvFepNSbcfrBD1J4oyt8gVoq2t966/hR0yb/2789mr3JyfVty5beMu+fvTn4TqdvA7q0TtqhWpAX+r3s25KFbwwOw3tvCUlwrPhq3qyZW/uSj4/L/88HtZMHtp3svyGQEEEEAAAQQQQAABBBBAAAEEEECgFAp4DkSTLRDVrTxXiJ56ZiO5zCoidbPQc0fKbpmmK7unpx6Rqrpi/KD7e0u1WrEuDLVj8s4heumN50vrLo01K/UPsP7ive/l209/tEPddpoOqe+lVYwWhmZnjHKsCtHBoy+V+Ea19HD/0dOf+9StbO8+Bi6a47Wk23erzOscooH2i1wh2rOtemZZt7VC9CPZWchFiYY80lfqJNYMtm9zfS79arV7Hjm6HXwbV6+6DP1tH53j1ao4fbr40T754MV5snf7geAx9sYWnjrtvOZyRrdW8rdHP8y1zyp8Uw+my9rFKRpEm/vRrXb9mnL9b/sGn3/ye4tk0b+WHT2AdwgggAACCCCAAAIIIIAAAggggAACpVbAcyBqFaIWaJXnQDQyMlJ+/eTlUl2Hxtu8kRZsph84rPNF7pK6OrdojAZpLiTTYdwWuG1YsS1XhagFbN2vOssfeCpW2r50+T75J9msVaINdZGeTr3aSJS2keWu7I8ZJx9jyPzF158rbc9upsPGbdV7bVOvmapzkaalHtYqSJ+s/H6D/OeD74M/spJu34aI99VV5gPtzz3Ookq1NJC8/I5u7n4sULZKzcpVY6Siruxuvx0rdd2/+5BOQ5CpO903sn3jHpn113+7c/L+6dy7rVxw+ZnB9u0UG+J+YG+q6/+BfWkusM553gWXnyGdL27nAm1rPyvTJzbdwP6dB6VCTAWpFV9Nauj/bLEqe5aThv895+nSY1BnOePClrJn5wFXAbx76341T5NaCTWk+ekNpEadqu7e7elNn/Qvf0Cd6wp8QAABBBBAAAEEEEAAAQQQQAABBBAojQJFCEQnaKhVvucQtQfV5uym0nvouWLDqS2ysyJBf3bnk2/mLJMzu7XUhY78YVrKyu26qNLc4PO1FcptYaa6DeLciRaoBsoJbS7MI+kZsk8DwdoJ1TVO8weGk3VRpbQCFlWy8O36Mf2kQrQON/efEXy1MG/ZfF1oSIexB7aSbt9ViN5sgai14NM5RL92FZqB9vK+Wr+HPNRHO2aH+wPlnP03SzFXt8/f/60/61D434ceCm+VnNc93Fdq1tGq3BD9P7gnTf76yHu5bsOezeW3J+k8rfX0jNz+edvXlFkmjcgfiJ7eVadN0FOzuxHsf/Y32l6ErNEK0g+1+tTdVq474AMCCCCAAAIIIIAAAggggAACCCCAQGkU8B6IztAh85oQdet3b2nsT4nekwWBvYeerQsaVdDAK0KrDDNl+bfr3Srrw3Whn+iKFlBG5FtUyW4itkZlSdJ5LFue1cR5WZholYq7tu2Tj175j1tlvu05TfWyFreJTL5PF1XSis+Ctpp1q7lV2hOa1HHXrly1ks5F6uJUWTp/jcyZcjQQtWuUZPtuUaWbdQoB7YAtMnW8ClELRK97uE8wSLQ3gf5bVaxZ+nut18vu/9afd8hb42cX1H33DM7t20EXNooXGxIfU7miHmsLXUXI/j2H5JWH3w95buvOTeR8rRatXjvW+eds3+fLko2rt8sanR920b+W5zq/xRkN5YykVnJKs9oaREe5ew70327+SGqGLP7vCl0sa0mBQ/dzXZAPCCCAAAIIIIAAAggggAACCCCAAAKlQsBzIJo8a4ILh8rzkPmcT8YqROsmxkmV6pUkZdU2V92Zc//x3tt5cfHVpZIOF9+6fpcc0PDuZG6/dPsns6/HassCVAtSq+vcrxY8H9yXKvt0+PyxVpa360VViJSa+vyq6KJWFkLb8fYM9+h8pBk6bJ8NAQQQQAABBBBAAAEEEEAAAQQQQKBsCXgPRN2iSj6dQ7T8rjJfth4hd4sAAggggAACCCCAAAIIIIAAAggggAAChRXwHIiGw6JKhcXjOAQQQAABBBBAAAEEEEAAAQQQQAABBBAoWwLeA9EZ2Ysq9S//c4iWrUfJ3SKAAAIIIIAAAggggAACCCCAAAIIIIDA8QS8B6I6ZD5CF8ZhyPzxaNmPAAIIIIAAAggggAACCCCAAAIIIIAAAqVNoAiBqC6qpJFoOKwyX9oeFveDAAIIIIAAAggggAACCCCAAAIIIIAAAsUTKFIgGuGLkCSGzBdPnrMRQAABBBBAAAEEEEAAAQQQQAABBBBA4KQLeA5Ek22VeZ8Ome/PKvMn/WnRIAIIIIAAAggggAACCCCAAAIIIIAAAggUS8BzIGqrzGsiqkPmwzMQDff+F+vXxskIIIAAAggggAACCCCAAAIIIIAAAgj8wgJFCER1lXmfhG2F6LyZ4d3/X/j3SvMIIIAAAggggAACCCCAAAIIIIAAAggUS8BzIOqGzGuTSf3uLVbDZfXkcO9/WX1u3DcCCCCAAAIIIIAAAggggAACCCCAAAIm4DkQtSHjEXpiuAai4d5//tkggAACCCCAAAIIIIAAAggggAACCCBQlgU8B6LJOmTcp5Fot7CtEA3v/pflHzv3jgACCCCAAAIIIIAAAggggAACCCCAgPdAdIYuqqQlouFaIZoc5v3nnwwCCCCAAAIIIIAAAggggAACCCCAAAJlWcBzIOpWWddFlbr1D885RMO9/4Efe43qsfLEQzdqNh4hE198V9b+vDmwi1cEEEAAAQQQQAABBBBAAAEEEEAAAQRKrYDnQDR5llaI+nxaITqy1HbqRN5YuPc/YFundg1597XH3Mfho56TJcvWBXaVu9f6p9SWenXj5NChdPlp1YZy1z86hAACCCCAAAIIIIAAAggggAACCISTgPdAdMYEkUgdMn9ZmAaiYd7/wD8OC0SnWyCq1cIjLBBdvi6wq9y93n5jP7l2YHdZvmqj3Hav/v7ZEEAAAQQQQAABBBBAAAEEEEAAAQTKrID3QHSWLirkC+NFlcK8/4Ffur9CdKz7OHzU81ohujawq9y93n5TPxl0RXdZodWhw0ZqhTQbAggggAACCCCAAAIIIIAAAggggECZFfAciM7TRYUiIsJ3yHy49z/wSw8GorrA1vAHyn8g6ipEV2iF6EgqRAO/AV4RQAABBBBAAAEEEEAAAQQQQACBsijgORBNnqkVotrTbuE6h2iY9b9ChShp2byBtGnZWKKjo+R/S9e4eTTjalbTIfNjRbNxGf7gsQPRypVipEWz+tKiaaLUrBEra9Zt1uHnG2Trtt0h/800TKwr1apWkYOH0uTnDVtDHmNfRkVFSqsWDd3+jZt2yL79Bws81suOatWqSMP6dYOnDLisq/Tq1sndyzPPvRX8PvBmxeqNkpGRGfiY77V+Qm1p37apzkNaS2JiKsjOXftl46bt8t3iVXLkSEa+43/p/ue7Ib5AAAEEEEAAAQQQQAABBBBAAAEEypFAEQJR/5DhpH7hucp88szw6b+Fnr975NfSrlVj0bJgF4RrQagsX7lexk38u7z+woNulfljLap04Xkd5IERV0v1arHZ/2wsTo+QLF+WTHl7rrz21mydgsG+O7oNuaqn3HpDX9m795AMuH6sZGSGDhvPOauNjB87zJ046JYnZfPWXUcvUox33S84Qx4bfb2bH9XdrftztP/+S/uyPSJkwA1jNeTcl6/F6OgKct/wq+Ti7mdJZKROvOs2f//t7LS0wzJm3KvyzXc/5Tr3l+5/rpvhAwIIIIAAAggggAACCCCAAAIIIFDOBDwHovO0QlJsDtH+4RmIhkv/q1SpJK89P0ri68XJ4fQjkvzfH1yF5KnNE6XrOR1kfco2adIoQaNNnwwf9aeQq8zfduNluhhRTz1GZOWajfLt9yvk4ME0admigV6jvWasEfJp8kJ58tk3cv2zSoiPk7deGaNrd0XIqMdflq8XLsu1P/DhkZFDpHf3jq5tu4eS2qzqtO/F57jqV/2payDcRJo3PUUD2gPy768Wu6DUdSq7wRdfm+n6lbf9kXdeKf0vPV98WVnyxfzFsmzFelcReopWjLbWNk5r01T7PlUNFuU69Zfuf66b4QMCCCCAAAIIIIAAAggggAACCCBQzgQ8B6LJs7RCUovcwrZCNEz6f92VPWWYVmmmpWfIg4+9JN8vWR386SdbEiy4AAAORUlEQVSdf7o8PkorKLXq0cLO4Q/kX2W+TctG8uKzv3GVpa+/PUde/XvuStDzurSTcWNu0dDRJ/eNfUm+zVMl+fz4u6SDDjOf/flCGTfhzWDbgTcxFaPl/alPSKwGtxMnT5cPPv5vYFeJv96hq8xfc2UP+WnlhkKvMl9R7++f7zzthvXPnD1fnv3zO/nu61SdiiBDh8yvXb8l377S1P98N8cXCCCAAAIIIIAAAggggAACCCCAQBkW8B6Iujk0w3iV+TDov80bOv3VsRJXo6p88tk38syk/PNm/uGJ26TLma00G4+QEaM0EF22Ltc/gxc0DLXKyvnfLpMHtcoz1PbnZ+6S09o1deeOyFPhefml58nIO66UQ2npcvmQMXL4cO65Ni2UfWL0DZKR5ZMBQx+VvftKZv7QUPd5h64yf80VGoiuWq+LKvmnTAh1XM7vWjRLlP977n77/w5C+uQ8NtT70tT/UPfHdwgggAACCCCAAAIIIIAAAggggEBZFfAeiOoq81YWGLYVomHQ/0YN4mXqCw/pzAg+GTX2ZVmwaHm+3/clPTrLQ/cO1vk/NfB70IbMrw0eU6N6rMx48yn97JOx46fIvP98H9yX803PC8+UMQ8M1bDziFx69UOSmZkV3G1zjr439TGpEBUlY59+TZK//F9wn7158qEb5cLzTpevvvlRRj/x11z7SvrD7RqIXjugu86dWvhV5uvVjZN3/jbGBcb/eO9zmfzqDE+3VZr67+nGORgBBBBAAAEEEEAAAQQQQAABBBAo5QLeA9EwW2U97/NLzu6/DRW36kj/UjvZ00rawkOaEEboxJM296TtCxzjf7WT9DvbZ6WD+pprv36paw25uTVtj+2zzf/XPvvfH30N3X63fiPdeUX901krP5/VClBrf+jt42RDyvZ8l7JV058ff7cekX8OUZsb88+/9+9LSzuiR1jQmb2okHYwwhYY0k5ERkZItA4tt2vccOd4WZdnRXkbUm9D6/+t85c++sxrwXuwYfIfvPGErnofLU+FmIMzeGAJvbEK0UEWiK6yIfOFqxC1pic/e4+0adXY9e+7xas1vF0qi5eulVXrNrkQ+Hi3V1r6f7z7ZD8CCCCAAAIIIIAAAggggAACCCBQlgSKFIhaLBe2FaIaiFr/j4aS+k6DUPsi8K1/n/51wag/8gwGnJaE6vcu5LRwVENB95VdQP9rCw1ZZaZk6ff2ale1MkzNEC1odQcFW/JfNW/7xX02fXufoyvDX+Pa73PNw3LwUFq+33SD+nXlzZce1lv26ZDw3IsqXdKzizx0zyDXzy07dklWpvXD/qeb64LrvX7Q77Ltxjz9qqxak+IOCfzp0fUMGTvqBp3H9LBcocPiD6Wmu12X9Owso+8ZLOluOP2jbn/gnBPxahWigwZ2lxUrNsqwkfb8C7edUq+2jBk1RNq1bKInZAfc+kyPHM50C0xN/ccc+fGnnwu8WGnpf4E3yA4EEEAAAQQQQAABBBBAAAEEEECgDAp4DkTnzdQKOQ3ouvUvXhViGbQKm1vu3a2TPHLfdS7CvPy6MSHn52zcsJ68Pnm0yzTzziHaM0mHwt9/vQt6h9wRusK0MJi2cNKHbz4plWMqylMT35S5usCSbb9/bJic3amNzNUV6p/Ks0J9Ya7r9Rj/kPkeOmReK0Q9BKLWjgXcVjF7buc2ukhUM33fLJgJZ2ZkykNPvhJySgI7t7T03+6FDQEEEEAAAQQQQAABBBBAAAEEECgvAp4D0WQLRHUrbhVieQEsj/04/bTm8ty4Ea6a86bh40Ougn5mhxYy6XfDXfeHuwrRtUGKVi0ayssT79VANULuHv28/G/pmuA+r28e1nlKe/c4yy3ONPrxv4rNT/r+lMd19fYoGfXYy/L1wmXHvKQFkgnxcbmOsQWYAtWmuXYU8MFViA7IXlTJw5D5UJerp/dysc6/euOg3q4PNnz+5rv+EOpQ911x+1/ghdmBAAIIIIAAAggggAACCCCAAAIIhKmA50DUKkRtwDOBaPn9xSTUqyVvvzLGPeex41/TRZF+yNfZAZd1lbtvG6DH5J9DtErlGPn4nWfc+c/+5R2Z+c+v8p1f2C9sPlNb0T4zI0uuuP5R6d71TLf6/K49++XKGx/LtRBTqGvGxlaSj99+2u2yQft2v398YbrM+OTLUIeH/O7mIZfK9Vf3ljXrN8lNIwoOL0OeXMCX994+UC7ve77OGeuTXgNHSYZWi4baitv/UNfkOwQQQAABBBBAAAEEEEAAAQQQQCCcBYoQiE7QUCl85xANhx+LVVX+7fkHpGnjBPlywY/ysA7rzru9PHGktNRKUBszP2LU87lWmbdjn3r419L13PayacsOXZjpGcnIDB345b1u3s+RugDTu68/JnE1q8kfNVztpcP5T2/XXN6b9YU899J7eQ/P99kC0Y9cIKpxqJuyNEID0WmeAtHLLj5H7tc5VQ8eTJV+g38rWVm2SFTxtj69zpYH7x6klappYvO0unliQ1yyuP0PcUm+QgABBBBAAAEEEEAAAQQQQAABBMJawHsgOkOHzGuJaLd+94Y1XHnvfO/uZ8kjI6/TbmpF5V80QMxR5XnL0D4y9Opebp85DA8RiCbE15KpOseorQRvq6vbNXbs2muHB7cWzRLlV33Ol337D8rLr38U/D7vm7uHXSEDtSJ13YYt0rhhgk3MKXfeP+mYCxIFrmEr0n/0j3FuLk+3VpX2Z6JWiH7ooUK0bavGMvkPv3G/+yn/mCuvvTX7uJWpHTucKhcldXRuy1euD9yOezWb8WNvlSaN6snCH1bKyN9OzrU/74fi9D/vtfiMAAIIIIAAAggggAACCCCAAAIIhLuA50A0eZausq2rnTNkvnz/dKKiIuXZx2+TMzu0dEHguvWb5ecN26Rl8/pSP6GuVo4u0YWCThOJFBnxwHNaIbouH8jFOvfnfXdeJRVjoiU9PUPWrd8iKZt3SK2aVaVRg3ipXauGrc8l71u158sFV3u2adlIJv/xHr2+1iZrqpmyaacMHva7fO2F+iI2trJWiNqx/pXt7e8ErRD1Eojadcc/dqsu5NTWtZ9xJEt27t6rw/j15rX/d943SXbvPWCHBbdzO7eVp8feogtLRci2Hbud3W4d5t+2dRNpcEodd1xq2mG5XRdpWrdha/C8UG+K0/9Q1+M7BBBAAAEEEEAAAQQQQAABBBBAIJwFvAeiblElnwairDJf3n84FXThonvuGCh9enWRqMgora30ucrITz5dIFPeniPvvPqoRZQy3ALR5etCciRq+Hff8KvkjPYtJEorOzUf1M3O8skerQz9cv5SF07mraLMe7E3X3pYEuvXcWe+rm3/7c1P8h4S8rN/DtFx/n2aX1r7EzzOIWon24rvA/p1lW4XnCH16tSUmhrq2mY9GXjDWK1+3ec+B/401MD39hv6aaDcQmKrxPi/zm7fzlqwaJm8MvVjWbFqY+CUY74Wtf/HvCg7EUAAAQQQQAABBBBAAAEEEEAAgTAU8ByIsqhS+P1KLAxsdWpDqRhdwQWfaVrZ6HWL1nMbJcZLg/p15cChVNm2fbdWi+4skfk4vd7LyTze5gBt3LCe1KlVXapWrSw7duzVeVV3aoVp7gD1ZN4TbSGAAAIIIIAAAggggAACCCCAAALhLOA9EJ2RvahSf+YQDecfDn1HAAEEEEAAAQQQQAABBBBAAAEEEECgLAp4D0R1yLwNd2bIfFl83NwzAggggAACCCCAAAIIIIAAAggggAAC4S1QhEBUF1XSSJRV5sP7h0PvEUAAAQQQQAABBBBAAAEEEEAAAQQQKIsCRQpEbeXsJIbMl8XnzT0jgAACCCCAAAIIIIAAAggggAACCCAQ1gKeA9FkW2Xep0Pm+7PKfFj/cug8AggggAACCCCAAAIIIIAAAggggAACZVDAcyBqq8xrIqpD5glEy+Dz5pYRQAABBBBAAAEEEEAAAQQQQAABBBAIa4EiBKK6yrxPqBAN658NnUcAAQQQQAABBBBAAAEEEEAAAQQQQKBsCngORN2Qee1rUr97y2aPuWsEEEAAAQQQQAABBBBAAAEEEEAAAQQQCFsBz4GoDZmPUC4C0bD9zdBxBBBAAAEEEEAAAQQQQAABBBBAAAEEyqyA50A0eeYEnUE0QucQpUK0zD51bhwBBBBAAAEEEEAAAQQQQAABBBBAAIEwFfAeiM7QRZW0RJQK0TD9xdBtBBBAAAEEEEAAAQQQQAABBBBAAAEEyrCA50DUrTKviyp160+FaBl+7tw6AggggAACCCCAAAIIIIAAAggggAACYSngORBNnqUVoj6fVoiODEswOo0AAggggAACCCCAAAIIIIAAAggggAACZVfAeyA6Y4JIpA6Zv4xAtOw+9mPfeaUqFaXf7Rdq8B0hETo9wur/pcjCT3889kmlbO9F13aRuIQabnqHw2lH5MMX5pWyO+R2EEAAAQQQQAABBBBAAAEEEEAAAQR+CQHvgegsXVRJgzIWVTp5jyuxRbxERmoyqVt66mHZtmH3CW08tnplGfbMAA1ELRP1ydIv18jcN+af0DZL+uKDR10i8U1quz6kHzwsk0dNK+kmuB4CCCCAAAIIIIAAAggggAACCCCAQBkU8ByIztNFlSI0JGPI/Ml72iMmXiPRMRW0wQhJWbVV3pkw94Q2boHorRqI6mN2FZZL/rtK5r759Qlts6Qvfu2DF0tC4zp6WZ+kHjwiLz5AIFrSxlwPAQQQQAABBBBAAAEEEEAAAQQQKIsCngPR5JlaIao97cYcoifteY+YpIFoRQtEJTsQ/fSEtl2leiWtEB2o8attPllSBitEr9UK0YTGWiFqgeihwxqITne94Q8CCCCAAAIIIIAAAggggAACCCCAQHgL/D8AAAD//xFXGBoAAEAASURBVOydBXxV5RvHnwUxmtHdISWtlIxS6WYIEtKpNPxFapJSiiAlKCGNdIsyAwQVEQTpHM1o2EZs/+d5z87l1uLGxtj5vX+59+Qb3/c95//Z7z7hUbRo0QhyoARumq6urt6wvwN34VJXCPSd7k/eybwpIsKDrpy5Tqum7XKluhjvTZkmOXWb2Jyvi+D/edDR307Tru/2x3hfQrqgzdB3KEuejKr/YY9CafbgNQmpe+gLCIAACIAACIAACIAACIAACIAACIAACIDASyLg4aggumfTNNbJPMivUeIWRDNmT0dJWISU8vzZc7px6Q55J/GiHAUzU7b8mehB8EO6cPwaPbz7OMapS5MhFWXKmY4y5khPT0Ke0s2gO/zvNoXxtr2Slq/3YVHSI/Jki361ySuJJ3mwdH2D7/1xxR8Wtz1+EEr3bj20OGa+k9o3JWXKobUfHh5Bt6/epVuX79L924/MLzNtp0zjQ10nNlPt8VTT0b1naNfS3yl5iqSUp1g2SpcpDfO4TVfO3qSwx09M90W14ej4retJk4H7nzM9jyE9M3vC7O5Gy0/uf2/Iu5QlbwbRdFUfZw9ebVFt+ixp1Hj0g0/CnlHwlbv6rsW3zLlv1jSUJn1KCo+IoJCHYYr3lTM3opxDiwqwAwIgAAIgAAIgAAIgAAIgAAIgAAIgAAIgkGAIOCyIBm5mC1EWmRK7hej7H9dTIqZYSD4IfkRrZuymtsPepWQ+SdXkeTCEkEdPacvXv9DFE9fsTmiSpN7k17I8laiSX50XC08PUTmZ35Owp0rY/O/AOZt7a7auSK+/VUhdKO2LEBrhSepbv1jaD4+s7+i+s7RzyT79lOlbBF2/FvbbF9vPw7+cpl/WHaSnLAaaFxFEu7EgKh3VLETPkPSzad8a5O3tpS6V9h8/fEIb5wQqYdT8fn3b2fGb7tf7X7mAzfifhj6hH1b8Scft8JP72yhB1Je3PCj0UZiFhWje4tmpUY/q5OnlxUzDeS6e0/czd9PVs7f0ptV3jgKZyM+/AmVmIdYe/+fhRPu3HqHf+R8KCIAACIAACIAACIAACIAACIAACIAACIDAq0HAcUGULURFJPNL5C7z7VgQzchWlaJgProXwpagIZQ5T3qRJ9l1nSeXhU0RBR/cCaGFI9aTWF6al+Qpk1LrQe9Qusxp+UImpp/mDeEnRY79vec47Vn9l/mtVPO9ilS6WiFuhy9QCipLk3K/1COtqm3e5ZrkyH/7ztCOJb9b1JEidXLVfpqMqbX75B4pVu3fvfWAlo7faiGKpmBBtAcLonr7V9kS1DdrOkqawtum/WdPw2nF5B3K6lVrQPt0ZfxSQ/KUyaj1wDqUPivz4xLV+P/+6STz+1NdY/4hFqJZ2UJUROjQx6E0J9JlPjtb9zb7qJay9hX+YSysrpv5E109ZymGpsuUmsTtPlmKZKraqNo/FHiKflppabFr3g9sgwAIgAAIgAAIgAAIgAAIgAAIgAAIgAAIJCwCjguiG9lClPW8RG8h+j8WRHOlV7Mlwll4eDiJJaYIdQVL51JipBIr+dzGuYF05nCQxcz6tSxHZWoUUYKl3H8v+AGdOhREKVIlo8Jl85B3Us3Skk/RShYUzQW5Ym/mp9xFsirOUmmR8nnJ05Oh88WPH4Sxq/5VTSEUXZWPBZ2+Qf9ynE/zUuf9N6lE5fwv2r/9gP7de1YJgUXL5aW0mVKpy6X9P3cepV/XHzLdrixEJ7Agqum2mpjL2xclRMCdx5S/VE52N0/C/dP69N8f52j7t3tN98uGK+NX97coR6VrFlV1Cj8Rbs/8E0Q+zL8w8/D25rYj218xxZKf3PTeUBZE8/iq8YexJevsIauVwN2y/9uU3Ef6rrnSr/3yR7p+IVi1Y/5RvTnPX60X7R/88T86/99VCmH+6TKnpsy8NkpWKUTH/zhPP62CIGrODtsgAAIgAAIgAAIgAAIgAAIgAAIgAAIgkJAJOC6IKgtRFrwaDkjI43K5b+Iyn5HjVkph7Yx+23CIDuw4qvZLsTt7rdYVWIwUUY7o5+8P0l8//KfOyYdYF7Yf2YC8vDyVZePta3dp1dRdbKmoxdvMxWJni741iVjkFEHyGltgrpiy03S/9Ubfz1srAVXsQa+cvhljUiWJtdnm47pcvWZNeunkVVo740clnup1tx70toqFKu2HP31OC0ZuUJawct5GEOVjMnZhIEXiaYoFZtJkmrD4/Fk4zf/4exVbU867On65v8OIBuThzXECuNy5eo9WTt1pxi8LNWcrT49I/mLBas1PE0TFQlSEzzBaNmk7+fOYU7LlrAipYexGr8TQi7dVG9YfLfvXphyFsqjD928+pIWjNlhfQhISQGKRSjxVFBAAARAAARAAARAAARAAARAAARAAARAAgVeDgFOCqKiAid5CNDKGqASP5GidtGzidpPwlSFbWmr3CQt2Msf8cfCn4xRo5vZeit3da7Hbu6idEWzeuHPx73Ts97MWK6Jpn5qU97VsptiUXw1cFWWCnj7TW3GCJxYfub7LnMgnpizzFd4pTlUblza1v3neL3T60CWL9svUKMrxRcuZ2l836yc6f/SKukYXRJVpKI//6ZMnNO9/6+hJ6IskULXavEGlqhRU4xdRdc30Hyjo1HV1v6vjV/dzHFW9/R1L9kbJT/hL+7Ot+ClBNDcLosz/+ZNwJfaKVaxoqKGcFOl7FoijEzKb9PSjfCWzc+Xa/P+56xgd2nMyVkm0FAR8gAAIgAAIgAAIgAAIgAAIgAAIgAAIgAAIJEgCDguiezZJUiWOXCnWh6IIshrlIWZ4kdaIImLxpordKK7OSrBS10m0Sylykv/jL21fduSwtqcuUfVFHpYDkeflsLophvbdYb2qW4hKr56yEDhr0GqKiIwTmjItJx3SXcq5T0d+OUW7lx+QnqryVvOyVLbWa0rPkwPzh6+zEdLK1X6N3mpa1jSeZZN20PWLtq7bcn+f6f4q472MXwTR1dN2yeEoy9vt3qRilQqY2j/772Xl8q8R1j6TcYzTnAUym9rfs+Yv+vunE6pOPamSjjvo5HVa/fkPFu0VKZeH6napquZG5nn7or0q8ZJc5Or45f5yzE9vf/7H9vlV4+vkImlfLEDN+akYonk4yzwXba1JbVI8OTzBTVrJFrkqRqp20OazLLvLv8Vu84pWZEc4agInkLpBlziJ1qmDFymYLVdRQAAEQAAEQAAEQAAEQAAEQAAEQAAEQAAEXi0CDguigSKIWhVNL9IS/Ghym1yg7/NZ+U+ppHzYU9uX5EDaVfon74uYyuqVWPVRuOyrS/iD93lHczA3HdRPRp7V23NPfNP3OYZoJnaZFzHtwe1HtOCT9ab2UqZJzlnYm2vd4qOHfz3Nguh+0/nGPfw4zmZ27hffzCrmjL7LbZIuFa2Ql+p+UCWy70RbF/5GJ/48b6rDfKPP5/7sMi8JjSLocixc5lsNeJtyFMyo2lfMIvlrbMOlVzIhiq9Glq1cf2QrVxZFpaTg8XWfwOPjIped4DiZ2775Te3rHznZnbxlv9raLl/z6/q/6Y+dx9S+q+Nv1LM6FSiRU9Ul/ZvRd5l9fh2rmNrfxvyOm/ETC9EsLIhGNf6fVv5FhwI1AVirxPLTk8MdNO9bi3IUZtE4slivP4mpKrFTH90P0S/BNwiAAAiAAAiAAAiAAAiAAAiAAAiAAAiAQAIn4LAgKhaiIqgZwWU+swii/L/7tx9bCaI+1HVCUxYUNZH28C8iiL6wEK3fpRoVLpNbExwZ1pd9V9DzZ88tloIkTnq7/ZvMUpPZNs/72catXb9BBNEkSVgQZaH4EguiMVmItuhfh3IV1Kw/le4pqiIXXfzULXzDX0imdPjnk/TjCi05kG4hKvMs4z/J1pBbvv5V1aF/SBxUFcdTXeFBP689SAd3a3FUXR1/A+ZXqGxutc6k/RkfroyCXyVFT4Rna36mLPM8CNHXJRnUPRa2cxTIxIOKoKdhz2jRp5vpAR+PqogVtLjvy1xlFXGVKwpnoErbF3Nd3gi+fIeWTthmsh6Oqi4cBwEQAAEQAAEQAAEQAAEQAAEQAAEQAAEQSBgEnBBEp7H8ZJAYopycSARFWwtRdpmfyIKoyHEsjP376xn6wcxCtErj16ni2yWUICri28JRG+nerYcWM16xbgmq0vB1lvs0wW7JuC1068pdi2v0HWUhqgRRdpnnjPIxxRCt3bYilaxcSLUv/ftm5EZ69vSZXp20GLltkkg5TugzU4xQXRCVzsn4r55hF3NOamReXquYj97tWFmN38PDk7Ys+IVO/nVBXeLq+Ktw/NOKHAdVb/8bTvhkze+Nd0tQ5UbMj8cn7S8Zu9mCny6ICv9nnPRpccBm8vTyULFfxfpTElqd++cSbZgTaD6sKLeFSY6CmShv8exUpBxnuU8qCZ+0+d8092c6czgoyntxAgRAAARAAARAAARAAARAAARAAARAAARAIOEQcFwQ3cgu8yyS+TXsn3BGEQc9eZ+ztGfK4ctjZQvRYHaZH7HB1IomGIpLOQeVZBiHf+UYosteWIgW5/iddTiOJ2MSPU5lodetJ/VK2gytS1lyi+CqrqKZ/VbRMxYl7ZUenzUnn5SSHT2Cbl2+T0vGbbZ3memYxCet1qysqf01n+/ihEc3TOetNzwk231kfFQ5p8YnFrBSg1hFPo/gpEovssjLNfU6VaUi5dkKlq8RWXUVC6ZXWDiV4ur45f6333+Da9La/3nt3/RXpPWpaoA/2gzT+Ontz+q3Uom6+nldEBX+oZxlfs7gNepUtaZlqFztYoqNKK5bFvzGFrAX9Nti9S3WsS0+knAB2vz/tvEfOrD931jdi4tAAARAAARAAARAAARAAARAAARAAARAAAReLgGHBdHAzdOU2WCid5kfzjFEs6djycyTLUQfsiBqHkNUsxCNiHSfPmyVVMknVTL6YEwjSuqThIU3D44xGUprOCnR7Wv31Gy/Xr0w1fSvwNuahaFkgN88/+coV4KIf5lZPBVzTQ+Owbrm8x/p0slroufZLemzpGFLyPrKIlLaD+Z2N8wOpHs3H1hcnzR5EipRuQCV9itCC9kKUy8iiHad2Iy1UHFYF0vICE6YdJZ2LN6n2pT4oc361uD6vZT7eNjjJySJj8TKVIqr49fub0zJknur9h8/CLHDrzyLzTw61kxP/X2R+f2i2tY/tBiivop/6KMwmh0piMqYO45qSJIYS/hL/M/FAZtYNH2i36q+RZSV+84euaysUM1PZuB10f6Teqb2A83CBZhfh20QAAEQAAEQAAEQAAEQAAEQAAEQAAEQAIGER8BxQVQlVYrgGKIDEt5o3NgjyTKvkiqxJPfATgzRbiwY6u7ah385aRFDVLpRrk4xqtakjBLsREV89iScrp69SclTJ6OM7IrPOh7rcdrxxRzL0tolXE7r5Z32lVQcS609vjPS6jGEBTsPFixPHbrASY0O6Zer76pNSlP5OsVN7YuVp1hw3gt+yBnrk1D6zKkpfZbU5OXNoiYLi9P7fGe632QhymqjSKKqr/wp9z66G6KSFXl5e5rGf3D3MRJR0Ly4On6xcn2LrVy19j2Y33O6wtnhfVIlV0K1dEp4yLgWsaBpzU8Jorkl7idbiJoJotLH197IT+92qKT4R7CR57G9Z2nnd7+bd59qtq5Ar79VWI056OR1unP9AT1+EEoZsqWlAqVyUjrmp8+/WOBe4mtQQAAEQAAEQAAEQAAEQAAEQAAEQAAEQAAEEj4BhwVRIyVVyhQZQ/QhJ+P52iLLPFuITmBBlMU21jTpyG+n6Aczl3mZdhEMJbmQiGdiyCnXRSqLStBUYuizCNqz6k86wi730ZW0GVNR+xENyDuJl1aXXMz16e0f2x9pvWlWiWSlb9TjLcpTNFuU7esWliLsfd57menuFGwhKoKv9FnaOM1JldJnTUMZlcVs5DAizz3ipEQrpuywSU7k6vjl/gadq1G+13MqUVOESxE3TRh543l4OP200j4/EUSz5uGQBwxdhGPdZV4NkutpPehtypo3U6RgTMoC1VzUVIJotcIaY2nXTvvC5jxbkK6fs0frmIkgNkAABEAABEAABEAABEAABEAABEAABEAABBIqAccF0Y2RSZUa9U+oY3JLv9p9XJ8y5hSXebYQDeYs81Yu85JlXrKQi0AngqZ5DFHzDpRm9/hKnDwpeYokfK04sIt2xrFAg+7SziW/041Lt80vj3I7XabUHPvyNRbxMlIqFiyTp0rKLutspcl3HPv9DO1cbGnhqFdUtGJeqtKoNKXxTWHRvliFSnzNy2euq4RAB3cf129RMUS7T2yu+il9PfrbWTqw419q3NOPfLOmfTGGK/do4+w9dJ8F46iKq+OX8AKVGwi/pEqJlT4LwxuXb9Muxe+O3abbDHmXMrMgKnMU+ugJu8yvtrguS25fkjiuUpmM8e6Nh7SUE1s9e/pcXVewdC4qXb0IZc2XgYVob9Wmujay/bDQJzzvZzh26BEKC3lqUTd2QAAEQAAEQAAEQAAEQAAEQAAEQAAEQAAEEi4BxwVRdpkXGTCxu8y7e8rS+KZkV/l0Sjy7dflOvItoyXySKhf5NL6puO0nKnamJIt6EuqYmKeP42bQHRur0OiY6feJeOjM+F29P7q+RXdOLFXTZU5DKTjUgbjrC6+Hdx9zPNaHppip0d2PcyAAAiAAAiAAAiAAAiAAAiAAAiAAAiAAAgmLgBOCKCdVYkk0sWeZT1jThN6AAAiAAAiAAAiAAAiAAAiAAAiAAAiAAAiAAAi4g4BTgqi4W1dP5C7z7oCLOkAABEAABEAABEAABEAABEAABEAABEAABEAABBIWAYcF0UDJMs+BHKs3StxZ5hPWNKE3IAACIAACIAACIAACIAACIAACIAACIAACIAAC7iDgsCAqWeYlDY1fQwii7pgA1AECIAACIAACIAACIAACIAACIAACIAACIAACIBB/BJwQRDnLPGfahoVo/E0SWgIBEAABEAABEAABEAABEAABEAABEAABEAABEHAPAYcFUeUyz21Xb9jfPT1ALSAAAiAAAiAAAiAAAiAAAiAAAiAAAiAAAiAAAiAQTwQcFkTFZd6DOwdBNJ5mCM2AAAiAAAiAAAiAAAiAAAiAAAiAAAiAAAiAAAi4jYDDgmjgpmkcQdSDY4ga00LU6ON328pDRSAAAiAAAiAAAiAAAiAAAiAAAiAAAiAAAiDwEgg4Lohu5KRKbCJqVAvRQIOP/yWsUTQJAiAAAiAAAiAAAiAAAiAAAiAAAiAAAiAAAm4j4LAgqrLMc1Ilv0bGtBA1+vjdtvJQEQiAAAiAAAiAAAiAAAiAAAiAAAiAAAiAAAi8BAIOC6KBm9lCNCKCLUQHvITuvvwmjT7+lz8D6AEIgAAIgAAIgAAIgAAIgAAIgAAIgAAIgAAIOE/AcUF04zQiT3aZb2BQQdTg43d+qeFOEAABEAABEAABEAABEAABEAABEAABEAABEHj5BBwXRDdzUqUIAydVMvj4X/6SRQ9AAARAAARAAARAAARAAARAAARAAARAAARAwHkCDguiezipkIeHcV3mjT7+2C61JvWrUM1qZej8xWs07as1sb0txuuqV3mdypUqRNmyZqBkSb05wZcHbd21n7bv/iPGe412wdxp/SlZsiQ8bM6CxnF/5Uu+B42aQ7eC7yVoHGr9VOX1c+k6r5/VCbqvcdW5uVP7U/LkSfkHqAhZ5jx12jw6O38li+Wn1k1rcD0R9Mm4hXHV7QRbr5HGH1fv3wQ7uegYCIAACIAACIAACIAACIAACDhIwGFBNHATW4hyI35GjSFq8PHHdn317NSYWjfxo/9OXaAeAz+P7W3RXhfwv45UvXIptf48WBwSYYe1eVq4fAct4n9RlezZMlCWTOnp8eMwOnH6UlSXJbrj21dNJB8fFtTMRiaaqH/nsXTtxm2zowlvs1enRtSKxbvjJ923fhLeKKPv0bbVEymFCKK81mXetBJB/l14/q47Pn/yA8WoIe0onAXWGo0G6hUa5ttI44+L969hFgoGCgIgAAIgAAIgAAIgAAIgYAgCTgiinFSJS/WGxswyH7jJ2OOP7VPRq3Mj8mdB9NjJS9RzoMYstvfau65SheI0YWQXJQxt2rGPfvv9X7p5W7NyDL59n+7cfWDvNnWsxwcN6b1mNek4i6Hd+3MMXAOWooVyk1iMip2hs4JafGJ7sX4u8vpxj6Aen/13d1syf3N4/pSg3eVT5wTRt1gQHSyCKLEgarwY0DUNNP4Xz4973r/uXs+oDwRAAARAAARAAARAAARAAAReNgGHBdE9bCFJEkO0kTEFUaOPP7YLVrPwYwvRk+4RtHp3aUytGlWn67fuUKtOn8a2G+o6TRBla8NTQdR9gFEF0Vw0ZyqLYKyote7MgloCtxDtyRairZvUoGOnL1DPARBEixbKReJCz69enj/nLHzTp01FefNkUy74h46cdugZSgwXG2n87n7/Job5xxhAAARAAARAAARAAARAAARAwJyAw4Jo4Ga29mMLI8NaiBp8/OaLJ7rtXuwy79+0uhJE3eEyP3Z4J6pWqSTt+ukvGjt1aXRN25x7IYiyhegA161VbRp4BQ5oFob9NAtDJwW1+BymCDr+Td1nYRyffY+LtpSF73TtRyh//kEgoQvaccEAdcaegLvfv7FvGVeCAAiAAAiAAAiAAAiAAAiAwKtBwHFBVMXQNHCWeYOMP2sWX/JNl5rjboaqxDapUvpQqeL5qUjBXBR05SYdPX6erlwLjnKVKws/jgEpFqI92GU+ZYrkVLJYPhJh5yrHPzx64jwFXb4Z5f2ZM6ajjBnSms5/2K0ZFS2ci/buP0pLV/9gOi4bN27dtUgSlCZ1CsqZPZPpmqYNqtHbfuXoAifomfTFcouYmnLRydNB9Oz5c9P1cbHh45OM8rN1Xr7cWSkrJ4S6zW7+knBKLPUkpmN0JWtmXypUICcVyJuNHj4KodPnrtDJM0FqbqK7z/ycEtSccJnP6JuG570AZcqQjtKkSUFXec7PXrhK5y5co5DQMPMm3LqtBFEVg/aS3fVzjNfPpWjWj96ZjL5pqSSvW1lPsi6c6X92ni9JyJMlczpO5JWEgm8/oEv8DMjcPX36TG8qym+f5MmoYP4cVDBfdkqXNiXzu8bWyhfp+o07Ud5jfcJZQTtvrqzKKvhFDFL1e5Zae9ZtmO/rz19o2BM6e/4qJ3XyUOu3dMmCKlHX6XOX6c+/T1J4eLj5bXa33TF+uxXH4qCz43fl/Zc9W0ZKlyYlhYU9pTPnr0Tby0K8LpIk8eaQHw/5vfjifeoqf1ffv9F2GidBAARAAARAAARAAARAAARAIBEQcFwQ5SzzYmZmWAtRg4y/f88W1LheZTp89CzN/XYzTQ3owQl6kmlqilJXImjRil30zbLtygXX+lnQY9j9xzFEv5i7lqaNlft9tMtY/5Os2as2BNJXCzbYvb9r+/rUtmUtU7WaoMOfoh1Gti8boiVKHxateJFUqUbV0jR6aAe+UKVdUvd4ePK2+BtLiWxf24yg5u1HU/Cd++pUXHzUYTH2ox7NKFXKFFr1Zu1fYRFkysxV9NehkzZNe3l5UvcODTi5kJ82ZPnke+Xr7r2HNH76Mtr/138299k7oAlqmoVhbFzm8+bKQh8PbEuF8+dU7WnkXrT/4OEjGjdtOe3746i95lw+prv8HmdB/Yu539PUT3sqUV0fv4BYteFnms3rx56gnJeF5+ED2lAh6T8Ds57/h48ec/+XRdt/EaoG9m5Jb9coT16eQuDF+KX9x6FPaOT4b+iPv09EOd63OAnY4D7+LCb7WKw/WZmLV+ykbzkZmGSRj6kol/lpHPKAL/XvGvsYoj9umEqeHp4W44/gIKI1GnNd0RT9+Tt99gr1H/4VzZjQm/LnzW5af7Lx56FTNHrSInrw8HGUNblr/FE2EMMJZ8fvyvuvwTtvqjl/zj+yNO8wmu7ws2qviOi5csEIJTaPm/Yd7drzl+kyV/m7+v41dQQbIAACIAACIAACIAACIAACIJBICTguiBo8y3qgQcY/gAXRRvWq0M2bdyllyuTKGvCX34/QXbZkKlOqIJUuUYAlEQ9auzGQvpy/3ubx0F2ebwXfZ4syb3ryNJx+5fuDORGSWJmV5X+iL23b/SdN/HyZzf3V3ixJFcoVlUtUqVS+GGXMmJYuBt2gQ/+e0Y5HioN7DxxlYeuYqQ6xYq3PooTcK1pT8aJ5qEC+HHSPhYmf9/7D7b4QtqSKud9sokdsCRsX5eP+bemdmuUUq0uXb9A/bFV4ma0ss7EF7muFc7PlZy6av2gzfbdmt03zk8d0pwplNQZ//XNSidOp2cqxUvnXKAdbocnYJrLF6/bdf9jca33AZCHKN/l3jTlLefnSRWjKpz0olEU/sYS8fPWmssRNx3Eoy5cuTIXZYlXan/n1elqz8Wfr5lze1wTRGmq9JEualC0xn5KsPxGuZe2VLVVIMd2x+wBN+Hy5TXvS/6mfdud1+5T7f4r7H8z9v8MWmpH9Z6FU5j66/g/o1ZIa1a1MEWwFKW2LtbNYhGZji1ERKIsXzUdjpyyhHwIP2rQvB3p0bECtm9fidRhBp85coT//OUGP2MK3MK/Pam+WUELYDz//TZ9OXmL3fvODzlqIDh/QljwjxdwsmdNTyaJ5KZz7E1OW+W78g0SblrXpEj9v9x88puxZfWnvn8fUM1SGn91iRfJwLR60ev0emsWitL3izvHbqz82x5wdvyvvvxT8w9HaxWMoRfKkzGYjrWJG9kq7VnWoc7t69IgF5aYdRtGTJy+sjV3l7+r7115/cQwEQAAEQAAEQAAEQAAEQAAEEhMBpwRRUbIMayHKgqgRxi8WUk3YQlTGKmLYh/+bZeGW3qdLE2rZuDo9e/aM3us6Toll5g+G+oOck+JEeETQ9et36MOPZ1q4CHdnsagNZ34Xo80OvSYpd3bz+623p7I4JyLX5p2/0+QvV1qfjna/5wecoKeZH7spx28M0coVi9P4EZ2ZoAeLhoE0m4XXZ88sXfPFejQpu2Fv4XGZF13QE/5zWTBdZiaYSviBiaO6Uil2474ZfFfxj8l122QhyvOhkvJw2ILoirh4lylZgLbuOmBXLO7Xozk1rV+VHrClZYuOY5RwGl19jp7TBR0Zv7gS9/t4FsfNfOFi3o0tZ9u2qKWsKzv0tl0/qv8lCtLW3ftZhLQVu/vx+m7KYueDkFBqwVZ8IvyaF5mT7asmkJeXF23asU9Z8Zqfl21xd37K8ymhD6yLiN2zp/ST7rMlqK0ltayNCZ90pggWKweNmMPu51FbmUrdJkGbZUh/J2PASpb1kUPascAbc5Z5sVB8X1loe3CIhss0aOQc5dYtfRH3ebHA9qvyOq+NEGrabhSFPXkqp0zF3eM3VezChiPjd/X9N+RDf6pf+006e+kKfdB7st1efzf3Y8qRIxOt3/wrfT5nrcU1rvJ39/vXonPYAQEQAAEQAAEQAAEQAAEQAIFEQMBhQXTPJnaZZ9Mwv0bRu1wmAjZ2h2CU8ffvxS7zLBiJleWE6WyF+KOlFaLEUly3NIBS+CSnVet+oq8WbrTgpWcJlwoms0v4ZhaVzIu3txd9v2gMpeW4lFt37adJM6IXOUUQLfd6Edqyy3FBVJIqtW5Wg06yINotnpIqyfiWfPU/yp4tg4qX2mvQF+bDj3H7C3ZRfp0tISXO6vs9JthcLxaa874YqFyYp81aTRu377W5xvyAJqixQMcT4u+GLPOSsXvdd5+q9v83Zj7tY+tBdxYRdPRQAdr6sRSMkzDftUvGUJpUKWmbWj8rHGpeLEU3LOX+s8A4LOBrCwtjqUgE1a+Zr6z/3kNm0L//nZfDsS5fTfmIihfOS79zSIOhY+bZve/LiX05Pms++vfYOeo99Eu71+gHlaDNWealQ7EJeaDfZ/5dSwTRwe1V3M8ajXntRFN0l20Z/5DR821CMxRnS9NZPEbGxz9oTLT5QcPd44+mq7E+5cj4XX3/vVYkD82ZrAni3QZMoxP87jEvJV5jfp8xPwbY5aOpdOrsZfPT5Cp/d79/LTqHHRAAARAAARAAARAAARAAARBIBAQcFkQDRRDlYlwLUWOMX4uhV4UkDl791h/bWNDJGhB3VImvePTEBeo16HM5ZCqaoFWD/94P5/uH27UyHNynFbu2V2Ix5ZqyEjXdbGdD3LcrsKv25p37HbYQ7dGRBdHmNZUo0Z3FifgoEoPz26+GsX4VQf/7dAGJW78jZeeaSZQ0WVJauHQbLV650+6ti2YNJYmVufWHAypZlN2LIg+aBDWOpdq6E7vM34jeQjS6uvRzW1aM57ioPnYFb/0aZ7/19SPxNWX9SXIv6zKI109DtX6uU3sW5Rwt0v+U3P8pM1eyYG8puGbJlJ5WLhypqlzJgv9sK8E/urbSckKdjSwWi0v56Enf0p5fOUyDnSIC3QgWKJ+wdWXdVsP4WYs6QZE7BO2a1VgQHcoWos8lhmhsBNHayqK5TrPByhLXfAhpUqekTcvGqkMDRsy2iIEbF+M3b9vZbUfG7+r7T/r4zcwhnIgqK63f8htNt7IAHdSb1+67lejk2SDqyoKoddEEUef4S1368+Ou9691/7APAiAAAiAAAiAAAiAAAiAAAq86AYcFUbGQFKshowqi+vhVIhR2HRXBS2IRKtMtFm/EnVTbV0eUSzh7KasiX/r1+p36t5xRd4oPOf+nXSvf2s0e6rjsyXV8XAI4RtG+O+ZGcxmtouIutvwgQBuA1WentnWpQ+s6dIszpkvyEPMif5D7c5b5O/cfUpO2I8xPmbYlaVK39g0oJCyM3m0xzHTc3sbUgJ5Uvkwh5wRRthB9j93zj59ml/n+8SOIVuUYqOOGd1Lz34pdym/cumtvWHaP+aZLTd8vCVDzHMDxJXf/fNDudeNHdKEqFYvRwcOnVeIbuxdFHlSCKGeZlzUWW5drWctV3ihB79aqQNk4033mTGnJJ3lytT5lWXpz0iGpb8a8dbR20y/RNe/wOX393L33gBq/rwmT1pW05RiX3drX4zihT+jdlrbrx7r/mTKlo5Qc3zHy0SEvtjKVp0nrv20c1DlT+1FRdn2X8s+RM7SXE0gdYWvO0+euKBHTuj/6vlj/zWTrP3lOQ56wKz4LkOq9II+26bnlk7wv8VHlqe7IYSPOX7quV2HzrQui8vy37hL7pErmFYnL+KjB7dhCNHaC6PvM98q1Wyokg3k9si3j+WnjNO5NBI35bAn9+MvfpkviYvymyl3YcGT8rr7/pJvNG1ajvt2b0UOOwdq0/SgVf1aOJ03qTesXs3U9x2b+Ys73tG7Lr3LYomgu887xl4r058dd71+LzmEHBEAABEAABEAABEAABEAABBIBAScEUfkj2LgxRPdwDNFISZKlACVNmvZF4VCSpXaYl4e2oV/HJ18IpnxKhFL+T10la0lt80HRTPR75Vuv7kVtL7bkLvMrpH2/hq6HM9AspCrTidNBUYqIEkNSsqdzlhaqzVZkz9iaVC/6H+Rnz3MMvb72Y+jVq/MGDfmwtRpfwzbDVfIW/X7r7ymc5b5CGYkhuo8tRFdZn452X3eZF7fV7vHkMv8eW6SKZarEWK3dbIiNhV10HdbFS5lbyfD9Nwue9spAZWX2Jl29epve66ZZ69m7To5JEqA57HItQlZsXOYlTunn43tz0qecan4kk/v9+49IsrPrazNb1owqYc9XX2/gjO+BUTXt1HFZP+Iyf/bCVerUJ7r146/Wv/X6kURgX0j/2fVdPX9sqXz33iOTpXIEc8jOia08PT3pK04MZa//kvhq5JD2VKxwHq5DH3UEC1vPOcP6CVqychcdY+to61K3dgUa9tF76g6xxBUBUuZS00Ll2eU9/tJ/KJH9ERO+odNWbtNyXC+aINpfatFiwDph4SsWkqN4PJogGv07QnfZlizzXT6aonfD9K0LojKuACtBNC7Gb2rYhQ1Hxu/q+0+6mYYToH2/aDT/cJCEGS1i0fiQ6r0Wy7Q9PQ17qoTSh5xoy7q4wl/qcvf717p/2AcBEAABEAABEAABEAABEACBV52A44LoRnYZ5z/m/RpyPDsDlj0GGX//ns05qVJVOnP+MnXqayuIyNS3aPQW9e3ahA3gIqh2k8EqNqG+JFQMO7YQvcBWb1G5M4vL6MDeLdV6erf5MAoNs0xso9cl31NZEC1fhl3md7DLPLs4O1JEEBWBUgTRbvFkIaqxaarEpzrNWSy2SqYUXf8lfuUCiQ/KD9pATmYTVcKdYR+1prq1K9IFzgTevmf0LuMiqM1jC1HJMK6SKsUgqH368Qf0VqVS9CgkhGbN38BWqn/bzM/m5eModSofmslZxlevD4xuSA6f0wWdi0HXqV0UY5P1M4jXj4ib7zYfatE/U/85odLMBevpR7v9H0upUqWgWSzoro5C0BXhTyweK5UvxjFd86vM8qwqK5H42fNn9L+ABXTg4HGL8dV6qyy7wrdT17zffTxdunLT4rwzOyYLUVZSW3d1zkJUc9GPTKrUOCZBtB4nVarD1rBB1PlDW5du4bJno3bc2kI0LsbvDDPrexwZv6vvP73tTwa+T7X9ytIfnDRr8Mi56vDkMd2pYpmitCvwTxo79Tv9Uovvrmz57Cx/qcjd71+LzmEHBEAABEAABEAABEAABEAABBIBAYcF0cDN7HLMf5S7wy37VeRnlPFLUpEmnFTp9p1HbMVk3+VdWTG1qk03OIt8q86WbvXKwq+ZH7uLhlCD94bbneoOrd+mD9rUpQcPHlHDtp/YvUY/KDFEJfP6FqctROM3hugb5V6jSWO6shWgB7XpNo4uX72lDyXG79Qs0m1aMU65V4/nhFY7rBJa6RV8NrobVSz/Gv3x13EaPEoTW/Rz1t9FCuaiudMHKJFOXK6vRpNlXqxDt6wcr64dM3kpi4m2LvvqmhWc7MmTWDBdH6WgaN2P2O736tyY/JtUZ6vhUGrY5mO7t7X3f5s6tatL99nys5HZ+tH6Nl717VO2XhQx17rINVtXTlBWm1+xYGrPQtT6HtnPkjk9vVOzAnXktevp6cUWrFf4BwNLC9bCzHredC0B0odDZ9Lho2ftVeXQsSJs4Tt3Gs8fm5WKoB3d/EVVseYyHnsLUckyf+rsVbYQtRyf1K8sRDfw/xfw/AdMWmzhMu/O8Us7WZm5ebnHlsqPQ8LMD8Vq25Hxu/r+0ztUplRBmj6ul4TyVO/ICLYWXvXNSPJiy+R+yvr7lH6pxbfmMu8cf6nI3e9fi85hBwRAAARAAARAAARAAARAAAQSAQHHBVGVVCmCBdHoLYwSARu7Q9CSSiX+8esx9J6Hh1Nzjn93595DGx4SI1NiZR4+eob6DptpcV4ErVaN/cSYjuOLjlJxRi0u4J2RQ9pRzapllKtwl362Vmjm16ss85xUaYsTSZU6v1+X2vvXobPnr0bpvm/elju2s2fLSMvmDlfjnzRjBW3lTOiOlK0sSKZM4UMr1v3ICX022dwqQtHKBZ9Qlky+KsP8VM40H10RIW/V1yOUq/aQ0fPoAIuoUZVSxfPTlxP78GkPatJuJN25+8Dm0tdLFKAvJvTmKzxoJrucR2VhaXNjLA/oFqLiIt6iwxheP/ds7hzJVphijXjyzCXq2o/Fucgi/Z8xqa8K5dC0fdT9nzGxtxKqvmIL19gKonobYkHYuF4Vdb+1BXAKjlO6dTVb7LIINvWrVbRp+z79Nqe/Zf5WLhiheIv4bW2VGpuKVVIhfuZEnKsRo4VofbZQrM2CaJDKgm5dvxJE2UJU5n+MmTu4XOfO8UvoA3kWZOHKWpD2pn21mjZs22vdpRj3HRm/q+8/vTPCaenc/1FOfh/MX7yVwhl+tw4NVWzWtt3GRxlKQxNEneMvbbv7/auPB98gAAIgAAIgAAIgAAIgAAIgkFgIOCyI6kmFjGohapTxK0GgLgs+LGgqwWj9Hos1L1mmv188mpJ4edPX321V8RTNL1AWShwDUgSMeYu30HerfzA/zWJfcr4/gJInS0KLOIu6ZFOPrryIIfq7w1nmG7zzJg3u7U8PH4ewteEnFq790bXpyjkRQmZ+1pdKFM1HV64HU7seE6J0m/fy8rTJMB7wv45UvdLrdJuTCrX8YIzNvRJPdTJbzXqwuDVy0rcU+Ns/0XZXYmXu+v4z8vbyoqU8F/N5TqIquoWfWLdGVbe4/VYoV1S1P2shW1jGhct8kxpq/X3NfZU+mxdZP+uWjKFkSZLS4lU7aYHZ+ilSMCdbaA5UAtqoiYvsslH9L8v950pniYWog/1X8W85ZEHIozCq1/p/NsLWWPVjQQm6eu02u/xHPffmY4puW83f2s9UIih5lqKbv6jqEZfxkZzVPrYxRN9vwYLcuctRxxCVeMq8/sZMtrQQlfbdNX5NEGVLXm5HflyRaKzTnRREHRm/q+8/8zlo06IWdefkcUFXb6rnPE+uLDR/Ca/pVZZr2vweJYi6wN/d71/zvmEbBEAABEAABEAABEAABEAABBIDAccFUZVZmF3mG7FLqAHLHoOMf0DPFpoFHEsQjzgOo1gVHj1+Xs24ZEke+3Enqshu4Y9DQqkVZ6G3Tgyi/iBvolmIinvr0DHzTa7DSTi795hhHVUG8zCOG9qyUwCJG2x0RWKIluMYoluciCFarEgemj3lIx6JBwu3O+nb5TtsBMjo2nb2XGFOSDSXXac9PDw5S/kpCpiylIJv3zdVl4SztEvYgAcPH9PKdXtMx2WjQN7stGDGIDHSpN2Bf9OEz5eZRNGc2TPRlIDulDVLBjonSYfYZTtCy8RlUYf1TgDHBa1euZTqw8LvtrEr/p+mzNfm1yZLmoQ2Lx+vsmH/8+8ZlfBHnx9vnjtJFtWi8VuaOsUqlQiK7o8hyi7zLKiLVWDIY14/AS/Wj/RhzLAOvH5KkqyfVlbrR+v/OBK+h4+dpRHjvzGtLxGEJaZsy8bVlbu8iGz2LFzLlipEtauXZevbfXT81EVzPOzC7UsTR3WhvLmz0cF/TtKAT2ZbnJcduWbx7GGcRd6b9h44RlNnrbKxkpZYsU3YyvQ+h4yYtyhqgVqvXOKiVmOL7Dt3H9IC/hEiqvnTr7f+Vi7jklTpeThbiA60Pm2x3619fWobo4WoZpUb8JmtIOqu8YsgumX5BH4MeCWIes2K6PTZa5yzEGVBWCWVisX4XX3/mcP0TZ+a1nwzijx57cl6E/7yzrsVbGv1rN/nKn93v3/1fuEbBEAABEAABEAABEAABEAABBILAccFUXaZlz9Ojeoyr1mIJv7xi4VU4/qV6eKlm+Tt7cmu2elUxvk7dx5ykpk8lC5tapEo6Is539O6Lb/aPA+9OjfiGJA1KIgTyjxnASBnjowsLF2iO3ceULGieck3XSp1v5bQ5meb+60PTGUBsLzKMs9Jlb50LKmS1DVpdFd6o+xrSpB49iycgu/cIwkHIKXXwC/shgRQJ1388OfEUt04QYqIeGGcVfr8xWt0+VqwiouYN09W5V4871u2oF2z26al3l0as3Dnp47fvXufBekLlCZNSs4Yn5OSsmWkiNHDxy6kg4ftxyG0rjB3zsw0Z0o/SpHSRz3Dz54/V9aCEaw0fdB7EvfrRZxTESN78hyKChXOnA4dOU2hoU+47dyUwTc1fc0Wmc0aVKX06dJEmaXdun1H9iUpjD/HoL18+Zaap5zZMvD6u8zzdp+tbvOodmX9zeSESGvsJESS/vfq1Fg1+ZzHeYiF3ZDQMHqN++/rm5YWsIVe04bVKAOLVTM5aZS1y/+bnERp4uguavw3bt2hS5wc7DYLkbJ2pS+iVEt9PQZMp/N8zl6RWKMDerWk5CyKhj19yuI1zz3HkhVmuXNmogwZ0nAtRGs3/koz5n1vrwqLYzJ/s6f0p1Qpk/FxD5KkTs+fi8xP1KHPZ3TFKk7tPI4Z68UinFIR+TMVz7vE45Q7zrDlpypKZPSg3/b/SyKS60WLD1yLTp+JOsu8JFWSuuwJolKPO8avBFGOVSv/nyNF2outhagr43f1/ac6a/bx6XAWs1nAF0H0wEFOsBRDzF9X+bv7/Ws2FGyCAAiAAAiAAAiAAAiAAAiAQKIg4IQgKlZBHsbNMs9uokYYv3IZrVeZrTrP0dhpS+mzUd3ZIi4LCxIiTHiwRehjmjxjFQXute+qrQQtFgP/O3mBRoz7hi3qulKhfDk4CQvXwCLbQ7Y6ncZWcz/+Ypvwxt6TNTWgp5Zl3omkSlKfWA02YwGsRtXXKXNGX0qbNhWPQkbCMU47jrYbo1Luc0cRS8BBvVuRJDbiPDxq/FKvWIrtPXCUFi7bpuKb2murjl85+rB7U0qTKqU6rfM/ceoCfTrlOyU427svqmNiuScWkkUL56GsmdKr8cuHdeIncfn3Zwvfju+9S8lTJFHJoaTOu/cf0vK1P9GK739UIQ9E2J61MK6yzPvx+rlEn4xbSJN4/QhHffyPOPzB1Flr7CZ8kn5K/1up/r/NonNyOaR0wXsPHtIyvf+LxrAgmkZzmbcSVXPlyMyWsA2oTKnCLCAnNY1fb//Awf/o6yXb6OTpS1rdUXxmz5qBBvVpRaVLFiIvUcMi179cfo/j8u794xht2PqbjRVqFNUpy1OZv9cK51bxY9WgOLFR267jbRJ3/bBuivoxQ8JWqCKPrln78iirM/yxbfcBmvj5clOzWgxLSeoTtSD6kyRV4koClMv8IdO95huujl8JopLgi98ZUoT/tK/W0MZYxBB1Zfyuvv/MGch21TdK0LjhnRX/MZzo60c7ib7M73GVv7vfv+Z9wzYIgAAIgAAIgAAIgAAIgAAIJAYCTgmi8sepYV3mJW6eAcavZ1n+hzNkfxiZMClTxnQs6uWkILbauxB0PVZu2uYPSUbfNFSELfTEku0CW9WFx8LN2/z+V307ebKkJPEDs2XxVZaOF4NumFy5YxqbCJn582ajR49D2brvik2Igpjud/a8JMjJmzsrW4WmoTOclMraCtHZep25LyNbdkq2demDWGXGJkyA9D8f999X+n+O+29mBRubPkjsTpkzWbtiYSnJna5cDVbzF5v79WvEfT83i6wS7kDE3Os377CAGRwv8Wz1PrzM71dt/O5+/0mCqq5sKX7/YQg14yR1T58+i/fpMPr7N96Bo0EQAAEQAAEQAAEQAAEQAIEETcBhQVRlWWchq3qjAQl6YHHVOaOMX7mMcnxDySCvC6JxxRT1ggAIgEBCIuDO95+I6svnD6csHK5gzcafOUTD+oQ0VPQFBEAABEAABEAABEAABEAABAxJwGFBVGJoiuOiX0NjCqJGGb+5y2jfYV8a5uGQcZsKe+l6sFuxFiRA+zadkw3x4pWTqkTQn4dO0S/7DusHDPndv2dz8Vc346Jh0ByeIw+bcdM35fuPQyeY3xFDcsOgExYBd77/2jTnLPMcfiGCY/G26zWRLl2+mbAGi96AAAiAAAiAAAiAAAiAAAiAgAEJOCGIiss4GdZCdI9ymU/849cEgSr0j8EsRJUFsEkCFQFPS1qjq59KHDWJoPLGiJT6+KGQ2JRzv91kwNfIiyG/4PfimOCUEJBaLEsmKtuKIW9I2AT54o8Va3+kOQbnZ0YNmy+RgKvvv7drlKfCHF6kAieCy5uTYy/zGt+043eaOnPVSxwVmgYBEAABEAABEAABEAABEAABENAJOCyIaoIHC4IN++t1GOrbKOMfIFnm67IgekxiiBrHQrRvt6ZqPbN+ISqdEjLk26R7qrMvPpSuJ5oe3/DXP6dUtu4XZ4231bcr8xMYCh5/8aZiqR3RtnWukXgir6aD4BdJBF8vm4Cr779RQ9tTzSplKIITXon4v2vPnzR++nLDxIx92fOH9kEABEAABEAABEAABEAABEAgJgIOC6LiMi4ChlEFUaOMv1Tx/CqZzu3b9+nX/f/GtI5wHgRAAAQSDQFX33/lSxehHNky0L0Hj+jIsXMUzO9RFBAAARAAARAAARAAARAAARAAgYRDwGFBNJBdxsW91c+wFqLGHn/CWbroCQiAAAiAAAiAAAiAAAiAAAiAAAiAAAiAAAg4TsBxQXQjJ1ViE1GjWogGGnz8ji8x3AECIAACIAACIAACIAACIAACIAACIAACIAACCYeAw4KoyrLOMdH8GhkzhqjRx59wli56AgIgAAIgAAIgAAIgAAIgAAIgAAIgAAIgAAKOE3BYEA3czBainBm6esMBjreWCO4w+vgTwRRiCCAAAiAAAiAAAiAAAiAAAiAAAiAAAiAAAgYm4LggunEaEWfOrd7AoIKowcdv4GcFQwcBEAABEAABEAABEAABEAABEAABEAABEEgEBBwXRDdzUqEIAydVMvj4E8GaxxBAAARAAARAAARAAARAAARAAARAAARAAAQMTMBhQXQPJxXy8DCuy7zRx2/gZwVDBwEQAAEQAAEQAAEQAAEQAAEQAAEQAAEQSAQEHBZEAzexhSgP3M+oMUQNPv5EsOYxBBAAARAAARAAARAAARAAARAAARAAARAAAQMTcEIQ5aRKXKo3NGaW+cBNxh5/bJ+VpvWrUI1qZej8xes07avVsb0txuuqV3mdypUqRNmyZqCkyZKQB9+xddd+2r77jxjvNdoFc6f1p2TJkvKwI5iTh/ohQ7YHjZxLt4LvOYyjZLH81LpZDZVUbfi4hQ7f78gNTXj91KzK6+fSNV4/axy5NdFcq80fr3H+BSrCg1e6/BLFX4NGznF+/pr6qWo+ieP5S4iToNavQcYfV+/fhDiv6BMIgAAIgAAIgAAIgAAIgAAIOEPAYUF0D1tI8l/n5NfImIKo0ccf20XWq1MjasXiw38nL1LPgZ/H9rZorwsY1pHeqlJKrb8X+lAELVy2nRYt3xnlvTmyZaTMmdLR48dhdOL0pSivS2wntq2eQD7JkyvRWNQ0if0rO607f0rXbtx2eLi13ipDIwa3o4hwohqN4zapWk9eP62b1KBjpy9QzwHuWT8OD/gl37B91URKniKZJojy/GnCqMzfWKfmrybP38jB7Sk8PJxqNh74kkcX/80bafxx8f6N/xlDiyAAAiAAAiAAAiAAAiAAAiAQdwQcFkQDN7OFJFsqGdZC1ODjj+1S7NWpMfk3ra4E0R5uEEQrVSxOE0d2Uc1v3LaX9h44SjcjrRyDb9+nO3cfRNm1Hh80pPfYsvH4qUvUfYBm4RvlxYn0RNFCuWnOtH5KHPV3QVAbNYQFtefhLIjGraAmgo4/C+rHTl5iQd2Yc2a+FGX+5k7XfoTy7+ScoF2TLbZHDRFBO4L84nj+zPueULaNNH53v38TyhyiHyAAAiAAAiAAAiAAAiAAAiDgLgKOC6IqhqaBs8wbfPyxXXjKwq9pjUhB1HVBq3fnJtSyyVt04+ZdatUpILbdUNdpgmhNOnHqInUzsCAqLtjya4Z/F7YwvO64hWj6tKkob56sbGlKdOjIaYfmwNGLlSDahC2MWcTuAUGU3CFox+f8OTrf8XG9kcbv7vdvfMwP2gABEAABEAABEAABEAABEACB+CTguCDKWebFzMywFqIGH39sF2evzmzhJ4IWW/i5Q9AaO7wTVXuzJO3a8xeNnbo0tt1Q1/XoyBaiLUScDaIeAzjkgwGLJqhpFobOuszHJzbd5fc4h1xwh4VxfPY9LtoqWigXzZ3GYQpYjPbvyhaiTgjacdEv1JkwCbj7/ZswR4legQAIgAAIgAAIgAAIgAAIgIDzBBwXRA2eZT3QIOPPmtmXfNOnpschYZwY6RqlSulDpYrnpyIFc1LQlVt09Ph5unItOMqVp7s864JoyhTJqWSxfGzplouusphz7MQFunT5ZpT3Z86YjjJmSGs6/2G3plS0cG7au/8oLV39g+k4a/N049Zdk/u8nEiTOgXlzJ7JdE2zBlWptl95unjpOk38YrnpuL41HowQAABAAElEQVRx8nQQPXv+XN91+Ts7J3xKx9aUukt/tUol2c08gvb9cZSu37xDKVMmpzfLvkY5c2SiI8fO0cHDp2za1McfGvaEzp6/Sh4cNDV/nmxUumQBlSjp9LnL9OffJ1U8SJub7RxQLtdiIcrmnf5dY28hmjd31sgYpEqL02rmOs4zy7gsmiDKYQ6UIDqdXqyf3Lx+gmNcP3rfMvqm5XWbjzJlTK/WxdVrt+jshWt0jv+FhIbpl0X7LfMpCXmyZE5PSZN60+3bD/gZuEl/s5Xs06fPor1XTvokT0YF8+eggvmyU7o0Kbn9q3ScY9lev3Enxnv1C5y1EM2bK6v6AUueEymsp6pPSXYWXXHn+nPH+KPra3TnnB2/K++/HFkzUtq0KSks7CmdOX8luu5RIV4XSZJ4q5Af8l7Ui6v8XX3/6v3ANwiAAAiAAAiAAAiAAAiAAAgkVgJOCaLyF7ZhLURZEDXC+Pv3bEFN6lWmw0fP0ZxvN9GUT3tQChZ2NElFy1i+eMVO+oYTGkWID7VVUX+QS1KcUxdoxtzvaarcn8KH0fG1nNxHBJpV6/fQVws32r2/a/v69H7LWnwVtyX1e8qtcpe0pbWv7UWoPpgnVapRtTSNHtpetRPB7WmtcVIhadWsfREHIzw9qHn7USRxSN1VhnzYmurXqUg7f/qLypcpTL7p0qh+33/wmHoO+kIlJipaMBf3T2v/y7nraO2mny2a18d/6uwV6j98Fs2Y2IcF0eyqHn38fx06QaMnLaIHD0Ms7rW3Y7IQ5fGrpDxm4ou96/VjP66fRp7M3py/JFXyi+OkSuaCzhdz19LUsT0ppU9y7siL+V8dzfrJmysLDR/wPhUsmJ27LgOwnP+HzGzctKUsUh/Th2rzLULVwF4t6e0a5cjT29Nm/YXyjwUjJnxDf/x9wuZe/cBblUvRkD7+lDq1j8X6kzW9eMUO+paTgdl7fvT79W+ToM21OBID9scNU8jL04ureTF+lRSrEVubRlPctf7cNf5ouhrtKWfH78r7r8E7lWhwn5b0nH8Ead5xFIudD+32UUTPlQtHkKeHp7J6F+t3vbjK39X3r94PfIMACIAACIAACIAACIAACIBAYiXgsCC6ZxO7zPMf834x/EGdWIEZZfz9e7WgxnUr0022vkzBQpRYKv6y71+6e+8BlSlZkC0VC4quSWs2BNLM+ettplvPEn7r9j1KmjwJPX3yjH79/QgLjw+odIkCVOb1QiJP0vbdB2jC57ZWm1XZPb5iuaLqGtZyqFKFYmwxmo4uXr7O8SvPsMWk1qTIY/vYanTfny+ErcJsxSqihGifUooVzUMF2Drv3r2H9PPeI+qYSriuaWtK8H30KFQdd8fH0I/8qW7tN1X7x05eoFNszdmgzhvk5eXJVmNiURhBG7bvozfKFqU8uTLT7TsPqCmLsuZFBJG2LAgHsRXtvfuPSKwURby7y9tl2Eq0WJG8iv+qdSwqL9hgfqvdbU1Q68fnPFhQi31SnuED27KcKEIyUZZMvlSCrXzjI0u5CDqtOKnSbRaqkybh9fPsGf3y+78UfOc+vc6WyuVeL6zGv/2HAzTRzvopX7oITQ3oQSFhYXTo3zN0mS06xZI4fdrU6t5CvEbkPTbz6/W0ZqOlGK0DHBD5DIh17y/7j6h4uGIRmi1LBmXpXJxZjJ28hH4IPKjfYvGtQjU0r6n6eepMEB08dJIe8jqT9Snr25MX8W6+N2DKEov77O0oQXsqW/jyPDgS8mD4gLbkwaK/PC5ZMqVXlq4yfzElxXLH+nPn+O0xic0xZ8fvyvsvhU8yWrtojPoBadbCDeqHH3t9bdeqDnVpV5dEnG/aYRQ94XekXlzl7+r7V+8HvkEABEAABEAABEAABEAABEAgsRJwWBANFEGUi3EtRI0xfrGQalyviprrK1dv0Yf/m0m3IrO6y8E+XTjJUePq9OzZc3qPXbBFbDIvmqBVg4WYCBXv8MOPZ1m4CHfv0IDatKhF4SxKdew9iS7E4IItFqoVShemzTv30+QvV5o3FeO2CDOtWZg6obLMi4Vv3JahbCFajy1ET5+7Sl0+mqIsAGWs3do3YEvLCBoych4dOHhcucpuXTmBv73ogz6T2Y37qqljmiBSW+2fZbfbgZ/Mpjss6EoR9/nRQzuQX5XX6dHjUGrabiSFPXmqzkX1YRLUuP3Wndhl/sbtqC6N8njNtzhL+eD2ajxx/YOIvn6kM9fYRf4j6/XTkddP81qqLx3srB9xURfhfuuu/YqR9aD69WhOTetXpQePQqhFx9EUGvrE4hJxjd+2apISsTfv2EdTZq6yOC874u4s6/8ch5SwLq9xeIfZU/spIXKRsqTeofqqX1e5YnGaMKKLaP00aMRs+pPF0uiKs4K2eZ2SZX3kUM4yzwJv7ARR59efu8dvPg5ntx0Zv6vvvyF9/ane22/S+QtXqCM/2/bKd3M/phwc2mPdll/pizlrLS5x9fnXnx93vX8tOocdEAABEAABEAABEAABEAABEEgEBBwWRMVCUqyNjCqIGmX8mstoFRZsIpQF3vbdf1gs92RJk9D3SwIoVYpktFKsFNn13bzIH+T+nGVeLDGnfLmKRFQyL0m8vWjt4tGUNnUqJVpNmrHC/LTN9tSAnux+Xsg5QfQDTqrUrKaK29i9f9wLouIyX48tQrexGKeP6w22dp00ursSiOu3Hs6Wgpqb+8IvB1P+vNloyChNJNUHLoLI+y1rK/5DR8+n/X/9p59S38WL5qVZkz9S9bXvFbOgrARRjiEqAokjLtfmjdZiQXREpCBaI44txE3rh/srYuTmHb+bd4W09TOG108K2rLrAH0Ww/qxuJl3JOP4uqUBzMODhgXMt3GdF0F1wReDFP8+Q2bQv/+dt64i2v2vpnxExdmK9/eD/9FQnlt75ctJfahUsQJ05L9zJG1EV3RBVMI+tO7iXFIlTdBuxxa+sRNEXVl/7h5/dGxie86R8bv6/itWJA/NntJPvf+695tGJzhmrHkp8VpemvnZh2r9dek3hU6duWx+mlx9/k3Pj5vevxadww4IgAAIgAAIgAAIgAAIgAAIJAICTgii09QfccYVRI0xfs1CqjInGwqnBq0/trGgk7Uv7qh1OL7ifycucmzMzy0eB/0PcnHPbfDecLtWeoP6tFKu7ZLsqH2viRb3W+9MYffnCmWKsCC6jy1Eba31rK833+/BgmjrZjUiLUQ1C1/z8+7eHvohW4exILqKwwnM+lpzZy/xWj6aOamvsu4U60o9bqSIIiX5nMQC/enXQ6auaBZitdhV/Dm93WyI6Xr9gjSpU9LGZWN5N4ItDOfEwsIwF81hl2uxLnXEZV5vT75FUBo5mC0MOYZojXiIISou86zdqfX3mC1hrYu2ft7kZFk3Ylw/1vfK/pYV4znBlQ9NnbmSNlkJruJeLvEdxUd95bqfaLaV4G+vPv1YWk6ctPG7T9W9oyZ9S3t+/Uc/ZfGt8WzP4SSe0ruthnHMSQYbRdEE0f5KoFUxYJ2x8GUL0VFD2kcKojHHEJWQDc6sv7gYfxRYHDosFqKxHb+r7z/p2Lczh1C+PFnZAvQ3+tzKAnQgv/sacViPk2eDqOtHU23G4erz7+73r00HcQAEQAAEQAAEQAAEQAAEQAAEXnECjguiG1lQYqsTv4Ycz86AZU/k+MVKVsQo9ckik4pXKQdF0+AdUyofuYT3RYiSa8LVPfr1cp2clw+teChNhA/oFcq3XCT/+HCECn6p36LuZiskvT6+hu+v3sj1uenfszknVarKmdLvskvxGK1zVp+d2r5LHVq/Tbc4zmPzDqMtzqoYdmwhKm7eTd4XYcm2SNKkLmwJKfFJ320xzPYCsyMSD1ISFG3ewS7zLGA5UkQQfS/SZb5bPFiIist8XRZEl67cRV8v3aq6WrhATvr684EU8uQJvdN8qKn70zhZUNnShWjyjFW0ZecLK8iu7euxhWgdunL9Fr3XZZzpen1D1tOejZqQMuazJfTjL3/rp+x+i6A2jy1EZf05K6gpC9FBmst8fAiiYmF89/4Datx2pN0xyfoR4SiEs3m/2+IFU/1iYVTljRL0bq0KHPfTlySJjY9PUn6ItAdOQhXIE/TlPElq9Yt+m+l7Dlv4vVY0t3r2JKO8xHCVJGOSOfxJNCEKNOs/sd4l9UNCOCvIniozlTy/2rtAGpZDSdjSWi7syFa+0WV+N1mIct9bd3XOQlSz8I2doO3K+ouL8ZsmxYUNR8bv6vtPutm84VvUt2tTDsvwmJpxjGCJPyslKc/5usVjKFXK5CyUfq9c5tUJsw9X+Es17n7/mnUNmyAAAiAAAiAAAiAAAiAAAiCQKAg4LIgGbmaXY/6j3KgWovr4RSVR4qQksGYzNtZe+IgmtGgrgxUP3pXM6JrsqZ0zv0KuY30k8l7tLg8+IJnPpahtEW/Urkg3LHwqgVQORN2+O8RqSSrShJMqnTh9mbr1t7Vgkv5JDMaPWDiNYMu2OmzF+Oz5czmsilgotWrmR+c4juYHfe3H0BMryiF9W6vxN2wznCQLe1RFYohKopwtTluIxl8MUc1lviItWr6Dvlm2Qw2pQN7stIDd40M4M3ldtgbUy+QxPahiWU4A9NVq2rhtr3440mW2Fp06K3FIbfmJ2PfTBn4Wef0FTFocK0F0jnKZJ5csREcNYZdrnuY4F0Q7Nyb/JtVZfLxGnfp+ZuJivlGvNq+ffq3V89eo7ScW6yeliE3je1Ph/Dm154+fo3v3H5pCFUg92bNm5LXnwUmp1itrXvO6ZVtE1JGDO9BrRVgU5Vr05+/Jk+dskXuCs8Tv4kRLF+RSi/JurYo0TPrFj+mN63foOVtJRz7EFtfJjlYrqWz1p89auk2bXyyCqJo/fv79XYwBq7nMx2whKoKzM+svLsZvzsLZbc1lPnYWsq6+/6SPaTicw/ecXMmbhfcAsx8t9H5IEqWm7UdarEl9bJrLvHP8pQ53v3/1fuEbBEAABEAABEAABEAABEAABBILAccFUZVUKYIF0ej/oE4sgKzHoSWVSvzj12PoSYb0Lh9Oscag9ls00iygnrMQWpsFUXGP10svFrRaNfajS5wVvl1P++7wDd+tRAN7tVSi1Nts4RfGlqJRlaksiJbjpEpbnEmqpGKI1qDjKqlS/LjM1+WEKou+Y0F0+XY1JBFEF84YRI8563ndlv8zDXPymO4siBalaSyIbrARRGuzIBXEgqitIK0EUbYQZYmcxny2iAXRF+72psrNNpSFISf5EX3dWQtRXciJTZZys6ad2tRdfi8EXaP2PSfZraMhuxyL27z84PAOWxibr59Ph3eiam+UpMchoTSLBc8fAv+2OC8Vbl4xjmPg+rAgypnAObyBvSKZ4ItzSINKFYpxvM98JKEPtB8/SCVU+vjTBSpBlvm9td4qSyNYOBZr7XY9x/MzcNP8tFPbmiAqSZpcCHkgSZW4X7EJeaAJcs6tv7gYv1PQrG5SSZViOX5X33960yMGvU+1q5flNXKCBo+aqw5rz3wR2rXnLxo79Tv9UotvV/hLRe5+/1p0DjsgAAIgAAIgAAIgAAIgAAIgkAgIOCyIGiWpUFRza5TxK0GgbhW6fe+BymJuj4f6o71FbboRfIdafhBgcYmyUOIYkA8fhqgYohYnI3fas7t957Z12bLvETVs84m9S0zHXsQQ/d3xLPMiiDZlC9Ezl9jaNe6TKmkxRN9UYui3ZhaikkBJLEQlXqRe1LjKFqaps9bYWogyWyVIc6Z666IE0U0cz5ZFtzGTY7YQLVIwF82brv2IIUl5rl6/bV1ljPvxnlSpSQ26z+7GDTkGrb2i1k8bXj8PLddPyhTJVXxQ1g4pYDKHE/jZNpyAumblBLlECaar1tsXRK3bzZI5Pb1bswK1b/0OeXl70tmzV6jTh5YWvEUK5mTWA5VQ++Gwmexmf9a6Gof39fkTi9L3XJi/kZwUK9YWok6uP3eOX9Z5VmZuXu7df8RCd5j5oVhty/qN7fhdff/pHSpTqiBNH9dLidCtOgfwdwStXjiSPLw8qP/w2fT34VP6pRbf+rvV2eff3e9fi85hBwRAAARAAARAAARAAARAAAQSAQHHBdGNkUmF3BCn8lXkt8cg4x/QswU1rldFWX1K/DuJBWpdxg3vTFXeLEFHjp2lvkO/tDit/iBv4qes6SS+qMQZtS4iTohIEVViEfPrJYZoOY4husWJGKKd369L7f3r0JkL7H7dx777tXlbrm6Ly3z9OhVZEN1B5oKocpkPFQtRc0G0O8dGLcIWopaCaDeOjdmWs8xHbyGqibsBn8UsiIqQt3IBCzGsAIql2oG/jjs8TJUEaBBbPrIq5xfnSZXYZZ4FdbH+bNFhDK+fezb9lfUjfTptZUVbqnh++nJiHxWOQtbu7bsPbO59vXgBmsHXSJn59XpaHYWFqM2NkQf69eAYuxwyQqxl32k+RCUf0q9N4ZOMtq2aoNqXUAibtu/TTzn9rc3fCMV+6Oh5tP+gc/OnkgpxiIsajQdG2xdX1p87xy+hD7YsF+GaV4Ko17z2ps9eY2FNHe1AzE4qC2dJKhWL8bv6/tObFUF36dyPKWe2DDR/yTa1Xrp1qE9XrgZT2+7jeY2IxG1bXOEvtbn7/WvbQxwBARAAARAAARAAARAAARAAgVebgOOCKLvMyx+nRnWZ1yxEE//4xUKqcf3KLEBIjEV2KV6/x2Klp+Us52sXjyZvb29asGQrLVm1y+J8r86NOAZkDXVs3uLN9N3q3RbnxUJv3ZIxlCxZEo61uYsWfrfN4rz1ztQATTjc7ITLfIN33qTB7Fr9gK1VG7UdoUQJ6/rdua8E0bffUGLoN8u2q6pVDFF2mQ8N5QRSFhai3alCGfsu821b1aLTZ66wy7x9C1FJqiRxa2MjiEpSn51rJ1ESby9aynMxf/EWh4esW4iKuZtfo+gFNYcrt7pBksL4cwxaWX/S1+9W/2Bxhb5+kiZNSktW7KQFZuunMFtozucEViKejZrIWd5/+8fiXtmZPKYbVShXVFmIzpy/wWFBVOLfiiWwWCrW8//YRtgaxy77Vd8sSVeuBbPb/ATlXm/TCQcOyPzt4vnz4udtGbOY58T8aVnWOQYsWxXHFANWLBRdWX/uGr8SRFdogqjgkvU+3Sq8RGwxOjJ+V99/5n1qwwndundsoEIniICeO1dW+nrJFlq6ynJNm9/jKn93v3/N+4ZtEAABEAABEAABEAABEAABEEgMBJwQRMUqzcO4WebZTdkI41cuo/U0QfRhSAgNGTWPjh4/r9Z80qTeNJYFn4plXmMX8FBq2SnAJjGIErQ4S7hIGCEhT2jomHkm12ER5UYP60hVKpZQ2bpbdhrDCW8eqbqj+pga0FPLMu9EUqViRfLQbM4YLgLZ4lU76Vu23HzOVmJxVfQs899y/FBzC9GFM9hlPiyU3jWLITqFkypViDapUtSCqEqqxIMKUC7z0ccQlbF++r8P6K0qJSn49gMWoLfTjh//MGW+jg0LTRBlQY051mwUtzGExcJNLERFEH0UGkrDxsw3rR9vXj8BvH4qq/XzRK0/8/WTjLN4b1o+TmXz/uff0zRywrem9eXt5UU9OIRCi8bVI5OheWgu81YWomVLFVKxHzeydefxUxct8GTN7EuTRnelPDmz0sF/TtKAEbMtzsuOXLN49jDugzf9ztnpp8xcbWPlWjBfDrYyraKSQc1btNmmDusDMn/VKpek23dk/rbx/P3p8PxJDNHYJMVSLtsqqZJz689d41eC6MrxKjmd8BCLYWtramtOUe0rl/lYjt/V9595H3zTp6Y134wmLxa1yTNC8Zd33q1gW6tn/T5X+bv7/av3C98gAAIgAAIgAAIgAAIgAAIgkFgIOCWISub06kZ1mZe4jQYYv55l+cKlG2wF6kWZM6Wjk2eC6A67Hxcvko/Sp0upXIK/mPs9rdvyq83zoAtal67eUlnos2fLSCdPB1HwnftUomhevj+Vun8mJ7xZs+Fnm/utD0iszfLiMu+EhajUNWlUN3qzfFHWsj3o2dPn3I97JlG016Av7IYEsO5DbPdFEBULQhFEzbPML/xyEIWEPmVBdKipqsls+VrBjst8rAQRFb6BaDQnVfophqRK0mDunJlpztT+JNaVIi09exYemQGdqGPvScqa0dQx3pCYo15eLOKIHSW79qZO7cPrIL1a/6fP6xnRNT/m3/YfjdHK17zumLZ7clKu1pxl/tKVW8qiNwdnhD/JMWCDWQwsUYTXT3pt/cz6mq07NwbaVCdiqqzBCJ7vCE76dfDwGZVUqWjh3JQhfRr6eukWalq/GolYpeqwEkTf5CRKk0Z2YUoedPPmXboQdF2t/WJF81DOrJkYSQRbhz6hngM/p/OXrtm0LwfeqVmeBvRuSclZoA0Ne0YXLl6lILYY9U2binLlzEQZfdMpge/7Tb/QjHnr7NZhflDmbzYnxkrl46Paf8qifoT84yno2Osznr9b5pfz/PVXFqUePHci/6dJlYLE9Z4bpdOcLM28/Lb/XyWS68fcsf7cMX5Zq1s51qtyLZelxmU6h5cwT0CmHbX9dGX8rr7/rHvz6cf8Y0Slkur9I+Eq9ARL1tfp+67yd/f7V+8XvkEABEAABEAABEAABEAABEAgsRBwWBBVWdb5D+zqcWwhllABG2X8ymWUY4gePnqGxk37jj4b3Y3y5MrC8hCrEjz/Dx+H0GczVlLg3sN2p0r+IG/FLvPHT12gT8YtpIlsUScWcVJEUH7EVqdTZq22m/DGXoWuZJmX+sRqsFnDauRX5XXKwqJeOhalRBwVjUWLcRq1tZa9/kR3TAmitVkQXcFZ5s1d5kUQZRGtroXLPFuIRgqiG7b9ZqpWBBGJIWodH1O/QGIT7tnA1so8gDGxiCGq3yeWe2IhWYyFwcy8HakxUZtu4+gyi9fmZff6KUoQ1a5RURz5et7j+Vc3ihKnTkbQ9h/+oAlfLDe/3aVttX7Ywvi/kxdohFo/3Xj9ZDe1/5Atk6ey1eWPv9gmTJKGJTt8K45h2+G9tymFT3IlPMpxsSRdvvZHWvH9T/T94jFKHJ3FMUSts8znypGZOTWgMiULRgrIluPf//dxdnveqkR+qTeqkp1jRw7q3YpKlyxA4vYuRda/CKp3uS97DxyjDVt/s7FCjao+mb+ePH8i7GbN5Gvi36bbeNv5WzeVf8yQCdL6rtepty9ir5o+PrFt9wGa+PmL+XPX+nN1/JogOt40BunxtFi6zO92Yfyuvv901vp3VY61LFb1UgI+40RfUaxb/XpX+bv7/av3C98gAAIgAAIgAAIgAAIgAAIgkFgIOCyISgxNMTHyaxi3LrMJFbBRxq+7jB4+eo76DvtSTUemjOmoSIGcFHTlJl0MusGu0yyMOVAy+qahIoVyqYQi5y9d16y+HLgflxqbQAZeP0UL5VbC30VeP7FZf5LgJ2/urCT3njl3xcYKNiaiImLKDwGydlOl9FFuzleuB3PYgfsx3WpxPkkSb8rNImvO7Bnp0eNQun7zDo8jOM7j2Vp04iXuvGrjd/f77/1Wtalru/ocHuERNesw2qFQB+6aNrx/3UUS9YAACIAACIAACIAACIAACCQGAk4IouIyToa1EN2jXOYT//g1QaAK/cMWoh8Om5kY1jrGAAIgAAKxIuDO95+I6svnD1dxZddweIcv56+PVR9wEQiAAAiAAAiAAAiAAAiAAAiAQNwRcFgQVS7j3J/qDfvHXa8ScM1GGf8AyTJflwXRY2dZENUsRBPwtLitayKEiB+xiP727F/FxViOK1djvihC3J8j9/84dIJ+2XdE7Rv1Q/EzH3wkMPZgV572cirykOkq/dyf4Gdigo2XS8Cd7782zWtR9w/qczKlCGrfa6LKNv9yR4fWQQAEQAAEQAAEQAAEQAAEQAAEHBZExWVcBA2jCqJGGX//ns2pMccQPXL0LLvMG8dCVARvTQjVPmWtqwUfznEYRSXlHQtBTx3joyyMLl+7m+Z8G3O2cKkysRbtBwPmpKHiYWq0RDjWhE+OXOnJxyTLD3+pcKQiLPPOCo7tOefbTYkVDcb1ChFw9f33do3yVLhADo4PXJRDNmRRP5xs3rGP4yaveoUooKsgAAIgAAIgAAIgAAIgAAIgkHgJOCyIBrLLuIgXfoa1EDXG+HWX0cNKEDWOheiHXZuaCXXag6+kUf4QQU+EPmUUKvtyWn1o1/31zymSbN1GLn27NVVIhJnCFcnNtC9wrI5FHqKD/5xkfkdlFwUEXioBV99/o4a2p5pVy7AQyv9vyQ/Crj0Hafz0ZYaJGftSJw+NgwAIgAAIgAAIgAAIgAAIgEAsCDguiG7kpEr8B55RLUQDDTL+UsXzq2Q0tzl5zK8GF/li8RzhEhAAgUREwNX3X/kyRSh71gycROkxHeGwI44m4UpEKDEUEAABEAABEAABEAABEAABEEiQBBwWRFWWdbbw8mtkzBiiRh9/glzF6BQIgAAIgAAIgAAIgAAIgAAIgAAIgAAIgAAIxJKAw4Jo4Ga2EGU3wOoNB8SyicR1mdHHn7hmE6MBARAAARAAARAAARAAARAAARAAARAAARAwGgHHBdGN04g82WW+gUEFUYOP32gPCMYLAiAAAiAAAiAAAiAAAiAAAiAAAiAAAiCQuAg4Lohu5qRCnFXGsEmVDD7+xLX8MRoQAAEQAAEQAAEQAAEQAAEQAAEQAAEQAAGjEXBYEN3DSYU8PIzrMm/08RvtAcF4QQAEQAAEQAAEQAAEQAAEQAAEQAAEQAAEEhcBhwXRwE1sIcoM/IwaQ9Tg409cyx+jAQEQAAEQAAEQAAEQAAEQAAEQAAEQAAEQMBoBJwRRTqrEpXpDY2aZD9xk7PEb7QHBeEEABEAABEAABEAABEAABEAABEAABEAABBIXAYcF0T1sIUkSQ7SRMQVRo48/cS1/jAYEQAAEQAAEQAAEQAAEQAAEQAAEQAAEQMBoBBwWRAM3s4Uk+8wb1kLU4OM32gOSmMZbslg+at2shnp+h49b+EoPLW2alBTwvw/Ig0cxfc5aOnfh6is9HiN0Pj7XX8N3KlEdv7IUdOUWffblygSBNz7HH9WA/aq8TmVLFaJsWTNQ0mRJySMigrb+sJ+27/4jqltwPJEQSAjrL75QNqlXlWpWe53OX7pO075aE1/Noh0QAAEQAAEQAAEQAIFXjIDjgqiKoWngLPMGH/8rtr7d0t0c2TJS5ozp6XFIKJ04fcktdb6MSmq9VYZGDm5H4fyDRo1GA15GF9zWZsYMaWntt6P4txkP6jPkC/r3v/NuqzuhVWT09efM+Lu2r0/vt6xNp85epi4fTUkQU/qyn7+AYR2pepVS7ODBPyOwEMq5EcXZg75Ztp0WLd+ZIBihE3FH4GWvv7gbmW3NPTs1otZNa9B/Jy9Sj4FamCPbq3AEBEAABEAABEAABEDA6AQcF0Q5y7yYZRnWQtTg4zfiA9Pjg4b0HltWHj8VRN0HcMiIV7TUVIJoe4pgRbRG48QgiI4WXYf6DJ3Bgui5V3RWYu620defM+PXBNFaLIheSTCC6Mt8/ipXLEbjR3RVi23z9n3024F/6WbwPbUffPs+3bn7IOaFiCteaQIvc/3FN7henRuRfxM/FkQvQRCNb/hoDwRAAARAAARAAAReIQKOC6IGz7IeaPDxv0Jr221d7cmCqLiaH2fr0O79X11rk/RpU1He3Fkl4gUdOnLabXxeRkViIbrm29H820wE9R4iguj5l9GNeGnT6OvPmfEnREH0ZT5/vbs0oVaNq9P1G7epVedP42XdopGEReBlrr/4JtGLLUT9m0IQjW/uaA8EQAAEQAAEQAAEXjUCTgmiYiJqWAtRFkSNPP5XbYG7o79ioda6eQ06eTKIur3CFqLuYJFQ6tBc5tlClP/XJ5ELokZff86MXwmiLdhl/nwQdflwakJZti+tH2M/7kRVK5WkHwL/orFTlr60fqBhEIgPAkoQbVKDjp26QD0Hfh4fTaINEAABEAABEAABEACBV5CAw4Lonk2SVCmCs8y/2i63zs6VUcafNYsv+aZLTY8fh6rEBKlS+lCp4vmpcMFcnKjkJh07fp6uXAuOEaNYpUgCj+fh4XTilBZ/M0um9FSpQjHKlDEd3bv3kA4fO8fu6BejrMsneTIqmD8HFcyXndJyfWfPX1GxPK/fuBPlPa6cSJM6BeXMnslURbMG1ThBSznFYdIXy03HJXSEmFuePBNEz549f3HcbMvV8Wf0Tau4Z8qYltKkTqmYSwKhcxeuUUhomFlL9jfz5srC+r10VGR8rYib+flL1yL37H9l5rkR0TE07AnzvspVeFD+PNmodMmClCxZEjrNsRn/PHSSwnleYyo+Pjx/PHcF8+WgdJHzJ9a2sZk/b28vKpz//+2dBXxV5RvHn22M0d0h/JFUUEBEBIGRIjGkG1Q6pLu7U7pEQIWB0oKglIGEIJJKS3cONja2/Z/nPTt3t7bdc+8Fxt3v1c928o3v+55zub89kYMKFchFvr6J6Mjxs2ru0/La/G7pcMX/eccQzZIpHeV7PTu9njsbBT0OpjPnr9JpnvPH/GzEVOSedGltn58CUc/PMX5+rsXw/Lhz/cXUv5iOF8r/mpprecYfPnoS02UWx3Nmz0gpUySj+w8e8/q8bXHOmfXnjvGbBNHzWgxR8/WbhNfvaT7+51+OrV+LARnccWb80oSrz59+v97dru3qkMzt7/uO09erf9YPq9+3bt83uc9bnIjaceX96+r7T7rgTPv6+ENC+P3F70tX51/6kCd3VmVhn5U/G+/de0Tn+R3615Ez/M8hfqHGUlx5/8VSrUOnnF1/rnz+Z8uantKkSkFPn4bRWf6sjq3k48/1xPxev3s/iK7diP73hGn+nPz8UTFEWRA9yYJoBxZEkydLQpJUqmC+17idu3T83wt0+cqt2LqGcyAAAiAAAiAAAiAAAgmAgGFBdLcIolwSroVowhh/j471qXb1MnT0xDmat2QjTR7VgZIlScwzr8tqREtXblMJOWL7QhhQ7X3q1akBPQ5+StUbDaB6AWWp02e1KZGPj1pH2lfJSFq1dhfN+XKDOmb+o1zpt6hPl4aUksVAcY/W24/gL6HLuP2vVmyN8wupeX2ObFf4oCgN69tKb4pv0do1b9+8nrqthpHE4bNXnB2/fJEd1Ku5EuK0er0sxv8o6AmNmfot/XHguL1mTcd2rp9M3l7eUYlU+LA321SGSwzRXqZr7G2IoNSMk9KcYeGox8DZNGNcFxYEs/Kl0fMvgujwCV/Ro6Bge1WoY+Xe5/n7XJs/hZHbl98Sx3RZ4E+czGUrJ3kSvrZFRM8xg1vTGwVe45PR4xfxfOy0b2nZnP7qJs1l/rxtBS4e8fHxpvaf1KKGH5e3aF+qffDwMfP/hvYdPGm3lR4d6/Hz8wEdZQF33leb1POT1M9P8Zfxy2hien7cuf7sdi6Wg1/N7ke5c2WmBUs20bff74jlyuhTi7/ow2J3Vlr09RZaznNqXpxZf+4Yv75+z567TN0HzaEZ47tQnteyWfA/+PcpGjZ+Ka9fx4Rf83E5uu3M+KVuvf/OPn/6/eqdxetNS6TEFUc9f7L+pPApWvLNFrUW1QGrH66+f519/+ndcLZ9ffzumP8qFd6hru3qUqoUSblb0e8/6aP8UWPS7FV0kN+F9oor7z979Rk95uz6c+Xzv+aH7/NndgN6xp8z9fmz8R7/0dNeEdFz5eKh5O1NNGbKN/TTroOmy/T5c3b9i4VoQ06q9M+p/2jG/DU0ZVRHSpY0icX6X71+N81ZvD7Gzx9TZ7ABAiAAAiAAAiAAAiDgsQQMC6JiISlfCRKqIJpQxi9fiD5mQfTmrXuUjK0rQkLC6Ld9Rzj5RhAVeysvvf3m6/zd0Iu+37CbZi5cF+MDEvBRaU0QZWu6gaMW0bQxnbiuUGU5IpYaYm2TP28OZbk0YuIyi3o6sBglrupSzpy9Sgf//pct9EKoAF9f5r3C5MXfpHawC+hIN7uAihVfzQ9LmfryRoFclDd3dhbBHtHuP46q40rD4wdBnoV5X22kx9wve8XZ8ZcoWoC/xHVQVqCHj56lK9du083b99jCMiWVKJqfxLJGxIzZi9bRdxt+sde0OjaoVzMWRKWXRJnZarFIodxs1emYICpZui9evqEsBbNlyaDE1/ssBMr8F2JLG5n/1et20uzFtkK2tCdiYpP6FVU269MsTImAKpxkvsuVKqIyXO/45S8aOWm5XG5RxKJnycw+lClTWgoNDaPdvx+l/y5f53HnoLLs+nvx0g0W7rIy/+cXQ3TyiPZUongB1a9Dh8+wJfMZJcyLdXO2zOkVf7EY/nH7AYu+y47+/NzgOUvOX8TF0vbXvcfoPievKcZWtmJpK+7+32/4lZ+ftRb3u3P9WVTswE7vzg2pFv8R45c/jtCQsUvivCMJ/5Fkc+A4FjW8qTsL59axaZ1Zf+4Yvwgqav1euUkPec1mYyv1P/48wVas/P4qko9F9lyK/+p1u3n9ro9znM5e4Mz4pS1T/518/j7g5+u94gXVMyZP//sl3qAMLEBd4vrkfaLpevIG8aI9+4/zs31CmrUo7nj/Ovv+k4640r6Jn4vzP7BnU6paoQS/w7zo0tUb9NfRc8oKWj63CubPRQXYcnz+0h/o2++2W7CTHVfefzaVOXnA2fWnv7+c+fxPxh4B3y8dwQKkn3q2Vq3bZbf3LRpWpjYtatAjtrqv23Iov+efma4zzZ+T61+LIVqBbt97QH6+vhQW9ky9f+/wflH+t0vxt/Or53/r9j9p3PRvTe1iAwRAAARAAARAAARAIGERcEIQncpfoRJuDNFdHEM0IYxfsxApzU+Dl/oC2LX/LLodlZVYHpEunKSjPifpePbsGTVtO4bFuvt2nxyxEOrJIktYWBgFsSXhUc4GPmnmKgurLHHNFoF1+y+HTHWIe+fcyd2V6KYsQb/90cKSo3TJNzlrchu+PpJ6D5nPYtu/pnvdvaFiGNatqFy12/cwlmXe2fFLiICihV+nLdv32xVbdQvEILZuq//pCCUyxzXuimWLseVryyhBNPaQF/KFtFmDSlyllwpR0GvwXJOlj7ifDu/XksqXKcpu4/xltsUwesqipXnR50+02KUrf7KxJJb5G8fzJ5JM7yHzbOavaf1K1K5VDa73GfUbNp8OH2MRJ6qUL/O2at+LLV9l/rv0nen2LPMiSE8e1Z7r96KFSzfRN2aCh4i144e1ZRfMPPxM3KcmvP7lC7d50QUF6d+Va3eo6wCr56ftx9QgoDyFhYdT0zajY3x+pE5X1p95nxzZrlqxBA3s0VRZPNdrNTzOW+S5/YKtL+U9UL3RQJt1YF6BkfVnfp8z49cFFeF/9vw16jUkev3KHwiG9W9F/qXfVmEP6rQYGmu/zfviyraR8bv6/Fn3c/JIFvd5Tf/w0z5+/wZan7bZ159f+aOHK+9fZ99/rrbvjvnXP2NEUF7Nf3Sat2SDTWgUCaWSmAW3H37aa8FQ77+z7z+Lyty0Y2T9ufr53/fzRlSjaikO7XKNPuky0e4Ivpk/kLJzaJp1P/xG0+d9b3GNq+tfF0Tl+b924x51GzjLIkRLO/5jXbN6FZV3SavOE+g//gMbCgiAAAiAAAiAAAiAQMIjYFwQ3cAu4/wNwb9Wj4RHi0e8K4GMXwS3j9nlV8z7xk2ztYLzS+xLa5ePULG5AtkCZE4MVoIB1UqzIFpfxXA7x7EXP+s62SEX9zmTutGbBXOzS/IJ6jt8od21NmvC5you2NGTF1RiHbsXueGgCDJN2P3u37OXqJ3BLPPOjj+ubktsvnVfj1SX9R+5yK6Fl3UdlcoVoyF9WrC7OrHLfFyCaHW2sKui5r/vsIU2ruEyN3MmdVVNtOxk+4VSn7+9f56kfiMWWHdF7c+c0EWJisdYJBdRUy++HDd01ZdDOQZnKra+3M8WPGZxW6MumjyyA71bLL/a6/wcBNEZYzsrK85LbGHWvMM4vWum3/lfz0ELp2sMp8z5jjZs2WM6Jxu6ICqWxONmfEtbraxI9edHrK9jChehV+jK+tPrcPS3WL6tXDhEzXv9T0eSxJeUIhagIgRLzFjz2KmN61agDuyeevIfTl7Se3qszRhZf+YVOTN+XRAT/rL+rEMb6OtXBPlWdtavefvu2jYy/rYtXXv+rPss1ubvsiC6cdsf6g9S1uet9/Xn19X3r7PvP1fbd3X+JXbx8rkDKFvWdBwvW9b2DGtEse7r/Xfm/RdrxS6cNLL+XP38l5jP8/gPmvL8tedEhP9yzGjzUpg/P2bz54c8f227TaHTHJPavLi6/lUMUf7MlvYnzw6kTVstBWuZ3zXLhqu43Jt/2k8Tv1hp3jy2QQAEQAAEQAAEQAAEEggBw4Lo7k1sIcfuYwnVZT6hjL9HJ3aZZ3f3sGeRVLPJALsWiIN6NqMqbFF2ggXJTn3sf2HUvxCLij5s/Ffs+vx3nI9W6lTJaf23o1mLjeR7ltGu3w/bvUcsXoaypWIoJ2/4qGF/Cg9npe85FM1CjQXR05fVlzsjTTgzfkfr37RiLKVImZQms8WX9Rc+e3VUZEF0WB/HLUSbs4VoWFgEVanXx0bElgRPG74ZzUoZkViPmsfQU/P3zSiZchou8/eb/flTX9B7t1TWw9XM5u+1HJlo2bwBav77DFtA+w/9YzOcapXepf7dmqr2u/DaO8Zr0J1l2/cTyS9xIo6L+SPHxdxmt+qlHG8zV64stGXbPppg9YVaWVjVKE3hzyKoRuOB9p8fjhFbpfw7dPLUhVgFF1fWn92Ox3HwO3Z3zZA+FQ1jl/nde46oq9WzxtbFwSHBVKvxEI4PGK6OjxzwKZXjEAbiFmsvBrB5U0bWn/l9zoxfWZg1rEThYeFUuW5fu+t3I79jRDDpPXSuCudg3ubz2DYyfk3Qc+75s9d3+QNCiWJsIbptb5wWou58/zrz/nNH+67Of+7XstDS2bJuvGjg6EUqrIA9rvaOufr+s1enO44ZWX/u+PxfMruPitu7djNbgM61tADtzXHBa3GsUUlI2Lb7FJvhubr+VQzRuv5E/E8Cef+a/xFHb6xPF82KVcLCtOw0Xj+M3yAAAiAAAiAAAiAAAgmIgHFBVCVVimRBNHYLM09lqCWVkuh/WhH3ednTklTIUVaB+Ft2pDf/5n+Mi8ucuG2pwr/4+xUX7S51qbqGD/L/kpwouh7tOlW33MM3mrcTW/vuEKt1CzeJW9mALcXslc+aVaNWjT9UbsP1Phlh7xKSL8S92EJUSsPWoyzc1uzewAcLF2LrkYlifehFwU85kzoPVuestoSHnOXffokTKy6fsJXXhefk9taRLUQbs8u8JPNp31NLqqX1IO6fzoxfr1Vc08u89yZ9VKkkSdbyjBwDUCwKlYrDYxcrF+HyxYI19P3GX/XbYvytiVqOWohqMRivcNZwCYlgXaRvOzdMUe2PmLiUdvwaLXqK9c+syd3U+g8NDeVQByJUR02abGkPhUqm4ZvIV+234i+k+vy9y8KNuPjKPc07jKVLdrIBi7u6WJjK+DuLIPrPBb7ePUWSOa1j62dpf+SkZRzK4S+7FY8d0prKlCxMh46coh6D5lpcI4JC7Wpl1LMhIQ3slc+aV6OWDavSXU7IVfeT4fYuUcdcWX8xVhrLCQmHIImNVqzZqRKqyaX9ujamj6qUVLy7sfu/HsLguyXDODZlaho8Zgn9tleLrxtT1UbWn3kdzoy/LYdbaFavsspc3aQtC/dWRdbgro1TlLW0xLDd8av9Oba6zaVdI+PXBKHK5MzzZ6+TyqKaYw9vYtduCVkSW3Hn+9eZ95872nd1/j8oVZjGDGqtPlsa8udfTCFh7HF09f1nr053HDOy/tzx+V+vVjlORlVHhcep03KYKaxIYv5D09rlIylF8iRKKF37w+82w3N1/XdqXZsa1vbnuN9BVLs5W7zbKRISpi3HMH3Kf1D9sEE/O1fgEAiAAAiAAAiAAAiAgKcTMCyIJpSkQjFNvD5+sSwS6zgv0Xr4t5ZpXUQfETWlRAuYSsgUJVQ7oc7KMTmgDrFbumhGao8PqLr5mCRyULfJMSWcSu1aNbG17+8GsVp9IfqoTJSbuP24mXVqfEDd29dTXxor1+ljshpTA4z6oVsIRbClaWW2NBSX27hKNRYA+3dvrMZ//dZdxVbnq49f1SHw+IDoa4PZmu2MldtdXO04el4EmUZ1KtIpdvtrx+5/Rooz45f6k/OXxRljOlNeds2W8UkiJEkOIwkoZNhSsmZNTz68+GZ/uY4t9HZrB2P5KRaZQ41YiNavTKc5y3ybbpNtalWCqMTT5ekcwaKhuaAk1psDujdV6+LGzfsUznPOy1lbuKaaouV9OTlk7Fem+ZPYc5KZXtZ/dbZOtpewKgfHnvt6wUDVfud+X7g1hmhBThg1b2p31X73wbPpryNnTL023+jFVk4BVd+nqzduqzii5ueUhWj10rxmLnOYBftrRj0/HeopwbhKnb52nx+p05X1Z94nR7fr1ixLXdvXoaPHz9Pn/bVQBiJ8SjZ2SWS1grPPL+C4qhL79/slw9X7r3azISphUWxtGFl/5vU4M35lIciCx5lzV2NevxskHjSvX07mZr5+zdt257aR8StByMnnz16fp0RZiG5ywELUne9fZ95/7mjf1flvwvElO7SqpWL8Vq3Ln1vqA9ceWdtjrr7/bGt0zxEj688dn/8pUyajNWxt7uvrQyMnRv/RQSxVh3LoltDQcJVMKYg/06yLq+tfyzLvz/Gvr9Nnn9uPYVq9ynvqDz3y+VOryWCVPNC6H9gHARAAARAAARAAARDwbALGBVH1JZJd5gMSZgxRz14O0aPryVnma3OW+TMsiLXmuJ/2Sv2ActSlbR0Wa8OpEgs69sROyTLcs1MDesLJdyTpiiOlUvniNLR3C3VpTBaCjtTjrmsk23ETjpX4D8cQbW80hqgT45d+jx74mcqmLkmLZi9ar6wUJVO5edm4YgylTJGMM/mu42zvcQuiymVSkipxaIEKtXuZV2Wz3U4lVWJBlLPDt+EYb9ZFsxDVhL6RVoKSNn/NlbDfouM4uxae1vWZ71et8A4N6tlcHQpoNpitfB6bn1bbuXJmpqVz+qvtLn3d6zIvCa0Wz+it6pZkPH8ePmXTvhzo160JfVS5pMrc3aKjpculPD+y9s9euBrr8/M5Pz/h/PxUjuH5kXZcWX9yv9GSj8e/iMf/lNdbtYYDSEIYLJ3Vl2ZxNvaq/iXYsteLWrNIXpZd5UfxOr18leOstreNs2rdrpH1Z36vM+NXghgn5oqJv7IQ5c8yKdYWzuZtu3PbyPhdef7s9VkE0XccdJl35/v3Zb3/XZ1/+WyTZ1M+06rW68uhY7QQEfbYWh9z9f1nXZ+79o2sP3d9/g/p3ZwqcViQAxz2pA8nx5MyaUQ7Klm8EP206yCNnvK13eG5uv6VIPqxP3/23CTrd7PeoLjsi+u+/GmuWv3+ZP35ql+H3yAAAiAAAiAAAiAAAp5LwLggyi7zYvuYUF3mPXcpWI5MWbhxDMR794JIsjDbK5oVTmW6dYvd6j+z71avXCbZffhxSAhVb+iYIJo/bw5aMI0FO7bc6NpvFh05fs5e8y/smErqIoLoaRZEnXGZNzh+SV6zaeVYkiTqyrLGjsu2XLM5cCw/iV40ZxFbiK53QBBVWeZb8Jd8R5Iqscsxx2A8czZmC7td7DIv7VsLojJ/C6fz/LFVqFgYGp2/twu/TjPGdVHz/2mniXT+4nWbuS72Vl6aPqaTat/dgmjKFElpI8dnlfU3buoK2rrjgE37ckC+2L/LX+z/5C/7vaO+7OsX9hSXebawvnv/UazPT3NmLFa0DWN4fqQ+V9af3h8jvyWB0iYW25Ml96M2XadQ8bfyUefWARy+YDxJVu2WjSuzZdcIdkktR43rVaItnLncOoaqvfbEZXdYX8fWn/n9zoxfWZg1EEE/NgtnCfnAguiEaOs183bdvW1k/Ord6uTzZ6/fklTpnbfzO5Rl3p3v35f1/nd1/t97pxBNGNGW32Fe1KzdGLpy7bY9rHaPufr+M69UhPssmdKaHfJSbuBPgjmUjMFiZP256/O/GL87po/uyNGDIklCD4inxyq2NvfhP6p0HzQnRut7V9d/J35fNfq4Alu1B3MMdPv/7mjZuCq15rAlDx4GU0DTQQZp4nIQAAEQAAEQAAEQAAFPIOCEICpWNV4JNsu8J0y6I2NQLnPs8iviWd1WQ+ne/SCb2yTGmsS4PMpZwj/vp7nWWl9UqxpbYXRuyEkNnrKFqGbRZ32N9X6ypH60edU4JVZMnrWaNm79w/qSF7rfuvlH1LJRVXa/u0afxuB+F1OHnBn/W2/moS/GS3xMoo9bDGP2j2yqV6LhWBYN+Yvm7C/XO2QhqlwmRZBiY6e4s8xLDNFKLCjFLIjuXC/vgkgVZ9M8hqg2f5rF5JRZqwzPXxbJdL5osBr/sAn2kzLVrcVu3W3rqva7KJf5C7ztviJis4jOK9fsorlLNthULEJF4KKhlCljapW5ewqvU/OiBAW2sBYLs3ocP+/eA3vPz2f0wXtF+Pk5R11ieH6kTlfWn3mfjGyrmJPF8tOU2d9R2dJFKEfWjBwWYDS9USAXzeHs0eOmfUPVK5eitwvnUWLolp/3x1m9kfVnXpkz41eCCguiZ2KzcOb1qwRRq5AP5m27c9vI+DVBz7nnz16fp4zsSCVUDNG4s8y78/3rzPvPHe27Ov/ZsqSnFQtZJGNBdMLMlbSZRX9Hi6vvP/N2JHTKD/wukvAhUsSaceqc72jDlj3mlzm0bWT9uevzX96T38wfSNmzZqCFy35Q4UHacSiCK9fusFX5GCWQ2uu8q+tfssw34izzQqx+qxF0++4Dm2bEbb9S2eIcFsa+F4TNDTgAAiAAAiAAAiAAAiDgcQScEkTlH+dwmfe4tWAxID3LrLJAZFdZySJtXiTL+Jplw8k3EWfiXr6Zlq/6yfy0aVtcJnuxtVwQC6I1Gg0wHY9rY/QgdhnnxBZXr9+hFmyZpme1juu+53G+prjWdW7AYxBLkiFK5HK0HWfGnz9vTlowvSd/CY6koeOX0u7f/7ZpbtKI9mydWFAJOrPYQnS1IxaikmVeucxHukcQjYrBOJyTKu00S6okndVc/nn+btzl+RtHzwy4nMqX6C/ZRTvPa5np9/3HaeCoxTbjXzCtJwknkQk6u9llXhobwdnT/VkIvHsviJOKjbBZf5L4aRK7IUv7Q8YtoV+isrHLvVJ0QSGSxzKXQx4ExvD8SGKsxer5+Vm70c5PV9afneocOtSqyYf0WdMPVaiGsqWKkMSenDF/jUqAtX75KDp09DSVKvEGJU2SmJq1H8tu87firDfaZTfu9WdemTPjNwkq51nQtxPyQ9bYLl6/IjBpFs7RScHM23bntpHxm/of2x8kYnn+rPutC9ybtu2LM8u83Ouu968z7z93tG/i5+T8y/qQxH5vcIK46zdEvON3WLh9t3kfH28K5zAk5sWV9595PZonwDhNONQ0UZrGguh6JwRRI+vPXZ//MpamHI9VE0FvqXjSuXJkpoXLf6CvV8X8zjPNn5PrX1zmG9XxZz3bixZxvOOvV283x6r+2LV22QhK7OdLy1Zuoy+/+dHiPHZAAARAAARAAARAAAQSBgHDgqjKss5CTfmAhJllPmEsC03QkRiiYmHx5HEI9Rm+gI7/c0ENP3FiX/7C/Cm9V6wQPWFXeMlCby8xglwcwBaivZSFqOMxROU+yaq+bG5/koy0e/efoMmzV9tYeUisx4+5jw8fPVFJXuS+51HEKm4uW8WJeLI88Cf6asVWmy/AMbXrzPj9mK/EBxXOfx87S0NZcNPjaCby8VEu1A3YXVnyfKgv7o66zEcls4jkBE1xxRCVrA4mRQAANltJREFUL6TN4rCw2yUWovwl3V5SGm3+BpBfYh/ac+AEiQWltZVObPNXtUIJGtizGS8/sYhaTRt+jLYSbtO8OrVoVJnPceP8f+e+7k2qJHP5eu5stPgLjiPK9e/Y/ReNnf6tSdSVhE6TR7WnrBnTszu/WA1PsrF00mKIluH5iWQhPYT6DjN7fnwT0ZjBnyl3+2B2fRXBNabnR/riyvqT+50p4iY/lUMShLMIlIgFn77DF9K+gydVVYN6NOO4gMXY7dWHLV8fsRXzUIeaEEFGrLIcWX/mFTozfolB2JSTEp2JwfpLnpudUYKivfVr3r67to2M39Xnz7rPk9llXixEf3BQEHXX+9eZ95/03dX23TH/+Tmh3fypPVTM3L+OnqVRk5bTnXsPTWh9+TluxW7XkmwscO0u03HZcPX9p1emh0aRF5F8/kjiRXkfOiuIOvr86Rburn7+yzjSpU1Jq78SN3mOAcNFnn8JsXP7jq3VprqAf7i6/rUYohXU+1fCC/QbsdAUukX+CDWy/ydU+r3CnNgpTL1/9c9XvX38BgEQAAEQAAEQAAEQSBgEDAuikmVd/pHsjkzmCQPxqzlK3cLt4uVb5JPImzJnSKsyzktM0TcL5aI0qVOqdTBj3hpa+8NvMQ5SfSHuxC7zwRxD1ICFqFT4YcUSnJCpIfmxFUfo0zA6f+kaXbl6h9KmTUGvZc9E6TnLtQhmazb9Sl/MXxtjH9xxYuIwTgRRopCqKjz8Gd25+0hZu0j7nXrPsOsSLRc7O36xbpEvdfJFWLK0Hz56hoJDQqkQZ0BPly4lWxVuoTq1PqB0aVKqpEv2LETFilKsl5Sqxz8lNmamDGmUiHqGLae0IunfifbsO06Lv9miHeKfuoWOZOmWBDrWRQlKnGVexm+eQdj8OjV/HRtQEr/E9JS/eF5g8fAyx+KTL8g5s2nzJ1/zv9/I87fAcv6k35NHtuf4lfn5CqL/OI7ohUs3KF+eHJQtazrawyJ5aQ7XIO13UYLoBfOm3bLduU1tjpPpr9q/f+8RHTt1gVKnTEEF8uWgxL6+9ITX9ODRX9KhI6dt2tMEhdJ08dJNki/gmTOm5Yzzl1RM0TcL/Y/SpErB9Ubyuo39+dErdnb96fcb/Z2ELT83cxxbHxbgQ0JDVRZmEQ+kaMJeS7Wsfvn9iBLs7dXvyvqzrs/o+DVBxZEs85E0nJOCWVs4W7fvzL4r43fH82feZ1OWeQ4/MonDWDhS3PH+dfb9J/1zpX13zb+4XbdtVYN8Wfx/+ow/gzhr+dXrt0nCeuR+LYuykF6w9Af69jtLC0RT/518/+nzo1zmV3L4GH4JRnnNa38gcsBC1JX1567Pf30cepJAiSF64PC/1GeolmBJP2/929X1rwRR/gy9cvW2+uOl/BFL3r+37z6kwoVyq3+/yPt3Dnu/2PvstO4P9kEABEAABEAABEAABDyTgBOCKMdd43+cw0LUMxeEPirtC1EZ+vv4WRoz9RsSQSI3uzCLOCXz/+hxsHK93G3lKqzfr//Wk2oEsZWGEZd5/f5sHHtM3NWLFcmrLHX09uW8WHX8zsLY+i2/c8Kji/otz+W3WG1K3Er/Mm8rcStN6hQsVUrxonqfDLexftQ74ez4vdmCreHH/tSqSVWSmHSaqBlJ93nMK7/fQSvW7CRx+UuXJpXKMm8vqdL2dZPYus+Hv0lrX6bFukh2lGGlgJR9/oIqv7b8fIDGz1ghB1XRvpDGnmV+13rJPu9FI2KJwajmr1MDKspJkDQLoej2Hzx8Qr/vO6asnezNn/S9e8d6HKuypBLmpO+S7fnH7QeUm+PqL8Uy0Ys6qxii57WOu/lnZU4i1K1dHZIQEYqdtMjIJMHWKM6QHJOruJalubSyShrNz88Efn7+xwKKzv/xo2CaOHMV7d5jGw7B3hCcXX/26nL0mFjHFciXk/ayhW//kYtMt6VMkYzWfz1KJUaRzPMxCQqurD9TY1EbRsevCyqn43CZlvWvrV/3u8y7Mn53PX86R81lvoAKfTBpZqB+OM7frr5/nX3/6R1ztn13zr9YskscbPlDiPwhSJ5/KeFs6biHQ3p8+e0WFV9aO2r505X3n9Qkgqj8YUK9pOXdzVuOusy7sv7c9fkvY5DyAVtjjhncmrfkeeMkZnYSBaoLo364uv51l/mTpy7S4DFf0nh+/+bjeTS9f4NClLC8PY5+mPcJ2yAAAiAAAiAAAiAAAp5HwLAgqlzmmUP5Wj08jwZGZCKgBB3Okv33iXPUlTOFS8nI1oUF2I1QrPz+Y2s9sfZ4UUXcE8UqNEe2DMoF+SZntpfEDJK0xpOLiKFiiZQ+XSo6y+KOxFR9FUv0/GXkBFvBdMPA/IkYJsKc1CFhG0LYUvZFF7EIy5MrK/c9RM1DbC7u0jclKMjzwwmTukYlTFLPT15+fq7w83P5xT4/L5oX2vMsAtHP78t5/77s9mU2xVMhd84slJXfBXfY0vDilZumUCZxzXZ0/42//+Kq+3mcd/fnf/OGlaltixr0kMML1OUkc2Fhz55Ht2OtMwN/hhZgD4ur/O8X8TZ4kf9+ibVjOAkCIAACIAACIAACIPDSCBgWRMVlXuzMIIi+tDl7IQ33YMs8iSF69Pg5+rz/rBfSJhoBAU8hoFuI/s3PT1c8P54yrRgHCCQIAu78/Pfm2KErFg7muKpp6bsNu2nmwnUJgiEGCQIgAAIgAAIgAAIgEP8JGBZEd3PcQAnt7w8L0fg/uy70UHeZO6IEUc1C1IXqXtit0m+9sHej8ggXNznlcihKfpRRa/SmbuXqRX9ybLNf/ziq347fryCB+DL/+vMjISdepCAaX8b/Ci4d1WXhZ3o38Ia4R+tvCO2E7GlXaCEoos/j/fGqzjr6bU1Af3+54/Nfssy3/6QmcYQBatlxHF26csu6OeyDAAiAAAiAAAiAAAiAwEshYFwQ3cBJlfj7ICxEX8p8vbBGxcItoLrEQDxvcpl/YY270NCuTRLjVgQLFip07UKEDfk2xvmFIvmckjOU0qFLGpqoseL77TT/q00utI5bXzaB+DL/IijUZpf5I2YhJ14Em/gy/hcx1ufRhp40UL0jVAP6lrwr+B2iAvBGt6xeNfxukdiS8v6Yh/dHNBxsvbIEXP38r1qhBOXn8DolihdUscfl83fjtj9o8qzVrywTdBwEQAAEQAAEQAAEQMDzCBgWRNUXRv5e6B+AGKKetxyiR6RbiLxoC7foHji31ZUT4FjrFipvEOsaoo+qwhsic8gPOaaSZPD2wb9PcZKf4+oS/Hg1CcSX+defnyNsIfoiQ07El/G/mquH6HN5f3CR94P+vlDvCiWHRh1RLw3tArFClyKHDv19WiUJUwfwAwReYQL6+8vZz//h/VpShQ+KMQFJBOVFP+86SGOnfevxMb9f4SlH10EABEAABEAABEAgQRIwLIju3sQWoqwwla/VM0ECSyiDfuvNPCor9u17D+n3vccSyrAxThBwCwF5fiQZ1l1OvvLbPjw/boGKSkAABF4IAVc//0sULUDZsqanh48e09ET51USqhfScTQCAiAAAiAAAiAAAiAAAgYIGBdEN0xVrsfla0IQNcAZl4IACIAACIAACIAACIAACIAACIAACIAACIAACMQDAsYFUY7RKHEYkVQpHsweugACIAACIAACIAACIAACIAACIAACIAACIAACIGCIgGFBdBcnVfLioItwmTfEGReDAAiAAAiAAAiAAAiAAAiAAAiAAAiAAAiAAAjEAwKGBdHdG9lClDvujxii8WD60AUQAAEQAAEQAAEQAAEQAAEQAAEQAAEQAAEQAAEjBJwQRDmpEpfytZBl3ghoXAsCIAACIAACIAACIAACIAACIAACIAACIAACIPDyCRgWRHexhShJDNEACKIvf/rQAxAAARAAARAAARAAARAAARAAARAAARAAARAAASMEDAuiuzexhSj7zMNC1AhmXAsCIAACIAACIAACIAACIAACIAACIAACIAACIBAfCBgXRFUMUWSZjw+Thz6AAAiAAAiAAAiAAAiAAAiAAAiAAAiAAAiAAAgYI2BcEOUs8+QFC1FjmD3j6iJv5KHGdSqowQwas9gzBoVRgAAIgAAIgAAIgAAIgAAIgAAIgAAIgAAIJCgCxgVRZJlPUAvEfLAVyxWjYX1aUEREJFWo3cv8FLafI4HsWTNQpoxp6EnwU/r39KXn2NLzqTpb1vSUOWM67n/IS+n/y27/+VBFrSAAAiAAAiAAAiAAAiAAAiAAAiAAAs4ScEoQFRNRxBB1Fvmre18lFkSHsiAaGUHkX7vnqzuQV6znHT6tRY3rVaBTpy5Tu56c1OwVKx0/DaDGdf3pHxZz2/dkC/MXXF52+y94uGgOBEAABEAABEAABEAABEAABEAABEAgDgKGBdFdGyWpUiRnmYcgFgdbjzudNnUKyp0ri0w/HT56xuPGF18HJIJok7oVowTFV08QVYJuXRZ0WRBt9xIE0ZfdfnxdV+gXCIAACIAACIAACIAACIAACIAACCRUAoYF0d0iiHKBhWhCXTIY94smoAl6FenfMxepfY8Xb2Hp6ng7fCIWrtx/ZSH64gXdl92+q/xwPwiAAAiAAAiAAAiAAAiAAAiAAAiAgHsJGBZExUKUcyolGEFUrCKzZklP4eERLEhp8RszZ0xL77/7BmXMkIYePAiiIyfOs/XexRhnJmkSP8qbJzvl/V82SpM6OZ27cE3Vdf3mvRjvMT+RNXM6eqNAbkqbJoVq68y5KxzHM4Jy5cxM3l5edOvOAwp6HGx+C6VPl4rSpUlJT0PD6OLlmxbn9J183Ccp127ctblfvyY3t+HFbeiFjUNVuXDxun4o1t/S56yZmR/3V49/Gc0vNfN7bIBfVkqdOiWdv3CV/uG5uBEDv2w8X2l43oSLlLKlilAE+/n/sf8E3bh1j5InS0KlShSiHNky0lGeu0NHTsc6huj5c6x9qSwTr40M6VNTyNNQNd/CME+urFS0yOuUxC8xyRweOHxKzaN146lSJlN9E+rCu27NslSl/Dv03+XrNH7GSuvL6dTZy/TsWbjNcf2A8JCEWJkzpSU/30R0594junz1Fv3FVr5hYc/0y9z2W++/qpAHUbcG99//Hbpw+QZNmL7Cph3r/svalTUi4z/FnGLqozx/GZmxlNPMICyKgavtqwrxAwRAAARAAARAAARAAARAAARAAARAwGMJOCGITmWhIuHEEK1VrTT17tyAgp6EUI1GA6herbLUufXH5OPjxWKVJlkJj8C1O2nOlxtsFkq50m9Rny6NKGXKpErdEmFMRK4I9jtfvnIbfbViK7ug6zKj5e2JfHyoV5cGVL3ye+oerbVIJXB2GzCbViwcTEmS+NLkmato07a9Fje3bVmDmjeozMLbZWrdbYrFOdmRfuzaMFXVO3LiMtrx618218iBHeunkI+3t0X7EkO0goMxRAOqvU89OzekJ0+CqXqjgcyvHHVqHUA+iXzIi4ctI5dxBa7dxfzWS5MWRePXkPklj6It1L2UwLls5U92+fXr2oiqV3mPtu06SCWK5mchORXXGUkPHz6hTn1m0JDeLahA/pym9mcuWEvfb/zFol19x5n25V5z/t0HzaEZ47ooQVSffxnMwb9O0fAJS+lR0BO9OfW7wgdFaVi/Vryt0dHmXeMUycdk/HJOX3/1Wg2nO3cfWtQhO74sfvbq1ICqVihB3rxepTrz9kOePKUh45bQgb/+tbnXlQMVyhal4X1bchWW/bRuX5//ei2HsUgb3f90aVPS4i/6qD8ArN30G82Yv8amOyJ6yjUZM6Smnb8cphGTlpmucbV9U0XYAAEQAAEQAAEQAAEQAAEQAAEQAAEQ8EgCxgXRDeyyyzqHf60eHgnEelABH72vRKXHj0No4OjFNHV0JwoJDaWz56/R9Zt3KEumdFQgb07as+84DZ+41OJ25arLsR9FeTtz7iodPPyvssTMz9eL1aIYXv68+y8aNXm5xX36zsTh7ei9EgWVkHXw8Gn69+wlyp41Ix8rRFev3aGc2dIr0WtSLILoabawa9Ntsl6l6bcmiE4RjYo0QfSw6Zz5xuBezUwWolnYwvDNgnmUgOu4IFqaBdH6FMwZ0geMXERTx3SkpyFhdOb8VeZ3l7Kw9Wv+vDnYepP5TYgWtaQPwq9J/Qpq/KfPXqGDf59ifiHq+rKl3uJ+RdLPvzC/SZb8+nVtTB+xIMp46cS//9Hp81eoZtVSlIiF3eCnT/m4N234cQ+9904BypkjM929/4jqthhmPmy17Wz7crMuiIp17oNHj3neMtDeA8fpHlsUFyuSj97In0uti8B1u2nOYkshWNZTzQ/f41pkBMTWwbkob+5sdP9hEP2y56h+WJ2TH/O+2kiyPq1LTxZDA1jQF+vY3/Yeo39O/UehbBEqFs8FuY3ChXLz2vua1+Ah61td2i/A81njw/e13vMCe6Mg95+tkcWaeteeI0qIVg3w/ImoO38J95//4GBe3nk7H00Z2ZG8fIgGj15Cv+7lcZuV0YM+42eosLJ0bdt9Kmewf2o66472TZVhAwRAAARAAARAAARAAARAAARAAARAwOMIGBZEd2/iGICRCcdCVASlnmwhGhYWRkFBIXT05FmaNHO1hVWfuEa//ebrtP2XaGGpUP7XaO6Ubkp8W8qWoEu+/dHCErR0yTdp3JA2KkFR76Hz6E8WS81LcRaEpo3uyOe9aNaidfTdht2m09LWxOFtyc/Pj1jbo0lfBNIPdixEmzWsRGfPXmUL0ZgEUbYQZcFqJFvXxWQhamqUNypylvlhfVtQBHtnGxVEw8LClRh89MQ55hfI/KJd/GPkN7k7t+pFywLt8xs7uI0af+/Blvz6siBavUpJOsuu9W26sujLg2xWvxK1bVVTiXR9hs2n/Yf+UWLy5pXjKHHiRPRJl4l0/r9rpuGq+XOyfalEBFHh78XzJ/3oNXiuEkPlnIjRI9gCtHyZt5XAW7flUBXaQM7ZK3pSoH9PX+Ys7fz8OVASJ/alLavHsgiciDZu/YMmz1plc1e+PDnYzfwZORr+wKYCBw+YYqAajCH6WdNq1LLxh+pZa911Et28fV+1+HH1MtSjYz0KDQ2njn2mq/ADsXXF2fZjqxPnQAAEQAAEQAAEQAAEQAAEQAAEQAAEXl0CxgVRlVQpkmOIJows87XY5bs3u62LCHyWrRpFXIzJxd18GcxhMU2sAPcfOkl9hy8wP2XanjnhcypS6H90/OQF6tzvC9Nx2Zg0oh2VLF6Izl28Rp92nmhxTna6d6hHH9cowwKfF01kgdFGEG3Fgly9ytznKzELohtZLGT395FsYemwINqnpYp7WaF2L5s+2TsggnIvthCVovHTBEp715ofmzOpG1uj5qa9B09Qv+ELzU+ZtoXfWxwbU0TWLv1mmo6Ly/xHbBG6ees+ZqPF3CxZvCBNYotbnkaq2XiQEmflhsVf9ObYrtlJF0n1SlxpX+poG8VfrIBl/vcdPKlXrX7L2OZM7qr4t+o8gf67dMPivPlOR84y31hlmeekSg5maReLzEXTeysr5M59Z9AxXmMvq4gg2YSzzP+jBFG2MHewiHA8jS2Ki72Vl44eP09dOUxE7tcy07wpPZSIPW3ud7R+8544a3O2/TgrxgUgAAIgAAIgAAIgAAIgAAIgAAIgAAKvJAHDgmhCS6qkBD0WREU4HD7hK9r1+99xTnTqVMlpwzej2R04UrmB7/rtsN17lMUlC4yhbH1arUF/lbhJv3Dbmonkl8iXFn29mZav+kk/bPpdmIXUWZO6khf3a9LsQNq01TaGaLMGlZSrfkwu8zs5hqg4ZY+IJYaoqUHeqMQWokO4vyIIVwhwTBDXLGzrK0vJYQb4rf9mlHYPhyGIlV9v5vfMkp8WQ7QUrVq/i2Yv0tzRRXieNbGrGo4/910XtWfzscJv5Kbh45fRzqh5kvlzpX1pRFmIMv9nzyKoSt0+pvZUB/hHKo6JuuHb0Yp/zyFzOZzCKf2UzW8RRBvVqUinOJFUOwctRCUpUeCXQ5RgvpLj2861E9/WpqHndEAJktx/CfnQrodjFq56VyTB0pccKzR1qhQUuG6nChfxv5xZaOevh21CVOj3WP92pX3rurAPAiAAAiAAAiAAAiAAAiAAAiAAAiDw6hMwLogqEY0TA3H8Pz2YoaQJEtdrL3bfFhdvKaZjvKulgdHiBYrFnIhRWmIYdakSDlVdfM5LKlJFq0fuErM+VZ8cknZkL5b23RnfVCUF6tRQtd+wzagYM5tHdVr9ErFy9sTPFRPJ8h4REcnZ4GUY2phkLDImb45pKe7aMsZP2ApUd12WDOnrvx6l6pJkMTs4TqZ1kWvWRV0zmS1E7SVVEjdxcddu3TVml3mpdwSLjjtYYIqriIA7lBMSSff9HU2q9BGHHOBYljLmRq1Hq7ihcbUjsS1nT+ymLpMs7cIvCp065s1xAiL4P42fr6q7VacJdCHKylJc5muwy/zywJ+VoCw35X89By2Y3ovdrMOoar2+qh75MZXDEkh4AonDqlvZutq+1KsEUeZ/jeOkNmkzWg5ZFC2GqyYOxsVfxTIVC0sWFNv3cNzCcu7kbir+qDxtfx89TXsOnFTWtGfYajg01P3Z5S0GaLZjstA8wy7/BgVRqaZE0QLKYtpLPUSk4ue26TGFE3VZxh01a9Ji09X2LSrDDgiAAAiAAAiAAAiAAAiAAAiAAAiAwCtPwLggyi7zStDjn6KM6dIma2QmMVM0URF8RDhTRamlvMv72uFogVNJhHKDXOvNPyLMxE4RPeUcF61NuUy7V47Inr32yztovagqjuOHHkM0IvwZVa7bT7mLx3ELVatUkgb0aKLGdP3mPb6Hg27KENmaUxP2tL6rIUhlPEbJ9n2GEyBJkSRDC6axSzqPv8fAOfTXkTPquPkP4btj3WQWob05y7x9QVSyzMeWVGknu8xLT0ZMcMxlXrcQlYH4Bxhwme9Un8L5nsp1+jrMr3935sfjv3HjvrrXXCiXtSDzLueFnYxhsBk/JYhWfY+++narit0q3F7npETiHh8SEkrVGvaXQ6pMHtme3i1WkKbOWU3rt2ju1zJ/rrQvFetJldzB3yToGXQ5z5o5PQ3t04JDN7zGrBgV45L1F8rxXCVm7fLAn1TSKY3E8/vpbP/NeyTJvar4v6PmfcDIhfTHgRPmp2Pddkf7sTaAkyAAAiAAAiAAAiAAAiAAAiAAAiAAAq8UAScEUbFq80o4WeYlqVKX+vTk8VOq3miAQ5NbqVxxdi1nS0ouzTuMpctXbjl0n36RZBmfP62HEvp6csIgya5uXcQ6cvtaFkRZ4JrECXN060b9Os1luzKLrJc5y/wU/bDptwiqO9dHucw7mFRJE0Q5qRILaxUdFJ1VDNbODTmLuPCLFiJNHbGzUak88+vdXI2/eYdxdMkgPz3L/FcrflSiqDQhgqi4Xgc/DeHwBNHzOHlEB3q3eAGawoLohihB1NX2pT138tcEPXY5Z0HUUZd56YMUmWexWH7/3TdUvNXCb+Tio2zKzSX8WTgNGLVIJZhSB57TD73/WgxRYy7z0qX/5cpK86f2ID9OFCVSuMRD7TZglkWIidi67mr7sdWNcyAAAiAAAiAAAiAAAiAAAiAAAiAAAq8eAacEUcmcXT6gx6s3Wid6LC7zvVjQC3ocTDUaD3SoBhE0F0yTGJuR9Hn/WXTk+DmH7tMvUu7wKoZmJI2a/DX9vPuQfsr0O13alLRm2UglGtpLqtSmeXVq0YiTKl24Rp99Psl0n75hHud0pIoh6qDLPAu9YunqcJZ5dpnvxRaiQSyI1nBQUM4v/Kb3VBbHzvATQbR6FbYQZUF0CVuJSlGC6MzeFBwi8Ub76RhokrIQLcAWot+ZBFFX25fKNQvRSnSaE3G1iSVkgQh8cfEXQa9xnQr0L8cQdTSpkmmAVhuZM6WlahXfpVZNqpKPtw+vjyu8PmxDKui3iaCahe+JLl704GEQPQl+Gn0ojq3oGKgXWdB13OVfqk2axE89SzmzZ1TCbUG2dk2dIjmtXLeD46JujKNl7bQr7TvUAC4CARAAARAAARAAARAAARAAARAAARB4pQgYFkR3S5Z59r11p1t6fCamCaIN6DELQNUbRlsWxtbnZEn9aEvgeJa6iKbMXkUbt/4R2+V2z239bgL5+SWmpSui3b7NLyxaJC/NGNNZuUJPsuMyX69WOfq8bR26e+8B1W013PxWtV0gH1uhTmXRkfccTaqkJ4GKiIhgQdRRl3lNUH78JJgtRB0TlBW/VVH82PrVKD8liFZmQXRlNDvlMi+CaHAofWThMs8WosU0QXT9lt8VG1fbl0rataxBTeuzhe75WCx0HUxq1br5R9SyUVU6x/FgP7UjbqtOG/zRo2M9ql39AxXC4EOOqRrG1qL2SvJkSWhz4Fg+pQcq8LIIL2DvHutj0v8WjarQuf9YnO9iK85bX2++P5gthauwxfCNW/eVsP924ddp7KDPVCSNgaMW0579x80vt7vtSvt2K8RBEAABEAABEAABEAABEAABEAABEACBV5qAYUFUssyL5aN/LceyjL/SdLjzegxRSeDiqMu8jHk0izYflCpM167foRYdx3O2cfuCU0x8xg5pTWVKvklXrt2lpu1sk/JInMzqHCdTxGnzhEB6feVLv0UjBnzC1pyRVP/TEXTn7kP9lPotYmm9gHJK5hrOFqKStTuuopIqqSzzLIg6HEOUBVFOSvU42Di/sszv6vW7zG+cIX59uzWiGpVL0RJrl/mZfdiyMYQF0WhhW2KIlmBBdBpbiOoxRIWDzJ+z7cv9mst8JQ5ZwBai3WwtMFXIAiWIRnK29Nj51/ywFPXp3Igesagc0HSwQ3FYpQ+xFbGglTUUrOZlIC8jke9tS/LkSeiHleP0cK3qAom3qocXsL3D9kjND9+nPl3EyvoJ1Wo6xOH+q3F3aUThLMB3Y0vroyfPq8q7tq9DdWuWo0dBTxTbGxynN7bibPux1YlzIAACIAACIAACIAACIAACIAACIAACry4BJwRRjjvJ2klCsRDVYmCyhaiKgRktpMU15VkypaPl8/pTYt9EbMV2gi1FV9Ptuw8sbsubJzt9XL0MPXz4mBYs+8HinJapvitLz5H07XfbacHS6PNlSxWhYX1bkm8iH77Hi2OI2iZVypghDQUuHsxu0d60bcefNP6LlaaYiyKWDuzZjJKwBaoIqiqTvQOCqB5DVERWxy1Eo1zm2cLWUZd5AaHz82V+kkBnyqzY+D1hfptM/DSX+ZLsMi8WolvVcc1lnmOIhjxll/noWKaTR3BSJRVDNNpl3tX25X5HXeYd4f9GgVw0d3J3rjWSlnEiJBlXeDjHLYilFH8rH1X2L87C5R/0z+mLFlcK2wnD2lLu17LQQU6u1HPIPIvz5jsiiG5eqVmISvsim1qLx+bX29uW/s/hjPeS/mpZ4DaH+p/3f9lo7pTuJPO/5JsfaenKbaaq5dg85iHXnDh1kcNSzIxVMHemfVNj2AABEAABEAABEAABEAABEAABEAABEPA4AoYFUeUyzxjK10ooMUQ5qRLHwJSYiUYsRGWlfMixGnt2asDCoy89DQ2l8/9dZ4vPO5QuTQrKkSMTZUiXWi2otZt+pRnz16ht8x9DejWnSpxZW0SzC5duKGErR7aMJALPMbaWK5Q/JwtGidlCNNAmqZLUM5StOSuWL6YE7Bu37tL5izcoW5b0lDNrRpqxcA11a19PNafFsPzLvGm1LXFQfXxYdBXrQY4lmTJFUsqcUYsneeb8FZa3RCLTyp59x2nxN1ui9qJ/iYVtr84ScoBd5hs65jKv363xq6+S6YSGPqPzl67Rlau3mV9Kyin80qfirnnRmo2/0BcL1uq3kZ5UaalkmWcrUSkxCaKTRnagkiKIsmBtbfXobPvSnhJE2WX+NMfojCmG6E62EJUSE391MurHhOHt6L13CipRUayN79x7yJaTbHXM4+/UezrdexBkfrlKojR+SFuK5PxJt9jd/OLlGxw+4RG9WTA3Zc+SgW+LZHE4lDr2mk4XLl63uNd8R1mIrmBBlOdfZltETbEQNbemNb8+pu2Jw9ty/99Qp6X/t7n/EVGirnX/JWTBwum9KAev08PHz1L3gbN5nvWVprWQM3smWjSjJ4eV8KPV63bR7MXrY2paHTfSfqwV4SQIgAAIgAAIgAAIgAAIgAAIgAAIgMArT8CwICou8yKNJBxBlF2+uzSgJ0Ece7JxtGWhozOfLWsG6s2CYNHC+Vhc5DiMLOx4eTNBNvB78CiIfmchUcQlays+qV/cqtu2rE5N6lXkvODeSsQSi9AjLBL1H7FQJVVKktSXJn1hm2Ve7pf4j4N6NVOu9yIciqb18NFjWrl2l7I63cWCnOhMI2PIMv/zusnk68OKmkx4BPddTIN5R3ZN8pQ6RvTjzwdo/PQVfMayaIKosaRK5jVky5qe+TWkYszPSwxizdp/wJa1e/Yfo/WbLfn169qIqptiiFpaiIqwbRFDVGWZz89Z5i0tRPU+ONO+3GuyEI3FZT4u/nof5LdkWK9bqyz5l3mbJDFS6lQp1PoQtbt+y+FsfWwZEuE1Fgzbf1qTihXJx+vATwnHMv/6+tv350la/PUWlajJvB3rbWUhKjFEzeZ/mhOCqHX/00T1X9Zf/U+k/9HW02L9XKFsUV6rT1Tc0Nt3os+Z9+8jnuN+3RupQ4NHL6Hf9h41P22xbaR9ixuxAwIgAAIgAAIgAAIgAAIgAAIgAAIg4HEEDAuiuzeyiMailH8CsRB114yLm6+IVDmyZeCM6yF089Y9ZS0qCYriKmIxJ5nr07Jl5JET50gXiLauHk9JOAu3vaRK5nWKi3Se3Fnp5u37dI6znkdYWduZXxtftxU/tgrNwQKzUX7uGNPLbt/ZMXhzyIRcOTVr5BRs4Xvr9gMV11YsTFFAAARAAARAAARAAARAAARAAARAAARAICESMC6IbpimLAYTioVofF4UW1dzJvqk7DL/hX2X+fjcd/QNBEAABEAABEAABEAABEAABEAABEAABEAABF4GAcOCqMoyz26u/gE9XkZ/0aYZgS2rxpNYj8ZlIWp2CzZBAARAAARAAARAAARAAARAAARAAARAAARAIEETMCyI7t7EFqLscl2+Vs8EDS4+DF4sRJMkYQtRyTK/dW986BL6AAIgAAIgAAIgAAIgAAIgAAIgAAIgAAIgAALxmoBxQVQyY3OenfI1IYi+7Jn9UQRRP00Q/WEbBNGXPR9oHwRAAARAAARAAARAAARAAARAAARAAARAIP4TMC6IbpLM5EiqFB+mtkHt8pSIs8DvP/Qvnb1wNT50CX0AARAAARAAARAAARAAARAAARAAARAAARAAgXhNwLAguouTKnl5wWU+Xs8qOgcCIAACIAACIAACIAACIAACIAACIAACIAACIGCXgGFBdPdGthDlqvwRQ9QuUBwEARAAARAAARAAARAAARAAARAAARAAARAAARCIvwScEEQ5qRKX8rWQZT7+Tit6BgIgAAIgAAIgAAIgAAIgAAIgAAIgAAIgAAIgYI+AYUF0F1uIksQQDYAgag8ojoEACIAACIAACIAACIAACIAACIAACIAACIAACMRfAoYF0d2b2EKUfeZhIRp/JxU9AwEQAAEQAAEQAAEQAAEQAAEQAAEQAAEQAAEQsE/AuCCqYogiy7x9nDgKAiAAAiAAAiAAAiAAAiAAAiAAAiAAAiAAAiAQnwkYF0Q5yzx5wUI0Pk8q+gYCIAACIAACIAACIAACIAACIAACIAACIAACIGCfgHFBFFnm7ZPEURAAARAAARAAARAAARAAARAAARAAARAAARAAgXhPwClBVExEEUM03s8tOggCIAACIAACIAACIAACIAACIAACIAACIAACIGBFwLAgumujJFWK5CzzPa2qwi4IgAAIgAAIgAAIgAAIgAAIgAAIgAAIgAAIgAAIxG8ChgXR3SKIcoGFaPyeWPQOBEAABEAABEAABEAABEAABEAABEAABEAABEDAloBhQVQsRDmnEgRRW5Y4AgIgAAIgAAIgAAIgAAIgAAIgAAIgAAIgAAIgEM8JOCGITmVBFDFE4/m8onsgAAIgAAIgAAIgAAIgAAIgAAIgAAIgAAIgAAJ2CBgXRDewyzybiPrX6mGnOs88lD1vJkqXJRWlSpecIiKIgoNC6MHtILp69iY9DQ6LcdB+yRJTusypKJKvEKvaB3eC6MnDEPJJ5ENZ/5eBsufNSOHhEXTjv7t06dR1js0aY1WUKn1yypg9LaXLmpqScL2P7j6h21fv0eUzN2O9L+YacQYEQAAEQAAEQAAEQAAEQAAEQAAEQAAEQAAEEh4Bw4Lo7k1TWYBLGBai2V/PSP6NSrIQmYYVTVYredxe3vw7guVN3o8IJ9q35Sjt3XzU7srJ81YOqt2hvDrHeahoR+B+JaQGtCtPiRL78HEvzk8VSV5c3eHdp2hn4AGbehIn8aVy9d6hwmXy2LQfyf15ePcxbf92H/138prNvTgAAiAAAiAAAiAAAiAAAiAAAiAAAiAAAiAAAiBgScC4IKqSKkVyDFHPzjKfJmNKatKvGvkl82XZUuw7WY9U4iVvs7gph2T/yC+nWei0FTLl+jxFWBDtKIKodsOx389Q/hK5yNdP6uTComokW5x6897RP87ST1/vlaOmkiJNMmrUuwpbpqZQx+y17+XlTb+tO0QHtp0w3YcNEAABEAABEAABEAABEAABEAABEAABEAABEAAB+wQMC6IJJalS+frFqXiFQmIUqiw4D/78D108eZWePAqhNJlSUaac6ajwB3np1IELMQuiURaiSg6NElFlGsKePqObl+6ytehjSp0hOWV6LR39w/X8/M0+i1mq/mkZyv9ubtW+CKcRz8Lp3LErdPfaA0rOYmnmXOkoY7a09NuGw3Rg63GLe7EDAiAAAiAAAiAAAiAAAiAAAiAAAiAAAiAAAiBgS8C4ILohKqlSgGfHEG3QowrlyJeJbTsj6cHNIFoyfIMNPd/EiSgtxwgVcdNeMXeZFytRdo6nC8ev0g8Lf6Ww0GemW5KnTqpiip45fMl0LBu76zfqVVXdJaqsCLFrZ+2gW5fvma6RjbxFc5L04+T+8xbHsQMCIAACIAACIAACIAACIAACIAACIAACIAACIGBLwLggyi7zHPnS413ma3f0p/8VycZjldES/ckWmBLnM+j+E1uKMRx5nS1EAzr4sxbK5p1saXr3xiNaNmoT70qNsZf3a75F71UvbGp/58r99De756OAAAiAAAiAAAiAAAiAAAiAAAiAAAiAAAiAAAg4T8AJQZSTKom6JzKh+JPLb28+IhofZweS5EEiIYo1pFZkK2pbruGkRJIMSBV1LW/xrtwhG9F3RdXA10byPV5R9+jXxda+fy3XrVeLVyxI5esV5z558zC1voiueeXcTbr07w06feg/usOu67EVsRANaF+OsciovOjgzyfolzWHYrvFdK76Zx9QgXde432t/fl9v1fZ7U0XYAMEQAAEQAAEQAAEQAAEQAAEQAAEQAAEQAAEQMAwAacEUSVOSkKgKAHTtMWapiYemsmaLAZ6sUoqIqiXqKYiDor2GSWAagKn0kRV55VYqumH2n16G5rSqq6Jq31/NyR88vbxpnpdK1KOvJm1fsloVddlPHyIt//75zpt/WoPPX4YrK6x/iEWorU4qZI39z2Cx//7eo71uc2xWJ9NB1SnzDnTKkziXj+rR6B19dgHARAAARAAARAAARAAARAAARAAARAAARAAARAwSMCwIGqw/lf6crHsfKtsPnqj1P8oS+4M0WNRgij/YJHz9tX79PW4zXbd4LUYouX4Ps1mdmfgn/Q3u907Uhr3+VDFFZWmIsLCaWb3QJXV3pF7cQ0IgAAIgAAIgAAIgAAIgAAIgAAIgAAIgAAIgIB9AhBE7XOxOZo8VVLKljcj/e/N7FSgxGvk45vIdM3G+bvp7N+XTfv6hhJE25fXdtmidMcKjgP6q2NxQD9s+b4SYjlegLK6XTx4HT26+1ivGr9BAARAAARAAARAAARAAARAAARAAARAAARAAAScIABB1AloOQtkofpdK5nu/H3D37R/6zHTvr6hJVViQVRCBrCV6I7AA3TkF8csREtWK0xlAt7m+7TABPt/PEbSjr3i5c0WqA4karJ3L46BAAiAAAiAAAiAAAiAAAiAAAiAAAiAAAiAQEIiAEE0htl+8/3XKeTxUzp39IqNq3r6bGmo5eAafKcmV/7y/UE6tP0fm5pUUiXOMi8O83Lt9hUsiDpoIZo2UypqMagGeftyxioWVMOfRfD9++nE3nOmdnwTJ6JSNYrQk4chdHD7SdNxbIAACIAACIAACIAACIAACIAACIAACIAACIAACNgnAEHUPheq2Phdeqtcfnp0J4gunbpB9248oidBIZQ+S2p6/e0clDpDSnWnJFr6bvrP6hrrqkwWoiKccrzRHStFEHXMQlTq+uDjYvRu1UK8JYmcvCjCK4KC7gVzXx5QspRJKS33xcfHi36TZE1bHUvWZN1H7IMACIAACIAACIAACIAACIAACIAACIAACIBAQiIAQTSG2a7YuCS9XS6fOiv2nXpmeeX+rtLNa67s549doXXzdokBqE1RWeY5hqhX1M3bV+5nl3nHYohKZb5+iSigXXnKWShLjO2zVkq/rXM8e71NJ3EABEAABEAABEAABEAABEAABEAABEAABEAABBIQAQiiMUx23qI5qah/AZVdPlFib7HRVK7rYq0p/4eGhNHRX8/Qvh+P0tPgMLu15CmSgwI6siAqZ1kw3RHISZUMCKJ6pUU+yEula71NyVL48SGtfTkXwW70Z45epr0/HKU7nO0eBQRAAARAAARAAARAAARAAARAAARAAARAAARAIHYCEERj50M+ibxJ4nkmTZmEkrIgKUJo0P1gun/rET0LfRbH3e49nYz7IPFL/ZL60qN7j+n+zSAWY0Pd2whqAwEQAAEQAAEQAAEQAAEQAAEQAAEQAAEQAAEPJgBB1IMnF0MDARAAARAAARAAARAAARAAARAAARAAARAAARCwJABB1JIH9kAABEAABEAABEAABEAABEAABEAABEAABEAABDyYAARRD55cDA0EQAAEQAAEQAAEQAAEQAAEQAAEQAAEQAAEQMCSAARRSx7YAwEQAAEQAAEQAAEQAAEQAAEQAAEQAAEQAAEQ8GACEEQ9eHIxNBAAARAAARAAARAAARAAARAAARAAARAAARAAAUsCEEQteWAPBEAABEAABEAABEAABEAABEAABEAABEAABEDAgwlAEPXgycXQQAAEQAAEQAAEQAAEQAAEQAAEQAAEQAAEQAAELAlAELXkgT0QAAEQAAEQAAEQAAEQAAEQAAEQAAEQAAEQAAEPJgBB1IMnF0MDARAAARAAARAAARAAARAAARAAARAAARAAARCwJABB1JIH9kAABEAABEAABEAABEAABEAABEAABEAABEAABDyYAARRD55cDA0EQAAEQAAEQAAEQAAEQAAEQAAEQAAEQAAEQMCSAARRSx7YAwEQAAEQAAEQAAEQAAEQAAEQAAEQAAEQAAEQ8GACEEQ9eHIxNBAAARAAARAAARAAARAAARAAARAAARAAARAAAUsCEEQteWAPBEAABEAABEAABEAABEAABEAABEAABEAABEDAgwlAEPXgycXQQAAEQAAEQAAEQAAEQAAEQAAEQAAEQAAEQAAELAlAELXkgT0QAAEQAAEQAAEQAAEQAAEQAAEQAAEQAAEQAAEPJgBB1IMnF0MDARAAARAAARAAARAAARAAARAAARAAARAAARCwJABB1JIH9kAABEAABEAABEAABEAABEAABEAABEAABEAABDyYAARRD55cDA0EQAAEQAAEQAAEQAAEQAAEQAAEQAAEQAAEQMCSAARRSx7YAwEQAAEQAAEQAAEQAAEQAAEQAAEQAAEQAAEQ8GACEEQ9eHIxNBAAARAAARAAARAAARAAARAAARAAARAAARAAAUsCEEQteWAPBEAABEAABEAABEAABEAABEAABEAABEAABEDAgwlAEPXgycXQQAAEQAAEQAAEQAAEQAAEQAAEQAAEQAAEQAAELAlAELXkgT0QAAEQAAEQAAEQAAEQAAEQAAEQAAEQAAEQAAEPJgBB1IMnF0MDARAAARAAARAAARAAARAAARAAARAAARAAARCwJABB1JIH9kAABEAABEAABEAABEAABEAABEAABEAABEAABDyYAARRD55cDA0EQAAEQAAEQAAEQAAEQAAEQAAEQAAEQAAEQMCSAARRSx7YAwEQAAEQAAEQAAEQAAEQAAEQAAEQAAEQAAEQ8GACEEQ9eHIxNBAAARAAARAAARAAARAAARAAARAAARAAARAAAUsCEEQteWAPBEAABEAABEAABEAABEAABEAABEAABEAABEDAgwlAEPXgycXQQAAEQAAEQAAEQAAEQAAEQAAEQAAEQAAEQAAELAlAELXkgT0QAAEQAAEQAAEQAAEQAAEQAAEQAAEQAAEQAAEPJgBB1IMnF0MDARAAARAAARAAARAAARAAARAAARAAARAAARCwJPB/Bcldk3bpI2UAAAAASUVORK5CYII=)"
      ],
      "metadata": {
        "id": "LW04lKS3MPHA"
      }
    },
    {
      "cell_type": "code",
      "source": [
        "import os\n",
        "\n",
        "from requests import get\n",
        "from socket import gethostname, gethostbyname\n",
        "ip = gethostbyname(gethostname())\n",
        "curr_filename = get(f\"http://{ip}:9000/api/sessions\").json()[0][\"name\"]\n",
        "\n",
        "# if there is no notebooks folder, create one and move the notebook to that folder and cd into it\n",
        "if not os.path.exists('notebooks'):\n",
        "  %mkdir notebooks\n",
        "  %mv curr_filename notebooks/\n",
        "\n",
        "%cd notebooks/\n",
        "\n",
        "# check if \"Results\" folder exits in the base directly, else create one\n",
        "if not os.path.exists('../Results'):\n",
        "  %mkdir ../Results\n",
        "\n",
        "!ls\n"
      ],
      "metadata": {
        "colab": {
          "base_uri": "https://localhost:8080/"
        },
        "id": "6c3kb6-gMNWX",
        "outputId": "0ccfa2a4-622a-4258-d063-12ca1320b617"
      },
      "execution_count": 29,
      "outputs": [
        {
          "output_type": "stream",
          "name": "stdout",
          "text": [
            "/content/drive/MyDrive/DL/project/notebooks\n",
            "pbft_cola_baseline.ipynb  pre_trained_opt.ipynb\n"
          ]
        }
      ]
    },
    {
      "cell_type": "code",
      "source": [
        "!pip install -q transformers accelerate bitsandbytes datasets torch"
      ],
      "metadata": {
        "colab": {
          "base_uri": "https://localhost:8080/"
        },
        "id": "zUYQHNgesmgl",
        "outputId": "718eb1e4-8adb-49f1-8507-852f3758191c"
      },
      "execution_count": 30,
      "outputs": [
        {
          "output_type": "stream",
          "name": "stdout",
          "text": [
            "\u001b[2K     \u001b[90m━━━━━━━━━━━━━━━━━━━━━━━━━━━━━━━━━━━━━━━━\u001b[0m \u001b[32m297.4/297.4 kB\u001b[0m \u001b[31m5.9 MB/s\u001b[0m eta \u001b[36m0:00:00\u001b[0m\n",
            "\u001b[2K     \u001b[90m━━━━━━━━━━━━━━━━━━━━━━━━━━━━━━━━━━━━━━━━\u001b[0m \u001b[32m119.8/119.8 MB\u001b[0m \u001b[31m14.4 MB/s\u001b[0m eta \u001b[36m0:00:00\u001b[0m\n",
            "\u001b[2K     \u001b[90m━━━━━━━━━━━━━━━━━━━━━━━━━━━━━━━━━━━━━━━━\u001b[0m \u001b[32m510.5/510.5 kB\u001b[0m \u001b[31m47.8 MB/s\u001b[0m eta \u001b[36m0:00:00\u001b[0m\n",
            "\u001b[2K     \u001b[90m━━━━━━━━━━━━━━━━━━━━━━━━━━━━━━━━━━━━━━━━\u001b[0m \u001b[32m116.3/116.3 kB\u001b[0m \u001b[31m16.3 MB/s\u001b[0m eta \u001b[36m0:00:00\u001b[0m\n",
            "\u001b[2K     \u001b[90m━━━━━━━━━━━━━━━━━━━━━━━━━━━━━━━━━━━━━━━━\u001b[0m \u001b[32m194.1/194.1 kB\u001b[0m \u001b[31m25.3 MB/s\u001b[0m eta \u001b[36m0:00:00\u001b[0m\n",
            "\u001b[2K     \u001b[90m━━━━━━━━━━━━━━━━━━━━━━━━━━━━━━━━━━━━━━━━\u001b[0m \u001b[32m134.8/134.8 kB\u001b[0m \u001b[31m18.5 MB/s\u001b[0m eta \u001b[36m0:00:00\u001b[0m\n",
            "\u001b[?25h"
          ]
        }
      ]
    },
    {
      "cell_type": "code",
      "source": [
        "# Load required libraries\n",
        "\n",
        "from datasets import load_dataset, ClassLabel\n",
        "from sklearn.metrics import accuracy_score\n",
        "from transformers import Trainer, TrainingArguments, AutoModelForSequenceClassification, AutoTokenizer, AdamW, AutoConfig\n",
        "import numpy as np\n",
        "import pandas as pd\n",
        "import torch"
      ],
      "metadata": {
        "id": "9K2LUsP-TYkC"
      },
      "execution_count": 31,
      "outputs": []
    },
    {
      "cell_type": "code",
      "source": [
        "# Set seed, load COLA dataset\n",
        "\n",
        "torch.manual_seed(42)\n",
        "if torch.cuda.is_available():\n",
        "    torch.cuda.manual_seed_all(42)\n",
        "\n",
        "in_domain_data = load_dataset(\"glue\", \"cola\") # COLA dataset (labels: (1) acceptable (2) not acceptable)"
      ],
      "metadata": {
        "id": "SEH2_mG_Tbrp",
        "colab": {
          "base_uri": "https://localhost:8080/",
          "height": 368,
          "referenced_widgets": [
            "5450a0830fed4a3dbf413a05ddcaeb0b",
            "e0c57080474546688ed46ca6b80aa9c0",
            "04678d8e5b514f51a7d9cb8f359a1344",
            "b9fb48891a3b4e0195e3f4811bdf8a0b",
            "e679e43036db44538a3087f75f86fa75",
            "dd8c61a3e4d6490bbfc0d612ab0ed332",
            "a51ba2a08ecf46268b3f46fc73418528",
            "e640cc62a88a4fa995a33995265a7276",
            "0a5addd4450f46c6bda841286400bf5b",
            "a6ffcf3495f34316a00bd02b7dfe268a",
            "57f8d51a92c6464a93eaf20b806cb354",
            "6682eaead14b4ef599b2f31280271959",
            "f6be18959e51472e930a6a167e435be1",
            "10878215b4454571b00225f04c3cab32",
            "ba66d7755bd54b34af806f5516eb027d",
            "9cb50e94b0064e11a90cd6bcb0351b48",
            "c11d0780590446a2bac47190ea5d6aea",
            "6f514ed61ffc4372a444a8431f8b1059",
            "deec962487a1450eb948fe71c5df98f3",
            "8b1a20d38c534da1b00955ecbf55c5ef",
            "56cdeef65fd54fe59f156cedc4fbb121",
            "012a6ee7137d427387184972a551344a",
            "20ae8fc1cffd45fa8ba659c78b6cdc91",
            "8a33da1f00934ae1959e6703c3d54a31",
            "c9a89ad3a485454c9e12cb5595ff6735",
            "5d6bfa42c7b1426197fc7ffcb56859ec",
            "ffddc5b45a3744938cc83394929abc75",
            "faa2c00e8af54293b7a86fd3ce408675",
            "1bb8f8bdf72448c28cdc9706851d4618",
            "2255d365f93c4b4185517576efba7f19",
            "3fb78a55880b449186d070b0d232e279",
            "d9d5ebb639ce4c77a53630fa9a5abeec",
            "6dc960cc904f40838503bd2d8e49a26b",
            "1cf533d958b7403a9f7a1da78f269f97",
            "56fe9c8c7ffa438790bc4caf38b0bca9",
            "bb19fbf5214549988f7a5d60dfad399d",
            "1dab3b74419f42529e9d47675ce21017",
            "0e9fd7520055454a8c42b9aab57e9038",
            "4ae725a52eb44834a64b33bc5234f80a",
            "d98cec9d24b54aaab63598995397b899",
            "fd9afd8df91840fc80594306fa36ee4f",
            "68ffbb017e8445abb30c2cadb53ded39",
            "7e792098a4ac4d39bd245b5981373dfe",
            "e4aab01730d54f62af3e758c509b02f9",
            "82409d9684ec467bb61c81af09b0a0db",
            "a1d6aa4a0fd54404aae89fa86565cd77",
            "61d7a97917684affab8b35b66b76cf32",
            "0950d3a88f8a45538de90fc668d23f4b",
            "c028542c2c874989a91b4aed5f42d66a",
            "72cb3d642a034a88bbd4510308704ca1",
            "e1b88d0137584f9784f0306157e3ec19",
            "1c8c2bf438724a9dad2505650b5e809a",
            "385515612f454e99b8a04a731b7064ad",
            "b1b11613199f4f4c87d3ee54dfe154a9",
            "57a0a0b8fa5348838413423b99eabfe4",
            "92849e0edb1a414ea63c2e0d49b59440",
            "29f35b96df0346cb8650e39854b071d2",
            "4ac60ba08c8c434e95822dd83455d43e",
            "790993d50e6945eea271bd272e085dc0",
            "a5cfc50f27194392b92e3dc9690c3f25",
            "855c2f6671a240a29b4d05f4dc38f55d",
            "f6ae9780f8e846fead58c6a141545f48",
            "035e2a434e4c4aeaa9954f2bee33f981",
            "7db2767c750148ea8a696f59512caeef",
            "a418219945394538a8e2e7501a853a08",
            "f469c0fc079f4c47afaea3a65ab0aca2",
            "7db2baa8f4b345189f16d5621a2f9579",
            "b4b67f1acc04430b88171be539b6d8c9",
            "4052a9fe80764368915540799beceba8",
            "3401f3ac79ae42c496038dca4baa9ff0",
            "d02cda88a96d4ed9976c9f2eae88707e",
            "349aec82a59e4352ba4e8562f6f3dedc",
            "c9f8ef612f9542888da8e2ac2c267d97",
            "2cca57ed3a6b4f8fb337f5a94ea19612",
            "9cbfd672a84749a0bcda27ee81f656ee",
            "0ec683db3db74d62a44a1b8afd258d05",
            "5507009b85054382a92e2c313cce4b4a"
          ]
        },
        "outputId": "01507d32-3499-4268-eee2-893779c1ab15"
      },
      "execution_count": 32,
      "outputs": [
        {
          "output_type": "stream",
          "name": "stderr",
          "text": [
            "/usr/local/lib/python3.10/dist-packages/huggingface_hub/utils/_token.py:88: UserWarning: \n",
            "The secret `HF_TOKEN` does not exist in your Colab secrets.\n",
            "To authenticate with the Hugging Face Hub, create a token in your settings tab (https://huggingface.co/settings/tokens), set it as secret in your Google Colab and restart your session.\n",
            "You will be able to reuse this secret in all of your notebooks.\n",
            "Please note that authentication is recommended but still optional to access public models or datasets.\n",
            "  warnings.warn(\n"
          ]
        },
        {
          "output_type": "display_data",
          "data": {
            "text/plain": [
              "Downloading readme:   0%|          | 0.00/35.3k [00:00<?, ?B/s]"
            ],
            "application/vnd.jupyter.widget-view+json": {
              "version_major": 2,
              "version_minor": 0,
              "model_id": "5450a0830fed4a3dbf413a05ddcaeb0b"
            }
          },
          "metadata": {}
        },
        {
          "output_type": "display_data",
          "data": {
            "text/plain": [
              "Downloading data:   0%|          | 0.00/251k [00:00<?, ?B/s]"
            ],
            "application/vnd.jupyter.widget-view+json": {
              "version_major": 2,
              "version_minor": 0,
              "model_id": "6682eaead14b4ef599b2f31280271959"
            }
          },
          "metadata": {}
        },
        {
          "output_type": "display_data",
          "data": {
            "text/plain": [
              "Downloading data:   0%|          | 0.00/37.6k [00:00<?, ?B/s]"
            ],
            "application/vnd.jupyter.widget-view+json": {
              "version_major": 2,
              "version_minor": 0,
              "model_id": "20ae8fc1cffd45fa8ba659c78b6cdc91"
            }
          },
          "metadata": {}
        },
        {
          "output_type": "display_data",
          "data": {
            "text/plain": [
              "Downloading data:   0%|          | 0.00/37.7k [00:00<?, ?B/s]"
            ],
            "application/vnd.jupyter.widget-view+json": {
              "version_major": 2,
              "version_minor": 0,
              "model_id": "1cf533d958b7403a9f7a1da78f269f97"
            }
          },
          "metadata": {}
        },
        {
          "output_type": "display_data",
          "data": {
            "text/plain": [
              "Generating train split:   0%|          | 0/8551 [00:00<?, ? examples/s]"
            ],
            "application/vnd.jupyter.widget-view+json": {
              "version_major": 2,
              "version_minor": 0,
              "model_id": "82409d9684ec467bb61c81af09b0a0db"
            }
          },
          "metadata": {}
        },
        {
          "output_type": "display_data",
          "data": {
            "text/plain": [
              "Generating validation split:   0%|          | 0/1043 [00:00<?, ? examples/s]"
            ],
            "application/vnd.jupyter.widget-view+json": {
              "version_major": 2,
              "version_minor": 0,
              "model_id": "92849e0edb1a414ea63c2e0d49b59440"
            }
          },
          "metadata": {}
        },
        {
          "output_type": "display_data",
          "data": {
            "text/plain": [
              "Generating test split:   0%|          | 0/1063 [00:00<?, ? examples/s]"
            ],
            "application/vnd.jupyter.widget-view+json": {
              "version_major": 2,
              "version_minor": 0,
              "model_id": "7db2baa8f4b345189f16d5621a2f9579"
            }
          },
          "metadata": {}
        }
      ]
    },
    {
      "cell_type": "markdown",
      "source": [
        "# **Pre-processing code and function definitions**"
      ],
      "metadata": {
        "id": "fYP4vL51Wk7F"
      }
    },
    {
      "cell_type": "code",
      "source": [
        "# Deifine model and tokenizer\n",
        "\n",
        "# Define the tokenizer\n",
        "tokenizer = AutoTokenizer.from_pretrained(\"facebook/opt-125m\")\n",
        "\n",
        "# Set num_labels to 2 and drop-out hyperparam = 0.1\n",
        "config = AutoConfig.from_pretrained(\"facebook/opt-125m\", num_labels=2, hidden_dropout_prob=0.1, attention_probs_dropout_prob=0.1)\n",
        "model = AutoModelForSequenceClassification.from_pretrained(\"facebook/opt-125m\", config=config)\n"
      ],
      "metadata": {
        "id": "RytOqPJbTnuq",
        "colab": {
          "base_uri": "https://localhost:8080/",
          "height": 265,
          "referenced_widgets": [
            "ee239e90abbf4d77bb64ab657b380779",
            "0ed4e890833a45c587b00a7e63671b6c",
            "9f9051f5fd464059b5cbc22c79a6b70a",
            "72fe6f03986349059f53faaf377291d7",
            "ab8b453a14374dbb82a4fb55583e51d2",
            "652a0dd04c6147cf881b2f718c88ec1c",
            "4c76b245bb7b4b44a11da830f4635a5e",
            "c461946c77114316bd0033e6de829a2c",
            "9a1fe094fceb4cf7917719ecca7d9dae",
            "c032b9c58ceb4d51a290553770966b61",
            "ec0f376a194b4212b3ed7d0bc1700190",
            "48c418359a394d5db285e41c2b047659",
            "4d879a41e1a44291bd2794bf9fce941e",
            "0b49419292224ec1aafaeb66af07701a",
            "612083b60e7245fe81352ae5bfa0a845",
            "dec2c760542842aa88d824ea5be0f3fa",
            "babf23eb64e74675b0fceddcca49107f",
            "839e38202ecb46c9aa8b55d47cd85fee",
            "93d78c6ad3c84c718a3eee0d4582703d",
            "609a255910324619b03fca08b41ea0b1",
            "987e7434efaa4c3cae5c237318da2c2b",
            "e6c55e5ba4534afb91698fa6fe512f2e",
            "5da3188612794a2a96081146295eb7e0",
            "e4b656e7cca443ff9148f916f263533f",
            "526f35ae5aff42a091884982b06df1be",
            "dc1bdf37b47c41baa577e6d7d90e59bd",
            "2a63195914df4ce9ba91afd62bf413c5",
            "2540babce2ce4a81a6003e9585395cff",
            "5856dce8836c4ad8a7428e7384259dcb",
            "44f0643f4f7148529798465d4c812661",
            "ba83fa48b5d5403ea717c16873843326",
            "5ff7436da647462fa8ec58a26cdf5a20",
            "75a5f36beec348b49d419105c424f728",
            "c9fff3a431184f8e96ff1b0372fd5f82",
            "a0fd947a9aab44569e1dedef93226182",
            "fda0c16f04dc43a2b7b985ef5da3d492",
            "7888979a61814292871eaa534078fc9d",
            "b15db0465c404105b5256c6fe3232523",
            "48fae3bb08d741af84f3ecf061970a90",
            "7386e8dfe80e4b36801262968e60ffce",
            "90c1d18370834822bb53ccc175a847df",
            "10f5c7d2270e496da876e6f03bff1970",
            "befad3e832c84d75a36ef91e2a51c46d",
            "9832fc36923f49a29abb9e5c23227c7f",
            "14df4f41a6ae4df599a457053c97fe4c",
            "45616326099d4f2aa07092aad1f6cd10",
            "9ec7fdf7324441009315ad66520b5d6a",
            "0d5c8229ef134f18af4de6c432c4b4d3",
            "66864483e4684e5bbc777da297a2c60c",
            "2448e3acad4b469da5d66fa39ef4133b",
            "bbfaf45c629a4daebe4a19556cb8ca35",
            "a262d9e239054291964c8ab372a5247d",
            "ec66a4f3a3684d18a7338fcd6068a8f0",
            "e2c844fba104452ba809c30da67061b9",
            "27139f6592fa4f7490e6de19c8232b98",
            "dff8cd92a4ac45328ea1c58f594fc819",
            "cb28fd3a050c4b1987c3e7465e9328a0",
            "7ccbc95b264942708fae05977edcc7bd",
            "fc64e4ca19d3404abb0d24ef8f59eee7",
            "e4991ba5321943a580b92747b871965e",
            "ed92a85c5fab4c86aa2bc056a68c8c8b",
            "389de81ae6c740848753fed7adedd26d",
            "40f01a98aa874d43a1838eb2cc22625c",
            "b68445e7fd884fcc811aad70abb01aa4",
            "d25cbe0fcd3f4d28990acfe044ad33a1",
            "ab5fced3e257446c9145638b34b1d5e9"
          ]
        },
        "outputId": "ead7714b-9091-4d10-fddb-44a42b1826e2"
      },
      "execution_count": 33,
      "outputs": [
        {
          "output_type": "display_data",
          "data": {
            "text/plain": [
              "tokenizer_config.json:   0%|          | 0.00/685 [00:00<?, ?B/s]"
            ],
            "application/vnd.jupyter.widget-view+json": {
              "version_major": 2,
              "version_minor": 0,
              "model_id": "ee239e90abbf4d77bb64ab657b380779"
            }
          },
          "metadata": {}
        },
        {
          "output_type": "display_data",
          "data": {
            "text/plain": [
              "config.json:   0%|          | 0.00/651 [00:00<?, ?B/s]"
            ],
            "application/vnd.jupyter.widget-view+json": {
              "version_major": 2,
              "version_minor": 0,
              "model_id": "48c418359a394d5db285e41c2b047659"
            }
          },
          "metadata": {}
        },
        {
          "output_type": "display_data",
          "data": {
            "text/plain": [
              "vocab.json:   0%|          | 0.00/899k [00:00<?, ?B/s]"
            ],
            "application/vnd.jupyter.widget-view+json": {
              "version_major": 2,
              "version_minor": 0,
              "model_id": "5da3188612794a2a96081146295eb7e0"
            }
          },
          "metadata": {}
        },
        {
          "output_type": "display_data",
          "data": {
            "text/plain": [
              "merges.txt:   0%|          | 0.00/456k [00:00<?, ?B/s]"
            ],
            "application/vnd.jupyter.widget-view+json": {
              "version_major": 2,
              "version_minor": 0,
              "model_id": "c9fff3a431184f8e96ff1b0372fd5f82"
            }
          },
          "metadata": {}
        },
        {
          "output_type": "display_data",
          "data": {
            "text/plain": [
              "special_tokens_map.json:   0%|          | 0.00/441 [00:00<?, ?B/s]"
            ],
            "application/vnd.jupyter.widget-view+json": {
              "version_major": 2,
              "version_minor": 0,
              "model_id": "14df4f41a6ae4df599a457053c97fe4c"
            }
          },
          "metadata": {}
        },
        {
          "output_type": "display_data",
          "data": {
            "text/plain": [
              "pytorch_model.bin:   0%|          | 0.00/251M [00:00<?, ?B/s]"
            ],
            "application/vnd.jupyter.widget-view+json": {
              "version_major": 2,
              "version_minor": 0,
              "model_id": "dff8cd92a4ac45328ea1c58f594fc819"
            }
          },
          "metadata": {}
        },
        {
          "output_type": "stream",
          "name": "stderr",
          "text": [
            "Some weights of OPTForSequenceClassification were not initialized from the model checkpoint at facebook/opt-125m and are newly initialized: ['score.weight']\n",
            "You should probably TRAIN this model on a down-stream task to be able to use it for predictions and inference.\n"
          ]
        }
      ]
    },
    {
      "cell_type": "code",
      "source": [
        "# Function to load and parse out-of-domain COLA dataset\n",
        "'''\n",
        "\\cite: https://github.com/uds-lsv/llmft/blob/main/task_utils.py\n",
        "'''\n",
        "def load_cola_ood_dataset(path, label=None, cache_dir=None):\n",
        "    data_files = {\"validation\": path}\n",
        "    dataset = load_dataset(\"csv\", data_files=data_files, sep=\"\\t\", column_names=[\n",
        "                           'code', 'label', 'annotation', 'sentence'], cache_dir=cache_dir)\n",
        "    dataset = dataset[\"validation\"]\n",
        "\n",
        "    # cola-ood comes without indices, so we add them\n",
        "    indices = list(range(len(dataset)))\n",
        "    dataset = dataset.add_column(name=\"idx\", column=indices)\n",
        "\n",
        "    subset = \"cola-ood\"\n",
        "\n",
        "    if label is not None:  # filter dataset based on label\n",
        "        dataset = dataset.filter(\n",
        "            lambda example: example[\"label\"] == label)\n",
        "        subset = f\"{subset}-{'acceptable' if label == 1 else 'unacceptable'}\"\n",
        "\n",
        "    return dataset, subset"
      ],
      "metadata": {
        "id": "qoDP9TuhY5-B"
      },
      "execution_count": 34,
      "outputs": []
    },
    {
      "cell_type": "code",
      "source": [
        "# Deifne function for computing metric\n",
        "\n",
        "def compute_metrics(eval_pred):\n",
        "    logits, labels = eval_pred\n",
        "    predictions = np.argmax(logits, axis=-1)\n",
        "    return {\"accuracy\": accuracy_score(labels, predictions)}\n"
      ],
      "metadata": {
        "id": "6z3nx-gQTklA"
      },
      "execution_count": 35,
      "outputs": []
    },
    {
      "cell_type": "code",
      "source": [
        "# Manipulate data for decoder part of the model and add prompts relevant for CoLA\n",
        "\n",
        "def manipulate_inputs_for_cola_with_prompt(inputs):\n",
        "    # Add pattern/prompts\n",
        "    inputs = tokenizer([\"Yes or No?\" + sentence for sentence in inputs[\"sentence\"]], truncation=True, padding=\"max_length\", max_length=128)\n",
        "\n",
        "    return inputs\n",
        "\n",
        "# augment in-domain-data\n",
        "in_domain_data = in_domain_data.map(manipulate_inputs_for_cola_with_prompt, batched=True)\n",
        "\n",
        "# augment out of domain data\n",
        "eval_ood_data, _ = load_cola_ood_dataset(path='../datafiles/dev.tsv')\n",
        "eval_ood_data = eval_ood_data.map(manipulate_inputs_for_cola_with_prompt, batched=True)"
      ],
      "metadata": {
        "id": "KNnLyf69UqGT",
        "colab": {
          "base_uri": "https://localhost:8080/",
          "height": 177,
          "referenced_widgets": [
            "8955450ef2674e78bfd689afb4985297",
            "d9309d7dc8e0466a87ea0154922af49b",
            "1dbcdc9422b74d13b2f3412d42cf8a5e",
            "b3344ff31a73421c932770a8840202b7",
            "f6c1e260edb2479e98ae11e44fdf5645",
            "fe3f200b3ecc4ec5862f6bcf4766acd6",
            "d78a6a26abc4490fbafa25fa4556413d",
            "6bc2fa6d3b9d41319dbc4ba35c51ac8a",
            "9590b1c8bfe74b0cb947900b91ef8704",
            "bd8c2d1741454a35900bbda4cab83a87",
            "db6e412c2ca642b088627cc882dc7151",
            "607bc087b62a4c9885bf67dc23b41782",
            "ad3272c08c5843248490150934fc40ff",
            "44444963de4e42b4830b4aeb856a8bb7",
            "f136d5fa48b34a39bfc7cfccc170228f",
            "01e2f650afb846dfb98479c527a8717e",
            "a6ef829a9790423a83709812e12c87bf",
            "2a0dca2976204427bd39554132a964c6",
            "1921276150604ca69701dac9ecdc9082",
            "701a5a267cc04f8fa403ff171455dcca",
            "3cebabf9de7344c4b382345f15dbbe36",
            "6517608fa6d143da8460db91a7d96f88",
            "79bc73ca109e4aea9c64209231df59e5",
            "46fabeee56c84a8d82270d5c80839c85",
            "f82c746081f74409aabd176063a62139",
            "44ff8461dc3d4e7a8987bf391ef0ba64",
            "6385b75ceb53488e8b526f056f4ca245",
            "36ab9bfdff3d44d5941977a398bf2875",
            "397e9bfe3f6644aea4f5ced5a0dd14d9",
            "075a6f8465234ffc88195ce5954b8b72",
            "be8098febd58491c957c2b1209a5876f",
            "ce705203531c46aeac762dbf157ff770",
            "db11852d787e47569331bb2e1c3f81ba",
            "85a6ffa77e3045c69ea31e7ed4454d7f",
            "d1fff6802dcb45a0ac83cf849cb07dc4",
            "963178e0aec24436a28a1eaeb1a5eef1",
            "01613b29453c4150a13d6c377a90e760",
            "52dbb6981e1345d29b58820c5f99beaf",
            "9947b24dd5da4734ba68d0abd9bf6358",
            "2b9168dd8f824331bdc27d42dfad6ade",
            "bea1f79827934839a77cf502bfb520f8",
            "0fc05bdabf304e219cba725cf5b5ed85",
            "1eb12b9a4585443f821ba34211a610e0",
            "814f7d4120a44672afdacf43f8331a3c",
            "d05c3c6358fc40a2a585f81edf1f2cc3",
            "df1cd4697647482cb9ceb1b4c17bdb07",
            "fb7f479ec3c3408abb181af5c04e5ac0",
            "caef4920d85b44668b30dd8f3677cd12",
            "a94a653de574479ebd0e4736a328c4f8",
            "4c75d6fcb8c141baa4b23d90ede79db2",
            "fcfeccdad97a45349801519cfcfcd9c3",
            "cf11c64de5f140898c122ddab867c824",
            "e1faa8743564464db7e399b8c9390034",
            "c54828e6dbfe4c8c88670a49054a39e1",
            "3c96c490dc6a40399f86fb0e387be30b"
          ]
        },
        "outputId": "e3442242-38fd-4607-ac40-b7594ed3560e"
      },
      "execution_count": 36,
      "outputs": [
        {
          "output_type": "display_data",
          "data": {
            "text/plain": [
              "Map:   0%|          | 0/8551 [00:00<?, ? examples/s]"
            ],
            "application/vnd.jupyter.widget-view+json": {
              "version_major": 2,
              "version_minor": 0,
              "model_id": "8955450ef2674e78bfd689afb4985297"
            }
          },
          "metadata": {}
        },
        {
          "output_type": "display_data",
          "data": {
            "text/plain": [
              "Map:   0%|          | 0/1043 [00:00<?, ? examples/s]"
            ],
            "application/vnd.jupyter.widget-view+json": {
              "version_major": 2,
              "version_minor": 0,
              "model_id": "607bc087b62a4c9885bf67dc23b41782"
            }
          },
          "metadata": {}
        },
        {
          "output_type": "display_data",
          "data": {
            "text/plain": [
              "Map:   0%|          | 0/1063 [00:00<?, ? examples/s]"
            ],
            "application/vnd.jupyter.widget-view+json": {
              "version_major": 2,
              "version_minor": 0,
              "model_id": "79bc73ca109e4aea9c64209231df59e5"
            }
          },
          "metadata": {}
        },
        {
          "output_type": "display_data",
          "data": {
            "text/plain": [
              "Generating validation split: 0 examples [00:00, ? examples/s]"
            ],
            "application/vnd.jupyter.widget-view+json": {
              "version_major": 2,
              "version_minor": 0,
              "model_id": "85a6ffa77e3045c69ea31e7ed4454d7f"
            }
          },
          "metadata": {}
        },
        {
          "output_type": "display_data",
          "data": {
            "text/plain": [
              "Map:   0%|          | 0/516 [00:00<?, ? examples/s]"
            ],
            "application/vnd.jupyter.widget-view+json": {
              "version_major": 2,
              "version_minor": 0,
              "model_id": "d05c3c6358fc40a2a585f81edf1f2cc3"
            }
          },
          "metadata": {}
        }
      ]
    },
    {
      "cell_type": "code",
      "source": [
        "# Define parameters for training experiments (per reference paper)\n",
        "\n",
        "few_shot_sample_size = [2, 16, 32, 64, 128]  # number of examples for each class\n",
        "num_epochs = 40\n",
        "batch_size = 32\n",
        "learning_rate = 1e-5\n",
        "weight_decay = 0.\n",
        "warmup_ratio = 0.1\n",
        "num_runs = 10\n",
        "optimizer = AdamW(model.parameters(), lr=learning_rate) # AdamW optimizer"
      ],
      "metadata": {
        "id": "GH56jsacVOoH",
        "colab": {
          "base_uri": "https://localhost:8080/"
        },
        "outputId": "86bd3f2a-4711-4efc-eb4d-78b2cc0d1da4"
      },
      "execution_count": 37,
      "outputs": [
        {
          "output_type": "stream",
          "name": "stderr",
          "text": [
            "/usr/local/lib/python3.10/dist-packages/transformers/optimization.py:429: FutureWarning: This implementation of AdamW is deprecated and will be removed in a future version. Use the PyTorch implementation torch.optim.AdamW instead, or set `no_deprecation_warning=True` to disable this warning\n",
            "  warnings.warn(\n"
          ]
        }
      ]
    },
    {
      "cell_type": "code",
      "source": [
        "# Vaiables to store training results into CSV\n",
        "results_df = pd.DataFrame(columns=[\"n\", \"run\", \"in_domain_accuracy\", \"out_of_domain_accuracy\"])"
      ],
      "metadata": {
        "id": "tDrEuCK3WE5F"
      },
      "execution_count": 38,
      "outputs": []
    },
    {
      "cell_type": "markdown",
      "source": [
        "# **Experimentation loop**"
      ],
      "metadata": {
        "id": "hY-aTiM3Wce6"
      }
    },
    {
      "cell_type": "code",
      "source": [
        "for n in few_shot_sample_size:\n",
        "    for run_idx in range(num_runs):  # repeat 10 times for each n\n",
        "        # re-iniialize model for each run\n",
        "        model = AutoModelForSequenceClassification.from_pretrained(\"facebook/opt-125m\", config=config)\n",
        "        optimizer = AdamW(model.parameters(), lr=learning_rate)\n",
        "\n",
        "        # Select n random examples for each class from the original data\n",
        "        indices_yes = np.where(np.array(in_domain_data[\"train\"][\"label\"]) == 0)[0]\n",
        "        indices_no = np.where(np.array(in_domain_data[\"train\"][\"label\"]) == 1)[0]\n",
        "        indices_yes = np.random.choice(indices_yes, n, replace=False)\n",
        "        indices_no = np.random.choice(indices_no, n, replace=False)\n",
        "        indices = np.concatenate([indices_yes, indices_no])\n",
        "\n",
        "        # Select the examples for the new training set\n",
        "        train_dataset = in_domain_data[\"train\"].select(indices)\n",
        "\n",
        "        # Define training config\n",
        "        # Total steps = (#samples/batch size) * epochs\n",
        "        total_steps = (len(train_dataset) // batch_size) * num_epochs\n",
        "\n",
        "        training_args = TrainingArguments(\n",
        "            output_dir = \"./results\",\n",
        "            overwrite_output_dir = True,\n",
        "            num_train_epochs = num_epochs,\n",
        "            per_device_train_batch_size = batch_size,\n",
        "            learning_rate = learning_rate,\n",
        "            weight_decay = weight_decay,\n",
        "            save_steps = 10_000,\n",
        "            save_total_limit = 2,\n",
        "            warmup_steps = int(warmup_ratio * total_steps),\n",
        "        )\n",
        "\n",
        "        # Define the trainer\n",
        "        trainer = Trainer(\n",
        "            model = model,\n",
        "            args=training_args,\n",
        "            train_dataset = train_dataset,\n",
        "            compute_metrics = compute_metrics,\n",
        "            optimizers=(optimizer, None),\n",
        "        )\n",
        "\n",
        "        # Train the model\n",
        "        trainer.train()\n",
        "\n",
        "        # Evaluate in-domain performance\n",
        "        print(f\"Evaluating in-domain performance for n={n}...\")\n",
        "        eval_results = trainer.evaluate(eval_dataset=in_domain_data[\"validation\"])\n",
        "\n",
        "        # Store the in-domain accuracy\n",
        "        in_domain_accuracy = eval_results[\"eval_accuracy\"]\n",
        "\n",
        "        # Print the in-domain evaluation results\n",
        "        for key, value in eval_results.items():\n",
        "            print(f\"In-domain {key}: {value}\")\n",
        "\n",
        "        # Evaluate out-of-domain performance\n",
        "        print(f\"Evaluating out-of-domain performance for n={n}...\")\n",
        "        eval_results = trainer.evaluate(eval_dataset=eval_ood_data)\n",
        "\n",
        "        # Store the out-of-domain accuracy\n",
        "        out_of_domain_accuracy = eval_results[\"eval_accuracy\"]\n",
        "\n",
        "        # Print the out-of-domain evaluation results\n",
        "        for key, value in eval_results.items():\n",
        "            print(f\"Out-of-domain {key}: {value}\")\n",
        "\n",
        "        # Add the results to the DataFrame\n",
        "        new_row = pd.DataFrame({\n",
        "            \"n\": [n],\n",
        "            \"run\": [run_idx],\n",
        "            \"in_domain_accuracy\": [in_domain_accuracy],\n",
        "            \"out_of_domain_accuracy\": [out_of_domain_accuracy]\n",
        "        })\n",
        "        results_df = pd.concat([results_df, new_row], ignore_index=True)"
      ],
      "metadata": {
        "id": "rq9R3cbJWbYy",
        "colab": {
          "base_uri": "https://localhost:8080/",
          "height": 1000
        },
        "collapsed": true,
        "outputId": "62016202-607c-4f1d-e32f-04374a7ec51b"
      },
      "execution_count": 39,
      "outputs": [
        {
          "metadata": {
            "tags": null
          },
          "name": "stderr",
          "output_type": "stream",
          "text": [
            "Some weights of OPTForSequenceClassification were not initialized from the model checkpoint at facebook/opt-125m and are newly initialized: ['score.weight']\n",
            "You should probably TRAIN this model on a down-stream task to be able to use it for predictions and inference.\n",
            "/usr/local/lib/python3.10/dist-packages/transformers/optimization.py:429: FutureWarning: This implementation of AdamW is deprecated and will be removed in a future version. Use the PyTorch implementation torch.optim.AdamW instead, or set `no_deprecation_warning=True` to disable this warning\n",
            "  warnings.warn(\n",
            "/usr/local/lib/python3.10/dist-packages/accelerate/accelerator.py:436: FutureWarning: Passing the following arguments to `Accelerator` is deprecated and will be removed in version 1.0 of Accelerate: dict_keys(['dispatch_batches', 'split_batches', 'even_batches', 'use_seedable_sampler']). Please pass an `accelerate.DataLoaderConfiguration` instead: \n",
            "dataloader_config = DataLoaderConfiguration(dispatch_batches=None, split_batches=False, even_batches=True, use_seedable_sampler=True)\n",
            "  warnings.warn(\n"
          ]
        },
        {
          "data": {
            "text/html": [
              "\n",
              "    <div>\n",
              "      \n",
              "      <progress value='40' max='40' style='width:300px; height:20px; vertical-align: middle;'></progress>\n",
              "      [40/40 00:04, Epoch 40/40]\n",
              "    </div>\n",
              "    <table border=\"1\" class=\"dataframe\">\n",
              "  <thead>\n",
              " <tr style=\"text-align: left;\">\n",
              "      <th>Step</th>\n",
              "      <th>Training Loss</th>\n",
              "    </tr>\n",
              "  </thead>\n",
              "  <tbody>\n",
              "  </tbody>\n",
              "</table><p>"
            ],
            "text/plain": [
              "<IPython.core.display.HTML object>"
            ]
          },
          "metadata": {},
          "output_type": "display_data"
        },
        {
          "metadata": {
            "tags": null
          },
          "name": "stdout",
          "output_type": "stream",
          "text": [
            "Evaluating in-domain performance for n=2...\n"
          ]
        },
        {
          "data": {
            "text/html": [
              "\n",
              "    <div>\n",
              "      \n",
              "      <progress value='196' max='131' style='width:300px; height:20px; vertical-align: middle;'></progress>\n",
              "      [131/131 00:09]\n",
              "    </div>\n",
              "    "
            ],
            "text/plain": [
              "<IPython.core.display.HTML object>"
            ]
          },
          "metadata": {},
          "output_type": "display_data"
        },
        {
          "metadata": {
            "tags": null
          },
          "name": "stdout",
          "output_type": "stream",
          "text": [
            "In-domain eval_loss: 0.8672010898590088\n",
            "In-domain eval_accuracy: 0.5445829338446788\n",
            "In-domain eval_runtime: 6.3437\n",
            "In-domain eval_samples_per_second: 164.415\n",
            "In-domain eval_steps_per_second: 20.65\n",
            "In-domain epoch: 40.0\n",
            "Evaluating out-of-domain performance for n=2...\n"
          ]
        },
        {
          "metadata": {
            "tags": null
          },
          "name": "stderr",
          "output_type": "stream",
          "text": [
            "Some weights of OPTForSequenceClassification were not initialized from the model checkpoint at facebook/opt-125m and are newly initialized: ['score.weight']\n",
            "You should probably TRAIN this model on a down-stream task to be able to use it for predictions and inference.\n"
          ]
        },
        {
          "metadata": {
            "tags": null
          },
          "name": "stdout",
          "output_type": "stream",
          "text": [
            "Out-of-domain eval_loss: 0.853900134563446\n",
            "Out-of-domain eval_accuracy: 0.560077519379845\n",
            "Out-of-domain eval_runtime: 3.1994\n",
            "Out-of-domain eval_samples_per_second: 161.282\n",
            "Out-of-domain eval_steps_per_second: 20.317\n",
            "Out-of-domain epoch: 40.0\n"
          ]
        },
        {
          "metadata": {
            "tags": null
          },
          "name": "stderr",
          "output_type": "stream",
          "text": [
            "/usr/local/lib/python3.10/dist-packages/transformers/optimization.py:429: FutureWarning: This implementation of AdamW is deprecated and will be removed in a future version. Use the PyTorch implementation torch.optim.AdamW instead, or set `no_deprecation_warning=True` to disable this warning\n",
            "  warnings.warn(\n",
            "/usr/local/lib/python3.10/dist-packages/accelerate/accelerator.py:436: FutureWarning: Passing the following arguments to `Accelerator` is deprecated and will be removed in version 1.0 of Accelerate: dict_keys(['dispatch_batches', 'split_batches', 'even_batches', 'use_seedable_sampler']). Please pass an `accelerate.DataLoaderConfiguration` instead: \n",
            "dataloader_config = DataLoaderConfiguration(dispatch_batches=None, split_batches=False, even_batches=True, use_seedable_sampler=True)\n",
            "  warnings.warn(\n"
          ]
        },
        {
          "data": {
            "text/html": [
              "\n",
              "    <div>\n",
              "      \n",
              "      <progress value='40' max='40' style='width:300px; height:20px; vertical-align: middle;'></progress>\n",
              "      [40/40 00:04, Epoch 40/40]\n",
              "    </div>\n",
              "    <table border=\"1\" class=\"dataframe\">\n",
              "  <thead>\n",
              " <tr style=\"text-align: left;\">\n",
              "      <th>Step</th>\n",
              "      <th>Training Loss</th>\n",
              "    </tr>\n",
              "  </thead>\n",
              "  <tbody>\n",
              "  </tbody>\n",
              "</table><p>"
            ],
            "text/plain": [
              "<IPython.core.display.HTML object>"
            ]
          },
          "metadata": {},
          "output_type": "display_data"
        },
        {
          "metadata": {
            "tags": null
          },
          "name": "stdout",
          "output_type": "stream",
          "text": [
            "Evaluating in-domain performance for n=2...\n"
          ]
        },
        {
          "data": {
            "text/html": [
              "\n",
              "    <div>\n",
              "      \n",
              "      <progress value='196' max='131' style='width:300px; height:20px; vertical-align: middle;'></progress>\n",
              "      [131/131 00:09]\n",
              "    </div>\n",
              "    "
            ],
            "text/plain": [
              "<IPython.core.display.HTML object>"
            ]
          },
          "metadata": {},
          "output_type": "display_data"
        },
        {
          "metadata": {
            "tags": null
          },
          "name": "stdout",
          "output_type": "stream",
          "text": [
            "In-domain eval_loss: 0.8185608983039856\n",
            "In-domain eval_accuracy: 0.5311601150527325\n",
            "In-domain eval_runtime: 6.3765\n",
            "In-domain eval_samples_per_second: 163.57\n",
            "In-domain eval_steps_per_second: 20.544\n",
            "In-domain epoch: 40.0\n",
            "Evaluating out-of-domain performance for n=2...\n"
          ]
        },
        {
          "metadata": {
            "tags": null
          },
          "name": "stderr",
          "output_type": "stream",
          "text": [
            "Some weights of OPTForSequenceClassification were not initialized from the model checkpoint at facebook/opt-125m and are newly initialized: ['score.weight']\n",
            "You should probably TRAIN this model on a down-stream task to be able to use it for predictions and inference.\n"
          ]
        },
        {
          "metadata": {
            "tags": null
          },
          "name": "stdout",
          "output_type": "stream",
          "text": [
            "Out-of-domain eval_loss: 0.7890215516090393\n",
            "Out-of-domain eval_accuracy: 0.5717054263565892\n",
            "Out-of-domain eval_runtime: 3.2469\n",
            "Out-of-domain eval_samples_per_second: 158.922\n",
            "Out-of-domain eval_steps_per_second: 20.019\n",
            "Out-of-domain epoch: 40.0\n"
          ]
        },
        {
          "metadata": {
            "tags": null
          },
          "name": "stderr",
          "output_type": "stream",
          "text": [
            "/usr/local/lib/python3.10/dist-packages/transformers/optimization.py:429: FutureWarning: This implementation of AdamW is deprecated and will be removed in a future version. Use the PyTorch implementation torch.optim.AdamW instead, or set `no_deprecation_warning=True` to disable this warning\n",
            "  warnings.warn(\n",
            "/usr/local/lib/python3.10/dist-packages/accelerate/accelerator.py:436: FutureWarning: Passing the following arguments to `Accelerator` is deprecated and will be removed in version 1.0 of Accelerate: dict_keys(['dispatch_batches', 'split_batches', 'even_batches', 'use_seedable_sampler']). Please pass an `accelerate.DataLoaderConfiguration` instead: \n",
            "dataloader_config = DataLoaderConfiguration(dispatch_batches=None, split_batches=False, even_batches=True, use_seedable_sampler=True)\n",
            "  warnings.warn(\n"
          ]
        },
        {
          "data": {
            "text/html": [
              "\n",
              "    <div>\n",
              "      \n",
              "      <progress value='40' max='40' style='width:300px; height:20px; vertical-align: middle;'></progress>\n",
              "      [40/40 00:04, Epoch 40/40]\n",
              "    </div>\n",
              "    <table border=\"1\" class=\"dataframe\">\n",
              "  <thead>\n",
              " <tr style=\"text-align: left;\">\n",
              "      <th>Step</th>\n",
              "      <th>Training Loss</th>\n",
              "    </tr>\n",
              "  </thead>\n",
              "  <tbody>\n",
              "  </tbody>\n",
              "</table><p>"
            ],
            "text/plain": [
              "<IPython.core.display.HTML object>"
            ]
          },
          "metadata": {},
          "output_type": "display_data"
        },
        {
          "metadata": {
            "tags": null
          },
          "name": "stdout",
          "output_type": "stream",
          "text": [
            "Evaluating in-domain performance for n=2...\n"
          ]
        },
        {
          "data": {
            "text/html": [
              "\n",
              "    <div>\n",
              "      \n",
              "      <progress value='196' max='131' style='width:300px; height:20px; vertical-align: middle;'></progress>\n",
              "      [131/131 00:09]\n",
              "    </div>\n",
              "    "
            ],
            "text/plain": [
              "<IPython.core.display.HTML object>"
            ]
          },
          "metadata": {},
          "output_type": "display_data"
        },
        {
          "metadata": {
            "tags": null
          },
          "name": "stdout",
          "output_type": "stream",
          "text": [
            "In-domain eval_loss: 0.8185608983039856\n",
            "In-domain eval_accuracy: 0.5311601150527325\n",
            "In-domain eval_runtime: 6.4838\n",
            "In-domain eval_samples_per_second: 160.862\n",
            "In-domain eval_steps_per_second: 20.204\n",
            "In-domain epoch: 40.0\n",
            "Evaluating out-of-domain performance for n=2...\n"
          ]
        },
        {
          "metadata": {
            "tags": null
          },
          "name": "stderr",
          "output_type": "stream",
          "text": [
            "Some weights of OPTForSequenceClassification were not initialized from the model checkpoint at facebook/opt-125m and are newly initialized: ['score.weight']\n",
            "You should probably TRAIN this model on a down-stream task to be able to use it for predictions and inference.\n"
          ]
        },
        {
          "metadata": {
            "tags": null
          },
          "name": "stdout",
          "output_type": "stream",
          "text": [
            "Out-of-domain eval_loss: 0.7890215516090393\n",
            "Out-of-domain eval_accuracy: 0.5717054263565892\n",
            "Out-of-domain eval_runtime: 3.2933\n",
            "Out-of-domain eval_samples_per_second: 156.679\n",
            "Out-of-domain eval_steps_per_second: 19.737\n",
            "Out-of-domain epoch: 40.0\n"
          ]
        },
        {
          "metadata": {
            "tags": null
          },
          "name": "stderr",
          "output_type": "stream",
          "text": [
            "/usr/local/lib/python3.10/dist-packages/transformers/optimization.py:429: FutureWarning: This implementation of AdamW is deprecated and will be removed in a future version. Use the PyTorch implementation torch.optim.AdamW instead, or set `no_deprecation_warning=True` to disable this warning\n",
            "  warnings.warn(\n",
            "/usr/local/lib/python3.10/dist-packages/accelerate/accelerator.py:436: FutureWarning: Passing the following arguments to `Accelerator` is deprecated and will be removed in version 1.0 of Accelerate: dict_keys(['dispatch_batches', 'split_batches', 'even_batches', 'use_seedable_sampler']). Please pass an `accelerate.DataLoaderConfiguration` instead: \n",
            "dataloader_config = DataLoaderConfiguration(dispatch_batches=None, split_batches=False, even_batches=True, use_seedable_sampler=True)\n",
            "  warnings.warn(\n"
          ]
        },
        {
          "data": {
            "text/html": [
              "\n",
              "    <div>\n",
              "      \n",
              "      <progress value='40' max='40' style='width:300px; height:20px; vertical-align: middle;'></progress>\n",
              "      [40/40 00:04, Epoch 40/40]\n",
              "    </div>\n",
              "    <table border=\"1\" class=\"dataframe\">\n",
              "  <thead>\n",
              " <tr style=\"text-align: left;\">\n",
              "      <th>Step</th>\n",
              "      <th>Training Loss</th>\n",
              "    </tr>\n",
              "  </thead>\n",
              "  <tbody>\n",
              "  </tbody>\n",
              "</table><p>"
            ],
            "text/plain": [
              "<IPython.core.display.HTML object>"
            ]
          },
          "metadata": {},
          "output_type": "display_data"
        },
        {
          "metadata": {
            "tags": null
          },
          "name": "stdout",
          "output_type": "stream",
          "text": [
            "Evaluating in-domain performance for n=2...\n"
          ]
        },
        {
          "data": {
            "text/html": [
              "\n",
              "    <div>\n",
              "      \n",
              "      <progress value='196' max='131' style='width:300px; height:20px; vertical-align: middle;'></progress>\n",
              "      [131/131 00:09]\n",
              "    </div>\n",
              "    "
            ],
            "text/plain": [
              "<IPython.core.display.HTML object>"
            ]
          },
          "metadata": {},
          "output_type": "display_data"
        },
        {
          "metadata": {
            "tags": null
          },
          "name": "stdout",
          "output_type": "stream",
          "text": [
            "In-domain eval_loss: 0.8185608983039856\n",
            "In-domain eval_accuracy: 0.5311601150527325\n",
            "In-domain eval_runtime: 6.6055\n",
            "In-domain eval_samples_per_second: 157.898\n",
            "In-domain eval_steps_per_second: 19.832\n",
            "In-domain epoch: 40.0\n",
            "Evaluating out-of-domain performance for n=2...\n"
          ]
        },
        {
          "metadata": {
            "tags": null
          },
          "name": "stderr",
          "output_type": "stream",
          "text": [
            "Some weights of OPTForSequenceClassification were not initialized from the model checkpoint at facebook/opt-125m and are newly initialized: ['score.weight']\n",
            "You should probably TRAIN this model on a down-stream task to be able to use it for predictions and inference.\n"
          ]
        },
        {
          "metadata": {
            "tags": null
          },
          "name": "stdout",
          "output_type": "stream",
          "text": [
            "Out-of-domain eval_loss: 0.7890215516090393\n",
            "Out-of-domain eval_accuracy: 0.5717054263565892\n",
            "Out-of-domain eval_runtime: 3.3174\n",
            "Out-of-domain eval_samples_per_second: 155.542\n",
            "Out-of-domain eval_steps_per_second: 19.594\n",
            "Out-of-domain epoch: 40.0\n"
          ]
        },
        {
          "metadata": {
            "tags": null
          },
          "name": "stderr",
          "output_type": "stream",
          "text": [
            "/usr/local/lib/python3.10/dist-packages/transformers/optimization.py:429: FutureWarning: This implementation of AdamW is deprecated and will be removed in a future version. Use the PyTorch implementation torch.optim.AdamW instead, or set `no_deprecation_warning=True` to disable this warning\n",
            "  warnings.warn(\n",
            "/usr/local/lib/python3.10/dist-packages/accelerate/accelerator.py:436: FutureWarning: Passing the following arguments to `Accelerator` is deprecated and will be removed in version 1.0 of Accelerate: dict_keys(['dispatch_batches', 'split_batches', 'even_batches', 'use_seedable_sampler']). Please pass an `accelerate.DataLoaderConfiguration` instead: \n",
            "dataloader_config = DataLoaderConfiguration(dispatch_batches=None, split_batches=False, even_batches=True, use_seedable_sampler=True)\n",
            "  warnings.warn(\n"
          ]
        },
        {
          "data": {
            "text/html": [
              "\n",
              "    <div>\n",
              "      \n",
              "      <progress value='40' max='40' style='width:300px; height:20px; vertical-align: middle;'></progress>\n",
              "      [40/40 00:04, Epoch 40/40]\n",
              "    </div>\n",
              "    <table border=\"1\" class=\"dataframe\">\n",
              "  <thead>\n",
              " <tr style=\"text-align: left;\">\n",
              "      <th>Step</th>\n",
              "      <th>Training Loss</th>\n",
              "    </tr>\n",
              "  </thead>\n",
              "  <tbody>\n",
              "  </tbody>\n",
              "</table><p>"
            ],
            "text/plain": [
              "<IPython.core.display.HTML object>"
            ]
          },
          "metadata": {},
          "output_type": "display_data"
        },
        {
          "metadata": {
            "tags": null
          },
          "name": "stdout",
          "output_type": "stream",
          "text": [
            "Evaluating in-domain performance for n=2...\n"
          ]
        },
        {
          "data": {
            "text/html": [
              "\n",
              "    <div>\n",
              "      \n",
              "      <progress value='196' max='131' style='width:300px; height:20px; vertical-align: middle;'></progress>\n",
              "      [131/131 00:10]\n",
              "    </div>\n",
              "    "
            ],
            "text/plain": [
              "<IPython.core.display.HTML object>"
            ]
          },
          "metadata": {},
          "output_type": "display_data"
        },
        {
          "metadata": {
            "tags": null
          },
          "name": "stdout",
          "output_type": "stream",
          "text": [
            "In-domain eval_loss: 0.8185608983039856\n",
            "In-domain eval_accuracy: 0.5311601150527325\n",
            "In-domain eval_runtime: 6.6958\n",
            "In-domain eval_samples_per_second: 155.77\n",
            "In-domain eval_steps_per_second: 19.565\n",
            "In-domain epoch: 40.0\n",
            "Evaluating out-of-domain performance for n=2...\n"
          ]
        },
        {
          "metadata": {
            "tags": null
          },
          "name": "stderr",
          "output_type": "stream",
          "text": [
            "Some weights of OPTForSequenceClassification were not initialized from the model checkpoint at facebook/opt-125m and are newly initialized: ['score.weight']\n",
            "You should probably TRAIN this model on a down-stream task to be able to use it for predictions and inference.\n"
          ]
        },
        {
          "metadata": {
            "tags": null
          },
          "name": "stdout",
          "output_type": "stream",
          "text": [
            "Out-of-domain eval_loss: 0.7890215516090393\n",
            "Out-of-domain eval_accuracy: 0.5717054263565892\n",
            "Out-of-domain eval_runtime: 3.3822\n",
            "Out-of-domain eval_samples_per_second: 152.562\n",
            "Out-of-domain eval_steps_per_second: 19.218\n",
            "Out-of-domain epoch: 40.0\n"
          ]
        },
        {
          "metadata": {
            "tags": null
          },
          "name": "stderr",
          "output_type": "stream",
          "text": [
            "/usr/local/lib/python3.10/dist-packages/transformers/optimization.py:429: FutureWarning: This implementation of AdamW is deprecated and will be removed in a future version. Use the PyTorch implementation torch.optim.AdamW instead, or set `no_deprecation_warning=True` to disable this warning\n",
            "  warnings.warn(\n",
            "/usr/local/lib/python3.10/dist-packages/accelerate/accelerator.py:436: FutureWarning: Passing the following arguments to `Accelerator` is deprecated and will be removed in version 1.0 of Accelerate: dict_keys(['dispatch_batches', 'split_batches', 'even_batches', 'use_seedable_sampler']). Please pass an `accelerate.DataLoaderConfiguration` instead: \n",
            "dataloader_config = DataLoaderConfiguration(dispatch_batches=None, split_batches=False, even_batches=True, use_seedable_sampler=True)\n",
            "  warnings.warn(\n"
          ]
        },
        {
          "data": {
            "text/html": [
              "\n",
              "    <div>\n",
              "      \n",
              "      <progress value='40' max='40' style='width:300px; height:20px; vertical-align: middle;'></progress>\n",
              "      [40/40 00:04, Epoch 40/40]\n",
              "    </div>\n",
              "    <table border=\"1\" class=\"dataframe\">\n",
              "  <thead>\n",
              " <tr style=\"text-align: left;\">\n",
              "      <th>Step</th>\n",
              "      <th>Training Loss</th>\n",
              "    </tr>\n",
              "  </thead>\n",
              "  <tbody>\n",
              "  </tbody>\n",
              "</table><p>"
            ],
            "text/plain": [
              "<IPython.core.display.HTML object>"
            ]
          },
          "metadata": {},
          "output_type": "display_data"
        },
        {
          "metadata": {
            "tags": null
          },
          "name": "stdout",
          "output_type": "stream",
          "text": [
            "Evaluating in-domain performance for n=2...\n"
          ]
        },
        {
          "data": {
            "text/html": [
              "\n",
              "    <div>\n",
              "      \n",
              "      <progress value='196' max='131' style='width:300px; height:20px; vertical-align: middle;'></progress>\n",
              "      [131/131 00:10]\n",
              "    </div>\n",
              "    "
            ],
            "text/plain": [
              "<IPython.core.display.HTML object>"
            ]
          },
          "metadata": {},
          "output_type": "display_data"
        },
        {
          "metadata": {
            "tags": null
          },
          "name": "stdout",
          "output_type": "stream",
          "text": [
            "In-domain eval_loss: 0.8185608983039856\n",
            "In-domain eval_accuracy: 0.5311601150527325\n",
            "In-domain eval_runtime: 6.8178\n",
            "In-domain eval_samples_per_second: 152.981\n",
            "In-domain eval_steps_per_second: 19.214\n",
            "In-domain epoch: 40.0\n",
            "Evaluating out-of-domain performance for n=2...\n"
          ]
        },
        {
          "metadata": {
            "tags": null
          },
          "name": "stderr",
          "output_type": "stream",
          "text": [
            "Some weights of OPTForSequenceClassification were not initialized from the model checkpoint at facebook/opt-125m and are newly initialized: ['score.weight']\n",
            "You should probably TRAIN this model on a down-stream task to be able to use it for predictions and inference.\n"
          ]
        },
        {
          "metadata": {
            "tags": null
          },
          "name": "stdout",
          "output_type": "stream",
          "text": [
            "Out-of-domain eval_loss: 0.7890215516090393\n",
            "Out-of-domain eval_accuracy: 0.5717054263565892\n",
            "Out-of-domain eval_runtime: 3.4689\n",
            "Out-of-domain eval_samples_per_second: 148.749\n",
            "Out-of-domain eval_steps_per_second: 18.738\n",
            "Out-of-domain epoch: 40.0\n"
          ]
        },
        {
          "metadata": {
            "tags": null
          },
          "name": "stderr",
          "output_type": "stream",
          "text": [
            "/usr/local/lib/python3.10/dist-packages/transformers/optimization.py:429: FutureWarning: This implementation of AdamW is deprecated and will be removed in a future version. Use the PyTorch implementation torch.optim.AdamW instead, or set `no_deprecation_warning=True` to disable this warning\n",
            "  warnings.warn(\n",
            "/usr/local/lib/python3.10/dist-packages/accelerate/accelerator.py:436: FutureWarning: Passing the following arguments to `Accelerator` is deprecated and will be removed in version 1.0 of Accelerate: dict_keys(['dispatch_batches', 'split_batches', 'even_batches', 'use_seedable_sampler']). Please pass an `accelerate.DataLoaderConfiguration` instead: \n",
            "dataloader_config = DataLoaderConfiguration(dispatch_batches=None, split_batches=False, even_batches=True, use_seedable_sampler=True)\n",
            "  warnings.warn(\n"
          ]
        },
        {
          "data": {
            "text/html": [
              "\n",
              "    <div>\n",
              "      \n",
              "      <progress value='40' max='40' style='width:300px; height:20px; vertical-align: middle;'></progress>\n",
              "      [40/40 00:04, Epoch 40/40]\n",
              "    </div>\n",
              "    <table border=\"1\" class=\"dataframe\">\n",
              "  <thead>\n",
              " <tr style=\"text-align: left;\">\n",
              "      <th>Step</th>\n",
              "      <th>Training Loss</th>\n",
              "    </tr>\n",
              "  </thead>\n",
              "  <tbody>\n",
              "  </tbody>\n",
              "</table><p>"
            ],
            "text/plain": [
              "<IPython.core.display.HTML object>"
            ]
          },
          "metadata": {},
          "output_type": "display_data"
        },
        {
          "metadata": {
            "tags": null
          },
          "name": "stdout",
          "output_type": "stream",
          "text": [
            "Evaluating in-domain performance for n=2...\n"
          ]
        },
        {
          "data": {
            "text/html": [
              "\n",
              "    <div>\n",
              "      \n",
              "      <progress value='196' max='131' style='width:300px; height:20px; vertical-align: middle;'></progress>\n",
              "      [131/131 00:10]\n",
              "    </div>\n",
              "    "
            ],
            "text/plain": [
              "<IPython.core.display.HTML object>"
            ]
          },
          "metadata": {},
          "output_type": "display_data"
        },
        {
          "metadata": {
            "tags": null
          },
          "name": "stdout",
          "output_type": "stream",
          "text": [
            "In-domain eval_loss: 0.8185608983039856\n",
            "In-domain eval_accuracy: 0.5311601150527325\n",
            "In-domain eval_runtime: 6.9622\n",
            "In-domain eval_samples_per_second: 149.81\n",
            "In-domain eval_steps_per_second: 18.816\n",
            "In-domain epoch: 40.0\n",
            "Evaluating out-of-domain performance for n=2...\n"
          ]
        },
        {
          "metadata": {
            "tags": null
          },
          "name": "stderr",
          "output_type": "stream",
          "text": [
            "Some weights of OPTForSequenceClassification were not initialized from the model checkpoint at facebook/opt-125m and are newly initialized: ['score.weight']\n",
            "You should probably TRAIN this model on a down-stream task to be able to use it for predictions and inference.\n"
          ]
        },
        {
          "metadata": {
            "tags": null
          },
          "name": "stdout",
          "output_type": "stream",
          "text": [
            "Out-of-domain eval_loss: 0.7890215516090393\n",
            "Out-of-domain eval_accuracy: 0.5717054263565892\n",
            "Out-of-domain eval_runtime: 3.5104\n",
            "Out-of-domain eval_samples_per_second: 146.992\n",
            "Out-of-domain eval_steps_per_second: 18.516\n",
            "Out-of-domain epoch: 40.0\n"
          ]
        },
        {
          "metadata": {
            "tags": null
          },
          "name": "stderr",
          "output_type": "stream",
          "text": [
            "/usr/local/lib/python3.10/dist-packages/transformers/optimization.py:429: FutureWarning: This implementation of AdamW is deprecated and will be removed in a future version. Use the PyTorch implementation torch.optim.AdamW instead, or set `no_deprecation_warning=True` to disable this warning\n",
            "  warnings.warn(\n",
            "/usr/local/lib/python3.10/dist-packages/accelerate/accelerator.py:436: FutureWarning: Passing the following arguments to `Accelerator` is deprecated and will be removed in version 1.0 of Accelerate: dict_keys(['dispatch_batches', 'split_batches', 'even_batches', 'use_seedable_sampler']). Please pass an `accelerate.DataLoaderConfiguration` instead: \n",
            "dataloader_config = DataLoaderConfiguration(dispatch_batches=None, split_batches=False, even_batches=True, use_seedable_sampler=True)\n",
            "  warnings.warn(\n"
          ]
        },
        {
          "data": {
            "text/html": [
              "\n",
              "    <div>\n",
              "      \n",
              "      <progress value='40' max='40' style='width:300px; height:20px; vertical-align: middle;'></progress>\n",
              "      [40/40 00:04, Epoch 40/40]\n",
              "    </div>\n",
              "    <table border=\"1\" class=\"dataframe\">\n",
              "  <thead>\n",
              " <tr style=\"text-align: left;\">\n",
              "      <th>Step</th>\n",
              "      <th>Training Loss</th>\n",
              "    </tr>\n",
              "  </thead>\n",
              "  <tbody>\n",
              "  </tbody>\n",
              "</table><p>"
            ],
            "text/plain": [
              "<IPython.core.display.HTML object>"
            ]
          },
          "metadata": {},
          "output_type": "display_data"
        },
        {
          "metadata": {
            "tags": null
          },
          "name": "stdout",
          "output_type": "stream",
          "text": [
            "Evaluating in-domain performance for n=2...\n"
          ]
        },
        {
          "data": {
            "text/html": [
              "\n",
              "    <div>\n",
              "      \n",
              "      <progress value='196' max='131' style='width:300px; height:20px; vertical-align: middle;'></progress>\n",
              "      [131/131 00:10]\n",
              "    </div>\n",
              "    "
            ],
            "text/plain": [
              "<IPython.core.display.HTML object>"
            ]
          },
          "metadata": {},
          "output_type": "display_data"
        },
        {
          "metadata": {
            "tags": null
          },
          "name": "stdout",
          "output_type": "stream",
          "text": [
            "In-domain eval_loss: 0.8185608983039856\n",
            "In-domain eval_accuracy: 0.5311601150527325\n",
            "In-domain eval_runtime: 7.0799\n",
            "In-domain eval_samples_per_second: 147.319\n",
            "In-domain eval_steps_per_second: 18.503\n",
            "In-domain epoch: 40.0\n",
            "Evaluating out-of-domain performance for n=2...\n"
          ]
        },
        {
          "metadata": {
            "tags": null
          },
          "name": "stderr",
          "output_type": "stream",
          "text": [
            "Some weights of OPTForSequenceClassification were not initialized from the model checkpoint at facebook/opt-125m and are newly initialized: ['score.weight']\n",
            "You should probably TRAIN this model on a down-stream task to be able to use it for predictions and inference.\n"
          ]
        },
        {
          "metadata": {
            "tags": null
          },
          "name": "stdout",
          "output_type": "stream",
          "text": [
            "Out-of-domain eval_loss: 0.7890215516090393\n",
            "Out-of-domain eval_accuracy: 0.5717054263565892\n",
            "Out-of-domain eval_runtime: 3.5697\n",
            "Out-of-domain eval_samples_per_second: 144.548\n",
            "Out-of-domain eval_steps_per_second: 18.209\n",
            "Out-of-domain epoch: 40.0\n"
          ]
        },
        {
          "metadata": {
            "tags": null
          },
          "name": "stderr",
          "output_type": "stream",
          "text": [
            "/usr/local/lib/python3.10/dist-packages/transformers/optimization.py:429: FutureWarning: This implementation of AdamW is deprecated and will be removed in a future version. Use the PyTorch implementation torch.optim.AdamW instead, or set `no_deprecation_warning=True` to disable this warning\n",
            "  warnings.warn(\n",
            "/usr/local/lib/python3.10/dist-packages/accelerate/accelerator.py:436: FutureWarning: Passing the following arguments to `Accelerator` is deprecated and will be removed in version 1.0 of Accelerate: dict_keys(['dispatch_batches', 'split_batches', 'even_batches', 'use_seedable_sampler']). Please pass an `accelerate.DataLoaderConfiguration` instead: \n",
            "dataloader_config = DataLoaderConfiguration(dispatch_batches=None, split_batches=False, even_batches=True, use_seedable_sampler=True)\n",
            "  warnings.warn(\n"
          ]
        },
        {
          "data": {
            "text/html": [
              "\n",
              "    <div>\n",
              "      \n",
              "      <progress value='40' max='40' style='width:300px; height:20px; vertical-align: middle;'></progress>\n",
              "      [40/40 00:04, Epoch 40/40]\n",
              "    </div>\n",
              "    <table border=\"1\" class=\"dataframe\">\n",
              "  <thead>\n",
              " <tr style=\"text-align: left;\">\n",
              "      <th>Step</th>\n",
              "      <th>Training Loss</th>\n",
              "    </tr>\n",
              "  </thead>\n",
              "  <tbody>\n",
              "  </tbody>\n",
              "</table><p>"
            ],
            "text/plain": [
              "<IPython.core.display.HTML object>"
            ]
          },
          "metadata": {},
          "output_type": "display_data"
        },
        {
          "metadata": {
            "tags": null
          },
          "name": "stdout",
          "output_type": "stream",
          "text": [
            "Evaluating in-domain performance for n=2...\n"
          ]
        },
        {
          "data": {
            "text/html": [
              "\n",
              "    <div>\n",
              "      \n",
              "      <progress value='196' max='131' style='width:300px; height:20px; vertical-align: middle;'></progress>\n",
              "      [131/131 00:10]\n",
              "    </div>\n",
              "    "
            ],
            "text/plain": [
              "<IPython.core.display.HTML object>"
            ]
          },
          "metadata": {},
          "output_type": "display_data"
        },
        {
          "metadata": {
            "tags": null
          },
          "name": "stdout",
          "output_type": "stream",
          "text": [
            "In-domain eval_loss: 0.8185608983039856\n",
            "In-domain eval_accuracy: 0.5311601150527325\n",
            "In-domain eval_runtime: 7.2159\n",
            "In-domain eval_samples_per_second: 144.542\n",
            "In-domain eval_steps_per_second: 18.154\n",
            "In-domain epoch: 40.0\n",
            "Evaluating out-of-domain performance for n=2...\n"
          ]
        },
        {
          "metadata": {
            "tags": null
          },
          "name": "stderr",
          "output_type": "stream",
          "text": [
            "Some weights of OPTForSequenceClassification were not initialized from the model checkpoint at facebook/opt-125m and are newly initialized: ['score.weight']\n",
            "You should probably TRAIN this model on a down-stream task to be able to use it for predictions and inference.\n"
          ]
        },
        {
          "metadata": {
            "tags": null
          },
          "name": "stdout",
          "output_type": "stream",
          "text": [
            "Out-of-domain eval_loss: 0.7890215516090393\n",
            "Out-of-domain eval_accuracy: 0.5717054263565892\n",
            "Out-of-domain eval_runtime: 3.6601\n",
            "Out-of-domain eval_samples_per_second: 140.979\n",
            "Out-of-domain eval_steps_per_second: 17.759\n",
            "Out-of-domain epoch: 40.0\n"
          ]
        },
        {
          "metadata": {
            "tags": null
          },
          "name": "stderr",
          "output_type": "stream",
          "text": [
            "/usr/local/lib/python3.10/dist-packages/transformers/optimization.py:429: FutureWarning: This implementation of AdamW is deprecated and will be removed in a future version. Use the PyTorch implementation torch.optim.AdamW instead, or set `no_deprecation_warning=True` to disable this warning\n",
            "  warnings.warn(\n",
            "/usr/local/lib/python3.10/dist-packages/accelerate/accelerator.py:436: FutureWarning: Passing the following arguments to `Accelerator` is deprecated and will be removed in version 1.0 of Accelerate: dict_keys(['dispatch_batches', 'split_batches', 'even_batches', 'use_seedable_sampler']). Please pass an `accelerate.DataLoaderConfiguration` instead: \n",
            "dataloader_config = DataLoaderConfiguration(dispatch_batches=None, split_batches=False, even_batches=True, use_seedable_sampler=True)\n",
            "  warnings.warn(\n"
          ]
        },
        {
          "data": {
            "text/html": [
              "\n",
              "    <div>\n",
              "      \n",
              "      <progress value='40' max='40' style='width:300px; height:20px; vertical-align: middle;'></progress>\n",
              "      [40/40 00:04, Epoch 40/40]\n",
              "    </div>\n",
              "    <table border=\"1\" class=\"dataframe\">\n",
              "  <thead>\n",
              " <tr style=\"text-align: left;\">\n",
              "      <th>Step</th>\n",
              "      <th>Training Loss</th>\n",
              "    </tr>\n",
              "  </thead>\n",
              "  <tbody>\n",
              "  </tbody>\n",
              "</table><p>"
            ],
            "text/plain": [
              "<IPython.core.display.HTML object>"
            ]
          },
          "metadata": {},
          "output_type": "display_data"
        },
        {
          "metadata": {
            "tags": null
          },
          "name": "stdout",
          "output_type": "stream",
          "text": [
            "Evaluating in-domain performance for n=2...\n"
          ]
        },
        {
          "data": {
            "text/html": [
              "\n",
              "    <div>\n",
              "      \n",
              "      <progress value='196' max='131' style='width:300px; height:20px; vertical-align: middle;'></progress>\n",
              "      [131/131 00:10]\n",
              "    </div>\n",
              "    "
            ],
            "text/plain": [
              "<IPython.core.display.HTML object>"
            ]
          },
          "metadata": {},
          "output_type": "display_data"
        },
        {
          "metadata": {
            "tags": null
          },
          "name": "stdout",
          "output_type": "stream",
          "text": [
            "In-domain eval_loss: 0.8185608983039856\n",
            "In-domain eval_accuracy: 0.5311601150527325\n",
            "In-domain eval_runtime: 7.2197\n",
            "In-domain eval_samples_per_second: 144.466\n",
            "In-domain eval_steps_per_second: 18.145\n",
            "In-domain epoch: 40.0\n",
            "Evaluating out-of-domain performance for n=2...\n"
          ]
        },
        {
          "metadata": {
            "tags": null
          },
          "name": "stderr",
          "output_type": "stream",
          "text": [
            "Some weights of OPTForSequenceClassification were not initialized from the model checkpoint at facebook/opt-125m and are newly initialized: ['score.weight']\n",
            "You should probably TRAIN this model on a down-stream task to be able to use it for predictions and inference.\n"
          ]
        },
        {
          "metadata": {
            "tags": null
          },
          "name": "stdout",
          "output_type": "stream",
          "text": [
            "Out-of-domain eval_loss: 0.7890215516090393\n",
            "Out-of-domain eval_accuracy: 0.5717054263565892\n",
            "Out-of-domain eval_runtime: 3.6133\n",
            "Out-of-domain eval_samples_per_second: 142.806\n",
            "Out-of-domain eval_steps_per_second: 17.989\n",
            "Out-of-domain epoch: 40.0\n"
          ]
        },
        {
          "metadata": {
            "tags": null
          },
          "name": "stderr",
          "output_type": "stream",
          "text": [
            "/usr/local/lib/python3.10/dist-packages/transformers/optimization.py:429: FutureWarning: This implementation of AdamW is deprecated and will be removed in a future version. Use the PyTorch implementation torch.optim.AdamW instead, or set `no_deprecation_warning=True` to disable this warning\n",
            "  warnings.warn(\n",
            "/usr/local/lib/python3.10/dist-packages/accelerate/accelerator.py:436: FutureWarning: Passing the following arguments to `Accelerator` is deprecated and will be removed in version 1.0 of Accelerate: dict_keys(['dispatch_batches', 'split_batches', 'even_batches', 'use_seedable_sampler']). Please pass an `accelerate.DataLoaderConfiguration` instead: \n",
            "dataloader_config = DataLoaderConfiguration(dispatch_batches=None, split_batches=False, even_batches=True, use_seedable_sampler=True)\n",
            "  warnings.warn(\n"
          ]
        },
        {
          "data": {
            "text/html": [
              "\n",
              "    <div>\n",
              "      \n",
              "      <progress value='40' max='40' style='width:300px; height:20px; vertical-align: middle;'></progress>\n",
              "      [40/40 00:24, Epoch 40/40]\n",
              "    </div>\n",
              "    <table border=\"1\" class=\"dataframe\">\n",
              "  <thead>\n",
              " <tr style=\"text-align: left;\">\n",
              "      <th>Step</th>\n",
              "      <th>Training Loss</th>\n",
              "    </tr>\n",
              "  </thead>\n",
              "  <tbody>\n",
              "  </tbody>\n",
              "</table><p>"
            ],
            "text/plain": [
              "<IPython.core.display.HTML object>"
            ]
          },
          "metadata": {},
          "output_type": "display_data"
        },
        {
          "metadata": {
            "tags": null
          },
          "name": "stdout",
          "output_type": "stream",
          "text": [
            "Evaluating in-domain performance for n=16...\n"
          ]
        },
        {
          "data": {
            "text/html": [
              "\n",
              "    <div>\n",
              "      \n",
              "      <progress value='196' max='131' style='width:300px; height:20px; vertical-align: middle;'></progress>\n",
              "      [131/131 00:10]\n",
              "    </div>\n",
              "    "
            ],
            "text/plain": [
              "<IPython.core.display.HTML object>"
            ]
          },
          "metadata": {},
          "output_type": "display_data"
        },
        {
          "metadata": {
            "tags": null
          },
          "name": "stdout",
          "output_type": "stream",
          "text": [
            "In-domain eval_loss: 0.9753984212875366\n",
            "In-domain eval_accuracy: 0.4947267497603068\n",
            "In-domain eval_runtime: 7.0915\n",
            "In-domain eval_samples_per_second: 147.078\n",
            "In-domain eval_steps_per_second: 18.473\n",
            "In-domain epoch: 40.0\n",
            "Evaluating out-of-domain performance for n=16...\n"
          ]
        },
        {
          "metadata": {
            "tags": null
          },
          "name": "stderr",
          "output_type": "stream",
          "text": [
            "Some weights of OPTForSequenceClassification were not initialized from the model checkpoint at facebook/opt-125m and are newly initialized: ['score.weight']\n",
            "You should probably TRAIN this model on a down-stream task to be able to use it for predictions and inference.\n"
          ]
        },
        {
          "metadata": {
            "tags": null
          },
          "name": "stdout",
          "output_type": "stream",
          "text": [
            "Out-of-domain eval_loss: 0.9640471935272217\n",
            "Out-of-domain eval_accuracy: 0.5058139534883721\n",
            "Out-of-domain eval_runtime: 3.5645\n",
            "Out-of-domain eval_samples_per_second: 144.761\n",
            "Out-of-domain eval_steps_per_second: 18.235\n",
            "Out-of-domain epoch: 40.0\n"
          ]
        },
        {
          "metadata": {
            "tags": null
          },
          "name": "stderr",
          "output_type": "stream",
          "text": [
            "/usr/local/lib/python3.10/dist-packages/transformers/optimization.py:429: FutureWarning: This implementation of AdamW is deprecated and will be removed in a future version. Use the PyTorch implementation torch.optim.AdamW instead, or set `no_deprecation_warning=True` to disable this warning\n",
            "  warnings.warn(\n",
            "/usr/local/lib/python3.10/dist-packages/accelerate/accelerator.py:436: FutureWarning: Passing the following arguments to `Accelerator` is deprecated and will be removed in version 1.0 of Accelerate: dict_keys(['dispatch_batches', 'split_batches', 'even_batches', 'use_seedable_sampler']). Please pass an `accelerate.DataLoaderConfiguration` instead: \n",
            "dataloader_config = DataLoaderConfiguration(dispatch_batches=None, split_batches=False, even_batches=True, use_seedable_sampler=True)\n",
            "  warnings.warn(\n"
          ]
        },
        {
          "data": {
            "text/html": [
              "\n",
              "    <div>\n",
              "      \n",
              "      <progress value='40' max='40' style='width:300px; height:20px; vertical-align: middle;'></progress>\n",
              "      [40/40 00:24, Epoch 40/40]\n",
              "    </div>\n",
              "    <table border=\"1\" class=\"dataframe\">\n",
              "  <thead>\n",
              " <tr style=\"text-align: left;\">\n",
              "      <th>Step</th>\n",
              "      <th>Training Loss</th>\n",
              "    </tr>\n",
              "  </thead>\n",
              "  <tbody>\n",
              "  </tbody>\n",
              "</table><p>"
            ],
            "text/plain": [
              "<IPython.core.display.HTML object>"
            ]
          },
          "metadata": {},
          "output_type": "display_data"
        },
        {
          "metadata": {
            "tags": null
          },
          "name": "stdout",
          "output_type": "stream",
          "text": [
            "Evaluating in-domain performance for n=16...\n"
          ]
        },
        {
          "data": {
            "text/html": [
              "\n",
              "    <div>\n",
              "      \n",
              "      <progress value='196' max='131' style='width:300px; height:20px; vertical-align: middle;'></progress>\n",
              "      [131/131 00:10]\n",
              "    </div>\n",
              "    "
            ],
            "text/plain": [
              "<IPython.core.display.HTML object>"
            ]
          },
          "metadata": {},
          "output_type": "display_data"
        },
        {
          "metadata": {
            "tags": null
          },
          "name": "stdout",
          "output_type": "stream",
          "text": [
            "In-domain eval_loss: 0.9753984212875366\n",
            "In-domain eval_accuracy: 0.4947267497603068\n",
            "In-domain eval_runtime: 7.1781\n",
            "In-domain eval_samples_per_second: 145.303\n",
            "In-domain eval_steps_per_second: 18.25\n",
            "In-domain epoch: 40.0\n",
            "Evaluating out-of-domain performance for n=16...\n"
          ]
        },
        {
          "metadata": {
            "tags": null
          },
          "name": "stderr",
          "output_type": "stream",
          "text": [
            "Some weights of OPTForSequenceClassification were not initialized from the model checkpoint at facebook/opt-125m and are newly initialized: ['score.weight']\n",
            "You should probably TRAIN this model on a down-stream task to be able to use it for predictions and inference.\n"
          ]
        },
        {
          "metadata": {
            "tags": null
          },
          "name": "stdout",
          "output_type": "stream",
          "text": [
            "Out-of-domain eval_loss: 0.9640471935272217\n",
            "Out-of-domain eval_accuracy: 0.5058139534883721\n",
            "Out-of-domain eval_runtime: 3.5947\n",
            "Out-of-domain eval_samples_per_second: 143.545\n",
            "Out-of-domain eval_steps_per_second: 18.082\n",
            "Out-of-domain epoch: 40.0\n"
          ]
        },
        {
          "metadata": {
            "tags": null
          },
          "name": "stderr",
          "output_type": "stream",
          "text": [
            "/usr/local/lib/python3.10/dist-packages/transformers/optimization.py:429: FutureWarning: This implementation of AdamW is deprecated and will be removed in a future version. Use the PyTorch implementation torch.optim.AdamW instead, or set `no_deprecation_warning=True` to disable this warning\n",
            "  warnings.warn(\n",
            "/usr/local/lib/python3.10/dist-packages/accelerate/accelerator.py:436: FutureWarning: Passing the following arguments to `Accelerator` is deprecated and will be removed in version 1.0 of Accelerate: dict_keys(['dispatch_batches', 'split_batches', 'even_batches', 'use_seedable_sampler']). Please pass an `accelerate.DataLoaderConfiguration` instead: \n",
            "dataloader_config = DataLoaderConfiguration(dispatch_batches=None, split_batches=False, even_batches=True, use_seedable_sampler=True)\n",
            "  warnings.warn(\n"
          ]
        },
        {
          "data": {
            "text/html": [
              "\n",
              "    <div>\n",
              "      \n",
              "      <progress value='40' max='40' style='width:300px; height:20px; vertical-align: middle;'></progress>\n",
              "      [40/40 00:24, Epoch 40/40]\n",
              "    </div>\n",
              "    <table border=\"1\" class=\"dataframe\">\n",
              "  <thead>\n",
              " <tr style=\"text-align: left;\">\n",
              "      <th>Step</th>\n",
              "      <th>Training Loss</th>\n",
              "    </tr>\n",
              "  </thead>\n",
              "  <tbody>\n",
              "  </tbody>\n",
              "</table><p>"
            ],
            "text/plain": [
              "<IPython.core.display.HTML object>"
            ]
          },
          "metadata": {},
          "output_type": "display_data"
        },
        {
          "metadata": {
            "tags": null
          },
          "name": "stdout",
          "output_type": "stream",
          "text": [
            "Evaluating in-domain performance for n=16...\n"
          ]
        },
        {
          "data": {
            "text/html": [
              "\n",
              "    <div>\n",
              "      \n",
              "      <progress value='196' max='131' style='width:300px; height:20px; vertical-align: middle;'></progress>\n",
              "      [131/131 00:10]\n",
              "    </div>\n",
              "    "
            ],
            "text/plain": [
              "<IPython.core.display.HTML object>"
            ]
          },
          "metadata": {},
          "output_type": "display_data"
        },
        {
          "metadata": {
            "tags": null
          },
          "name": "stdout",
          "output_type": "stream",
          "text": [
            "In-domain eval_loss: 0.9753984212875366\n",
            "In-domain eval_accuracy: 0.4947267497603068\n",
            "In-domain eval_runtime: 7.1332\n",
            "In-domain eval_samples_per_second: 146.217\n",
            "In-domain eval_steps_per_second: 18.365\n",
            "In-domain epoch: 40.0\n",
            "Evaluating out-of-domain performance for n=16...\n"
          ]
        },
        {
          "metadata": {
            "tags": null
          },
          "name": "stderr",
          "output_type": "stream",
          "text": [
            "Some weights of OPTForSequenceClassification were not initialized from the model checkpoint at facebook/opt-125m and are newly initialized: ['score.weight']\n",
            "You should probably TRAIN this model on a down-stream task to be able to use it for predictions and inference.\n"
          ]
        },
        {
          "metadata": {
            "tags": null
          },
          "name": "stdout",
          "output_type": "stream",
          "text": [
            "Out-of-domain eval_loss: 0.9640471935272217\n",
            "Out-of-domain eval_accuracy: 0.5058139534883721\n",
            "Out-of-domain eval_runtime: 3.5743\n",
            "Out-of-domain eval_samples_per_second: 144.365\n",
            "Out-of-domain eval_steps_per_second: 18.186\n",
            "Out-of-domain epoch: 40.0\n"
          ]
        },
        {
          "metadata": {
            "tags": null
          },
          "name": "stderr",
          "output_type": "stream",
          "text": [
            "/usr/local/lib/python3.10/dist-packages/transformers/optimization.py:429: FutureWarning: This implementation of AdamW is deprecated and will be removed in a future version. Use the PyTorch implementation torch.optim.AdamW instead, or set `no_deprecation_warning=True` to disable this warning\n",
            "  warnings.warn(\n",
            "/usr/local/lib/python3.10/dist-packages/accelerate/accelerator.py:436: FutureWarning: Passing the following arguments to `Accelerator` is deprecated and will be removed in version 1.0 of Accelerate: dict_keys(['dispatch_batches', 'split_batches', 'even_batches', 'use_seedable_sampler']). Please pass an `accelerate.DataLoaderConfiguration` instead: \n",
            "dataloader_config = DataLoaderConfiguration(dispatch_batches=None, split_batches=False, even_batches=True, use_seedable_sampler=True)\n",
            "  warnings.warn(\n"
          ]
        },
        {
          "data": {
            "text/html": [
              "\n",
              "    <div>\n",
              "      \n",
              "      <progress value='40' max='40' style='width:300px; height:20px; vertical-align: middle;'></progress>\n",
              "      [40/40 00:24, Epoch 40/40]\n",
              "    </div>\n",
              "    <table border=\"1\" class=\"dataframe\">\n",
              "  <thead>\n",
              " <tr style=\"text-align: left;\">\n",
              "      <th>Step</th>\n",
              "      <th>Training Loss</th>\n",
              "    </tr>\n",
              "  </thead>\n",
              "  <tbody>\n",
              "  </tbody>\n",
              "</table><p>"
            ],
            "text/plain": [
              "<IPython.core.display.HTML object>"
            ]
          },
          "metadata": {},
          "output_type": "display_data"
        },
        {
          "metadata": {
            "tags": null
          },
          "name": "stdout",
          "output_type": "stream",
          "text": [
            "Evaluating in-domain performance for n=16...\n"
          ]
        },
        {
          "data": {
            "text/html": [
              "\n",
              "    <div>\n",
              "      \n",
              "      <progress value='196' max='131' style='width:300px; height:20px; vertical-align: middle;'></progress>\n",
              "      [131/131 00:10]\n",
              "    </div>\n",
              "    "
            ],
            "text/plain": [
              "<IPython.core.display.HTML object>"
            ]
          },
          "metadata": {},
          "output_type": "display_data"
        },
        {
          "metadata": {
            "tags": null
          },
          "name": "stdout",
          "output_type": "stream",
          "text": [
            "In-domain eval_loss: 0.9753984212875366\n",
            "In-domain eval_accuracy: 0.4947267497603068\n",
            "In-domain eval_runtime: 7.1531\n",
            "In-domain eval_samples_per_second: 145.812\n",
            "In-domain eval_steps_per_second: 18.314\n",
            "In-domain epoch: 40.0\n",
            "Evaluating out-of-domain performance for n=16...\n"
          ]
        },
        {
          "metadata": {
            "tags": null
          },
          "name": "stderr",
          "output_type": "stream",
          "text": [
            "Some weights of OPTForSequenceClassification were not initialized from the model checkpoint at facebook/opt-125m and are newly initialized: ['score.weight']\n",
            "You should probably TRAIN this model on a down-stream task to be able to use it for predictions and inference.\n"
          ]
        },
        {
          "metadata": {
            "tags": null
          },
          "name": "stdout",
          "output_type": "stream",
          "text": [
            "Out-of-domain eval_loss: 0.9640471935272217\n",
            "Out-of-domain eval_accuracy: 0.5058139534883721\n",
            "Out-of-domain eval_runtime: 3.5891\n",
            "Out-of-domain eval_samples_per_second: 143.767\n",
            "Out-of-domain eval_steps_per_second: 18.11\n",
            "Out-of-domain epoch: 40.0\n"
          ]
        },
        {
          "metadata": {
            "tags": null
          },
          "name": "stderr",
          "output_type": "stream",
          "text": [
            "/usr/local/lib/python3.10/dist-packages/transformers/optimization.py:429: FutureWarning: This implementation of AdamW is deprecated and will be removed in a future version. Use the PyTorch implementation torch.optim.AdamW instead, or set `no_deprecation_warning=True` to disable this warning\n",
            "  warnings.warn(\n",
            "/usr/local/lib/python3.10/dist-packages/accelerate/accelerator.py:436: FutureWarning: Passing the following arguments to `Accelerator` is deprecated and will be removed in version 1.0 of Accelerate: dict_keys(['dispatch_batches', 'split_batches', 'even_batches', 'use_seedable_sampler']). Please pass an `accelerate.DataLoaderConfiguration` instead: \n",
            "dataloader_config = DataLoaderConfiguration(dispatch_batches=None, split_batches=False, even_batches=True, use_seedable_sampler=True)\n",
            "  warnings.warn(\n"
          ]
        },
        {
          "data": {
            "text/html": [
              "\n",
              "    <div>\n",
              "      \n",
              "      <progress value='40' max='40' style='width:300px; height:20px; vertical-align: middle;'></progress>\n",
              "      [40/40 00:24, Epoch 40/40]\n",
              "    </div>\n",
              "    <table border=\"1\" class=\"dataframe\">\n",
              "  <thead>\n",
              " <tr style=\"text-align: left;\">\n",
              "      <th>Step</th>\n",
              "      <th>Training Loss</th>\n",
              "    </tr>\n",
              "  </thead>\n",
              "  <tbody>\n",
              "  </tbody>\n",
              "</table><p>"
            ],
            "text/plain": [
              "<IPython.core.display.HTML object>"
            ]
          },
          "metadata": {},
          "output_type": "display_data"
        },
        {
          "metadata": {
            "tags": null
          },
          "name": "stdout",
          "output_type": "stream",
          "text": [
            "Evaluating in-domain performance for n=16...\n"
          ]
        },
        {
          "data": {
            "text/html": [
              "\n",
              "    <div>\n",
              "      \n",
              "      <progress value='196' max='131' style='width:300px; height:20px; vertical-align: middle;'></progress>\n",
              "      [131/131 00:10]\n",
              "    </div>\n",
              "    "
            ],
            "text/plain": [
              "<IPython.core.display.HTML object>"
            ]
          },
          "metadata": {},
          "output_type": "display_data"
        },
        {
          "metadata": {
            "tags": null
          },
          "name": "stdout",
          "output_type": "stream",
          "text": [
            "In-domain eval_loss: 0.9753984212875366\n",
            "In-domain eval_accuracy: 0.4947267497603068\n",
            "In-domain eval_runtime: 7.1232\n",
            "In-domain eval_samples_per_second: 146.423\n",
            "In-domain eval_steps_per_second: 18.391\n",
            "In-domain epoch: 40.0\n",
            "Evaluating out-of-domain performance for n=16...\n"
          ]
        },
        {
          "metadata": {
            "tags": null
          },
          "name": "stderr",
          "output_type": "stream",
          "text": [
            "Some weights of OPTForSequenceClassification were not initialized from the model checkpoint at facebook/opt-125m and are newly initialized: ['score.weight']\n",
            "You should probably TRAIN this model on a down-stream task to be able to use it for predictions and inference.\n"
          ]
        },
        {
          "metadata": {
            "tags": null
          },
          "name": "stdout",
          "output_type": "stream",
          "text": [
            "Out-of-domain eval_loss: 0.9640471935272217\n",
            "Out-of-domain eval_accuracy: 0.5058139534883721\n",
            "Out-of-domain eval_runtime: 3.576\n",
            "Out-of-domain eval_samples_per_second: 144.294\n",
            "Out-of-domain eval_steps_per_second: 18.177\n",
            "Out-of-domain epoch: 40.0\n"
          ]
        },
        {
          "metadata": {
            "tags": null
          },
          "name": "stderr",
          "output_type": "stream",
          "text": [
            "/usr/local/lib/python3.10/dist-packages/transformers/optimization.py:429: FutureWarning: This implementation of AdamW is deprecated and will be removed in a future version. Use the PyTorch implementation torch.optim.AdamW instead, or set `no_deprecation_warning=True` to disable this warning\n",
            "  warnings.warn(\n",
            "/usr/local/lib/python3.10/dist-packages/accelerate/accelerator.py:436: FutureWarning: Passing the following arguments to `Accelerator` is deprecated and will be removed in version 1.0 of Accelerate: dict_keys(['dispatch_batches', 'split_batches', 'even_batches', 'use_seedable_sampler']). Please pass an `accelerate.DataLoaderConfiguration` instead: \n",
            "dataloader_config = DataLoaderConfiguration(dispatch_batches=None, split_batches=False, even_batches=True, use_seedable_sampler=True)\n",
            "  warnings.warn(\n"
          ]
        },
        {
          "data": {
            "text/html": [
              "\n",
              "    <div>\n",
              "      \n",
              "      <progress value='40' max='40' style='width:300px; height:20px; vertical-align: middle;'></progress>\n",
              "      [40/40 00:24, Epoch 40/40]\n",
              "    </div>\n",
              "    <table border=\"1\" class=\"dataframe\">\n",
              "  <thead>\n",
              " <tr style=\"text-align: left;\">\n",
              "      <th>Step</th>\n",
              "      <th>Training Loss</th>\n",
              "    </tr>\n",
              "  </thead>\n",
              "  <tbody>\n",
              "  </tbody>\n",
              "</table><p>"
            ],
            "text/plain": [
              "<IPython.core.display.HTML object>"
            ]
          },
          "metadata": {},
          "output_type": "display_data"
        },
        {
          "metadata": {
            "tags": null
          },
          "name": "stdout",
          "output_type": "stream",
          "text": [
            "Evaluating in-domain performance for n=16...\n"
          ]
        },
        {
          "data": {
            "text/html": [
              "\n",
              "    <div>\n",
              "      \n",
              "      <progress value='196' max='131' style='width:300px; height:20px; vertical-align: middle;'></progress>\n",
              "      [131/131 00:10]\n",
              "    </div>\n",
              "    "
            ],
            "text/plain": [
              "<IPython.core.display.HTML object>"
            ]
          },
          "metadata": {},
          "output_type": "display_data"
        },
        {
          "metadata": {
            "tags": null
          },
          "name": "stdout",
          "output_type": "stream",
          "text": [
            "In-domain eval_loss: 0.9753984212875366\n",
            "In-domain eval_accuracy: 0.4947267497603068\n",
            "In-domain eval_runtime: 7.1391\n",
            "In-domain eval_samples_per_second: 146.097\n",
            "In-domain eval_steps_per_second: 18.35\n",
            "In-domain epoch: 40.0\n",
            "Evaluating out-of-domain performance for n=16...\n"
          ]
        },
        {
          "metadata": {
            "tags": null
          },
          "name": "stderr",
          "output_type": "stream",
          "text": [
            "Some weights of OPTForSequenceClassification were not initialized from the model checkpoint at facebook/opt-125m and are newly initialized: ['score.weight']\n",
            "You should probably TRAIN this model on a down-stream task to be able to use it for predictions and inference.\n"
          ]
        },
        {
          "metadata": {
            "tags": null
          },
          "name": "stdout",
          "output_type": "stream",
          "text": [
            "Out-of-domain eval_loss: 0.9640471935272217\n",
            "Out-of-domain eval_accuracy: 0.5058139534883721\n",
            "Out-of-domain eval_runtime: 3.5947\n",
            "Out-of-domain eval_samples_per_second: 143.545\n",
            "Out-of-domain eval_steps_per_second: 18.082\n",
            "Out-of-domain epoch: 40.0\n"
          ]
        },
        {
          "metadata": {
            "tags": null
          },
          "name": "stderr",
          "output_type": "stream",
          "text": [
            "/usr/local/lib/python3.10/dist-packages/transformers/optimization.py:429: FutureWarning: This implementation of AdamW is deprecated and will be removed in a future version. Use the PyTorch implementation torch.optim.AdamW instead, or set `no_deprecation_warning=True` to disable this warning\n",
            "  warnings.warn(\n",
            "/usr/local/lib/python3.10/dist-packages/accelerate/accelerator.py:436: FutureWarning: Passing the following arguments to `Accelerator` is deprecated and will be removed in version 1.0 of Accelerate: dict_keys(['dispatch_batches', 'split_batches', 'even_batches', 'use_seedable_sampler']). Please pass an `accelerate.DataLoaderConfiguration` instead: \n",
            "dataloader_config = DataLoaderConfiguration(dispatch_batches=None, split_batches=False, even_batches=True, use_seedable_sampler=True)\n",
            "  warnings.warn(\n"
          ]
        },
        {
          "data": {
            "text/html": [
              "\n",
              "    <div>\n",
              "      \n",
              "      <progress value='40' max='40' style='width:300px; height:20px; vertical-align: middle;'></progress>\n",
              "      [40/40 00:24, Epoch 40/40]\n",
              "    </div>\n",
              "    <table border=\"1\" class=\"dataframe\">\n",
              "  <thead>\n",
              " <tr style=\"text-align: left;\">\n",
              "      <th>Step</th>\n",
              "      <th>Training Loss</th>\n",
              "    </tr>\n",
              "  </thead>\n",
              "  <tbody>\n",
              "  </tbody>\n",
              "</table><p>"
            ],
            "text/plain": [
              "<IPython.core.display.HTML object>"
            ]
          },
          "metadata": {},
          "output_type": "display_data"
        },
        {
          "metadata": {
            "tags": null
          },
          "name": "stdout",
          "output_type": "stream",
          "text": [
            "Evaluating in-domain performance for n=16...\n"
          ]
        },
        {
          "data": {
            "text/html": [
              "\n",
              "    <div>\n",
              "      \n",
              "      <progress value='196' max='131' style='width:300px; height:20px; vertical-align: middle;'></progress>\n",
              "      [131/131 00:10]\n",
              "    </div>\n",
              "    "
            ],
            "text/plain": [
              "<IPython.core.display.HTML object>"
            ]
          },
          "metadata": {},
          "output_type": "display_data"
        },
        {
          "metadata": {
            "tags": null
          },
          "name": "stdout",
          "output_type": "stream",
          "text": [
            "In-domain eval_loss: 0.9753984212875366\n",
            "In-domain eval_accuracy: 0.4947267497603068\n",
            "In-domain eval_runtime: 7.1407\n",
            "In-domain eval_samples_per_second: 146.064\n",
            "In-domain eval_steps_per_second: 18.345\n",
            "In-domain epoch: 40.0\n",
            "Evaluating out-of-domain performance for n=16...\n"
          ]
        },
        {
          "metadata": {
            "tags": null
          },
          "name": "stderr",
          "output_type": "stream",
          "text": [
            "Some weights of OPTForSequenceClassification were not initialized from the model checkpoint at facebook/opt-125m and are newly initialized: ['score.weight']\n",
            "You should probably TRAIN this model on a down-stream task to be able to use it for predictions and inference.\n"
          ]
        },
        {
          "metadata": {
            "tags": null
          },
          "name": "stdout",
          "output_type": "stream",
          "text": [
            "Out-of-domain eval_loss: 0.9640471935272217\n",
            "Out-of-domain eval_accuracy: 0.5058139534883721\n",
            "Out-of-domain eval_runtime: 3.5905\n",
            "Out-of-domain eval_samples_per_second: 143.712\n",
            "Out-of-domain eval_steps_per_second: 18.103\n",
            "Out-of-domain epoch: 40.0\n"
          ]
        },
        {
          "metadata": {
            "tags": null
          },
          "name": "stderr",
          "output_type": "stream",
          "text": [
            "/usr/local/lib/python3.10/dist-packages/transformers/optimization.py:429: FutureWarning: This implementation of AdamW is deprecated and will be removed in a future version. Use the PyTorch implementation torch.optim.AdamW instead, or set `no_deprecation_warning=True` to disable this warning\n",
            "  warnings.warn(\n",
            "/usr/local/lib/python3.10/dist-packages/accelerate/accelerator.py:436: FutureWarning: Passing the following arguments to `Accelerator` is deprecated and will be removed in version 1.0 of Accelerate: dict_keys(['dispatch_batches', 'split_batches', 'even_batches', 'use_seedable_sampler']). Please pass an `accelerate.DataLoaderConfiguration` instead: \n",
            "dataloader_config = DataLoaderConfiguration(dispatch_batches=None, split_batches=False, even_batches=True, use_seedable_sampler=True)\n",
            "  warnings.warn(\n"
          ]
        },
        {
          "data": {
            "text/html": [
              "\n",
              "    <div>\n",
              "      \n",
              "      <progress value='40' max='40' style='width:300px; height:20px; vertical-align: middle;'></progress>\n",
              "      [40/40 00:24, Epoch 40/40]\n",
              "    </div>\n",
              "    <table border=\"1\" class=\"dataframe\">\n",
              "  <thead>\n",
              " <tr style=\"text-align: left;\">\n",
              "      <th>Step</th>\n",
              "      <th>Training Loss</th>\n",
              "    </tr>\n",
              "  </thead>\n",
              "  <tbody>\n",
              "  </tbody>\n",
              "</table><p>"
            ],
            "text/plain": [
              "<IPython.core.display.HTML object>"
            ]
          },
          "metadata": {},
          "output_type": "display_data"
        },
        {
          "metadata": {
            "tags": null
          },
          "name": "stdout",
          "output_type": "stream",
          "text": [
            "Evaluating in-domain performance for n=16...\n"
          ]
        },
        {
          "data": {
            "text/html": [
              "\n",
              "    <div>\n",
              "      \n",
              "      <progress value='196' max='131' style='width:300px; height:20px; vertical-align: middle;'></progress>\n",
              "      [131/131 00:10]\n",
              "    </div>\n",
              "    "
            ],
            "text/plain": [
              "<IPython.core.display.HTML object>"
            ]
          },
          "metadata": {},
          "output_type": "display_data"
        },
        {
          "metadata": {
            "tags": null
          },
          "name": "stdout",
          "output_type": "stream",
          "text": [
            "In-domain eval_loss: 0.9753984212875366\n",
            "In-domain eval_accuracy: 0.4947267497603068\n",
            "In-domain eval_runtime: 7.1474\n",
            "In-domain eval_samples_per_second: 145.928\n",
            "In-domain eval_steps_per_second: 18.328\n",
            "In-domain epoch: 40.0\n",
            "Evaluating out-of-domain performance for n=16...\n"
          ]
        },
        {
          "metadata": {
            "tags": null
          },
          "name": "stderr",
          "output_type": "stream",
          "text": [
            "Some weights of OPTForSequenceClassification were not initialized from the model checkpoint at facebook/opt-125m and are newly initialized: ['score.weight']\n",
            "You should probably TRAIN this model on a down-stream task to be able to use it for predictions and inference.\n"
          ]
        },
        {
          "metadata": {
            "tags": null
          },
          "name": "stdout",
          "output_type": "stream",
          "text": [
            "Out-of-domain eval_loss: 0.9640471935272217\n",
            "Out-of-domain eval_accuracy: 0.5058139534883721\n",
            "Out-of-domain eval_runtime: 3.5875\n",
            "Out-of-domain eval_samples_per_second: 143.834\n",
            "Out-of-domain eval_steps_per_second: 18.119\n",
            "Out-of-domain epoch: 40.0\n"
          ]
        },
        {
          "metadata": {
            "tags": null
          },
          "name": "stderr",
          "output_type": "stream",
          "text": [
            "/usr/local/lib/python3.10/dist-packages/transformers/optimization.py:429: FutureWarning: This implementation of AdamW is deprecated and will be removed in a future version. Use the PyTorch implementation torch.optim.AdamW instead, or set `no_deprecation_warning=True` to disable this warning\n",
            "  warnings.warn(\n",
            "/usr/local/lib/python3.10/dist-packages/accelerate/accelerator.py:436: FutureWarning: Passing the following arguments to `Accelerator` is deprecated and will be removed in version 1.0 of Accelerate: dict_keys(['dispatch_batches', 'split_batches', 'even_batches', 'use_seedable_sampler']). Please pass an `accelerate.DataLoaderConfiguration` instead: \n",
            "dataloader_config = DataLoaderConfiguration(dispatch_batches=None, split_batches=False, even_batches=True, use_seedable_sampler=True)\n",
            "  warnings.warn(\n"
          ]
        },
        {
          "data": {
            "text/html": [
              "\n",
              "    <div>\n",
              "      \n",
              "      <progress value='40' max='40' style='width:300px; height:20px; vertical-align: middle;'></progress>\n",
              "      [40/40 00:24, Epoch 40/40]\n",
              "    </div>\n",
              "    <table border=\"1\" class=\"dataframe\">\n",
              "  <thead>\n",
              " <tr style=\"text-align: left;\">\n",
              "      <th>Step</th>\n",
              "      <th>Training Loss</th>\n",
              "    </tr>\n",
              "  </thead>\n",
              "  <tbody>\n",
              "  </tbody>\n",
              "</table><p>"
            ],
            "text/plain": [
              "<IPython.core.display.HTML object>"
            ]
          },
          "metadata": {},
          "output_type": "display_data"
        },
        {
          "metadata": {
            "tags": null
          },
          "name": "stdout",
          "output_type": "stream",
          "text": [
            "Evaluating in-domain performance for n=16...\n"
          ]
        },
        {
          "data": {
            "text/html": [
              "\n",
              "    <div>\n",
              "      \n",
              "      <progress value='196' max='131' style='width:300px; height:20px; vertical-align: middle;'></progress>\n",
              "      [131/131 00:10]\n",
              "    </div>\n",
              "    "
            ],
            "text/plain": [
              "<IPython.core.display.HTML object>"
            ]
          },
          "metadata": {},
          "output_type": "display_data"
        },
        {
          "metadata": {
            "tags": null
          },
          "name": "stdout",
          "output_type": "stream",
          "text": [
            "In-domain eval_loss: 0.9753984212875366\n",
            "In-domain eval_accuracy: 0.4947267497603068\n",
            "In-domain eval_runtime: 7.1485\n",
            "In-domain eval_samples_per_second: 145.904\n",
            "In-domain eval_steps_per_second: 18.325\n",
            "In-domain epoch: 40.0\n",
            "Evaluating out-of-domain performance for n=16...\n"
          ]
        },
        {
          "metadata": {
            "tags": null
          },
          "name": "stderr",
          "output_type": "stream",
          "text": [
            "Some weights of OPTForSequenceClassification were not initialized from the model checkpoint at facebook/opt-125m and are newly initialized: ['score.weight']\n",
            "You should probably TRAIN this model on a down-stream task to be able to use it for predictions and inference.\n"
          ]
        },
        {
          "metadata": {
            "tags": null
          },
          "name": "stdout",
          "output_type": "stream",
          "text": [
            "Out-of-domain eval_loss: 0.9640471935272217\n",
            "Out-of-domain eval_accuracy: 0.5058139534883721\n",
            "Out-of-domain eval_runtime: 3.5975\n",
            "Out-of-domain eval_samples_per_second: 143.435\n",
            "Out-of-domain eval_steps_per_second: 18.068\n",
            "Out-of-domain epoch: 40.0\n"
          ]
        },
        {
          "metadata": {
            "tags": null
          },
          "name": "stderr",
          "output_type": "stream",
          "text": [
            "/usr/local/lib/python3.10/dist-packages/transformers/optimization.py:429: FutureWarning: This implementation of AdamW is deprecated and will be removed in a future version. Use the PyTorch implementation torch.optim.AdamW instead, or set `no_deprecation_warning=True` to disable this warning\n",
            "  warnings.warn(\n",
            "/usr/local/lib/python3.10/dist-packages/accelerate/accelerator.py:436: FutureWarning: Passing the following arguments to `Accelerator` is deprecated and will be removed in version 1.0 of Accelerate: dict_keys(['dispatch_batches', 'split_batches', 'even_batches', 'use_seedable_sampler']). Please pass an `accelerate.DataLoaderConfiguration` instead: \n",
            "dataloader_config = DataLoaderConfiguration(dispatch_batches=None, split_batches=False, even_batches=True, use_seedable_sampler=True)\n",
            "  warnings.warn(\n"
          ]
        },
        {
          "data": {
            "text/html": [
              "\n",
              "    <div>\n",
              "      \n",
              "      <progress value='40' max='40' style='width:300px; height:20px; vertical-align: middle;'></progress>\n",
              "      [40/40 00:24, Epoch 40/40]\n",
              "    </div>\n",
              "    <table border=\"1\" class=\"dataframe\">\n",
              "  <thead>\n",
              " <tr style=\"text-align: left;\">\n",
              "      <th>Step</th>\n",
              "      <th>Training Loss</th>\n",
              "    </tr>\n",
              "  </thead>\n",
              "  <tbody>\n",
              "  </tbody>\n",
              "</table><p>"
            ],
            "text/plain": [
              "<IPython.core.display.HTML object>"
            ]
          },
          "metadata": {},
          "output_type": "display_data"
        },
        {
          "metadata": {
            "tags": null
          },
          "name": "stdout",
          "output_type": "stream",
          "text": [
            "Evaluating in-domain performance for n=16...\n"
          ]
        },
        {
          "data": {
            "text/html": [
              "\n",
              "    <div>\n",
              "      \n",
              "      <progress value='196' max='131' style='width:300px; height:20px; vertical-align: middle;'></progress>\n",
              "      [131/131 00:10]\n",
              "    </div>\n",
              "    "
            ],
            "text/plain": [
              "<IPython.core.display.HTML object>"
            ]
          },
          "metadata": {},
          "output_type": "display_data"
        },
        {
          "metadata": {
            "tags": null
          },
          "name": "stdout",
          "output_type": "stream",
          "text": [
            "In-domain eval_loss: 0.9753984212875366\n",
            "In-domain eval_accuracy: 0.4947267497603068\n",
            "In-domain eval_runtime: 7.1392\n",
            "In-domain eval_samples_per_second: 146.096\n",
            "In-domain eval_steps_per_second: 18.35\n",
            "In-domain epoch: 40.0\n",
            "Evaluating out-of-domain performance for n=16...\n"
          ]
        },
        {
          "metadata": {
            "tags": null
          },
          "name": "stderr",
          "output_type": "stream",
          "text": [
            "Some weights of OPTForSequenceClassification were not initialized from the model checkpoint at facebook/opt-125m and are newly initialized: ['score.weight']\n",
            "You should probably TRAIN this model on a down-stream task to be able to use it for predictions and inference.\n"
          ]
        },
        {
          "metadata": {
            "tags": null
          },
          "name": "stdout",
          "output_type": "stream",
          "text": [
            "Out-of-domain eval_loss: 0.9640471935272217\n",
            "Out-of-domain eval_accuracy: 0.5058139534883721\n",
            "Out-of-domain eval_runtime: 3.6025\n",
            "Out-of-domain eval_samples_per_second: 143.235\n",
            "Out-of-domain eval_steps_per_second: 18.043\n",
            "Out-of-domain epoch: 40.0\n"
          ]
        },
        {
          "metadata": {
            "tags": null
          },
          "name": "stderr",
          "output_type": "stream",
          "text": [
            "/usr/local/lib/python3.10/dist-packages/transformers/optimization.py:429: FutureWarning: This implementation of AdamW is deprecated and will be removed in a future version. Use the PyTorch implementation torch.optim.AdamW instead, or set `no_deprecation_warning=True` to disable this warning\n",
            "  warnings.warn(\n",
            "/usr/local/lib/python3.10/dist-packages/accelerate/accelerator.py:436: FutureWarning: Passing the following arguments to `Accelerator` is deprecated and will be removed in version 1.0 of Accelerate: dict_keys(['dispatch_batches', 'split_batches', 'even_batches', 'use_seedable_sampler']). Please pass an `accelerate.DataLoaderConfiguration` instead: \n",
            "dataloader_config = DataLoaderConfiguration(dispatch_batches=None, split_batches=False, even_batches=True, use_seedable_sampler=True)\n",
            "  warnings.warn(\n"
          ]
        },
        {
          "data": {
            "text/html": [
              "\n",
              "    <div>\n",
              "      \n",
              "      <progress value='80' max='80' style='width:300px; height:20px; vertical-align: middle;'></progress>\n",
              "      [80/80 00:49, Epoch 40/40]\n",
              "    </div>\n",
              "    <table border=\"1\" class=\"dataframe\">\n",
              "  <thead>\n",
              " <tr style=\"text-align: left;\">\n",
              "      <th>Step</th>\n",
              "      <th>Training Loss</th>\n",
              "    </tr>\n",
              "  </thead>\n",
              "  <tbody>\n",
              "  </tbody>\n",
              "</table><p>"
            ],
            "text/plain": [
              "<IPython.core.display.HTML object>"
            ]
          },
          "metadata": {},
          "output_type": "display_data"
        },
        {
          "metadata": {
            "tags": null
          },
          "name": "stdout",
          "output_type": "stream",
          "text": [
            "Evaluating in-domain performance for n=32...\n"
          ]
        },
        {
          "data": {
            "text/html": [
              "\n",
              "    <div>\n",
              "      \n",
              "      <progress value='196' max='131' style='width:300px; height:20px; vertical-align: middle;'></progress>\n",
              "      [131/131 00:10]\n",
              "    </div>\n",
              "    "
            ],
            "text/plain": [
              "<IPython.core.display.HTML object>"
            ]
          },
          "metadata": {},
          "output_type": "display_data"
        },
        {
          "metadata": {
            "tags": null
          },
          "name": "stdout",
          "output_type": "stream",
          "text": [
            "In-domain eval_loss: 1.4189616441726685\n",
            "In-domain eval_accuracy: 0.5148609779482263\n",
            "In-domain eval_runtime: 7.1425\n",
            "In-domain eval_samples_per_second: 146.027\n",
            "In-domain eval_steps_per_second: 18.341\n",
            "In-domain epoch: 40.0\n",
            "Evaluating out-of-domain performance for n=32...\n"
          ]
        },
        {
          "metadata": {
            "tags": null
          },
          "name": "stderr",
          "output_type": "stream",
          "text": [
            "Some weights of OPTForSequenceClassification were not initialized from the model checkpoint at facebook/opt-125m and are newly initialized: ['score.weight']\n",
            "You should probably TRAIN this model on a down-stream task to be able to use it for predictions and inference.\n"
          ]
        },
        {
          "metadata": {
            "tags": null
          },
          "name": "stdout",
          "output_type": "stream",
          "text": [
            "Out-of-domain eval_loss: 1.3532181978225708\n",
            "Out-of-domain eval_accuracy: 0.5213178294573644\n",
            "Out-of-domain eval_runtime: 3.6037\n",
            "Out-of-domain eval_samples_per_second: 143.187\n",
            "Out-of-domain eval_steps_per_second: 18.037\n",
            "Out-of-domain epoch: 40.0\n"
          ]
        },
        {
          "metadata": {
            "tags": null
          },
          "name": "stderr",
          "output_type": "stream",
          "text": [
            "/usr/local/lib/python3.10/dist-packages/transformers/optimization.py:429: FutureWarning: This implementation of AdamW is deprecated and will be removed in a future version. Use the PyTorch implementation torch.optim.AdamW instead, or set `no_deprecation_warning=True` to disable this warning\n",
            "  warnings.warn(\n",
            "/usr/local/lib/python3.10/dist-packages/accelerate/accelerator.py:436: FutureWarning: Passing the following arguments to `Accelerator` is deprecated and will be removed in version 1.0 of Accelerate: dict_keys(['dispatch_batches', 'split_batches', 'even_batches', 'use_seedable_sampler']). Please pass an `accelerate.DataLoaderConfiguration` instead: \n",
            "dataloader_config = DataLoaderConfiguration(dispatch_batches=None, split_batches=False, even_batches=True, use_seedable_sampler=True)\n",
            "  warnings.warn(\n"
          ]
        },
        {
          "data": {
            "text/html": [
              "\n",
              "    <div>\n",
              "      \n",
              "      <progress value='80' max='80' style='width:300px; height:20px; vertical-align: middle;'></progress>\n",
              "      [80/80 00:49, Epoch 40/40]\n",
              "    </div>\n",
              "    <table border=\"1\" class=\"dataframe\">\n",
              "  <thead>\n",
              " <tr style=\"text-align: left;\">\n",
              "      <th>Step</th>\n",
              "      <th>Training Loss</th>\n",
              "    </tr>\n",
              "  </thead>\n",
              "  <tbody>\n",
              "  </tbody>\n",
              "</table><p>"
            ],
            "text/plain": [
              "<IPython.core.display.HTML object>"
            ]
          },
          "metadata": {},
          "output_type": "display_data"
        },
        {
          "metadata": {
            "tags": null
          },
          "name": "stdout",
          "output_type": "stream",
          "text": [
            "Evaluating in-domain performance for n=32...\n"
          ]
        },
        {
          "data": {
            "text/html": [
              "\n",
              "    <div>\n",
              "      \n",
              "      <progress value='196' max='131' style='width:300px; height:20px; vertical-align: middle;'></progress>\n",
              "      [131/131 00:10]\n",
              "    </div>\n",
              "    "
            ],
            "text/plain": [
              "<IPython.core.display.HTML object>"
            ]
          },
          "metadata": {},
          "output_type": "display_data"
        },
        {
          "metadata": {
            "tags": null
          },
          "name": "stdout",
          "output_type": "stream",
          "text": [
            "In-domain eval_loss: 2.4980039596557617\n",
            "In-domain eval_accuracy: 0.45158197507190795\n",
            "In-domain eval_runtime: 7.1261\n",
            "In-domain eval_samples_per_second: 146.362\n",
            "In-domain eval_steps_per_second: 18.383\n",
            "In-domain epoch: 40.0\n",
            "Evaluating out-of-domain performance for n=32...\n"
          ]
        },
        {
          "metadata": {
            "tags": null
          },
          "name": "stderr",
          "output_type": "stream",
          "text": [
            "Some weights of OPTForSequenceClassification were not initialized from the model checkpoint at facebook/opt-125m and are newly initialized: ['score.weight']\n",
            "You should probably TRAIN this model on a down-stream task to be able to use it for predictions and inference.\n"
          ]
        },
        {
          "metadata": {
            "tags": null
          },
          "name": "stdout",
          "output_type": "stream",
          "text": [
            "Out-of-domain eval_loss: 2.491607904434204\n",
            "Out-of-domain eval_accuracy: 0.44573643410852715\n",
            "Out-of-domain eval_runtime: 3.5765\n",
            "Out-of-domain eval_samples_per_second: 144.273\n",
            "Out-of-domain eval_steps_per_second: 18.174\n",
            "Out-of-domain epoch: 40.0\n"
          ]
        },
        {
          "metadata": {
            "tags": null
          },
          "name": "stderr",
          "output_type": "stream",
          "text": [
            "/usr/local/lib/python3.10/dist-packages/transformers/optimization.py:429: FutureWarning: This implementation of AdamW is deprecated and will be removed in a future version. Use the PyTorch implementation torch.optim.AdamW instead, or set `no_deprecation_warning=True` to disable this warning\n",
            "  warnings.warn(\n",
            "/usr/local/lib/python3.10/dist-packages/accelerate/accelerator.py:436: FutureWarning: Passing the following arguments to `Accelerator` is deprecated and will be removed in version 1.0 of Accelerate: dict_keys(['dispatch_batches', 'split_batches', 'even_batches', 'use_seedable_sampler']). Please pass an `accelerate.DataLoaderConfiguration` instead: \n",
            "dataloader_config = DataLoaderConfiguration(dispatch_batches=None, split_batches=False, even_batches=True, use_seedable_sampler=True)\n",
            "  warnings.warn(\n"
          ]
        },
        {
          "data": {
            "text/html": [
              "\n",
              "    <div>\n",
              "      \n",
              "      <progress value='80' max='80' style='width:300px; height:20px; vertical-align: middle;'></progress>\n",
              "      [80/80 00:49, Epoch 40/40]\n",
              "    </div>\n",
              "    <table border=\"1\" class=\"dataframe\">\n",
              "  <thead>\n",
              " <tr style=\"text-align: left;\">\n",
              "      <th>Step</th>\n",
              "      <th>Training Loss</th>\n",
              "    </tr>\n",
              "  </thead>\n",
              "  <tbody>\n",
              "  </tbody>\n",
              "</table><p>"
            ],
            "text/plain": [
              "<IPython.core.display.HTML object>"
            ]
          },
          "metadata": {},
          "output_type": "display_data"
        },
        {
          "metadata": {
            "tags": null
          },
          "name": "stdout",
          "output_type": "stream",
          "text": [
            "Evaluating in-domain performance for n=32...\n"
          ]
        },
        {
          "data": {
            "text/html": [
              "\n",
              "    <div>\n",
              "      \n",
              "      <progress value='196' max='131' style='width:300px; height:20px; vertical-align: middle;'></progress>\n",
              "      [131/131 00:10]\n",
              "    </div>\n",
              "    "
            ],
            "text/plain": [
              "<IPython.core.display.HTML object>"
            ]
          },
          "metadata": {},
          "output_type": "display_data"
        },
        {
          "metadata": {
            "tags": null
          },
          "name": "stdout",
          "output_type": "stream",
          "text": [
            "In-domain eval_loss: 2.4980039596557617\n",
            "In-domain eval_accuracy: 0.45158197507190795\n",
            "In-domain eval_runtime: 7.1422\n",
            "In-domain eval_samples_per_second: 146.033\n",
            "In-domain eval_steps_per_second: 18.342\n",
            "In-domain epoch: 40.0\n",
            "Evaluating out-of-domain performance for n=32...\n"
          ]
        },
        {
          "metadata": {
            "tags": null
          },
          "name": "stderr",
          "output_type": "stream",
          "text": [
            "Some weights of OPTForSequenceClassification were not initialized from the model checkpoint at facebook/opt-125m and are newly initialized: ['score.weight']\n",
            "You should probably TRAIN this model on a down-stream task to be able to use it for predictions and inference.\n"
          ]
        },
        {
          "metadata": {
            "tags": null
          },
          "name": "stdout",
          "output_type": "stream",
          "text": [
            "Out-of-domain eval_loss: 2.491607904434204\n",
            "Out-of-domain eval_accuracy: 0.44573643410852715\n",
            "Out-of-domain eval_runtime: 3.6054\n",
            "Out-of-domain eval_samples_per_second: 143.119\n",
            "Out-of-domain eval_steps_per_second: 18.029\n",
            "Out-of-domain epoch: 40.0\n"
          ]
        },
        {
          "metadata": {
            "tags": null
          },
          "name": "stderr",
          "output_type": "stream",
          "text": [
            "/usr/local/lib/python3.10/dist-packages/transformers/optimization.py:429: FutureWarning: This implementation of AdamW is deprecated and will be removed in a future version. Use the PyTorch implementation torch.optim.AdamW instead, or set `no_deprecation_warning=True` to disable this warning\n",
            "  warnings.warn(\n",
            "/usr/local/lib/python3.10/dist-packages/accelerate/accelerator.py:436: FutureWarning: Passing the following arguments to `Accelerator` is deprecated and will be removed in version 1.0 of Accelerate: dict_keys(['dispatch_batches', 'split_batches', 'even_batches', 'use_seedable_sampler']). Please pass an `accelerate.DataLoaderConfiguration` instead: \n",
            "dataloader_config = DataLoaderConfiguration(dispatch_batches=None, split_batches=False, even_batches=True, use_seedable_sampler=True)\n",
            "  warnings.warn(\n"
          ]
        },
        {
          "data": {
            "text/html": [
              "\n",
              "    <div>\n",
              "      \n",
              "      <progress value='80' max='80' style='width:300px; height:20px; vertical-align: middle;'></progress>\n",
              "      [80/80 00:49, Epoch 40/40]\n",
              "    </div>\n",
              "    <table border=\"1\" class=\"dataframe\">\n",
              "  <thead>\n",
              " <tr style=\"text-align: left;\">\n",
              "      <th>Step</th>\n",
              "      <th>Training Loss</th>\n",
              "    </tr>\n",
              "  </thead>\n",
              "  <tbody>\n",
              "  </tbody>\n",
              "</table><p>"
            ],
            "text/plain": [
              "<IPython.core.display.HTML object>"
            ]
          },
          "metadata": {},
          "output_type": "display_data"
        },
        {
          "metadata": {
            "tags": null
          },
          "name": "stdout",
          "output_type": "stream",
          "text": [
            "Evaluating in-domain performance for n=32...\n"
          ]
        },
        {
          "data": {
            "text/html": [
              "\n",
              "    <div>\n",
              "      \n",
              "      <progress value='196' max='131' style='width:300px; height:20px; vertical-align: middle;'></progress>\n",
              "      [131/131 00:10]\n",
              "    </div>\n",
              "    "
            ],
            "text/plain": [
              "<IPython.core.display.HTML object>"
            ]
          },
          "metadata": {},
          "output_type": "display_data"
        },
        {
          "metadata": {
            "tags": null
          },
          "name": "stdout",
          "output_type": "stream",
          "text": [
            "In-domain eval_loss: 2.4980039596557617\n",
            "In-domain eval_accuracy: 0.45158197507190795\n",
            "In-domain eval_runtime: 7.1544\n",
            "In-domain eval_samples_per_second: 145.784\n",
            "In-domain eval_steps_per_second: 18.31\n",
            "In-domain epoch: 40.0\n",
            "Evaluating out-of-domain performance for n=32...\n"
          ]
        },
        {
          "metadata": {
            "tags": null
          },
          "name": "stderr",
          "output_type": "stream",
          "text": [
            "Some weights of OPTForSequenceClassification were not initialized from the model checkpoint at facebook/opt-125m and are newly initialized: ['score.weight']\n",
            "You should probably TRAIN this model on a down-stream task to be able to use it for predictions and inference.\n"
          ]
        },
        {
          "metadata": {
            "tags": null
          },
          "name": "stdout",
          "output_type": "stream",
          "text": [
            "Out-of-domain eval_loss: 2.491607904434204\n",
            "Out-of-domain eval_accuracy: 0.44573643410852715\n",
            "Out-of-domain eval_runtime: 3.5762\n",
            "Out-of-domain eval_samples_per_second: 144.289\n",
            "Out-of-domain eval_steps_per_second: 18.176\n",
            "Out-of-domain epoch: 40.0\n"
          ]
        },
        {
          "metadata": {
            "tags": null
          },
          "name": "stderr",
          "output_type": "stream",
          "text": [
            "/usr/local/lib/python3.10/dist-packages/transformers/optimization.py:429: FutureWarning: This implementation of AdamW is deprecated and will be removed in a future version. Use the PyTorch implementation torch.optim.AdamW instead, or set `no_deprecation_warning=True` to disable this warning\n",
            "  warnings.warn(\n",
            "/usr/local/lib/python3.10/dist-packages/accelerate/accelerator.py:436: FutureWarning: Passing the following arguments to `Accelerator` is deprecated and will be removed in version 1.0 of Accelerate: dict_keys(['dispatch_batches', 'split_batches', 'even_batches', 'use_seedable_sampler']). Please pass an `accelerate.DataLoaderConfiguration` instead: \n",
            "dataloader_config = DataLoaderConfiguration(dispatch_batches=None, split_batches=False, even_batches=True, use_seedable_sampler=True)\n",
            "  warnings.warn(\n"
          ]
        },
        {
          "data": {
            "text/html": [
              "\n",
              "    <div>\n",
              "      \n",
              "      <progress value='80' max='80' style='width:300px; height:20px; vertical-align: middle;'></progress>\n",
              "      [80/80 00:49, Epoch 40/40]\n",
              "    </div>\n",
              "    <table border=\"1\" class=\"dataframe\">\n",
              "  <thead>\n",
              " <tr style=\"text-align: left;\">\n",
              "      <th>Step</th>\n",
              "      <th>Training Loss</th>\n",
              "    </tr>\n",
              "  </thead>\n",
              "  <tbody>\n",
              "  </tbody>\n",
              "</table><p>"
            ],
            "text/plain": [
              "<IPython.core.display.HTML object>"
            ]
          },
          "metadata": {},
          "output_type": "display_data"
        },
        {
          "metadata": {
            "tags": null
          },
          "name": "stdout",
          "output_type": "stream",
          "text": [
            "Evaluating in-domain performance for n=32...\n"
          ]
        },
        {
          "data": {
            "text/html": [
              "\n",
              "    <div>\n",
              "      \n",
              "      <progress value='196' max='131' style='width:300px; height:20px; vertical-align: middle;'></progress>\n",
              "      [131/131 00:10]\n",
              "    </div>\n",
              "    "
            ],
            "text/plain": [
              "<IPython.core.display.HTML object>"
            ]
          },
          "metadata": {},
          "output_type": "display_data"
        },
        {
          "metadata": {
            "tags": null
          },
          "name": "stdout",
          "output_type": "stream",
          "text": [
            "In-domain eval_loss: 2.4980039596557617\n",
            "In-domain eval_accuracy: 0.45158197507190795\n",
            "In-domain eval_runtime: 7.1369\n",
            "In-domain eval_samples_per_second: 146.142\n",
            "In-domain eval_steps_per_second: 18.355\n",
            "In-domain epoch: 40.0\n",
            "Evaluating out-of-domain performance for n=32...\n"
          ]
        },
        {
          "metadata": {
            "tags": null
          },
          "name": "stderr",
          "output_type": "stream",
          "text": [
            "Some weights of OPTForSequenceClassification were not initialized from the model checkpoint at facebook/opt-125m and are newly initialized: ['score.weight']\n",
            "You should probably TRAIN this model on a down-stream task to be able to use it for predictions and inference.\n"
          ]
        },
        {
          "metadata": {
            "tags": null
          },
          "name": "stdout",
          "output_type": "stream",
          "text": [
            "Out-of-domain eval_loss: 2.491607904434204\n",
            "Out-of-domain eval_accuracy: 0.44573643410852715\n",
            "Out-of-domain eval_runtime: 3.5882\n",
            "Out-of-domain eval_samples_per_second: 143.806\n",
            "Out-of-domain eval_steps_per_second: 18.115\n",
            "Out-of-domain epoch: 40.0\n"
          ]
        },
        {
          "metadata": {
            "tags": null
          },
          "name": "stderr",
          "output_type": "stream",
          "text": [
            "/usr/local/lib/python3.10/dist-packages/transformers/optimization.py:429: FutureWarning: This implementation of AdamW is deprecated and will be removed in a future version. Use the PyTorch implementation torch.optim.AdamW instead, or set `no_deprecation_warning=True` to disable this warning\n",
            "  warnings.warn(\n",
            "/usr/local/lib/python3.10/dist-packages/accelerate/accelerator.py:436: FutureWarning: Passing the following arguments to `Accelerator` is deprecated and will be removed in version 1.0 of Accelerate: dict_keys(['dispatch_batches', 'split_batches', 'even_batches', 'use_seedable_sampler']). Please pass an `accelerate.DataLoaderConfiguration` instead: \n",
            "dataloader_config = DataLoaderConfiguration(dispatch_batches=None, split_batches=False, even_batches=True, use_seedable_sampler=True)\n",
            "  warnings.warn(\n"
          ]
        },
        {
          "data": {
            "text/html": [
              "\n",
              "    <div>\n",
              "      \n",
              "      <progress value='80' max='80' style='width:300px; height:20px; vertical-align: middle;'></progress>\n",
              "      [80/80 00:49, Epoch 40/40]\n",
              "    </div>\n",
              "    <table border=\"1\" class=\"dataframe\">\n",
              "  <thead>\n",
              " <tr style=\"text-align: left;\">\n",
              "      <th>Step</th>\n",
              "      <th>Training Loss</th>\n",
              "    </tr>\n",
              "  </thead>\n",
              "  <tbody>\n",
              "  </tbody>\n",
              "</table><p>"
            ],
            "text/plain": [
              "<IPython.core.display.HTML object>"
            ]
          },
          "metadata": {},
          "output_type": "display_data"
        },
        {
          "metadata": {
            "tags": null
          },
          "name": "stdout",
          "output_type": "stream",
          "text": [
            "Evaluating in-domain performance for n=32...\n"
          ]
        },
        {
          "data": {
            "text/html": [
              "\n",
              "    <div>\n",
              "      \n",
              "      <progress value='196' max='131' style='width:300px; height:20px; vertical-align: middle;'></progress>\n",
              "      [131/131 00:10]\n",
              "    </div>\n",
              "    "
            ],
            "text/plain": [
              "<IPython.core.display.HTML object>"
            ]
          },
          "metadata": {},
          "output_type": "display_data"
        },
        {
          "metadata": {
            "tags": null
          },
          "name": "stdout",
          "output_type": "stream",
          "text": [
            "In-domain eval_loss: 2.4980039596557617\n",
            "In-domain eval_accuracy: 0.45158197507190795\n",
            "In-domain eval_runtime: 7.1273\n",
            "In-domain eval_samples_per_second: 146.339\n",
            "In-domain eval_steps_per_second: 18.38\n",
            "In-domain epoch: 40.0\n",
            "Evaluating out-of-domain performance for n=32...\n"
          ]
        },
        {
          "metadata": {
            "tags": null
          },
          "name": "stderr",
          "output_type": "stream",
          "text": [
            "Some weights of OPTForSequenceClassification were not initialized from the model checkpoint at facebook/opt-125m and are newly initialized: ['score.weight']\n",
            "You should probably TRAIN this model on a down-stream task to be able to use it for predictions and inference.\n"
          ]
        },
        {
          "metadata": {
            "tags": null
          },
          "name": "stdout",
          "output_type": "stream",
          "text": [
            "Out-of-domain eval_loss: 2.491607904434204\n",
            "Out-of-domain eval_accuracy: 0.44573643410852715\n",
            "Out-of-domain eval_runtime: 3.592\n",
            "Out-of-domain eval_samples_per_second: 143.652\n",
            "Out-of-domain eval_steps_per_second: 18.096\n",
            "Out-of-domain epoch: 40.0\n"
          ]
        },
        {
          "metadata": {
            "tags": null
          },
          "name": "stderr",
          "output_type": "stream",
          "text": [
            "/usr/local/lib/python3.10/dist-packages/transformers/optimization.py:429: FutureWarning: This implementation of AdamW is deprecated and will be removed in a future version. Use the PyTorch implementation torch.optim.AdamW instead, or set `no_deprecation_warning=True` to disable this warning\n",
            "  warnings.warn(\n",
            "/usr/local/lib/python3.10/dist-packages/accelerate/accelerator.py:436: FutureWarning: Passing the following arguments to `Accelerator` is deprecated and will be removed in version 1.0 of Accelerate: dict_keys(['dispatch_batches', 'split_batches', 'even_batches', 'use_seedable_sampler']). Please pass an `accelerate.DataLoaderConfiguration` instead: \n",
            "dataloader_config = DataLoaderConfiguration(dispatch_batches=None, split_batches=False, even_batches=True, use_seedable_sampler=True)\n",
            "  warnings.warn(\n"
          ]
        },
        {
          "data": {
            "text/html": [
              "\n",
              "    <div>\n",
              "      \n",
              "      <progress value='80' max='80' style='width:300px; height:20px; vertical-align: middle;'></progress>\n",
              "      [80/80 00:49, Epoch 40/40]\n",
              "    </div>\n",
              "    <table border=\"1\" class=\"dataframe\">\n",
              "  <thead>\n",
              " <tr style=\"text-align: left;\">\n",
              "      <th>Step</th>\n",
              "      <th>Training Loss</th>\n",
              "    </tr>\n",
              "  </thead>\n",
              "  <tbody>\n",
              "  </tbody>\n",
              "</table><p>"
            ],
            "text/plain": [
              "<IPython.core.display.HTML object>"
            ]
          },
          "metadata": {},
          "output_type": "display_data"
        },
        {
          "metadata": {
            "tags": null
          },
          "name": "stdout",
          "output_type": "stream",
          "text": [
            "Evaluating in-domain performance for n=32...\n"
          ]
        },
        {
          "data": {
            "text/html": [
              "\n",
              "    <div>\n",
              "      \n",
              "      <progress value='196' max='131' style='width:300px; height:20px; vertical-align: middle;'></progress>\n",
              "      [131/131 00:10]\n",
              "    </div>\n",
              "    "
            ],
            "text/plain": [
              "<IPython.core.display.HTML object>"
            ]
          },
          "metadata": {},
          "output_type": "display_data"
        },
        {
          "metadata": {
            "tags": null
          },
          "name": "stdout",
          "output_type": "stream",
          "text": [
            "In-domain eval_loss: 2.4980039596557617\n",
            "In-domain eval_accuracy: 0.45158197507190795\n",
            "In-domain eval_runtime: 7.1673\n",
            "In-domain eval_samples_per_second: 145.522\n",
            "In-domain eval_steps_per_second: 18.278\n",
            "In-domain epoch: 40.0\n",
            "Evaluating out-of-domain performance for n=32...\n"
          ]
        },
        {
          "metadata": {
            "tags": null
          },
          "name": "stderr",
          "output_type": "stream",
          "text": [
            "Some weights of OPTForSequenceClassification were not initialized from the model checkpoint at facebook/opt-125m and are newly initialized: ['score.weight']\n",
            "You should probably TRAIN this model on a down-stream task to be able to use it for predictions and inference.\n"
          ]
        },
        {
          "metadata": {
            "tags": null
          },
          "name": "stdout",
          "output_type": "stream",
          "text": [
            "Out-of-domain eval_loss: 2.491607904434204\n",
            "Out-of-domain eval_accuracy: 0.44573643410852715\n",
            "Out-of-domain eval_runtime: 3.5942\n",
            "Out-of-domain eval_samples_per_second: 143.566\n",
            "Out-of-domain eval_steps_per_second: 18.085\n",
            "Out-of-domain epoch: 40.0\n"
          ]
        },
        {
          "metadata": {
            "tags": null
          },
          "name": "stderr",
          "output_type": "stream",
          "text": [
            "/usr/local/lib/python3.10/dist-packages/transformers/optimization.py:429: FutureWarning: This implementation of AdamW is deprecated and will be removed in a future version. Use the PyTorch implementation torch.optim.AdamW instead, or set `no_deprecation_warning=True` to disable this warning\n",
            "  warnings.warn(\n",
            "/usr/local/lib/python3.10/dist-packages/accelerate/accelerator.py:436: FutureWarning: Passing the following arguments to `Accelerator` is deprecated and will be removed in version 1.0 of Accelerate: dict_keys(['dispatch_batches', 'split_batches', 'even_batches', 'use_seedable_sampler']). Please pass an `accelerate.DataLoaderConfiguration` instead: \n",
            "dataloader_config = DataLoaderConfiguration(dispatch_batches=None, split_batches=False, even_batches=True, use_seedable_sampler=True)\n",
            "  warnings.warn(\n"
          ]
        },
        {
          "data": {
            "text/html": [
              "\n",
              "    <div>\n",
              "      \n",
              "      <progress value='80' max='80' style='width:300px; height:20px; vertical-align: middle;'></progress>\n",
              "      [80/80 00:49, Epoch 40/40]\n",
              "    </div>\n",
              "    <table border=\"1\" class=\"dataframe\">\n",
              "  <thead>\n",
              " <tr style=\"text-align: left;\">\n",
              "      <th>Step</th>\n",
              "      <th>Training Loss</th>\n",
              "    </tr>\n",
              "  </thead>\n",
              "  <tbody>\n",
              "  </tbody>\n",
              "</table><p>"
            ],
            "text/plain": [
              "<IPython.core.display.HTML object>"
            ]
          },
          "metadata": {},
          "output_type": "display_data"
        },
        {
          "metadata": {
            "tags": null
          },
          "name": "stdout",
          "output_type": "stream",
          "text": [
            "Evaluating in-domain performance for n=32...\n"
          ]
        },
        {
          "data": {
            "text/html": [
              "\n",
              "    <div>\n",
              "      \n",
              "      <progress value='196' max='131' style='width:300px; height:20px; vertical-align: middle;'></progress>\n",
              "      [131/131 00:10]\n",
              "    </div>\n",
              "    "
            ],
            "text/plain": [
              "<IPython.core.display.HTML object>"
            ]
          },
          "metadata": {},
          "output_type": "display_data"
        },
        {
          "metadata": {
            "tags": null
          },
          "name": "stdout",
          "output_type": "stream",
          "text": [
            "In-domain eval_loss: 2.4980039596557617\n",
            "In-domain eval_accuracy: 0.45158197507190795\n",
            "In-domain eval_runtime: 7.1457\n",
            "In-domain eval_samples_per_second: 145.961\n",
            "In-domain eval_steps_per_second: 18.333\n",
            "In-domain epoch: 40.0\n",
            "Evaluating out-of-domain performance for n=32...\n"
          ]
        },
        {
          "metadata": {
            "tags": null
          },
          "name": "stderr",
          "output_type": "stream",
          "text": [
            "Some weights of OPTForSequenceClassification were not initialized from the model checkpoint at facebook/opt-125m and are newly initialized: ['score.weight']\n",
            "You should probably TRAIN this model on a down-stream task to be able to use it for predictions and inference.\n"
          ]
        },
        {
          "metadata": {
            "tags": null
          },
          "name": "stdout",
          "output_type": "stream",
          "text": [
            "Out-of-domain eval_loss: 2.491607904434204\n",
            "Out-of-domain eval_accuracy: 0.44573643410852715\n",
            "Out-of-domain eval_runtime: 3.6036\n",
            "Out-of-domain eval_samples_per_second: 143.19\n",
            "Out-of-domain eval_steps_per_second: 18.037\n",
            "Out-of-domain epoch: 40.0\n"
          ]
        },
        {
          "metadata": {
            "tags": null
          },
          "name": "stderr",
          "output_type": "stream",
          "text": [
            "/usr/local/lib/python3.10/dist-packages/transformers/optimization.py:429: FutureWarning: This implementation of AdamW is deprecated and will be removed in a future version. Use the PyTorch implementation torch.optim.AdamW instead, or set `no_deprecation_warning=True` to disable this warning\n",
            "  warnings.warn(\n",
            "/usr/local/lib/python3.10/dist-packages/accelerate/accelerator.py:436: FutureWarning: Passing the following arguments to `Accelerator` is deprecated and will be removed in version 1.0 of Accelerate: dict_keys(['dispatch_batches', 'split_batches', 'even_batches', 'use_seedable_sampler']). Please pass an `accelerate.DataLoaderConfiguration` instead: \n",
            "dataloader_config = DataLoaderConfiguration(dispatch_batches=None, split_batches=False, even_batches=True, use_seedable_sampler=True)\n",
            "  warnings.warn(\n"
          ]
        },
        {
          "data": {
            "text/html": [
              "\n",
              "    <div>\n",
              "      \n",
              "      <progress value='80' max='80' style='width:300px; height:20px; vertical-align: middle;'></progress>\n",
              "      [80/80 00:49, Epoch 40/40]\n",
              "    </div>\n",
              "    <table border=\"1\" class=\"dataframe\">\n",
              "  <thead>\n",
              " <tr style=\"text-align: left;\">\n",
              "      <th>Step</th>\n",
              "      <th>Training Loss</th>\n",
              "    </tr>\n",
              "  </thead>\n",
              "  <tbody>\n",
              "  </tbody>\n",
              "</table><p>"
            ],
            "text/plain": [
              "<IPython.core.display.HTML object>"
            ]
          },
          "metadata": {},
          "output_type": "display_data"
        },
        {
          "metadata": {
            "tags": null
          },
          "name": "stdout",
          "output_type": "stream",
          "text": [
            "Evaluating in-domain performance for n=32...\n"
          ]
        },
        {
          "data": {
            "text/html": [
              "\n",
              "    <div>\n",
              "      \n",
              "      <progress value='196' max='131' style='width:300px; height:20px; vertical-align: middle;'></progress>\n",
              "      [131/131 00:10]\n",
              "    </div>\n",
              "    "
            ],
            "text/plain": [
              "<IPython.core.display.HTML object>"
            ]
          },
          "metadata": {},
          "output_type": "display_data"
        },
        {
          "metadata": {
            "tags": null
          },
          "name": "stdout",
          "output_type": "stream",
          "text": [
            "In-domain eval_loss: 2.4980039596557617\n",
            "In-domain eval_accuracy: 0.45158197507190795\n",
            "In-domain eval_runtime: 7.1348\n",
            "In-domain eval_samples_per_second: 146.185\n",
            "In-domain eval_steps_per_second: 18.361\n",
            "In-domain epoch: 40.0\n",
            "Evaluating out-of-domain performance for n=32...\n"
          ]
        },
        {
          "metadata": {
            "tags": null
          },
          "name": "stderr",
          "output_type": "stream",
          "text": [
            "Some weights of OPTForSequenceClassification were not initialized from the model checkpoint at facebook/opt-125m and are newly initialized: ['score.weight']\n",
            "You should probably TRAIN this model on a down-stream task to be able to use it for predictions and inference.\n"
          ]
        },
        {
          "metadata": {
            "tags": null
          },
          "name": "stdout",
          "output_type": "stream",
          "text": [
            "Out-of-domain eval_loss: 2.491607904434204\n",
            "Out-of-domain eval_accuracy: 0.44573643410852715\n",
            "Out-of-domain eval_runtime: 3.5685\n",
            "Out-of-domain eval_samples_per_second: 144.6\n",
            "Out-of-domain eval_steps_per_second: 18.215\n",
            "Out-of-domain epoch: 40.0\n"
          ]
        },
        {
          "metadata": {
            "tags": null
          },
          "name": "stderr",
          "output_type": "stream",
          "text": [
            "/usr/local/lib/python3.10/dist-packages/transformers/optimization.py:429: FutureWarning: This implementation of AdamW is deprecated and will be removed in a future version. Use the PyTorch implementation torch.optim.AdamW instead, or set `no_deprecation_warning=True` to disable this warning\n",
            "  warnings.warn(\n",
            "/usr/local/lib/python3.10/dist-packages/accelerate/accelerator.py:436: FutureWarning: Passing the following arguments to `Accelerator` is deprecated and will be removed in version 1.0 of Accelerate: dict_keys(['dispatch_batches', 'split_batches', 'even_batches', 'use_seedable_sampler']). Please pass an `accelerate.DataLoaderConfiguration` instead: \n",
            "dataloader_config = DataLoaderConfiguration(dispatch_batches=None, split_batches=False, even_batches=True, use_seedable_sampler=True)\n",
            "  warnings.warn(\n"
          ]
        },
        {
          "data": {
            "text/html": [
              "\n",
              "    <div>\n",
              "      \n",
              "      <progress value='80' max='80' style='width:300px; height:20px; vertical-align: middle;'></progress>\n",
              "      [80/80 00:49, Epoch 40/40]\n",
              "    </div>\n",
              "    <table border=\"1\" class=\"dataframe\">\n",
              "  <thead>\n",
              " <tr style=\"text-align: left;\">\n",
              "      <th>Step</th>\n",
              "      <th>Training Loss</th>\n",
              "    </tr>\n",
              "  </thead>\n",
              "  <tbody>\n",
              "  </tbody>\n",
              "</table><p>"
            ],
            "text/plain": [
              "<IPython.core.display.HTML object>"
            ]
          },
          "metadata": {},
          "output_type": "display_data"
        },
        {
          "metadata": {
            "tags": null
          },
          "name": "stdout",
          "output_type": "stream",
          "text": [
            "Evaluating in-domain performance for n=32...\n"
          ]
        },
        {
          "data": {
            "text/html": [
              "\n",
              "    <div>\n",
              "      \n",
              "      <progress value='196' max='131' style='width:300px; height:20px; vertical-align: middle;'></progress>\n",
              "      [131/131 00:10]\n",
              "    </div>\n",
              "    "
            ],
            "text/plain": [
              "<IPython.core.display.HTML object>"
            ]
          },
          "metadata": {},
          "output_type": "display_data"
        },
        {
          "metadata": {
            "tags": null
          },
          "name": "stdout",
          "output_type": "stream",
          "text": [
            "In-domain eval_loss: 2.4980039596557617\n",
            "In-domain eval_accuracy: 0.45158197507190795\n",
            "In-domain eval_runtime: 7.1431\n",
            "In-domain eval_samples_per_second: 146.015\n",
            "In-domain eval_steps_per_second: 18.339\n",
            "In-domain epoch: 40.0\n",
            "Evaluating out-of-domain performance for n=32...\n"
          ]
        },
        {
          "metadata": {
            "tags": null
          },
          "name": "stderr",
          "output_type": "stream",
          "text": [
            "Some weights of OPTForSequenceClassification were not initialized from the model checkpoint at facebook/opt-125m and are newly initialized: ['score.weight']\n",
            "You should probably TRAIN this model on a down-stream task to be able to use it for predictions and inference.\n"
          ]
        },
        {
          "metadata": {
            "tags": null
          },
          "name": "stdout",
          "output_type": "stream",
          "text": [
            "Out-of-domain eval_loss: 2.491607904434204\n",
            "Out-of-domain eval_accuracy: 0.44573643410852715\n",
            "Out-of-domain eval_runtime: 3.5846\n",
            "Out-of-domain eval_samples_per_second: 143.948\n",
            "Out-of-domain eval_steps_per_second: 18.133\n",
            "Out-of-domain epoch: 40.0\n"
          ]
        },
        {
          "metadata": {
            "tags": null
          },
          "name": "stderr",
          "output_type": "stream",
          "text": [
            "/usr/local/lib/python3.10/dist-packages/transformers/optimization.py:429: FutureWarning: This implementation of AdamW is deprecated and will be removed in a future version. Use the PyTorch implementation torch.optim.AdamW instead, or set `no_deprecation_warning=True` to disable this warning\n",
            "  warnings.warn(\n",
            "/usr/local/lib/python3.10/dist-packages/accelerate/accelerator.py:436: FutureWarning: Passing the following arguments to `Accelerator` is deprecated and will be removed in version 1.0 of Accelerate: dict_keys(['dispatch_batches', 'split_batches', 'even_batches', 'use_seedable_sampler']). Please pass an `accelerate.DataLoaderConfiguration` instead: \n",
            "dataloader_config = DataLoaderConfiguration(dispatch_batches=None, split_batches=False, even_batches=True, use_seedable_sampler=True)\n",
            "  warnings.warn(\n"
          ]
        },
        {
          "data": {
            "text/html": [
              "\n",
              "    <div>\n",
              "      \n",
              "      <progress value='160' max='160' style='width:300px; height:20px; vertical-align: middle;'></progress>\n",
              "      [160/160 01:39, Epoch 40/40]\n",
              "    </div>\n",
              "    <table border=\"1\" class=\"dataframe\">\n",
              "  <thead>\n",
              " <tr style=\"text-align: left;\">\n",
              "      <th>Step</th>\n",
              "      <th>Training Loss</th>\n",
              "    </tr>\n",
              "  </thead>\n",
              "  <tbody>\n",
              "  </tbody>\n",
              "</table><p>"
            ],
            "text/plain": [
              "<IPython.core.display.HTML object>"
            ]
          },
          "metadata": {},
          "output_type": "display_data"
        },
        {
          "metadata": {
            "tags": null
          },
          "name": "stdout",
          "output_type": "stream",
          "text": [
            "Evaluating in-domain performance for n=64...\n"
          ]
        },
        {
          "data": {
            "text/html": [
              "\n",
              "    <div>\n",
              "      \n",
              "      <progress value='196' max='131' style='width:300px; height:20px; vertical-align: middle;'></progress>\n",
              "      [131/131 00:10]\n",
              "    </div>\n",
              "    "
            ],
            "text/plain": [
              "<IPython.core.display.HTML object>"
            ]
          },
          "metadata": {},
          "output_type": "display_data"
        },
        {
          "metadata": {
            "tags": null
          },
          "name": "stdout",
          "output_type": "stream",
          "text": [
            "In-domain eval_loss: 3.3955705165863037\n",
            "In-domain eval_accuracy: 0.5254074784276127\n",
            "In-domain eval_runtime: 7.1093\n",
            "In-domain eval_samples_per_second: 146.709\n",
            "In-domain eval_steps_per_second: 18.427\n",
            "In-domain epoch: 40.0\n",
            "Evaluating out-of-domain performance for n=64...\n"
          ]
        },
        {
          "metadata": {
            "tags": null
          },
          "name": "stderr",
          "output_type": "stream",
          "text": [
            "Some weights of OPTForSequenceClassification were not initialized from the model checkpoint at facebook/opt-125m and are newly initialized: ['score.weight']\n",
            "You should probably TRAIN this model on a down-stream task to be able to use it for predictions and inference.\n"
          ]
        },
        {
          "metadata": {
            "tags": null
          },
          "name": "stdout",
          "output_type": "stream",
          "text": [
            "Out-of-domain eval_loss: 3.393465518951416\n",
            "Out-of-domain eval_accuracy: 0.5155038759689923\n",
            "Out-of-domain eval_runtime: 3.572\n",
            "Out-of-domain eval_samples_per_second: 144.457\n",
            "Out-of-domain eval_steps_per_second: 18.197\n",
            "Out-of-domain epoch: 40.0\n"
          ]
        },
        {
          "metadata": {
            "tags": null
          },
          "name": "stderr",
          "output_type": "stream",
          "text": [
            "/usr/local/lib/python3.10/dist-packages/transformers/optimization.py:429: FutureWarning: This implementation of AdamW is deprecated and will be removed in a future version. Use the PyTorch implementation torch.optim.AdamW instead, or set `no_deprecation_warning=True` to disable this warning\n",
            "  warnings.warn(\n",
            "/usr/local/lib/python3.10/dist-packages/accelerate/accelerator.py:436: FutureWarning: Passing the following arguments to `Accelerator` is deprecated and will be removed in version 1.0 of Accelerate: dict_keys(['dispatch_batches', 'split_batches', 'even_batches', 'use_seedable_sampler']). Please pass an `accelerate.DataLoaderConfiguration` instead: \n",
            "dataloader_config = DataLoaderConfiguration(dispatch_batches=None, split_batches=False, even_batches=True, use_seedable_sampler=True)\n",
            "  warnings.warn(\n"
          ]
        },
        {
          "data": {
            "text/html": [
              "\n",
              "    <div>\n",
              "      \n",
              "      <progress value='160' max='160' style='width:300px; height:20px; vertical-align: middle;'></progress>\n",
              "      [160/160 01:39, Epoch 40/40]\n",
              "    </div>\n",
              "    <table border=\"1\" class=\"dataframe\">\n",
              "  <thead>\n",
              " <tr style=\"text-align: left;\">\n",
              "      <th>Step</th>\n",
              "      <th>Training Loss</th>\n",
              "    </tr>\n",
              "  </thead>\n",
              "  <tbody>\n",
              "  </tbody>\n",
              "</table><p>"
            ],
            "text/plain": [
              "<IPython.core.display.HTML object>"
            ]
          },
          "metadata": {},
          "output_type": "display_data"
        },
        {
          "metadata": {
            "tags": null
          },
          "name": "stdout",
          "output_type": "stream",
          "text": [
            "Evaluating in-domain performance for n=64...\n"
          ]
        },
        {
          "data": {
            "text/html": [
              "\n",
              "    <div>\n",
              "      \n",
              "      <progress value='196' max='131' style='width:300px; height:20px; vertical-align: middle;'></progress>\n",
              "      [131/131 00:10]\n",
              "    </div>\n",
              "    "
            ],
            "text/plain": [
              "<IPython.core.display.HTML object>"
            ]
          },
          "metadata": {},
          "output_type": "display_data"
        },
        {
          "metadata": {
            "tags": null
          },
          "name": "stdout",
          "output_type": "stream",
          "text": [
            "In-domain eval_loss: 2.8588783740997314\n",
            "In-domain eval_accuracy: 0.5532118887823586\n",
            "In-domain eval_runtime: 7.135\n",
            "In-domain eval_samples_per_second: 146.181\n",
            "In-domain eval_steps_per_second: 18.36\n",
            "In-domain epoch: 40.0\n",
            "Evaluating out-of-domain performance for n=64...\n"
          ]
        },
        {
          "metadata": {
            "tags": null
          },
          "name": "stderr",
          "output_type": "stream",
          "text": [
            "Some weights of OPTForSequenceClassification were not initialized from the model checkpoint at facebook/opt-125m and are newly initialized: ['score.weight']\n",
            "You should probably TRAIN this model on a down-stream task to be able to use it for predictions and inference.\n"
          ]
        },
        {
          "metadata": {
            "tags": null
          },
          "name": "stdout",
          "output_type": "stream",
          "text": [
            "Out-of-domain eval_loss: 2.830016613006592\n",
            "Out-of-domain eval_accuracy: 0.5523255813953488\n",
            "Out-of-domain eval_runtime: 3.5876\n",
            "Out-of-domain eval_samples_per_second: 143.828\n",
            "Out-of-domain eval_steps_per_second: 18.118\n",
            "Out-of-domain epoch: 40.0\n"
          ]
        },
        {
          "metadata": {
            "tags": null
          },
          "name": "stderr",
          "output_type": "stream",
          "text": [
            "/usr/local/lib/python3.10/dist-packages/transformers/optimization.py:429: FutureWarning: This implementation of AdamW is deprecated and will be removed in a future version. Use the PyTorch implementation torch.optim.AdamW instead, or set `no_deprecation_warning=True` to disable this warning\n",
            "  warnings.warn(\n",
            "/usr/local/lib/python3.10/dist-packages/accelerate/accelerator.py:436: FutureWarning: Passing the following arguments to `Accelerator` is deprecated and will be removed in version 1.0 of Accelerate: dict_keys(['dispatch_batches', 'split_batches', 'even_batches', 'use_seedable_sampler']). Please pass an `accelerate.DataLoaderConfiguration` instead: \n",
            "dataloader_config = DataLoaderConfiguration(dispatch_batches=None, split_batches=False, even_batches=True, use_seedable_sampler=True)\n",
            "  warnings.warn(\n"
          ]
        },
        {
          "data": {
            "text/html": [
              "\n",
              "    <div>\n",
              "      \n",
              "      <progress value='160' max='160' style='width:300px; height:20px; vertical-align: middle;'></progress>\n",
              "      [160/160 01:39, Epoch 40/40]\n",
              "    </div>\n",
              "    <table border=\"1\" class=\"dataframe\">\n",
              "  <thead>\n",
              " <tr style=\"text-align: left;\">\n",
              "      <th>Step</th>\n",
              "      <th>Training Loss</th>\n",
              "    </tr>\n",
              "  </thead>\n",
              "  <tbody>\n",
              "  </tbody>\n",
              "</table><p>"
            ],
            "text/plain": [
              "<IPython.core.display.HTML object>"
            ]
          },
          "metadata": {},
          "output_type": "display_data"
        },
        {
          "metadata": {
            "tags": null
          },
          "name": "stdout",
          "output_type": "stream",
          "text": [
            "Evaluating in-domain performance for n=64...\n"
          ]
        },
        {
          "data": {
            "text/html": [
              "\n",
              "    <div>\n",
              "      \n",
              "      <progress value='196' max='131' style='width:300px; height:20px; vertical-align: middle;'></progress>\n",
              "      [131/131 00:10]\n",
              "    </div>\n",
              "    "
            ],
            "text/plain": [
              "<IPython.core.display.HTML object>"
            ]
          },
          "metadata": {},
          "output_type": "display_data"
        },
        {
          "metadata": {
            "tags": null
          },
          "name": "stdout",
          "output_type": "stream",
          "text": [
            "In-domain eval_loss: 2.8588783740997314\n",
            "In-domain eval_accuracy: 0.5532118887823586\n",
            "In-domain eval_runtime: 7.1345\n",
            "In-domain eval_samples_per_second: 146.191\n",
            "In-domain eval_steps_per_second: 18.361\n",
            "In-domain epoch: 40.0\n",
            "Evaluating out-of-domain performance for n=64...\n"
          ]
        },
        {
          "metadata": {
            "tags": null
          },
          "name": "stderr",
          "output_type": "stream",
          "text": [
            "Some weights of OPTForSequenceClassification were not initialized from the model checkpoint at facebook/opt-125m and are newly initialized: ['score.weight']\n",
            "You should probably TRAIN this model on a down-stream task to be able to use it for predictions and inference.\n"
          ]
        },
        {
          "metadata": {
            "tags": null
          },
          "name": "stdout",
          "output_type": "stream",
          "text": [
            "Out-of-domain eval_loss: 2.830016613006592\n",
            "Out-of-domain eval_accuracy: 0.5523255813953488\n",
            "Out-of-domain eval_runtime: 3.593\n",
            "Out-of-domain eval_samples_per_second: 143.612\n",
            "Out-of-domain eval_steps_per_second: 18.091\n",
            "Out-of-domain epoch: 40.0\n"
          ]
        },
        {
          "metadata": {
            "tags": null
          },
          "name": "stderr",
          "output_type": "stream",
          "text": [
            "/usr/local/lib/python3.10/dist-packages/transformers/optimization.py:429: FutureWarning: This implementation of AdamW is deprecated and will be removed in a future version. Use the PyTorch implementation torch.optim.AdamW instead, or set `no_deprecation_warning=True` to disable this warning\n",
            "  warnings.warn(\n",
            "/usr/local/lib/python3.10/dist-packages/accelerate/accelerator.py:436: FutureWarning: Passing the following arguments to `Accelerator` is deprecated and will be removed in version 1.0 of Accelerate: dict_keys(['dispatch_batches', 'split_batches', 'even_batches', 'use_seedable_sampler']). Please pass an `accelerate.DataLoaderConfiguration` instead: \n",
            "dataloader_config = DataLoaderConfiguration(dispatch_batches=None, split_batches=False, even_batches=True, use_seedable_sampler=True)\n",
            "  warnings.warn(\n"
          ]
        },
        {
          "data": {
            "text/html": [
              "\n",
              "    <div>\n",
              "      \n",
              "      <progress value='160' max='160' style='width:300px; height:20px; vertical-align: middle;'></progress>\n",
              "      [160/160 01:39, Epoch 40/40]\n",
              "    </div>\n",
              "    <table border=\"1\" class=\"dataframe\">\n",
              "  <thead>\n",
              " <tr style=\"text-align: left;\">\n",
              "      <th>Step</th>\n",
              "      <th>Training Loss</th>\n",
              "    </tr>\n",
              "  </thead>\n",
              "  <tbody>\n",
              "  </tbody>\n",
              "</table><p>"
            ],
            "text/plain": [
              "<IPython.core.display.HTML object>"
            ]
          },
          "metadata": {},
          "output_type": "display_data"
        },
        {
          "metadata": {
            "tags": null
          },
          "name": "stdout",
          "output_type": "stream",
          "text": [
            "Evaluating in-domain performance for n=64...\n"
          ]
        },
        {
          "data": {
            "text/html": [
              "\n",
              "    <div>\n",
              "      \n",
              "      <progress value='196' max='131' style='width:300px; height:20px; vertical-align: middle;'></progress>\n",
              "      [131/131 00:10]\n",
              "    </div>\n",
              "    "
            ],
            "text/plain": [
              "<IPython.core.display.HTML object>"
            ]
          },
          "metadata": {},
          "output_type": "display_data"
        },
        {
          "metadata": {
            "tags": null
          },
          "name": "stdout",
          "output_type": "stream",
          "text": [
            "In-domain eval_loss: 2.8588783740997314\n",
            "In-domain eval_accuracy: 0.5532118887823586\n",
            "In-domain eval_runtime: 7.0938\n",
            "In-domain eval_samples_per_second: 147.03\n",
            "In-domain eval_steps_per_second: 18.467\n",
            "In-domain epoch: 40.0\n",
            "Evaluating out-of-domain performance for n=64...\n"
          ]
        },
        {
          "metadata": {
            "tags": null
          },
          "name": "stderr",
          "output_type": "stream",
          "text": [
            "Some weights of OPTForSequenceClassification were not initialized from the model checkpoint at facebook/opt-125m and are newly initialized: ['score.weight']\n",
            "You should probably TRAIN this model on a down-stream task to be able to use it for predictions and inference.\n"
          ]
        },
        {
          "metadata": {
            "tags": null
          },
          "name": "stdout",
          "output_type": "stream",
          "text": [
            "Out-of-domain eval_loss: 2.830016613006592\n",
            "Out-of-domain eval_accuracy: 0.5523255813953488\n",
            "Out-of-domain eval_runtime: 3.5922\n",
            "Out-of-domain eval_samples_per_second: 143.644\n",
            "Out-of-domain eval_steps_per_second: 18.095\n",
            "Out-of-domain epoch: 40.0\n"
          ]
        },
        {
          "metadata": {
            "tags": null
          },
          "name": "stderr",
          "output_type": "stream",
          "text": [
            "/usr/local/lib/python3.10/dist-packages/transformers/optimization.py:429: FutureWarning: This implementation of AdamW is deprecated and will be removed in a future version. Use the PyTorch implementation torch.optim.AdamW instead, or set `no_deprecation_warning=True` to disable this warning\n",
            "  warnings.warn(\n",
            "/usr/local/lib/python3.10/dist-packages/accelerate/accelerator.py:436: FutureWarning: Passing the following arguments to `Accelerator` is deprecated and will be removed in version 1.0 of Accelerate: dict_keys(['dispatch_batches', 'split_batches', 'even_batches', 'use_seedable_sampler']). Please pass an `accelerate.DataLoaderConfiguration` instead: \n",
            "dataloader_config = DataLoaderConfiguration(dispatch_batches=None, split_batches=False, even_batches=True, use_seedable_sampler=True)\n",
            "  warnings.warn(\n"
          ]
        },
        {
          "data": {
            "text/html": [
              "\n",
              "    <div>\n",
              "      \n",
              "      <progress value='160' max='160' style='width:300px; height:20px; vertical-align: middle;'></progress>\n",
              "      [160/160 01:39, Epoch 40/40]\n",
              "    </div>\n",
              "    <table border=\"1\" class=\"dataframe\">\n",
              "  <thead>\n",
              " <tr style=\"text-align: left;\">\n",
              "      <th>Step</th>\n",
              "      <th>Training Loss</th>\n",
              "    </tr>\n",
              "  </thead>\n",
              "  <tbody>\n",
              "  </tbody>\n",
              "</table><p>"
            ],
            "text/plain": [
              "<IPython.core.display.HTML object>"
            ]
          },
          "metadata": {},
          "output_type": "display_data"
        },
        {
          "metadata": {
            "tags": null
          },
          "name": "stdout",
          "output_type": "stream",
          "text": [
            "Evaluating in-domain performance for n=64...\n"
          ]
        },
        {
          "data": {
            "text/html": [
              "\n",
              "    <div>\n",
              "      \n",
              "      <progress value='196' max='131' style='width:300px; height:20px; vertical-align: middle;'></progress>\n",
              "      [131/131 00:10]\n",
              "    </div>\n",
              "    "
            ],
            "text/plain": [
              "<IPython.core.display.HTML object>"
            ]
          },
          "metadata": {},
          "output_type": "display_data"
        },
        {
          "metadata": {
            "tags": null
          },
          "name": "stdout",
          "output_type": "stream",
          "text": [
            "In-domain eval_loss: 2.8588783740997314\n",
            "In-domain eval_accuracy: 0.5532118887823586\n",
            "In-domain eval_runtime: 7.117\n",
            "In-domain eval_samples_per_second: 146.551\n",
            "In-domain eval_steps_per_second: 18.407\n",
            "In-domain epoch: 40.0\n",
            "Evaluating out-of-domain performance for n=64...\n"
          ]
        },
        {
          "metadata": {
            "tags": null
          },
          "name": "stderr",
          "output_type": "stream",
          "text": [
            "Some weights of OPTForSequenceClassification were not initialized from the model checkpoint at facebook/opt-125m and are newly initialized: ['score.weight']\n",
            "You should probably TRAIN this model on a down-stream task to be able to use it for predictions and inference.\n"
          ]
        },
        {
          "metadata": {
            "tags": null
          },
          "name": "stdout",
          "output_type": "stream",
          "text": [
            "Out-of-domain eval_loss: 2.830016613006592\n",
            "Out-of-domain eval_accuracy: 0.5523255813953488\n",
            "Out-of-domain eval_runtime: 3.5651\n",
            "Out-of-domain eval_samples_per_second: 144.737\n",
            "Out-of-domain eval_steps_per_second: 18.232\n",
            "Out-of-domain epoch: 40.0\n"
          ]
        },
        {
          "metadata": {
            "tags": null
          },
          "name": "stderr",
          "output_type": "stream",
          "text": [
            "/usr/local/lib/python3.10/dist-packages/transformers/optimization.py:429: FutureWarning: This implementation of AdamW is deprecated and will be removed in a future version. Use the PyTorch implementation torch.optim.AdamW instead, or set `no_deprecation_warning=True` to disable this warning\n",
            "  warnings.warn(\n",
            "/usr/local/lib/python3.10/dist-packages/accelerate/accelerator.py:436: FutureWarning: Passing the following arguments to `Accelerator` is deprecated and will be removed in version 1.0 of Accelerate: dict_keys(['dispatch_batches', 'split_batches', 'even_batches', 'use_seedable_sampler']). Please pass an `accelerate.DataLoaderConfiguration` instead: \n",
            "dataloader_config = DataLoaderConfiguration(dispatch_batches=None, split_batches=False, even_batches=True, use_seedable_sampler=True)\n",
            "  warnings.warn(\n"
          ]
        },
        {
          "data": {
            "text/html": [
              "\n",
              "    <div>\n",
              "      \n",
              "      <progress value='160' max='160' style='width:300px; height:20px; vertical-align: middle;'></progress>\n",
              "      [160/160 01:39, Epoch 40/40]\n",
              "    </div>\n",
              "    <table border=\"1\" class=\"dataframe\">\n",
              "  <thead>\n",
              " <tr style=\"text-align: left;\">\n",
              "      <th>Step</th>\n",
              "      <th>Training Loss</th>\n",
              "    </tr>\n",
              "  </thead>\n",
              "  <tbody>\n",
              "  </tbody>\n",
              "</table><p>"
            ],
            "text/plain": [
              "<IPython.core.display.HTML object>"
            ]
          },
          "metadata": {},
          "output_type": "display_data"
        },
        {
          "metadata": {
            "tags": null
          },
          "name": "stdout",
          "output_type": "stream",
          "text": [
            "Evaluating in-domain performance for n=64...\n"
          ]
        },
        {
          "data": {
            "text/html": [
              "\n",
              "    <div>\n",
              "      \n",
              "      <progress value='196' max='131' style='width:300px; height:20px; vertical-align: middle;'></progress>\n",
              "      [131/131 00:10]\n",
              "    </div>\n",
              "    "
            ],
            "text/plain": [
              "<IPython.core.display.HTML object>"
            ]
          },
          "metadata": {},
          "output_type": "display_data"
        },
        {
          "metadata": {
            "tags": null
          },
          "name": "stdout",
          "output_type": "stream",
          "text": [
            "In-domain eval_loss: 2.8588783740997314\n",
            "In-domain eval_accuracy: 0.5532118887823586\n",
            "In-domain eval_runtime: 7.1038\n",
            "In-domain eval_samples_per_second: 146.824\n",
            "In-domain eval_steps_per_second: 18.441\n",
            "In-domain epoch: 40.0\n",
            "Evaluating out-of-domain performance for n=64...\n"
          ]
        },
        {
          "metadata": {
            "tags": null
          },
          "name": "stderr",
          "output_type": "stream",
          "text": [
            "Some weights of OPTForSequenceClassification were not initialized from the model checkpoint at facebook/opt-125m and are newly initialized: ['score.weight']\n",
            "You should probably TRAIN this model on a down-stream task to be able to use it for predictions and inference.\n"
          ]
        },
        {
          "metadata": {
            "tags": null
          },
          "name": "stdout",
          "output_type": "stream",
          "text": [
            "Out-of-domain eval_loss: 2.830016613006592\n",
            "Out-of-domain eval_accuracy: 0.5523255813953488\n",
            "Out-of-domain eval_runtime: 3.5727\n",
            "Out-of-domain eval_samples_per_second: 144.429\n",
            "Out-of-domain eval_steps_per_second: 18.194\n",
            "Out-of-domain epoch: 40.0\n"
          ]
        },
        {
          "metadata": {
            "tags": null
          },
          "name": "stderr",
          "output_type": "stream",
          "text": [
            "/usr/local/lib/python3.10/dist-packages/transformers/optimization.py:429: FutureWarning: This implementation of AdamW is deprecated and will be removed in a future version. Use the PyTorch implementation torch.optim.AdamW instead, or set `no_deprecation_warning=True` to disable this warning\n",
            "  warnings.warn(\n",
            "/usr/local/lib/python3.10/dist-packages/accelerate/accelerator.py:436: FutureWarning: Passing the following arguments to `Accelerator` is deprecated and will be removed in version 1.0 of Accelerate: dict_keys(['dispatch_batches', 'split_batches', 'even_batches', 'use_seedable_sampler']). Please pass an `accelerate.DataLoaderConfiguration` instead: \n",
            "dataloader_config = DataLoaderConfiguration(dispatch_batches=None, split_batches=False, even_batches=True, use_seedable_sampler=True)\n",
            "  warnings.warn(\n"
          ]
        },
        {
          "data": {
            "text/html": [
              "\n",
              "    <div>\n",
              "      \n",
              "      <progress value='160' max='160' style='width:300px; height:20px; vertical-align: middle;'></progress>\n",
              "      [160/160 01:39, Epoch 40/40]\n",
              "    </div>\n",
              "    <table border=\"1\" class=\"dataframe\">\n",
              "  <thead>\n",
              " <tr style=\"text-align: left;\">\n",
              "      <th>Step</th>\n",
              "      <th>Training Loss</th>\n",
              "    </tr>\n",
              "  </thead>\n",
              "  <tbody>\n",
              "  </tbody>\n",
              "</table><p>"
            ],
            "text/plain": [
              "<IPython.core.display.HTML object>"
            ]
          },
          "metadata": {},
          "output_type": "display_data"
        },
        {
          "metadata": {
            "tags": null
          },
          "name": "stdout",
          "output_type": "stream",
          "text": [
            "Evaluating in-domain performance for n=64...\n"
          ]
        },
        {
          "data": {
            "text/html": [
              "\n",
              "    <div>\n",
              "      \n",
              "      <progress value='196' max='131' style='width:300px; height:20px; vertical-align: middle;'></progress>\n",
              "      [131/131 00:10]\n",
              "    </div>\n",
              "    "
            ],
            "text/plain": [
              "<IPython.core.display.HTML object>"
            ]
          },
          "metadata": {},
          "output_type": "display_data"
        },
        {
          "metadata": {
            "tags": null
          },
          "name": "stdout",
          "output_type": "stream",
          "text": [
            "In-domain eval_loss: 2.8588783740997314\n",
            "In-domain eval_accuracy: 0.5532118887823586\n",
            "In-domain eval_runtime: 7.1268\n",
            "In-domain eval_samples_per_second: 146.349\n",
            "In-domain eval_steps_per_second: 18.381\n",
            "In-domain epoch: 40.0\n",
            "Evaluating out-of-domain performance for n=64...\n"
          ]
        },
        {
          "metadata": {
            "tags": null
          },
          "name": "stderr",
          "output_type": "stream",
          "text": [
            "Some weights of OPTForSequenceClassification were not initialized from the model checkpoint at facebook/opt-125m and are newly initialized: ['score.weight']\n",
            "You should probably TRAIN this model on a down-stream task to be able to use it for predictions and inference.\n"
          ]
        },
        {
          "metadata": {
            "tags": null
          },
          "name": "stdout",
          "output_type": "stream",
          "text": [
            "Out-of-domain eval_loss: 2.830016613006592\n",
            "Out-of-domain eval_accuracy: 0.5523255813953488\n",
            "Out-of-domain eval_runtime: 3.5748\n",
            "Out-of-domain eval_samples_per_second: 144.343\n",
            "Out-of-domain eval_steps_per_second: 18.183\n",
            "Out-of-domain epoch: 40.0\n"
          ]
        },
        {
          "metadata": {
            "tags": null
          },
          "name": "stderr",
          "output_type": "stream",
          "text": [
            "/usr/local/lib/python3.10/dist-packages/transformers/optimization.py:429: FutureWarning: This implementation of AdamW is deprecated and will be removed in a future version. Use the PyTorch implementation torch.optim.AdamW instead, or set `no_deprecation_warning=True` to disable this warning\n",
            "  warnings.warn(\n",
            "/usr/local/lib/python3.10/dist-packages/accelerate/accelerator.py:436: FutureWarning: Passing the following arguments to `Accelerator` is deprecated and will be removed in version 1.0 of Accelerate: dict_keys(['dispatch_batches', 'split_batches', 'even_batches', 'use_seedable_sampler']). Please pass an `accelerate.DataLoaderConfiguration` instead: \n",
            "dataloader_config = DataLoaderConfiguration(dispatch_batches=None, split_batches=False, even_batches=True, use_seedable_sampler=True)\n",
            "  warnings.warn(\n"
          ]
        },
        {
          "data": {
            "text/html": [
              "\n",
              "    <div>\n",
              "      \n",
              "      <progress value='160' max='160' style='width:300px; height:20px; vertical-align: middle;'></progress>\n",
              "      [160/160 01:39, Epoch 40/40]\n",
              "    </div>\n",
              "    <table border=\"1\" class=\"dataframe\">\n",
              "  <thead>\n",
              " <tr style=\"text-align: left;\">\n",
              "      <th>Step</th>\n",
              "      <th>Training Loss</th>\n",
              "    </tr>\n",
              "  </thead>\n",
              "  <tbody>\n",
              "  </tbody>\n",
              "</table><p>"
            ],
            "text/plain": [
              "<IPython.core.display.HTML object>"
            ]
          },
          "metadata": {},
          "output_type": "display_data"
        },
        {
          "metadata": {
            "tags": null
          },
          "name": "stdout",
          "output_type": "stream",
          "text": [
            "Evaluating in-domain performance for n=64...\n"
          ]
        },
        {
          "data": {
            "text/html": [
              "\n",
              "    <div>\n",
              "      \n",
              "      <progress value='196' max='131' style='width:300px; height:20px; vertical-align: middle;'></progress>\n",
              "      [131/131 00:10]\n",
              "    </div>\n",
              "    "
            ],
            "text/plain": [
              "<IPython.core.display.HTML object>"
            ]
          },
          "metadata": {},
          "output_type": "display_data"
        },
        {
          "metadata": {
            "tags": null
          },
          "name": "stdout",
          "output_type": "stream",
          "text": [
            "In-domain eval_loss: 2.8588783740997314\n",
            "In-domain eval_accuracy: 0.5532118887823586\n",
            "In-domain eval_runtime: 7.1084\n",
            "In-domain eval_samples_per_second: 146.727\n",
            "In-domain eval_steps_per_second: 18.429\n",
            "In-domain epoch: 40.0\n",
            "Evaluating out-of-domain performance for n=64...\n"
          ]
        },
        {
          "metadata": {
            "tags": null
          },
          "name": "stderr",
          "output_type": "stream",
          "text": [
            "Some weights of OPTForSequenceClassification were not initialized from the model checkpoint at facebook/opt-125m and are newly initialized: ['score.weight']\n",
            "You should probably TRAIN this model on a down-stream task to be able to use it for predictions and inference.\n"
          ]
        },
        {
          "metadata": {
            "tags": null
          },
          "name": "stdout",
          "output_type": "stream",
          "text": [
            "Out-of-domain eval_loss: 2.830016613006592\n",
            "Out-of-domain eval_accuracy: 0.5523255813953488\n",
            "Out-of-domain eval_runtime: 3.5623\n",
            "Out-of-domain eval_samples_per_second: 144.849\n",
            "Out-of-domain eval_steps_per_second: 18.246\n",
            "Out-of-domain epoch: 40.0\n"
          ]
        },
        {
          "metadata": {
            "tags": null
          },
          "name": "stderr",
          "output_type": "stream",
          "text": [
            "/usr/local/lib/python3.10/dist-packages/transformers/optimization.py:429: FutureWarning: This implementation of AdamW is deprecated and will be removed in a future version. Use the PyTorch implementation torch.optim.AdamW instead, or set `no_deprecation_warning=True` to disable this warning\n",
            "  warnings.warn(\n",
            "/usr/local/lib/python3.10/dist-packages/accelerate/accelerator.py:436: FutureWarning: Passing the following arguments to `Accelerator` is deprecated and will be removed in version 1.0 of Accelerate: dict_keys(['dispatch_batches', 'split_batches', 'even_batches', 'use_seedable_sampler']). Please pass an `accelerate.DataLoaderConfiguration` instead: \n",
            "dataloader_config = DataLoaderConfiguration(dispatch_batches=None, split_batches=False, even_batches=True, use_seedable_sampler=True)\n",
            "  warnings.warn(\n"
          ]
        },
        {
          "data": {
            "text/html": [
              "\n",
              "    <div>\n",
              "      \n",
              "      <progress value='160' max='160' style='width:300px; height:20px; vertical-align: middle;'></progress>\n",
              "      [160/160 01:39, Epoch 40/40]\n",
              "    </div>\n",
              "    <table border=\"1\" class=\"dataframe\">\n",
              "  <thead>\n",
              " <tr style=\"text-align: left;\">\n",
              "      <th>Step</th>\n",
              "      <th>Training Loss</th>\n",
              "    </tr>\n",
              "  </thead>\n",
              "  <tbody>\n",
              "  </tbody>\n",
              "</table><p>"
            ],
            "text/plain": [
              "<IPython.core.display.HTML object>"
            ]
          },
          "metadata": {},
          "output_type": "display_data"
        },
        {
          "metadata": {
            "tags": null
          },
          "name": "stdout",
          "output_type": "stream",
          "text": [
            "Evaluating in-domain performance for n=64...\n"
          ]
        },
        {
          "data": {
            "text/html": [
              "\n",
              "    <div>\n",
              "      \n",
              "      <progress value='196' max='131' style='width:300px; height:20px; vertical-align: middle;'></progress>\n",
              "      [131/131 00:10]\n",
              "    </div>\n",
              "    "
            ],
            "text/plain": [
              "<IPython.core.display.HTML object>"
            ]
          },
          "metadata": {},
          "output_type": "display_data"
        },
        {
          "metadata": {
            "tags": null
          },
          "name": "stdout",
          "output_type": "stream",
          "text": [
            "In-domain eval_loss: 2.8588783740997314\n",
            "In-domain eval_accuracy: 0.5532118887823586\n",
            "In-domain eval_runtime: 7.1074\n",
            "In-domain eval_samples_per_second: 146.749\n",
            "In-domain eval_steps_per_second: 18.432\n",
            "In-domain epoch: 40.0\n",
            "Evaluating out-of-domain performance for n=64...\n"
          ]
        },
        {
          "metadata": {
            "tags": null
          },
          "name": "stderr",
          "output_type": "stream",
          "text": [
            "Some weights of OPTForSequenceClassification were not initialized from the model checkpoint at facebook/opt-125m and are newly initialized: ['score.weight']\n",
            "You should probably TRAIN this model on a down-stream task to be able to use it for predictions and inference.\n"
          ]
        },
        {
          "metadata": {
            "tags": null
          },
          "name": "stdout",
          "output_type": "stream",
          "text": [
            "Out-of-domain eval_loss: 2.830016613006592\n",
            "Out-of-domain eval_accuracy: 0.5523255813953488\n",
            "Out-of-domain eval_runtime: 3.5879\n",
            "Out-of-domain eval_samples_per_second: 143.817\n",
            "Out-of-domain eval_steps_per_second: 18.116\n",
            "Out-of-domain epoch: 40.0\n"
          ]
        },
        {
          "metadata": {
            "tags": null
          },
          "name": "stderr",
          "output_type": "stream",
          "text": [
            "/usr/local/lib/python3.10/dist-packages/transformers/optimization.py:429: FutureWarning: This implementation of AdamW is deprecated and will be removed in a future version. Use the PyTorch implementation torch.optim.AdamW instead, or set `no_deprecation_warning=True` to disable this warning\n",
            "  warnings.warn(\n",
            "/usr/local/lib/python3.10/dist-packages/accelerate/accelerator.py:436: FutureWarning: Passing the following arguments to `Accelerator` is deprecated and will be removed in version 1.0 of Accelerate: dict_keys(['dispatch_batches', 'split_batches', 'even_batches', 'use_seedable_sampler']). Please pass an `accelerate.DataLoaderConfiguration` instead: \n",
            "dataloader_config = DataLoaderConfiguration(dispatch_batches=None, split_batches=False, even_batches=True, use_seedable_sampler=True)\n",
            "  warnings.warn(\n"
          ]
        },
        {
          "data": {
            "text/html": [
              "\n",
              "    <div>\n",
              "      \n",
              "      <progress value='160' max='160' style='width:300px; height:20px; vertical-align: middle;'></progress>\n",
              "      [160/160 01:39, Epoch 40/40]\n",
              "    </div>\n",
              "    <table border=\"1\" class=\"dataframe\">\n",
              "  <thead>\n",
              " <tr style=\"text-align: left;\">\n",
              "      <th>Step</th>\n",
              "      <th>Training Loss</th>\n",
              "    </tr>\n",
              "  </thead>\n",
              "  <tbody>\n",
              "  </tbody>\n",
              "</table><p>"
            ],
            "text/plain": [
              "<IPython.core.display.HTML object>"
            ]
          },
          "metadata": {},
          "output_type": "display_data"
        },
        {
          "metadata": {
            "tags": null
          },
          "name": "stdout",
          "output_type": "stream",
          "text": [
            "Evaluating in-domain performance for n=64...\n"
          ]
        },
        {
          "data": {
            "text/html": [
              "\n",
              "    <div>\n",
              "      \n",
              "      <progress value='196' max='131' style='width:300px; height:20px; vertical-align: middle;'></progress>\n",
              "      [131/131 00:10]\n",
              "    </div>\n",
              "    "
            ],
            "text/plain": [
              "<IPython.core.display.HTML object>"
            ]
          },
          "metadata": {},
          "output_type": "display_data"
        },
        {
          "metadata": {
            "tags": null
          },
          "name": "stdout",
          "output_type": "stream",
          "text": [
            "In-domain eval_loss: 2.8588783740997314\n",
            "In-domain eval_accuracy: 0.5532118887823586\n",
            "In-domain eval_runtime: 7.1084\n",
            "In-domain eval_samples_per_second: 146.727\n",
            "In-domain eval_steps_per_second: 18.429\n",
            "In-domain epoch: 40.0\n",
            "Evaluating out-of-domain performance for n=64...\n"
          ]
        },
        {
          "metadata": {
            "tags": null
          },
          "name": "stderr",
          "output_type": "stream",
          "text": [
            "Some weights of OPTForSequenceClassification were not initialized from the model checkpoint at facebook/opt-125m and are newly initialized: ['score.weight']\n",
            "You should probably TRAIN this model on a down-stream task to be able to use it for predictions and inference.\n"
          ]
        },
        {
          "metadata": {
            "tags": null
          },
          "name": "stdout",
          "output_type": "stream",
          "text": [
            "Out-of-domain eval_loss: 2.830016613006592\n",
            "Out-of-domain eval_accuracy: 0.5523255813953488\n",
            "Out-of-domain eval_runtime: 3.5686\n",
            "Out-of-domain eval_samples_per_second: 144.596\n",
            "Out-of-domain eval_steps_per_second: 18.215\n",
            "Out-of-domain epoch: 40.0\n"
          ]
        },
        {
          "metadata": {
            "tags": null
          },
          "name": "stderr",
          "output_type": "stream",
          "text": [
            "/usr/local/lib/python3.10/dist-packages/transformers/optimization.py:429: FutureWarning: This implementation of AdamW is deprecated and will be removed in a future version. Use the PyTorch implementation torch.optim.AdamW instead, or set `no_deprecation_warning=True` to disable this warning\n",
            "  warnings.warn(\n",
            "/usr/local/lib/python3.10/dist-packages/accelerate/accelerator.py:436: FutureWarning: Passing the following arguments to `Accelerator` is deprecated and will be removed in version 1.0 of Accelerate: dict_keys(['dispatch_batches', 'split_batches', 'even_batches', 'use_seedable_sampler']). Please pass an `accelerate.DataLoaderConfiguration` instead: \n",
            "dataloader_config = DataLoaderConfiguration(dispatch_batches=None, split_batches=False, even_batches=True, use_seedable_sampler=True)\n",
            "  warnings.warn(\n"
          ]
        },
        {
          "data": {
            "text/html": [
              "\n",
              "    <div>\n",
              "      \n",
              "      <progress value='320' max='320' style='width:300px; height:20px; vertical-align: middle;'></progress>\n",
              "      [320/320 03:19, Epoch 40/40]\n",
              "    </div>\n",
              "    <table border=\"1\" class=\"dataframe\">\n",
              "  <thead>\n",
              " <tr style=\"text-align: left;\">\n",
              "      <th>Step</th>\n",
              "      <th>Training Loss</th>\n",
              "    </tr>\n",
              "  </thead>\n",
              "  <tbody>\n",
              "  </tbody>\n",
              "</table><p>"
            ],
            "text/plain": [
              "<IPython.core.display.HTML object>"
            ]
          },
          "metadata": {},
          "output_type": "display_data"
        },
        {
          "metadata": {
            "tags": null
          },
          "name": "stdout",
          "output_type": "stream",
          "text": [
            "Evaluating in-domain performance for n=128...\n"
          ]
        },
        {
          "data": {
            "text/html": [
              "\n",
              "    <div>\n",
              "      \n",
              "      <progress value='196' max='131' style='width:300px; height:20px; vertical-align: middle;'></progress>\n",
              "      [131/131 00:10]\n",
              "    </div>\n",
              "    "
            ],
            "text/plain": [
              "<IPython.core.display.HTML object>"
            ]
          },
          "metadata": {},
          "output_type": "display_data"
        },
        {
          "metadata": {
            "tags": null
          },
          "name": "stdout",
          "output_type": "stream",
          "text": [
            "In-domain eval_loss: 2.9655306339263916\n",
            "In-domain eval_accuracy: 0.6251198465963567\n",
            "In-domain eval_runtime: 7.1096\n",
            "In-domain eval_samples_per_second: 146.703\n",
            "In-domain eval_steps_per_second: 18.426\n",
            "In-domain epoch: 40.0\n",
            "Evaluating out-of-domain performance for n=128...\n"
          ]
        },
        {
          "metadata": {
            "tags": null
          },
          "name": "stderr",
          "output_type": "stream",
          "text": [
            "Some weights of OPTForSequenceClassification were not initialized from the model checkpoint at facebook/opt-125m and are newly initialized: ['score.weight']\n",
            "You should probably TRAIN this model on a down-stream task to be able to use it for predictions and inference.\n"
          ]
        },
        {
          "metadata": {
            "tags": null
          },
          "name": "stdout",
          "output_type": "stream",
          "text": [
            "Out-of-domain eval_loss: 2.9015281200408936\n",
            "Out-of-domain eval_accuracy: 0.625968992248062\n",
            "Out-of-domain eval_runtime: 3.5541\n",
            "Out-of-domain eval_samples_per_second: 145.185\n",
            "Out-of-domain eval_steps_per_second: 18.289\n",
            "Out-of-domain epoch: 40.0\n"
          ]
        },
        {
          "metadata": {
            "tags": null
          },
          "name": "stderr",
          "output_type": "stream",
          "text": [
            "/usr/local/lib/python3.10/dist-packages/transformers/optimization.py:429: FutureWarning: This implementation of AdamW is deprecated and will be removed in a future version. Use the PyTorch implementation torch.optim.AdamW instead, or set `no_deprecation_warning=True` to disable this warning\n",
            "  warnings.warn(\n",
            "/usr/local/lib/python3.10/dist-packages/accelerate/accelerator.py:436: FutureWarning: Passing the following arguments to `Accelerator` is deprecated and will be removed in version 1.0 of Accelerate: dict_keys(['dispatch_batches', 'split_batches', 'even_batches', 'use_seedable_sampler']). Please pass an `accelerate.DataLoaderConfiguration` instead: \n",
            "dataloader_config = DataLoaderConfiguration(dispatch_batches=None, split_batches=False, even_batches=True, use_seedable_sampler=True)\n",
            "  warnings.warn(\n"
          ]
        },
        {
          "data": {
            "text/html": [
              "\n",
              "    <div>\n",
              "      \n",
              "      <progress value='320' max='320' style='width:300px; height:20px; vertical-align: middle;'></progress>\n",
              "      [320/320 03:19, Epoch 40/40]\n",
              "    </div>\n",
              "    <table border=\"1\" class=\"dataframe\">\n",
              "  <thead>\n",
              " <tr style=\"text-align: left;\">\n",
              "      <th>Step</th>\n",
              "      <th>Training Loss</th>\n",
              "    </tr>\n",
              "  </thead>\n",
              "  <tbody>\n",
              "  </tbody>\n",
              "</table><p>"
            ],
            "text/plain": [
              "<IPython.core.display.HTML object>"
            ]
          },
          "metadata": {},
          "output_type": "display_data"
        },
        {
          "metadata": {
            "tags": null
          },
          "name": "stdout",
          "output_type": "stream",
          "text": [
            "Evaluating in-domain performance for n=128...\n"
          ]
        },
        {
          "data": {
            "text/html": [
              "\n",
              "    <div>\n",
              "      \n",
              "      <progress value='196' max='131' style='width:300px; height:20px; vertical-align: middle;'></progress>\n",
              "      [131/131 00:10]\n",
              "    </div>\n",
              "    "
            ],
            "text/plain": [
              "<IPython.core.display.HTML object>"
            ]
          },
          "metadata": {},
          "output_type": "display_data"
        },
        {
          "metadata": {
            "tags": null
          },
          "name": "stdout",
          "output_type": "stream",
          "text": [
            "In-domain eval_loss: 2.5445468425750732\n",
            "In-domain eval_accuracy: 0.6414189837008629\n",
            "In-domain eval_runtime: 7.1257\n",
            "In-domain eval_samples_per_second: 146.373\n",
            "In-domain eval_steps_per_second: 18.384\n",
            "In-domain epoch: 40.0\n",
            "Evaluating out-of-domain performance for n=128...\n"
          ]
        },
        {
          "metadata": {
            "tags": null
          },
          "name": "stderr",
          "output_type": "stream",
          "text": [
            "Some weights of OPTForSequenceClassification were not initialized from the model checkpoint at facebook/opt-125m and are newly initialized: ['score.weight']\n",
            "You should probably TRAIN this model on a down-stream task to be able to use it for predictions and inference.\n"
          ]
        },
        {
          "metadata": {
            "tags": null
          },
          "name": "stdout",
          "output_type": "stream",
          "text": [
            "Out-of-domain eval_loss: 2.4546854496002197\n",
            "Out-of-domain eval_accuracy: 0.6317829457364341\n",
            "Out-of-domain eval_runtime: 3.5929\n",
            "Out-of-domain eval_samples_per_second: 143.618\n",
            "Out-of-domain eval_steps_per_second: 18.091\n",
            "Out-of-domain epoch: 40.0\n"
          ]
        },
        {
          "metadata": {
            "tags": null
          },
          "name": "stderr",
          "output_type": "stream",
          "text": [
            "/usr/local/lib/python3.10/dist-packages/transformers/optimization.py:429: FutureWarning: This implementation of AdamW is deprecated and will be removed in a future version. Use the PyTorch implementation torch.optim.AdamW instead, or set `no_deprecation_warning=True` to disable this warning\n",
            "  warnings.warn(\n",
            "/usr/local/lib/python3.10/dist-packages/accelerate/accelerator.py:436: FutureWarning: Passing the following arguments to `Accelerator` is deprecated and will be removed in version 1.0 of Accelerate: dict_keys(['dispatch_batches', 'split_batches', 'even_batches', 'use_seedable_sampler']). Please pass an `accelerate.DataLoaderConfiguration` instead: \n",
            "dataloader_config = DataLoaderConfiguration(dispatch_batches=None, split_batches=False, even_batches=True, use_seedable_sampler=True)\n",
            "  warnings.warn(\n"
          ]
        },
        {
          "data": {
            "text/html": [
              "\n",
              "    <div>\n",
              "      \n",
              "      <progress value='212' max='320' style='width:300px; height:20px; vertical-align: middle;'></progress>\n",
              "      [212/320 02:11 < 01:07, 1.60 it/s, Epoch 26.38/40]\n",
              "    </div>\n",
              "    <table border=\"1\" class=\"dataframe\">\n",
              "  <thead>\n",
              " <tr style=\"text-align: left;\">\n",
              "      <th>Step</th>\n",
              "      <th>Training Loss</th>\n",
              "    </tr>\n",
              "  </thead>\n",
              "  <tbody>\n",
              "  </tbody>\n",
              "</table><p>"
            ],
            "text/plain": [
              "<IPython.core.display.HTML object>"
            ]
          },
          "metadata": {},
          "output_type": "display_data"
        },
        {
          "output_type": "display_data",
          "data": {
            "text/plain": [
              "<IPython.core.display.HTML object>"
            ],
            "text/html": [
              "\n",
              "    <div>\n",
              "      \n",
              "      <progress value='320' max='320' style='width:300px; height:20px; vertical-align: middle;'></progress>\n",
              "      [320/320 03:19, Epoch 40/40]\n",
              "    </div>\n",
              "    <table border=\"1\" class=\"dataframe\">\n",
              "  <thead>\n",
              " <tr style=\"text-align: left;\">\n",
              "      <th>Step</th>\n",
              "      <th>Training Loss</th>\n",
              "    </tr>\n",
              "  </thead>\n",
              "  <tbody>\n",
              "  </tbody>\n",
              "</table><p>"
            ]
          },
          "metadata": {}
        },
        {
          "output_type": "stream",
          "name": "stdout",
          "text": [
            "Evaluating in-domain performance for n=128...\n"
          ]
        },
        {
          "output_type": "display_data",
          "data": {
            "text/plain": [
              "<IPython.core.display.HTML object>"
            ],
            "text/html": [
              "\n",
              "    <div>\n",
              "      \n",
              "      <progress value='196' max='131' style='width:300px; height:20px; vertical-align: middle;'></progress>\n",
              "      [131/131 00:10]\n",
              "    </div>\n",
              "    "
            ]
          },
          "metadata": {}
        },
        {
          "output_type": "stream",
          "name": "stdout",
          "text": [
            "In-domain eval_loss: 2.5445468425750732\n",
            "In-domain eval_accuracy: 0.6414189837008629\n",
            "In-domain eval_runtime: 7.1262\n",
            "In-domain eval_samples_per_second: 146.361\n",
            "In-domain eval_steps_per_second: 18.383\n",
            "In-domain epoch: 40.0\n",
            "Evaluating out-of-domain performance for n=128...\n"
          ]
        },
        {
          "output_type": "stream",
          "name": "stderr",
          "text": [
            "Some weights of OPTForSequenceClassification were not initialized from the model checkpoint at facebook/opt-125m and are newly initialized: ['score.weight']\n",
            "You should probably TRAIN this model on a down-stream task to be able to use it for predictions and inference.\n"
          ]
        },
        {
          "output_type": "stream",
          "name": "stdout",
          "text": [
            "Out-of-domain eval_loss: 2.4546854496002197\n",
            "Out-of-domain eval_accuracy: 0.6317829457364341\n",
            "Out-of-domain eval_runtime: 3.5689\n",
            "Out-of-domain eval_samples_per_second: 144.583\n",
            "Out-of-domain eval_steps_per_second: 18.213\n",
            "Out-of-domain epoch: 40.0\n"
          ]
        },
        {
          "output_type": "stream",
          "name": "stderr",
          "text": [
            "/usr/local/lib/python3.10/dist-packages/transformers/optimization.py:429: FutureWarning: This implementation of AdamW is deprecated and will be removed in a future version. Use the PyTorch implementation torch.optim.AdamW instead, or set `no_deprecation_warning=True` to disable this warning\n",
            "  warnings.warn(\n",
            "/usr/local/lib/python3.10/dist-packages/accelerate/accelerator.py:436: FutureWarning: Passing the following arguments to `Accelerator` is deprecated and will be removed in version 1.0 of Accelerate: dict_keys(['dispatch_batches', 'split_batches', 'even_batches', 'use_seedable_sampler']). Please pass an `accelerate.DataLoaderConfiguration` instead: \n",
            "dataloader_config = DataLoaderConfiguration(dispatch_batches=None, split_batches=False, even_batches=True, use_seedable_sampler=True)\n",
            "  warnings.warn(\n"
          ]
        },
        {
          "output_type": "display_data",
          "data": {
            "text/plain": [
              "<IPython.core.display.HTML object>"
            ],
            "text/html": [
              "\n",
              "    <div>\n",
              "      \n",
              "      <progress value='320' max='320' style='width:300px; height:20px; vertical-align: middle;'></progress>\n",
              "      [320/320 03:20, Epoch 40/40]\n",
              "    </div>\n",
              "    <table border=\"1\" class=\"dataframe\">\n",
              "  <thead>\n",
              " <tr style=\"text-align: left;\">\n",
              "      <th>Step</th>\n",
              "      <th>Training Loss</th>\n",
              "    </tr>\n",
              "  </thead>\n",
              "  <tbody>\n",
              "  </tbody>\n",
              "</table><p>"
            ]
          },
          "metadata": {}
        },
        {
          "output_type": "stream",
          "name": "stdout",
          "text": [
            "Evaluating in-domain performance for n=128...\n"
          ]
        },
        {
          "output_type": "display_data",
          "data": {
            "text/plain": [
              "<IPython.core.display.HTML object>"
            ],
            "text/html": [
              "\n",
              "    <div>\n",
              "      \n",
              "      <progress value='196' max='131' style='width:300px; height:20px; vertical-align: middle;'></progress>\n",
              "      [131/131 00:10]\n",
              "    </div>\n",
              "    "
            ]
          },
          "metadata": {}
        },
        {
          "output_type": "stream",
          "name": "stdout",
          "text": [
            "In-domain eval_loss: 2.5445468425750732\n",
            "In-domain eval_accuracy: 0.6414189837008629\n",
            "In-domain eval_runtime: 7.1129\n",
            "In-domain eval_samples_per_second: 146.634\n",
            "In-domain eval_steps_per_second: 18.417\n",
            "In-domain epoch: 40.0\n",
            "Evaluating out-of-domain performance for n=128...\n"
          ]
        },
        {
          "output_type": "stream",
          "name": "stderr",
          "text": [
            "Some weights of OPTForSequenceClassification were not initialized from the model checkpoint at facebook/opt-125m and are newly initialized: ['score.weight']\n",
            "You should probably TRAIN this model on a down-stream task to be able to use it for predictions and inference.\n"
          ]
        },
        {
          "output_type": "stream",
          "name": "stdout",
          "text": [
            "Out-of-domain eval_loss: 2.4546854496002197\n",
            "Out-of-domain eval_accuracy: 0.6317829457364341\n",
            "Out-of-domain eval_runtime: 3.5873\n",
            "Out-of-domain eval_samples_per_second: 143.841\n",
            "Out-of-domain eval_steps_per_second: 18.12\n",
            "Out-of-domain epoch: 40.0\n"
          ]
        },
        {
          "output_type": "stream",
          "name": "stderr",
          "text": [
            "/usr/local/lib/python3.10/dist-packages/transformers/optimization.py:429: FutureWarning: This implementation of AdamW is deprecated and will be removed in a future version. Use the PyTorch implementation torch.optim.AdamW instead, or set `no_deprecation_warning=True` to disable this warning\n",
            "  warnings.warn(\n",
            "/usr/local/lib/python3.10/dist-packages/accelerate/accelerator.py:436: FutureWarning: Passing the following arguments to `Accelerator` is deprecated and will be removed in version 1.0 of Accelerate: dict_keys(['dispatch_batches', 'split_batches', 'even_batches', 'use_seedable_sampler']). Please pass an `accelerate.DataLoaderConfiguration` instead: \n",
            "dataloader_config = DataLoaderConfiguration(dispatch_batches=None, split_batches=False, even_batches=True, use_seedable_sampler=True)\n",
            "  warnings.warn(\n"
          ]
        },
        {
          "output_type": "display_data",
          "data": {
            "text/plain": [
              "<IPython.core.display.HTML object>"
            ],
            "text/html": [
              "\n",
              "    <div>\n",
              "      \n",
              "      <progress value='320' max='320' style='width:300px; height:20px; vertical-align: middle;'></progress>\n",
              "      [320/320 03:20, Epoch 40/40]\n",
              "    </div>\n",
              "    <table border=\"1\" class=\"dataframe\">\n",
              "  <thead>\n",
              " <tr style=\"text-align: left;\">\n",
              "      <th>Step</th>\n",
              "      <th>Training Loss</th>\n",
              "    </tr>\n",
              "  </thead>\n",
              "  <tbody>\n",
              "  </tbody>\n",
              "</table><p>"
            ]
          },
          "metadata": {}
        },
        {
          "output_type": "stream",
          "name": "stdout",
          "text": [
            "Evaluating in-domain performance for n=128...\n"
          ]
        },
        {
          "output_type": "display_data",
          "data": {
            "text/plain": [
              "<IPython.core.display.HTML object>"
            ],
            "text/html": [
              "\n",
              "    <div>\n",
              "      \n",
              "      <progress value='196' max='131' style='width:300px; height:20px; vertical-align: middle;'></progress>\n",
              "      [131/131 00:10]\n",
              "    </div>\n",
              "    "
            ]
          },
          "metadata": {}
        },
        {
          "output_type": "stream",
          "name": "stdout",
          "text": [
            "In-domain eval_loss: 2.5445468425750732\n",
            "In-domain eval_accuracy: 0.6414189837008629\n",
            "In-domain eval_runtime: 7.1195\n",
            "In-domain eval_samples_per_second: 146.498\n",
            "In-domain eval_steps_per_second: 18.4\n",
            "In-domain epoch: 40.0\n",
            "Evaluating out-of-domain performance for n=128...\n"
          ]
        },
        {
          "output_type": "stream",
          "name": "stderr",
          "text": [
            "Some weights of OPTForSequenceClassification were not initialized from the model checkpoint at facebook/opt-125m and are newly initialized: ['score.weight']\n",
            "You should probably TRAIN this model on a down-stream task to be able to use it for predictions and inference.\n"
          ]
        },
        {
          "output_type": "stream",
          "name": "stdout",
          "text": [
            "Out-of-domain eval_loss: 2.4546854496002197\n",
            "Out-of-domain eval_accuracy: 0.6317829457364341\n",
            "Out-of-domain eval_runtime: 3.5757\n",
            "Out-of-domain eval_samples_per_second: 144.309\n",
            "Out-of-domain eval_steps_per_second: 18.178\n",
            "Out-of-domain epoch: 40.0\n"
          ]
        },
        {
          "output_type": "stream",
          "name": "stderr",
          "text": [
            "/usr/local/lib/python3.10/dist-packages/transformers/optimization.py:429: FutureWarning: This implementation of AdamW is deprecated and will be removed in a future version. Use the PyTorch implementation torch.optim.AdamW instead, or set `no_deprecation_warning=True` to disable this warning\n",
            "  warnings.warn(\n",
            "/usr/local/lib/python3.10/dist-packages/accelerate/accelerator.py:436: FutureWarning: Passing the following arguments to `Accelerator` is deprecated and will be removed in version 1.0 of Accelerate: dict_keys(['dispatch_batches', 'split_batches', 'even_batches', 'use_seedable_sampler']). Please pass an `accelerate.DataLoaderConfiguration` instead: \n",
            "dataloader_config = DataLoaderConfiguration(dispatch_batches=None, split_batches=False, even_batches=True, use_seedable_sampler=True)\n",
            "  warnings.warn(\n"
          ]
        },
        {
          "output_type": "display_data",
          "data": {
            "text/plain": [
              "<IPython.core.display.HTML object>"
            ],
            "text/html": [
              "\n",
              "    <div>\n",
              "      \n",
              "      <progress value='320' max='320' style='width:300px; height:20px; vertical-align: middle;'></progress>\n",
              "      [320/320 03:19, Epoch 40/40]\n",
              "    </div>\n",
              "    <table border=\"1\" class=\"dataframe\">\n",
              "  <thead>\n",
              " <tr style=\"text-align: left;\">\n",
              "      <th>Step</th>\n",
              "      <th>Training Loss</th>\n",
              "    </tr>\n",
              "  </thead>\n",
              "  <tbody>\n",
              "  </tbody>\n",
              "</table><p>"
            ]
          },
          "metadata": {}
        },
        {
          "output_type": "stream",
          "name": "stdout",
          "text": [
            "Evaluating in-domain performance for n=128...\n"
          ]
        },
        {
          "output_type": "display_data",
          "data": {
            "text/plain": [
              "<IPython.core.display.HTML object>"
            ],
            "text/html": [
              "\n",
              "    <div>\n",
              "      \n",
              "      <progress value='196' max='131' style='width:300px; height:20px; vertical-align: middle;'></progress>\n",
              "      [131/131 00:10]\n",
              "    </div>\n",
              "    "
            ]
          },
          "metadata": {}
        },
        {
          "output_type": "stream",
          "name": "stdout",
          "text": [
            "In-domain eval_loss: 2.5445468425750732\n",
            "In-domain eval_accuracy: 0.6414189837008629\n",
            "In-domain eval_runtime: 7.1397\n",
            "In-domain eval_samples_per_second: 146.084\n",
            "In-domain eval_steps_per_second: 18.348\n",
            "In-domain epoch: 40.0\n",
            "Evaluating out-of-domain performance for n=128...\n"
          ]
        },
        {
          "output_type": "stream",
          "name": "stderr",
          "text": [
            "Some weights of OPTForSequenceClassification were not initialized from the model checkpoint at facebook/opt-125m and are newly initialized: ['score.weight']\n",
            "You should probably TRAIN this model on a down-stream task to be able to use it for predictions and inference.\n"
          ]
        },
        {
          "output_type": "stream",
          "name": "stdout",
          "text": [
            "Out-of-domain eval_loss: 2.4546854496002197\n",
            "Out-of-domain eval_accuracy: 0.6317829457364341\n",
            "Out-of-domain eval_runtime: 3.5739\n",
            "Out-of-domain eval_samples_per_second: 144.382\n",
            "Out-of-domain eval_steps_per_second: 18.188\n",
            "Out-of-domain epoch: 40.0\n"
          ]
        },
        {
          "output_type": "stream",
          "name": "stderr",
          "text": [
            "/usr/local/lib/python3.10/dist-packages/transformers/optimization.py:429: FutureWarning: This implementation of AdamW is deprecated and will be removed in a future version. Use the PyTorch implementation torch.optim.AdamW instead, or set `no_deprecation_warning=True` to disable this warning\n",
            "  warnings.warn(\n",
            "/usr/local/lib/python3.10/dist-packages/accelerate/accelerator.py:436: FutureWarning: Passing the following arguments to `Accelerator` is deprecated and will be removed in version 1.0 of Accelerate: dict_keys(['dispatch_batches', 'split_batches', 'even_batches', 'use_seedable_sampler']). Please pass an `accelerate.DataLoaderConfiguration` instead: \n",
            "dataloader_config = DataLoaderConfiguration(dispatch_batches=None, split_batches=False, even_batches=True, use_seedable_sampler=True)\n",
            "  warnings.warn(\n"
          ]
        },
        {
          "output_type": "display_data",
          "data": {
            "text/plain": [
              "<IPython.core.display.HTML object>"
            ],
            "text/html": [
              "\n",
              "    <div>\n",
              "      \n",
              "      <progress value='320' max='320' style='width:300px; height:20px; vertical-align: middle;'></progress>\n",
              "      [320/320 03:20, Epoch 40/40]\n",
              "    </div>\n",
              "    <table border=\"1\" class=\"dataframe\">\n",
              "  <thead>\n",
              " <tr style=\"text-align: left;\">\n",
              "      <th>Step</th>\n",
              "      <th>Training Loss</th>\n",
              "    </tr>\n",
              "  </thead>\n",
              "  <tbody>\n",
              "  </tbody>\n",
              "</table><p>"
            ]
          },
          "metadata": {}
        },
        {
          "output_type": "stream",
          "name": "stdout",
          "text": [
            "Evaluating in-domain performance for n=128...\n"
          ]
        },
        {
          "output_type": "display_data",
          "data": {
            "text/plain": [
              "<IPython.core.display.HTML object>"
            ],
            "text/html": [
              "\n",
              "    <div>\n",
              "      \n",
              "      <progress value='196' max='131' style='width:300px; height:20px; vertical-align: middle;'></progress>\n",
              "      [131/131 00:10]\n",
              "    </div>\n",
              "    "
            ]
          },
          "metadata": {}
        },
        {
          "output_type": "stream",
          "name": "stdout",
          "text": [
            "In-domain eval_loss: 2.5445468425750732\n",
            "In-domain eval_accuracy: 0.6414189837008629\n",
            "In-domain eval_runtime: 7.1248\n",
            "In-domain eval_samples_per_second: 146.391\n",
            "In-domain eval_steps_per_second: 18.387\n",
            "In-domain epoch: 40.0\n",
            "Evaluating out-of-domain performance for n=128...\n"
          ]
        },
        {
          "output_type": "stream",
          "name": "stderr",
          "text": [
            "Some weights of OPTForSequenceClassification were not initialized from the model checkpoint at facebook/opt-125m and are newly initialized: ['score.weight']\n",
            "You should probably TRAIN this model on a down-stream task to be able to use it for predictions and inference.\n"
          ]
        },
        {
          "output_type": "stream",
          "name": "stdout",
          "text": [
            "Out-of-domain eval_loss: 2.4546854496002197\n",
            "Out-of-domain eval_accuracy: 0.6317829457364341\n",
            "Out-of-domain eval_runtime: 3.5756\n",
            "Out-of-domain eval_samples_per_second: 144.311\n",
            "Out-of-domain eval_steps_per_second: 18.179\n",
            "Out-of-domain epoch: 40.0\n"
          ]
        },
        {
          "output_type": "stream",
          "name": "stderr",
          "text": [
            "/usr/local/lib/python3.10/dist-packages/transformers/optimization.py:429: FutureWarning: This implementation of AdamW is deprecated and will be removed in a future version. Use the PyTorch implementation torch.optim.AdamW instead, or set `no_deprecation_warning=True` to disable this warning\n",
            "  warnings.warn(\n",
            "/usr/local/lib/python3.10/dist-packages/accelerate/accelerator.py:436: FutureWarning: Passing the following arguments to `Accelerator` is deprecated and will be removed in version 1.0 of Accelerate: dict_keys(['dispatch_batches', 'split_batches', 'even_batches', 'use_seedable_sampler']). Please pass an `accelerate.DataLoaderConfiguration` instead: \n",
            "dataloader_config = DataLoaderConfiguration(dispatch_batches=None, split_batches=False, even_batches=True, use_seedable_sampler=True)\n",
            "  warnings.warn(\n"
          ]
        },
        {
          "output_type": "display_data",
          "data": {
            "text/plain": [
              "<IPython.core.display.HTML object>"
            ],
            "text/html": [
              "\n",
              "    <div>\n",
              "      \n",
              "      <progress value='320' max='320' style='width:300px; height:20px; vertical-align: middle;'></progress>\n",
              "      [320/320 03:20, Epoch 40/40]\n",
              "    </div>\n",
              "    <table border=\"1\" class=\"dataframe\">\n",
              "  <thead>\n",
              " <tr style=\"text-align: left;\">\n",
              "      <th>Step</th>\n",
              "      <th>Training Loss</th>\n",
              "    </tr>\n",
              "  </thead>\n",
              "  <tbody>\n",
              "  </tbody>\n",
              "</table><p>"
            ]
          },
          "metadata": {}
        },
        {
          "output_type": "stream",
          "name": "stdout",
          "text": [
            "Evaluating in-domain performance for n=128...\n"
          ]
        },
        {
          "output_type": "display_data",
          "data": {
            "text/plain": [
              "<IPython.core.display.HTML object>"
            ],
            "text/html": [
              "\n",
              "    <div>\n",
              "      \n",
              "      <progress value='196' max='131' style='width:300px; height:20px; vertical-align: middle;'></progress>\n",
              "      [131/131 00:10]\n",
              "    </div>\n",
              "    "
            ]
          },
          "metadata": {}
        },
        {
          "output_type": "stream",
          "name": "stdout",
          "text": [
            "In-domain eval_loss: 2.5445468425750732\n",
            "In-domain eval_accuracy: 0.6414189837008629\n",
            "In-domain eval_runtime: 7.1262\n",
            "In-domain eval_samples_per_second: 146.36\n",
            "In-domain eval_steps_per_second: 18.383\n",
            "In-domain epoch: 40.0\n",
            "Evaluating out-of-domain performance for n=128...\n"
          ]
        },
        {
          "output_type": "stream",
          "name": "stderr",
          "text": [
            "Some weights of OPTForSequenceClassification were not initialized from the model checkpoint at facebook/opt-125m and are newly initialized: ['score.weight']\n",
            "You should probably TRAIN this model on a down-stream task to be able to use it for predictions and inference.\n"
          ]
        },
        {
          "output_type": "stream",
          "name": "stdout",
          "text": [
            "Out-of-domain eval_loss: 2.4546854496002197\n",
            "Out-of-domain eval_accuracy: 0.6317829457364341\n",
            "Out-of-domain eval_runtime: 3.5665\n",
            "Out-of-domain eval_samples_per_second: 144.678\n",
            "Out-of-domain eval_steps_per_second: 18.225\n",
            "Out-of-domain epoch: 40.0\n"
          ]
        },
        {
          "output_type": "stream",
          "name": "stderr",
          "text": [
            "/usr/local/lib/python3.10/dist-packages/transformers/optimization.py:429: FutureWarning: This implementation of AdamW is deprecated and will be removed in a future version. Use the PyTorch implementation torch.optim.AdamW instead, or set `no_deprecation_warning=True` to disable this warning\n",
            "  warnings.warn(\n",
            "/usr/local/lib/python3.10/dist-packages/accelerate/accelerator.py:436: FutureWarning: Passing the following arguments to `Accelerator` is deprecated and will be removed in version 1.0 of Accelerate: dict_keys(['dispatch_batches', 'split_batches', 'even_batches', 'use_seedable_sampler']). Please pass an `accelerate.DataLoaderConfiguration` instead: \n",
            "dataloader_config = DataLoaderConfiguration(dispatch_batches=None, split_batches=False, even_batches=True, use_seedable_sampler=True)\n",
            "  warnings.warn(\n"
          ]
        },
        {
          "output_type": "display_data",
          "data": {
            "text/plain": [
              "<IPython.core.display.HTML object>"
            ],
            "text/html": [
              "\n",
              "    <div>\n",
              "      \n",
              "      <progress value='320' max='320' style='width:300px; height:20px; vertical-align: middle;'></progress>\n",
              "      [320/320 03:20, Epoch 40/40]\n",
              "    </div>\n",
              "    <table border=\"1\" class=\"dataframe\">\n",
              "  <thead>\n",
              " <tr style=\"text-align: left;\">\n",
              "      <th>Step</th>\n",
              "      <th>Training Loss</th>\n",
              "    </tr>\n",
              "  </thead>\n",
              "  <tbody>\n",
              "  </tbody>\n",
              "</table><p>"
            ]
          },
          "metadata": {}
        },
        {
          "output_type": "stream",
          "name": "stdout",
          "text": [
            "Evaluating in-domain performance for n=128...\n"
          ]
        },
        {
          "output_type": "display_data",
          "data": {
            "text/plain": [
              "<IPython.core.display.HTML object>"
            ],
            "text/html": [
              "\n",
              "    <div>\n",
              "      \n",
              "      <progress value='196' max='131' style='width:300px; height:20px; vertical-align: middle;'></progress>\n",
              "      [131/131 00:10]\n",
              "    </div>\n",
              "    "
            ]
          },
          "metadata": {}
        },
        {
          "output_type": "stream",
          "name": "stdout",
          "text": [
            "In-domain eval_loss: 2.5445468425750732\n",
            "In-domain eval_accuracy: 0.6414189837008629\n",
            "In-domain eval_runtime: 7.1424\n",
            "In-domain eval_samples_per_second: 146.029\n",
            "In-domain eval_steps_per_second: 18.341\n",
            "In-domain epoch: 40.0\n",
            "Evaluating out-of-domain performance for n=128...\n"
          ]
        },
        {
          "output_type": "stream",
          "name": "stderr",
          "text": [
            "Some weights of OPTForSequenceClassification were not initialized from the model checkpoint at facebook/opt-125m and are newly initialized: ['score.weight']\n",
            "You should probably TRAIN this model on a down-stream task to be able to use it for predictions and inference.\n"
          ]
        },
        {
          "output_type": "stream",
          "name": "stdout",
          "text": [
            "Out-of-domain eval_loss: 2.4546854496002197\n",
            "Out-of-domain eval_accuracy: 0.6317829457364341\n",
            "Out-of-domain eval_runtime: 3.5921\n",
            "Out-of-domain eval_samples_per_second: 143.649\n",
            "Out-of-domain eval_steps_per_second: 18.095\n",
            "Out-of-domain epoch: 40.0\n"
          ]
        },
        {
          "output_type": "stream",
          "name": "stderr",
          "text": [
            "/usr/local/lib/python3.10/dist-packages/transformers/optimization.py:429: FutureWarning: This implementation of AdamW is deprecated and will be removed in a future version. Use the PyTorch implementation torch.optim.AdamW instead, or set `no_deprecation_warning=True` to disable this warning\n",
            "  warnings.warn(\n",
            "/usr/local/lib/python3.10/dist-packages/accelerate/accelerator.py:436: FutureWarning: Passing the following arguments to `Accelerator` is deprecated and will be removed in version 1.0 of Accelerate: dict_keys(['dispatch_batches', 'split_batches', 'even_batches', 'use_seedable_sampler']). Please pass an `accelerate.DataLoaderConfiguration` instead: \n",
            "dataloader_config = DataLoaderConfiguration(dispatch_batches=None, split_batches=False, even_batches=True, use_seedable_sampler=True)\n",
            "  warnings.warn(\n"
          ]
        },
        {
          "output_type": "display_data",
          "data": {
            "text/plain": [
              "<IPython.core.display.HTML object>"
            ],
            "text/html": [
              "\n",
              "    <div>\n",
              "      \n",
              "      <progress value='320' max='320' style='width:300px; height:20px; vertical-align: middle;'></progress>\n",
              "      [320/320 03:20, Epoch 40/40]\n",
              "    </div>\n",
              "    <table border=\"1\" class=\"dataframe\">\n",
              "  <thead>\n",
              " <tr style=\"text-align: left;\">\n",
              "      <th>Step</th>\n",
              "      <th>Training Loss</th>\n",
              "    </tr>\n",
              "  </thead>\n",
              "  <tbody>\n",
              "  </tbody>\n",
              "</table><p>"
            ]
          },
          "metadata": {}
        },
        {
          "output_type": "stream",
          "name": "stdout",
          "text": [
            "Evaluating in-domain performance for n=128...\n"
          ]
        },
        {
          "output_type": "display_data",
          "data": {
            "text/plain": [
              "<IPython.core.display.HTML object>"
            ],
            "text/html": [
              "\n",
              "    <div>\n",
              "      \n",
              "      <progress value='196' max='131' style='width:300px; height:20px; vertical-align: middle;'></progress>\n",
              "      [131/131 00:10]\n",
              "    </div>\n",
              "    "
            ]
          },
          "metadata": {}
        },
        {
          "output_type": "stream",
          "name": "stdout",
          "text": [
            "In-domain eval_loss: 2.5445468425750732\n",
            "In-domain eval_accuracy: 0.6414189837008629\n",
            "In-domain eval_runtime: 7.136\n",
            "In-domain eval_samples_per_second: 146.16\n",
            "In-domain eval_steps_per_second: 18.358\n",
            "In-domain epoch: 40.0\n",
            "Evaluating out-of-domain performance for n=128...\n",
            "Out-of-domain eval_loss: 2.4546854496002197\n",
            "Out-of-domain eval_accuracy: 0.6317829457364341\n",
            "Out-of-domain eval_runtime: 3.5783\n",
            "Out-of-domain eval_samples_per_second: 144.204\n",
            "Out-of-domain eval_steps_per_second: 18.165\n",
            "Out-of-domain epoch: 40.0\n"
          ]
        }
      ]
    },
    {
      "cell_type": "code",
      "source": [
        "# **Results post-processing**"
      ],
      "metadata": {
        "id": "2vpxBZ1aLC_O"
      },
      "execution_count": 40,
      "outputs": []
    },
    {
      "cell_type": "code",
      "source": [
        "# Group the results by number of examples in few-shot learning runs and compute the average and maximum performance for each group\n",
        "grouped_results = results_df.groupby('n')\n",
        "\n",
        "average_in_domain_accuracy = grouped_results['in_domain_accuracy'].mean()\n",
        "maximum_in_domain_accuracy = grouped_results['in_domain_accuracy'].max()\n",
        "\n",
        "average_out_of_domain_accuracy = grouped_results['out_of_domain_accuracy'].mean()\n",
        "maximum_out_of_domain_accuracy = grouped_results['out_of_domain_accuracy'].max()\n",
        "\n",
        "# Print the results for each 'n'\n",
        "for n in few_shot_sample_size:\n",
        "    print(f\"For n={n}:\")\n",
        "    print(f\"Average in-domain accuracy: {average_in_domain_accuracy[n]}\")\n",
        "    print(f\"Maximum in-domain accuracy: {maximum_in_domain_accuracy[n]}\")\n",
        "    print(f\"Average out-of-domain accuracy: {average_out_of_domain_accuracy[n]}\")\n",
        "    print(f\"Maximum out-of-domain accuracy: {maximum_out_of_domain_accuracy[n]}\")\n",
        "    print(\"\\n\")\n",
        "\n",
        "# Compute and print the overall average and maximum performance\n",
        "print(\"Overall:\")\n",
        "print(f\"Average in-domain accuracy: {results_df['in_domain_accuracy'].mean()}\")\n",
        "print(f\"Maximum in-domain accuracy: {results_df['in_domain_accuracy'].max()}\")\n",
        "print(f\"Average out-of-domain accuracy: {results_df['out_of_domain_accuracy'].mean()}\")\n",
        "print(f\"Maximum out-of-domain accuracy: {results_df['out_of_domain_accuracy'].max()}\")\n"
      ],
      "metadata": {
        "colab": {
          "base_uri": "https://localhost:8080/"
        },
        "id": "AdxiY2BbLFsB",
        "outputId": "36c349ab-5fcd-43fc-f61c-2e3bd3295cb5"
      },
      "execution_count": 41,
      "outputs": [
        {
          "output_type": "stream",
          "name": "stdout",
          "text": [
            "For n=2:\n",
            "Average in-domain accuracy: 0.5325023969319271\n",
            "Maximum in-domain accuracy: 0.5445829338446788\n",
            "Average out-of-domain accuracy: 0.5705426356589147\n",
            "Maximum out-of-domain accuracy: 0.5717054263565892\n",
            "\n",
            "\n",
            "For n=16:\n",
            "Average in-domain accuracy: 0.49472674976030684\n",
            "Maximum in-domain accuracy: 0.4947267497603068\n",
            "Average out-of-domain accuracy: 0.5058139534883721\n",
            "Maximum out-of-domain accuracy: 0.5058139534883721\n",
            "\n",
            "\n",
            "For n=32:\n",
            "Average in-domain accuracy: 0.45790987535953975\n",
            "Maximum in-domain accuracy: 0.5148609779482263\n",
            "Average out-of-domain accuracy: 0.4532945736434109\n",
            "Maximum out-of-domain accuracy: 0.5213178294573644\n",
            "\n",
            "\n",
            "For n=64:\n",
            "Average in-domain accuracy: 0.550431447746884\n",
            "Maximum in-domain accuracy: 0.5532118887823586\n",
            "Average out-of-domain accuracy: 0.5486434108527132\n",
            "Maximum out-of-domain accuracy: 0.5523255813953488\n",
            "\n",
            "\n",
            "For n=128:\n",
            "Average in-domain accuracy: 0.6397890699904123\n",
            "Maximum in-domain accuracy: 0.6414189837008629\n",
            "Average out-of-domain accuracy: 0.631201550387597\n",
            "Maximum out-of-domain accuracy: 0.6317829457364341\n",
            "\n",
            "\n",
            "Overall:\n",
            "Average in-domain accuracy: 0.535071907957814\n",
            "Maximum in-domain accuracy: 0.6414189837008629\n",
            "Average out-of-domain accuracy: 0.5418992248062016\n",
            "Maximum out-of-domain accuracy: 0.6317829457364341\n"
          ]
        }
      ]
    },
    {
      "cell_type": "code",
      "source": [
        "# Save the DataFrame to a CSV file\n",
        "results_df.to_csv(f'../Results/{curr_filename}.csv', sep = ',', index=False)"
      ],
      "metadata": {
        "id": "7P0rmyomLISz"
      },
      "execution_count": null,
      "outputs": []
    },
    {
      "cell_type": "code",
      "source": [
        "# disconnect runtime\n",
        "from google.colab import runtime\n",
        "runtime.unassign()"
      ],
      "metadata": {
        "id": "l9vQiW3T0tqo"
      },
      "execution_count": 43,
      "outputs": []
    }
  ]
}